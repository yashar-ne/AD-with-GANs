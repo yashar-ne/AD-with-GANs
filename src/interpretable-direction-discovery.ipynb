{
 "cells": [
  {
   "cell_type": "code",
   "execution_count": 60,
   "metadata": {
    "collapsed": true
   },
   "outputs": [],
   "source": [
    "import torch\n",
    "import torch.nn as nn\n",
    "from torch.utils.data import DataLoader\n",
    "import torch.optim as optim\n",
    "from torchvision import datasets, transforms\n",
    "import torchvision.utils as vutils\n",
    "import numpy as np\n",
    "import matplotlib.pyplot as plt\n",
    "import matplotlib.animation as animation\n",
    "from IPython.display import HTML\n",
    "\n",
    "from PIL import Image, ImageFont\n",
    "import os\n",
    "import shutil\n",
    "import random"
   ]
  },
  {
   "cell_type": "code",
   "execution_count": 85,
   "outputs": [],
   "source": [
    "def generate_augmented_mnist_images(drop_folder, num_augmented = 10, max_augmentation_thickness = 5, randomize_augmentation_thickness = False):\n",
    "    assert max_augmentation_thickness <= 7, \"max_augmentation_thickness must be smaller than 7\"\n",
    "    dataset = datasets.MNIST(\n",
    "        root='data',\n",
    "        train=True,\n",
    "        download=False,\n",
    "    )\n",
    "\n",
    "    shutil.rmtree(drop_folder)\n",
    "    if not os.path.exists(drop_folder):\n",
    "        os.makedirs(drop_folder)\n",
    "\n",
    "    augmentation_thickness: int = random.randint(1, max_augmentation_thickness)\n",
    "    for i in range(num_augmented):\n",
    "        random_idx = random.randint(0, len(dataset.data)-1)\n",
    "        img, label = dataset[random_idx]\n",
    "\n",
    "        augmentation_thickness = random.randint(1, max_augmentation_thickness) if randomize_augmentation_thickness else augmentation_thickness\n",
    "        random_idx = random.randint(4, 20)\n",
    "        for j in range(img.size[0]):\n",
    "            for k in range(augmentation_thickness):\n",
    "                img.putpixel((j, random_idx+k+1), 0)\n",
    "\n",
    "        img.save(f\"{drop_folder}img_{label}_{i}.png\")\n",
    "\n"
   ],
   "metadata": {
    "collapsed": false
   }
  },
  {
   "cell_type": "code",
   "execution_count": 86,
   "outputs": [],
   "source": [
    "generate_augmented_mnist_images(drop_folder='data/MNIST_AUGMENTED/')"
   ],
   "metadata": {
    "collapsed": false
   }
  },
  {
   "cell_type": "code",
   "execution_count": null,
   "outputs": [],
   "source": [],
   "metadata": {
    "collapsed": false
   }
  }
 ],
 "metadata": {
  "kernelspec": {
   "display_name": "Python 3",
   "language": "python",
   "name": "python3"
  },
  "language_info": {
   "codemirror_mode": {
    "name": "ipython",
    "version": 2
   },
   "file_extension": ".py",
   "mimetype": "text/x-python",
   "name": "python",
   "nbconvert_exporter": "python",
   "pygments_lexer": "ipython2",
   "version": "2.7.6"
  }
 },
 "nbformat": 4,
 "nbformat_minor": 0
}
