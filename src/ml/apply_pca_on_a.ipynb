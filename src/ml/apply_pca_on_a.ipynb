{
 "cells": [
  {
   "cell_type": "code",
   "execution_count": 21,
   "outputs": [],
   "source": [
    "import sys\n",
    "import torch\n",
    "from sklearn.decomposition import PCA\n",
    "from sklearn.preprocessing import StandardScaler\n",
    "\n",
    "sys.path.append('./models')\n",
    "from models.matrix_a_linear import MatrixALinear"
   ],
   "metadata": {
    "collapsed": false,
    "ExecuteTime": {
     "end_time": "2023-06-08T09:27:12.752158309Z",
     "start_time": "2023-06-08T09:27:12.709121966Z"
    }
   }
  },
  {
   "cell_type": "code",
   "execution_count": 24,
   "metadata": {
    "collapsed": true,
    "ExecuteTime": {
     "end_time": "2023-06-08T09:27:22.153562729Z",
     "start_time": "2023-06-08T09:27:22.149412480Z"
    }
   },
   "outputs": [],
   "source": [
    "torch.set_printoptions(threshold=10_000)\n",
    "def load_model(input_dim: int, output_dim: int):\n",
    "    matrix_a_linear = MatrixALinear(input_dim=input_dim, output_dim=output_dim, bias=False)\n",
    "    device = torch.device('cuda' if torch.cuda.is_available() else 'cpu')\n",
    "    matrix_a_linear.load_state_dict(torch.load(\"../../saved_models/matrix_a.pkl\", map_location=torch.device(device)))\n",
    "\n",
    "    return matrix_a_linear\n",
    "\n",
    "def save_model(new_model: MatrixALinear):\n",
    "    torch.save(new_model.state_dict(),f'../../saved_models/matrix_a_after_pca.pkl')"
   ]
  },
  {
   "cell_type": "code",
   "execution_count": 25,
   "outputs": [],
   "source": [
    "model = load_model(100, 100)\n",
    "# matrix_a_np = model.state_dict()['linear.weight'].numpy()\n",
    "# print(model.linear.weight.data)\n",
    "matrix_a_np = model.linear.weight.data.numpy()"
   ],
   "metadata": {
    "collapsed": false,
    "ExecuteTime": {
     "end_time": "2023-06-08T09:27:22.627671771Z",
     "start_time": "2023-06-08T09:27:22.615726046Z"
    }
   }
  },
  {
   "cell_type": "code",
   "execution_count": 84,
   "outputs": [
    {
     "data": {
      "text/plain": "array([[ 0.81704366, -0.2660322 , -0.08401775, ..., -0.30233875,\n        -0.0488075 , -0.11722549],\n       [-0.08853493,  0.61349964, -0.14548564, ..., -0.04823741,\n         0.00391661, -0.01794411],\n       [-0.2871844 , -0.2862975 ,  0.75088465, ..., -0.19625098,\n        -0.1456132 , -0.18078662],\n       ...,\n       [-0.16676742, -0.07168139,  0.08625817, ...,  0.838528  ,\n        -0.06899016, -0.19889902],\n       [-0.01211979, -0.09629856,  0.16925535, ..., -0.2892095 ,\n         1.0440856 , -0.07014164],\n       [-0.13707556,  0.14942361,  0.14688483, ..., -0.25762913,\n        -0.16823018,  1.0223261 ]], dtype=float32)"
     },
     "execution_count": 84,
     "metadata": {},
     "output_type": "execute_result"
    }
   ],
   "source": [
    "matrix_a_np"
   ],
   "metadata": {
    "collapsed": false,
    "ExecuteTime": {
     "end_time": "2023-06-08T13:50:12.050601586Z",
     "start_time": "2023-06-08T13:50:12.001540458Z"
    }
   }
  },
  {
   "cell_type": "code",
   "execution_count": 93,
   "outputs": [],
   "source": [
    "x = StandardScaler().fit_transform(matrix_a_np)\n",
    "pca = PCA(n_components=10)\n",
    "# pca = PCA(.95)\n",
    "principalComponents = pca.fit_transform(x)\n"
   ],
   "metadata": {
    "collapsed": false,
    "ExecuteTime": {
     "end_time": "2023-06-08T15:34:19.974894569Z",
     "start_time": "2023-06-08T15:34:19.928685190Z"
    }
   }
  },
  {
   "cell_type": "code",
   "execution_count": 94,
   "outputs": [],
   "source": [
    "# principalComponents = StandardScaler().fit_transform(principalComponents)"
   ],
   "metadata": {
    "collapsed": false,
    "ExecuteTime": {
     "end_time": "2023-06-08T15:34:27.195792334Z",
     "start_time": "2023-06-08T15:34:27.187318572Z"
    }
   }
  },
  {
   "cell_type": "code",
   "execution_count": 95,
   "outputs": [
    {
     "data": {
      "text/plain": "array([0.49193215, 0.031477  , 0.02599666, 0.02435079, 0.0194992 ,\n       0.01871691, 0.01654205, 0.01557036, 0.01453817, 0.01268661],\n      dtype=float32)"
     },
     "execution_count": 95,
     "metadata": {},
     "output_type": "execute_result"
    }
   ],
   "source": [
    "pca.explained_variance_ratio_"
   ],
   "metadata": {
    "collapsed": false,
    "ExecuteTime": {
     "end_time": "2023-06-08T15:34:29.529554576Z",
     "start_time": "2023-06-08T15:34:29.523991795Z"
    }
   }
  },
  {
   "cell_type": "code",
   "execution_count": 96,
   "outputs": [
    {
     "data": {
      "text/plain": "<All keys matched successfully>"
     },
     "execution_count": 96,
     "metadata": {},
     "output_type": "execute_result"
    }
   ],
   "source": [
    "new_weights = torch.from_numpy(principalComponents)\n",
    "\n",
    "matrix_a_linear_after_pca = MatrixALinear(input_dim=10, output_dim=100, bias=False)\n",
    "new_dict = {\n",
    "    'linear.weight': new_weights\n",
    "}\n",
    "matrix_a_linear_after_pca.load_state_dict(new_dict)"
   ],
   "metadata": {
    "collapsed": false,
    "ExecuteTime": {
     "end_time": "2023-06-08T15:34:30.967341450Z",
     "start_time": "2023-06-08T15:34:30.955152625Z"
    }
   }
  },
  {
   "cell_type": "code",
   "execution_count": 97,
   "outputs": [],
   "source": [
    "save_model(matrix_a_linear_after_pca)"
   ],
   "metadata": {
    "collapsed": false,
    "ExecuteTime": {
     "end_time": "2023-06-08T15:34:32.871451485Z",
     "start_time": "2023-06-08T15:34:32.861141946Z"
    }
   }
  },
  {
   "cell_type": "code",
   "execution_count": 98,
   "outputs": [
    {
     "data": {
      "text/plain": "MatrixALinear(\n  (linear): Linear(in_features=10, out_features=100, bias=False)\n)"
     },
     "execution_count": 98,
     "metadata": {},
     "output_type": "execute_result"
    }
   ],
   "source": [
    "matrix_a_linear_after_pca"
   ],
   "metadata": {
    "collapsed": false,
    "ExecuteTime": {
     "end_time": "2023-06-08T15:34:34.077891844Z",
     "start_time": "2023-06-08T15:34:34.067911397Z"
    }
   }
  },
  {
   "cell_type": "code",
   "execution_count": 91,
   "outputs": [
    {
     "name": "stdout",
     "output_type": "stream",
     "text": [
      "torch.Size([1, 10])\n"
     ]
    },
    {
     "data": {
      "text/plain": "tensor([[0.8076, 0.9599, 0.9586, 0.7393, 0.7662, 0.7674, 0.5864, 0.6255, 0.2695,\n         0.5335]])"
     },
     "execution_count": 91,
     "metadata": {},
     "output_type": "execute_result"
    }
   ],
   "source": [
    "inp = torch.rand((1,10))\n",
    "print(inp.shape)\n",
    "inp"
   ],
   "metadata": {
    "collapsed": false,
    "ExecuteTime": {
     "end_time": "2023-06-08T15:31:54.569817612Z",
     "start_time": "2023-06-08T15:31:54.560316555Z"
    }
   }
  },
  {
   "cell_type": "code",
   "execution_count": 92,
   "outputs": [
    {
     "data": {
      "text/plain": "tensor([[-1.8410e+00, -7.4372e-01,  9.5965e-01,  2.0536e+00,  2.9057e-01,\n          4.6662e+00,  5.4613e-01, -3.6284e+00,  1.2021e+00,  1.2461e+00,\n          3.5131e+00, -2.3222e+00, -2.9401e+00,  8.9317e-01,  6.6089e-01,\n         -3.8989e-01, -4.1775e-01, -1.5894e+00, -4.8385e-03,  3.5185e+00,\n          4.5381e+00, -1.0057e+00,  1.6244e+00, -1.8851e+00, -2.1659e+00,\n         -1.6307e-01, -1.4376e+00,  3.7083e+00,  1.3883e+00, -3.1221e+00,\n          1.1177e+00, -3.7484e+00,  3.1693e+00,  1.7022e+00, -3.1291e-01,\n         -2.8303e-01, -3.9888e+00,  3.9167e+00, -6.6794e-01, -5.4782e+00,\n         -6.7741e-01, -7.6695e-01, -7.1392e-01, -3.3219e-01,  1.2018e+00,\n          3.5794e+00, -1.7102e+00,  1.5329e+00, -4.2706e-01, -1.5176e+00,\n         -5.2782e+00,  7.3752e-01,  2.4166e+00,  6.5877e+00, -1.2992e+00,\n         -1.0325e+00,  3.9360e+00, -1.9155e+00,  1.1301e-01, -6.7083e-01,\n         -2.0461e+00, -1.8880e+00,  2.6422e+00, -2.4532e+00,  9.4993e-01,\n          2.2931e+00,  4.0740e+00, -3.0317e+00, -1.9607e-01,  9.6129e-01,\n         -4.7346e-01,  5.1141e-01,  2.8451e+00, -2.3284e+00, -1.6339e+00,\n          4.7244e-01, -1.7081e-01,  1.5662e+00,  4.3380e-01, -2.2597e+00,\n          2.5690e+00, -1.0080e+00, -1.7383e+00, -2.3432e+00, -2.8457e+00,\n         -1.0520e+00, -2.3121e-01, -1.6438e+00,  2.0118e+00,  1.4752e+00,\n         -1.0995e+00, -4.3943e+00, -2.2276e+00,  1.7691e-01,  1.7223e+00,\n          2.7876e-01,  1.8391e+00, -1.7889e+00, -6.1014e-01,  4.2989e+00]],\n       grad_fn=<MmBackward0>)"
     },
     "execution_count": 92,
     "metadata": {},
     "output_type": "execute_result"
    }
   ],
   "source": [
    "result = matrix_a_linear_after_pca(inp)\n",
    "result"
   ],
   "metadata": {
    "collapsed": false,
    "ExecuteTime": {
     "end_time": "2023-06-08T15:31:55.094478666Z",
     "start_time": "2023-06-08T15:31:55.084747762Z"
    }
   }
  },
  {
   "cell_type": "code",
   "execution_count": 80,
   "outputs": [],
   "source": [],
   "metadata": {
    "collapsed": false,
    "ExecuteTime": {
     "end_time": "2023-06-08T11:56:45.940648025Z",
     "start_time": "2023-06-08T11:56:45.938034434Z"
    }
   }
  },
  {
   "cell_type": "code",
   "execution_count": null,
   "outputs": [],
   "source": [],
   "metadata": {
    "collapsed": false
   }
  }
 ],
 "metadata": {
  "kernelspec": {
   "display_name": "Python 3",
   "language": "python",
   "name": "python3"
  },
  "language_info": {
   "codemirror_mode": {
    "name": "ipython",
    "version": 2
   },
   "file_extension": ".py",
   "mimetype": "text/x-python",
   "name": "python",
   "nbconvert_exporter": "python",
   "pygments_lexer": "ipython2",
   "version": "2.7.6"
  }
 },
 "nbformat": 4,
 "nbformat_minor": 0
}
