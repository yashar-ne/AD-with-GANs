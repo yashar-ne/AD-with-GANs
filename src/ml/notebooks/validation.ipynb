{
 "cells": [
  {
   "cell_type": "code",
   "execution_count": 2,
   "metadata": {
    "ExecuteTime": {
     "end_time": "2023-07-28T09:01:31.984226827Z",
     "start_time": "2023-07-28T09:01:31.900198739Z"
    }
   },
   "outputs": [
    {
     "ename": "ModuleNotFoundError",
     "evalue": "No module named 'scipy'",
     "output_type": "error",
     "traceback": [
      "\u001B[0;31m---------------------------------------------------------------------------\u001B[0m",
      "\u001B[0;31mModuleNotFoundError\u001B[0m                       Traceback (most recent call last)",
      "Cell \u001B[0;32mIn[2], line 4\u001B[0m\n\u001B[1;32m      1\u001B[0m \u001B[38;5;28;01mimport\u001B[39;00m \u001B[38;5;21;01mrandom\u001B[39;00m\n\u001B[1;32m      3\u001B[0m \u001B[38;5;28;01mimport\u001B[39;00m \u001B[38;5;21;01mnumpy\u001B[39;00m \u001B[38;5;28;01mas\u001B[39;00m \u001B[38;5;21;01mnp\u001B[39;00m\n\u001B[0;32m----> 4\u001B[0m \u001B[38;5;28;01mimport\u001B[39;00m \u001B[38;5;21;01mscipy\u001B[39;00m\u001B[38;5;21;01m.\u001B[39;00m\u001B[38;5;21;01mspatial\u001B[39;00m\n\u001B[1;32m      5\u001B[0m \u001B[38;5;28;01mimport\u001B[39;00m \u001B[38;5;21;01mtorch\u001B[39;00m\n\u001B[1;32m      6\u001B[0m \u001B[38;5;28;01mfrom\u001B[39;00m \u001B[38;5;21;01msklearn\u001B[39;00m \u001B[38;5;28;01mimport\u001B[39;00m metrics\n",
      "\u001B[0;31mModuleNotFoundError\u001B[0m: No module named 'scipy'"
     ]
    }
   ],
   "source": [
    "import random\n",
    "\n",
    "import numpy as np\n",
    "import scipy.spatial\n",
    "import torch\n",
    "from sklearn import metrics\n",
    "from sklearn.neighbors import LocalOutlierFactor\n",
    "import csv\n",
    "from scipy.spatial import distance, distance_matrix\n",
    "import os\n",
    "import io\n",
    "from PIL import Image\n",
    "import base64\n",
    "import math\n",
    "from matplotlib import pyplot as plt\n",
    "from sklearn.decomposition import PCA\n",
    "from sklearn.preprocessing import StandardScaler\n",
    "import sys\n",
    "sys.path.insert(0,'/home/yashar/git/python/AD-with-GANs')\n",
    "from src.ml.models.matrix_a_linear import MatrixALinear\n",
    "from src.ml.models.generator import Generator"
   ]
  },
  {
   "cell_type": "code",
   "execution_count": 6,
   "metadata": {},
   "outputs": [],
   "source": [
    "device = torch.device('cuda' if torch.cuda.is_available() else 'cpu')\n",
    "# base_folder = '/Users/yasharh@miltenyibiotec.de/git/AD-with-GANs'\n",
    "base_folder = '/home/yashar/git/python/AD-with-GANs'"
   ]
  },
  {
   "cell_type": "code",
   "execution_count": 7,
   "metadata": {
    "ExecuteTime": {
     "end_time": "2023-07-27T13:43:12.964484Z",
     "start_time": "2023-07-27T13:43:12.904925Z"
    }
   },
   "outputs": [],
   "source": [
    "def mahalanobis_distance(u, mean, vi):\n",
    "    return distance.mahalanobis(u, mean, vi)"
   ]
  },
  {
   "cell_type": "code",
   "execution_count": 8,
   "metadata": {
    "ExecuteTime": {
     "end_time": "2023-07-27T13:43:12.965143Z",
     "start_time": "2023-07-27T13:43:12.913624Z"
    }
   },
   "outputs": [],
   "source": [
    "def plot_to_base64(plot):\n",
    "    io_bytes = io.BytesIO()\n",
    "    plot.savefig(io_bytes, format='jpg')\n",
    "    io_bytes.seek(0)\n",
    "    return base64.b64encode(io_bytes.read()).decode()\n",
    "\n",
    "def get_roc_curve_as_base64(label, values):\n",
    "    plt.clf()\n",
    "    values = [0 if math.isnan(x) else x for x in values]\n",
    "    fpr, tpr, thresholds = metrics.roc_curve(label, values)\n",
    "    auc = metrics.auc(fpr, tpr)\n",
    "    display = metrics.RocCurveDisplay(fpr=fpr, tpr=tpr, roc_auc=auc,\n",
    "                                      estimator_name='LOF')\n",
    "    display.plot()\n",
    "    return plot_to_base64(plt), auc"
   ]
  },
  {
   "cell_type": "code",
   "execution_count": 9,
   "metadata": {
    "ExecuteTime": {
     "end_time": "2023-07-27T13:43:12.965351Z",
     "start_time": "2023-07-27T13:43:12.918944Z"
    }
   },
   "outputs": [],
   "source": [
    "def load_latent_space_data_points(base_url):\n",
    "    path = os.path.join(base_url, \"latent_space_mappings.csv\")\n",
    "    data_points = []\n",
    "    data_labels = []\n",
    "    with open(path, 'r') as csvfile:\n",
    "        datareader = csv.reader(csvfile)\n",
    "        next(datareader)\n",
    "        for row in datareader:\n",
    "            latent_space_point_path = os.path.join(base_url, row[0])\n",
    "            latent_space_point_pt = torch.squeeze(\n",
    "                torch.load(latent_space_point_path, map_location=torch.device(device)).detach())\n",
    "            latent_space_point = latent_space_point_pt.numpy()\n",
    "            data_points.append(latent_space_point)\n",
    "            data_labels.append(row[2])\n",
    "\n",
    "    return data_points, data_labels"
   ]
  },
  {
   "cell_type": "code",
   "execution_count": 10,
   "metadata": {
    "ExecuteTime": {
     "end_time": "2023-07-27T13:43:12.966054Z",
     "start_time": "2023-07-27T13:43:12.927852Z"
    }
   },
   "outputs": [],
   "source": [
    "def extract_weights_from_model_and_apply_pca(matrix_a_linear, pca_component_count, pca_skipped_components_count,\n",
    "                                             apply_standard_scaler):\n",
    "    if pca_component_count == 0:\n",
    "        return matrix_a_linear.linear.weight.data.numpy().T\n",
    "\n",
    "    matrix_a_np = matrix_a_linear.linear.weight.data.numpy()\n",
    "    if apply_standard_scaler:\n",
    "        matrix_a_np = StandardScaler().fit_transform(matrix_a_np)\n",
    "    pca = PCA(n_components=pca_component_count + pca_skipped_components_count)\n",
    "    principal_components = pca.fit_transform(matrix_a_np)\n",
    "    return principal_components[:, pca_skipped_components_count:].T"
   ]
  },
  {
   "cell_type": "code",
   "execution_count": 11,
   "metadata": {
    "ExecuteTime": {
     "end_time": "2023-07-27T13:43:12.966276Z",
     "start_time": "2023-07-27T13:43:12.930942Z"
    }
   },
   "outputs": [],
   "source": [
    "def get_auc_value_plain_mahalanobis_distance(matrix_a_linear, anomalous_directions, pca_component_count,\n",
    "                                             pca_skipped_components_count, pca_apply_standard_scaler=False):\n",
    "    a = extract_weights_from_model_and_apply_pca(matrix_a_linear,\n",
    "                                                 pca_component_count,\n",
    "                                                 pca_skipped_components_count,\n",
    "                                                 pca_apply_standard_scaler)\n",
    "\n",
    "    labeled_directions = []\n",
    "\n",
    "    # Remove directions that were not labeled\n",
    "    for idx, direction in enumerate(a):\n",
    "        if idx in anomalous_directions:\n",
    "            labeled_directions.append(direction)\n",
    "\n",
    "    # Weigh down directions that were not labeled\n",
    "    # for idx, direction in enumerate(a):\n",
    "    #     if idx not in anomalous_directions:\n",
    "    #         labeled_directions.append(direction*0.1)\n",
    "    #     else:\n",
    "    #         labeled_directions.append(direction*0.5)\n",
    "\n",
    "    # Replace normal directions with zero-vectors\n",
    "    # for idx, direction in enumerate(a):\n",
    "    #     if idx not in anomalous_directions:\n",
    "    #         labeled_directions.append(np.zeros_like(direction))\n",
    "    #     else:\n",
    "    #         labeled_directions.append(direction)\n",
    "\n",
    "    labeled_directions = np.array(labeled_directions)\n",
    "    test_data_points, test_data_label = load_latent_space_data_points(os.path.join(base_folder, 'data/LatentSpaceMNIST'))\n",
    "\n",
    "    # Scale Data\n",
    "    # labeled_directions = StandardScaler().fit_transform(labeled_directions)\n",
    "    # test_data_points = StandardScaler().fit_transform(test_data_points)\n",
    "\n",
    "    # Apply PCA on data_points\n",
    "    # if pca_component_count > 0:\n",
    "    #     pca = PCA(n_components=pca_component_count + pca_skipped_components_count)\n",
    "    #     principal_components = pca.fit_transform(test_data_points)\n",
    "    #     test_data_points = principal_components[:, pca_skipped_components_count:]\n",
    "    #     print(pca.explained_variance_ratio_)\n",
    "\n",
    "    # Use labeled directions as reference\n",
    "    # cov = np.cov(labeled_directions.T)\n",
    "    # vi = np.linalg.inv(cov)\n",
    "    # mean_vector = np.mean(labeled_directions, axis=0)\n",
    "\n",
    "    # Use data distribution as reference\n",
    "    data = np.array(test_data_points)\n",
    "    v = np.cov(data.T)\n",
    "    vi = np.linalg.inv(v)\n",
    "    # mean_vector = np.mean(data, axis=0)\n",
    "    mean_vector = np.mean(labeled_directions, axis=0)\n",
    "\n",
    "    distance_list = []\n",
    "    label_list = []\n",
    "    for idx, point in enumerate(test_data_points):\n",
    "        dist = mahalanobis_distance(u=point, mean=mean_vector, vi=vi)\n",
    "        if not np.isnan(dist):\n",
    "            distance_list.append(dist)\n",
    "            label_list.append(1 if test_data_label[idx] == \"True\" else -1)\n",
    "            \n",
    "    fpr, tpr, thresholds = metrics.roc_curve(label_list, distance_list)\n",
    "    return metrics.auc(fpr, tpr)"
   ]
  },
  {
   "cell_type": "code",
   "execution_count": 12,
   "metadata": {
    "ExecuteTime": {
     "end_time": "2023-07-27T15:42:39.164018Z",
     "start_time": "2023-07-27T15:42:39.156579Z"
    }
   },
   "outputs": [],
   "source": [
    "def get_auc_value_via_pairwise_distances(matrix_a_linear, anomalous_directions, pca_component_count,\n",
    "                                         pca_skipped_components_count, pca_apply_standard_scaler=False):\n",
    "    a = extract_weights_from_model_and_apply_pca(matrix_a_linear,\n",
    "                                                 pca_component_count,\n",
    "                                                 pca_skipped_components_count,\n",
    "                                                 pca_apply_standard_scaler)\n",
    "\n",
    "    labeled_directions = []\n",
    "\n",
    "    # Remove directions that were not labeled\n",
    "    for idx, direction in enumerate(a):\n",
    "        if idx in anomalous_directions:\n",
    "            labeled_directions.append(direction)\n",
    "\n",
    "\n",
    "    labeled_directions = np.array(labeled_directions)\n",
    "    test_data_points, test_data_label = load_latent_space_data_points(os.path.join(base_folder, 'data/LatentSpaceMNIST'))\n",
    "\n",
    "    # Scale Data\n",
    "    labeled_directions = StandardScaler().fit_transform(labeled_directions)\n",
    "    test_data_points = StandardScaler().fit_transform(test_data_points)\n",
    "\n",
    "    # Apply PCA on data_points\n",
    "    # if pca_component_count > 0:\n",
    "    #     pca = PCA(n_components=pca_component_count + pca_skipped_components_count)\n",
    "    #     principal_components = pca.fit_transform(test_data_points)\n",
    "    #     test_data_points = principal_components[:, pca_skipped_components_count:]\n",
    "    #     print(pca.explained_variance_ratio_)\n",
    "\n",
    "    mean_vector = np.mean(labeled_directions, axis=0)\n",
    "\n",
    "    distance_list = []\n",
    "    label_list = []\n",
    "    for idx, point in enumerate(test_data_points):\n",
    "        dist = 0\n",
    "        for d in labeled_directions:\n",
    "            dist += np.linalg.norm(point-d)\n",
    "        \n",
    "        distance_list.append(dist)                \n",
    "        label_list.append(True if test_data_label[idx] == \"True\" else False)\n",
    "\n",
    "    fpr, tpr, thresholds = metrics.roc_curve(label_list, distance_list)\n",
    "    return metrics.auc(fpr, tpr)"
   ]
  },
  {
   "cell_type": "code",
   "execution_count": 13,
   "metadata": {
    "ExecuteTime": {
     "end_time": "2023-07-27T14:43:09.495991Z",
     "start_time": "2023-07-27T14:43:09.487253Z"
    }
   },
   "outputs": [],
   "source": [
    "def display_base64_png(base64_string):\n",
    "    imgdata = base64.b64decode(str(base64_string))\n",
    "    img = Image.open(io.BytesIO(imgdata))\n",
    "    img.show()"
   ]
  },
  {
   "cell_type": "code",
   "execution_count": 14,
   "metadata": {
    "ExecuteTime": {
     "end_time": "2023-07-27T14:43:09.786545Z",
     "start_time": "2023-07-27T14:43:09.767847Z"
    }
   },
   "outputs": [
    {
     "data": {
      "text/plain": [
       "<All keys matched successfully>"
      ]
     },
     "execution_count": 14,
     "metadata": {},
     "output_type": "execute_result"
    }
   ],
   "source": [
    "generator_path = os.path.join(base_folder, 'saved_models/generator.pkl')\n",
    "matrix_a_path = os.path.join(base_folder, 'saved_models/matrix_a.pkl')\n",
    "z_dim = 100\n",
    "device = torch.device('cuda' if torch.cuda.is_available() else 'cpu')\n",
    "g: Generator = Generator(size_z=z_dim, num_feature_maps=64, num_color_channels=1)\n",
    "g.load_state_dict(torch.load(generator_path, map_location=torch.device(device)))\n",
    "matrix_a_linear: MatrixALinear = MatrixALinear(input_dim=100, output_dim=100, bias=False)\n",
    "matrix_a_linear.load_state_dict(torch.load(matrix_a_path, map_location=torch.device(device)))"
   ]
  },
  {
   "cell_type": "code",
   "execution_count": null,
   "metadata": {},
   "outputs": [],
   "source": []
  },
  {
   "cell_type": "code",
   "execution_count": 15,
   "metadata": {
    "ExecuteTime": {
     "end_time": "2023-07-27T15:19:27.201238Z",
     "start_time": "2023-07-27T15:19:26.897146Z"
    }
   },
   "outputs": [
    {
     "name": "stdout",
     "output_type": "stream",
     "text": [
      "0.6512598935522518\n"
     ]
    }
   ],
   "source": [
    "auc_plain_mahalanobis = get_auc_value_plain_mahalanobis_distance(matrix_a_linear=matrix_a_linear,\n",
    "                                                                 # anomalous_directions=[9, 16, 17, 18, 20, 22, 23, 27,\n",
    "                                                                 #                       28, 33, 34, 35, 36, 47, 50, 51,\n",
    "                                                                 #                       57, 59, 60, 70, 75, 76, 80, 84,\n",
    "                                                                 #                       85, 88, 98, 99],\n",
    "                                                                 # anomalous_directions=range(0, 100),\n",
    "                                                                 anomalous_directions=[0, 1, 7, 8, 18, 19, 20, 21, 23, 26, 28],\n",
    "                                                                 # anomalous_directions=[2],\n",
    "                                                                 # anomalous_directions=range(0, 100),\n",
    "                                                                 pca_component_count=30,\n",
    "                                                                 pca_skipped_components_count=1,\n",
    "                                                                 pca_apply_standard_scaler=False)\n",
    "print(auc_plain_mahalanobis)"
   ]
  },
  {
   "cell_type": "code",
   "execution_count": 16,
   "metadata": {
    "ExecuteTime": {
     "end_time": "2023-07-27T15:42:43.134969Z",
     "start_time": "2023-07-27T15:42:42.792750Z"
    }
   },
   "outputs": [
    {
     "name": "stdout",
     "output_type": "stream",
     "text": [
      "0.6519826384115325\n"
     ]
    }
   ],
   "source": [
    "auc_distance_matrix = get_auc_value_via_pairwise_distances(matrix_a_linear=matrix_a_linear,\n",
    "                                                           # anomalous_directions=[9, 16, 17, 18, 20, 22, 23, 27,\n",
    "                                                           #                       28, 33, 34, 35, 36, 47, 50, 51,\n",
    "                                                           #                       57, 59, 60, 70, 75, 76, 80, 84,\n",
    "                                                           #                       85, 88, 98, 99],\n",
    "                                                           # anomalous_directions=range(0, 100),\n",
    "                                                           anomalous_directions=[0, 1, 7, 8, 18, 19, 20, 21, 23, 26],\n",
    "                                                           # anomalous_directions=[2],\n",
    "                                                           pca_component_count=30,\n",
    "                                                           pca_skipped_components_count=3,\n",
    "                                                           pca_apply_standard_scaler=False)\n",
    "print(auc_distance_matrix)"
   ]
  },
  {
   "cell_type": "markdown",
   "metadata": {},
   "source": [
    "Local Outlier Factor"
   ]
  },
  {
   "cell_type": "code",
   "execution_count": 17,
   "metadata": {
    "ExecuteTime": {
     "end_time": "2023-07-27T13:43:13.283583Z",
     "start_time": "2023-07-27T13:43:13.281410Z"
    }
   },
   "outputs": [],
   "source": [
    "class WeightedLocalOutlierFactor:\n",
    "    def __init__(self,\n",
    "                 direction_matrix, anomalous_directions, n_neighbours, pca_component_count=0,\n",
    "                 skipped_components_count=0, ignore_labels=False):\n",
    "        self.data = []\n",
    "        self.direction_matrix = direction_matrix #.linear.weight.data.numpy()\n",
    "        self.pca = PCA(n_components=pca_component_count + skipped_components_count)\n",
    "\n",
    "        self.labeled_directions = []\n",
    "        # for idx, val in enumerate(anomalous_directions):\n",
    "        #     self.labeled_directions.append(self.direction_matrix.T[val])\n",
    "        # self.labeled_directions = np.array(self.labeled_directions)\n",
    "\n",
    "        for idx, direction in enumerate(direction_matrix):\n",
    "            if idx in anomalous_directions:\n",
    "                self.labeled_directions.append(direction)\n",
    "        self.labeled_directions = np.array(self.labeled_directions)\n",
    "\n",
    "        # mean_array = np.matrix(labeled_directions).mean(0).A1\n",
    "        #\n",
    "        # for idx, col in enumerate(self.direction_matrix):\n",
    "        #     if idx not in labeled_dims:\n",
    "        #         self.direction_matrix[idx] = mean_array\n",
    "\n",
    "        # for idx, col in enumerate(self.direction_matrix):\n",
    "        #     if idx not in labeled_dims:\n",
    "        #         self.direction_matrix[idx] = col * 0.01\n",
    "        #\n",
    "        # cov = np.cov(self.direction_matrix)\n",
    "        # self.vi = np.linalg.inv(cov)\n",
    "\n",
    "        # cov = np.cov(self.labeled_directions.T)\n",
    "        # self.vi = np.linalg.inv(cov)\n",
    "        cov = np.cov(self.labeled_directions.T)\n",
    "        self.vi = cov\n",
    "\n",
    "        # for idx, col in enumerate(self.direction_matrix):\n",
    "        #     if idx not in labeled_dims:\n",
    "        #         self.direction_matrix[idx] = col*0.01\n",
    "\n",
    "        self.lof = LocalOutlierFactor(\n",
    "            n_neighbors=n_neighbours,\n",
    "            metric=self.__get_mahalanobis_distance if not ignore_labels else \"minkowski\",\n",
    "        )\n",
    "\n",
    "        self.pca_component_count = pca_component_count\n",
    "        self.skipped_components_count = skipped_components_count\n",
    "\n",
    "    def fit(self):\n",
    "        data_as_array = np.array(self.data)\n",
    "        self.lof.fit_predict(data_as_array)\n",
    "\n",
    "    def load_latent_space_datapoints(self, data=[], root_dir=''):\n",
    "        if len(data) > 0:\n",
    "            self.data = np.array(data)\n",
    "        else:\n",
    "            directory = os.fsencode(root_dir)\n",
    "            for file in os.listdir(directory):\n",
    "                filename = os.fsdecode(file)\n",
    "                if filename.endswith(\".pt\"):\n",
    "                    path = os.path.join(root_dir, filename)\n",
    "                    self.data.append(torch.load(path, map_location=torch.device('cpu')).detach().numpy().reshape(100))\n",
    "            self.data = np.array(self.data)\n",
    "        \n",
    "        \n",
    "        # if self.pca_component_count > 0:\n",
    "        #     assert self.pca_component_count + self.skipped_components_count < self.data.shape[1], \\\n",
    "        #         \"pca_component_count+skipped_components_count must be smaller then total number of columns\"\n",
    "        #\n",
    "        #     self.pca_component_count = self.pca_component_count + self.skipped_components_count\n",
    "        #     data = self.data\n",
    "        #     data = StandardScaler().fit_transform(data)\n",
    "        #     principal_components = self.pca.fit_transform(data)\n",
    "        #     self.data = principal_components[:, self.skipped_components_count:]\n",
    "\n",
    "    def get_negative_outlier_factor(self):\n",
    "        return self.lof.negative_outlier_factor_\n",
    "\n",
    "    # def __get_mahalanobis_distance(self, u, v):\n",
    "    #     return distance.mahalanobis(u, v, self.direction_matrix.T)\n",
    "\n",
    "    def __get_mahalanobis_distance(self, u, v):\n",
    "        return distance.mahalanobis(u, v, self.vi)"
   ]
  },
  {
   "cell_type": "code",
   "execution_count": 18,
   "metadata": {
    "ExecuteTime": {
     "end_time": "2023-07-27T15:19:34.073038Z",
     "start_time": "2023-07-27T15:19:34.059960Z"
    }
   },
   "outputs": [],
   "source": [
    "def get_roc_auc_for_given_dims(direction_matrix, anomalous_directions, latent_space_data_points,\n",
    "                               latent_space_data_labels,\n",
    "                               pca_component_count,\n",
    "                               pca_skipped_components_count, n_neighbours, pca_apply_standard_scaler=True,\n",
    "                               weight_factor=10, one_hot_weighing=True, ignore_labels=False):\n",
    "    a = extract_weights_from_model_and_apply_pca(direction_matrix, pca_component_count, pca_skipped_components_count,\n",
    "                              pca_apply_standard_scaler)\n",
    "    weighted_lof = WeightedLocalOutlierFactor(direction_matrix=a,\n",
    "                                              anomalous_directions=anomalous_directions,\n",
    "                                              n_neighbours=n_neighbours,\n",
    "                                              pca_component_count=pca_component_count,\n",
    "                                              skipped_components_count=pca_skipped_components_count,\n",
    "                                              ignore_labels=ignore_labels)\n",
    "\n",
    "    weighted_lof.load_latent_space_datapoints(data=latent_space_data_points)\n",
    "    weighted_lof.fit()\n",
    "\n",
    "    y = np.array([1 if d == \"False\" else -1 for d in latent_space_data_labels])\n",
    "    return get_roc_curve_as_base64(y, weighted_lof.get_negative_outlier_factor())"
   ]
  },
  {
   "cell_type": "code",
   "execution_count": 19,
   "metadata": {
    "ExecuteTime": {
     "end_time": "2023-07-27T15:21:19.899600Z",
     "start_time": "2023-07-27T15:21:10.352232Z"
    }
   },
   "outputs": [
    {
     "name": "stdout",
     "output_type": "stream",
     "text": [
      "0.7259972111475539\n"
     ]
    },
    {
     "data": {
      "text/plain": [
       "<Figure size 640x480 with 0 Axes>"
      ]
     },
     "metadata": {},
     "output_type": "display_data"
    },
    {
     "data": {
      "image/png": "[encoded data removed]",
      "text/plain": [
       "<Figure size 640x480 with 1 Axes>"
      ]
     },
     "metadata": {},
     "output_type": "display_data"
    }
   ],
   "source": [
    "latent_space_data_points, latent_space_data_labels = load_latent_space_data_points(os.path.join(base_folder, 'data/LatentSpaceMNIST'))\n",
    "curve, auc_lof = get_roc_auc_for_given_dims(direction_matrix=matrix_a_linear,\n",
    "                                        # anomalous_directions=[0, 1, 2, 3, 7, 8, 18, 19, 20, 21, 23, 26, 27, 28, 30],\n",
    "                                        # anomalous_directions=[2, 3, 4, 5], \n",
    "                                        anomalous_directions=range(0, 30),\n",
    "                                        latent_space_data_points=latent_space_data_points,\n",
    "                                        latent_space_data_labels=latent_space_data_labels,\n",
    "                                        pca_component_count=20,\n",
    "                                        pca_skipped_components_count=3,\n",
    "                                        n_neighbours=10,\n",
    "                                        pca_apply_standard_scaler=True,\n",
    "                                        ignore_labels=False)\n",
    "print(auc_lof)"
   ]
  },
  {
   "cell_type": "code",
   "execution_count": null,
   "metadata": {
    "ExecuteTime": {
     "end_time": "2023-07-27T13:43:22.842262Z",
     "start_time": "2023-07-27T13:43:22.838163Z"
    }
   },
   "outputs": [],
   "source": []
  }
 ],
 "metadata": {
  "kernelspec": {
   "display_name": "Python 3 (ipykernel)",
   "language": "python",
   "name": "python3"
  },
  "language_info": {
   "codemirror_mode": {
    "name": "ipython",
    "version": 3
   },
   "file_extension": ".py",
   "mimetype": "text/x-python",
   "name": "python",
   "nbconvert_exporter": "python",
   "pygments_lexer": "ipython3",
   "version": "3.10.12"
  },
  "vscode": {
   "interpreter": {
    "hash": "e71d8ccaa8bd4fafc8316f6c312e49af6d219bcc8c02f9810e6ef27923cb3991"
   }
  }
 },
 "nbformat": 4,
 "nbformat_minor": 4
}
