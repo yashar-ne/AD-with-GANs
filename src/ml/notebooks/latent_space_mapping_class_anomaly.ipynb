{
 "cells": [
  {
   "cell_type": "code",
   "source": [
    "from google.colab import drive\n",
    "from torchvision.datasets import MNIST\n",
    "\n",
    "drive.mount('/content/drive', force_remount=True)"
   ],
   "metadata": {
    "id": "9rCsmPpNzrBo",
    "outputId": "c99657d1-6615-4c98-9d4d-70cfa162602a",
    "colab": {
     "base_uri": "https://localhost:8080/"
    }
   },
   "execution_count": 71,
   "outputs": [
    {
     "output_type": "stream",
     "name": "stdout",
     "text": [
      "Mounted at /content/drive\n"
     ]
    }
   ]
  },
  {
   "cell_type": "code",
   "execution_count": 72,
   "metadata": {
    "collapsed": true,
    "ExecuteTime": {
     "end_time": "2023-06-19T13:16:49.352615778Z",
     "start_time": "2023-06-19T13:16:49.272631925Z"
    },
    "id": "uKhESdEpzmea"
   },
   "outputs": [],
   "source": [
    "import torch\n",
    "import torch.nn as nn\n",
    "import torch.optim.lr_scheduler as lr_scheduler\n",
    "from PIL import Image\n",
    "from torchvision import transforms, datasets\n",
    "import os\n",
    "import shutil\n",
    "import random\n",
    "import csv\n",
    "import zipfile\n",
    "import PIL\n",
    "import math\n",
    "from IPython.display import clear_output\n",
    "import pandas as pd\n",
    "from torch.utils.data import Dataset"
   ]
  },
  {
   "cell_type": "code",
   "execution_count": 73,
   "outputs": [],
   "source": [
    "class Generator(nn.Module):\n",
    "    def __init__(self, size_z, num_feature_maps, num_color_channels):\n",
    "        super(Generator, self).__init__()\n",
    "        self.size_z = size_z\n",
    "        self.network = nn.Sequential(\n",
    "            nn.ConvTranspose2d(self.size_z, num_feature_maps * 4, 4, 1, 0, bias=False),\n",
    "            nn.BatchNorm2d(num_feature_maps * 4),\n",
    "            nn.ReLU(True),\n",
    "\n",
    "            nn.ConvTranspose2d(num_feature_maps * 4, num_feature_maps * 2, 3, 2, 1, bias=False),\n",
    "            nn.BatchNorm2d(num_feature_maps * 2),\n",
    "            nn.ReLU(True),\n",
    "\n",
    "            nn.ConvTranspose2d(num_feature_maps * 2, num_feature_maps, 4, 2, 1, bias=False),\n",
    "            nn.BatchNorm2d(num_feature_maps),\n",
    "            nn.ReLU(True),\n",
    "\n",
    "            nn.ConvTranspose2d(num_feature_maps, num_color_channels, 4, 2, 1, bias=False),\n",
    "            nn.Tanh()\n",
    "        )\n",
    "\n",
    "    def forward(self, x):\n",
    "        output = self.network(x)\n",
    "        return output\n",
    "\n",
    "    def gen_shifted(self, x, shift):\n",
    "        shift = torch.unsqueeze(shift, -1)\n",
    "        shift = torch.unsqueeze(shift, -1)\n",
    "        return self.forward(x + shift)"
   ],
   "metadata": {
    "ExecuteTime": {
     "end_time": "2023-06-19T13:16:50.491940517Z",
     "start_time": "2023-06-19T13:16:50.476819472Z"
    },
    "id": "AZKotCEvzmee"
   }
  },
  {
   "cell_type": "code",
   "execution_count": 74,
   "outputs": [],
   "source": [
    "class Discriminator(nn.Module):\n",
    "    def __init__(self, num_feature_maps, num_color_channels):\n",
    "        super(Discriminator, self).__init__()\n",
    "        self.layer1 = nn.Sequential(\n",
    "            nn.Conv2d(num_color_channels, num_feature_maps, 4, 2, 1, bias=False),\n",
    "            nn.LeakyReLU(0.2, inplace=True),\n",
    "        )\n",
    "        self.layer2 = nn.Sequential(\n",
    "            nn.Conv2d(num_feature_maps, num_feature_maps * 2, 4, 2, 1, bias=False),\n",
    "            nn.BatchNorm2d(num_feature_maps * 2),\n",
    "            nn.LeakyReLU(0.2, inplace=True),\n",
    "        )\n",
    "        self.layer3 = nn.Sequential(\n",
    "            nn.Conv2d(num_feature_maps * 2, num_feature_maps * 4, 3, 2, 1, bias=False),\n",
    "            nn.BatchNorm2d(num_feature_maps * 4),\n",
    "            nn.LeakyReLU(0.2, inplace=True),\n",
    "        )\n",
    "        self.fc = nn.Sequential(\n",
    "            nn.Conv2d(num_feature_maps * 4, 1, 4, 1, 0, bias=False),\n",
    "            nn.Sigmoid()\n",
    "        )\n",
    "\n",
    "    def forward(self, x):\n",
    "        out = self.layer1(x)\n",
    "        out = self.layer2(out)\n",
    "        out = self.layer3(out)\n",
    "        feature = out\n",
    "        out = self.fc(out)\n",
    "        return out.view(-1, 1).squeeze(1), feature"
   ],
   "metadata": {
    "ExecuteTime": {
     "end_time": "2023-06-19T13:16:51.402689357Z",
     "start_time": "2023-06-19T13:16:51.383963387Z"
    },
    "id": "9jo7Zrbczmeh"
   }
  },
  {
   "cell_type": "code",
   "execution_count": 75,
   "outputs": [],
   "source": [
    "class LatentSpaceMapper:\n",
    "    def __init__(self, generator: Generator, discriminator: Discriminator, device):\n",
    "        self.generator: Generator = generator\n",
    "        self.generator.to(device)\n",
    "        self.discriminator: Discriminator = discriminator\n",
    "        self.discriminator.to(device)\n",
    "        self.device = device\n",
    "\n",
    "    def map_image_to_point_in_latent_space(self, image: torch.Tensor, batch_size=1, size_z=100, max_opt_iterations=30000, opt_threshold=140.0, plateu_threshold=3.0, check_every_n_iter=4000, learning_rate=0.4, print_every_n_iters=10000, ignore_rules_below_threshold=50, retry_after_n_iters=10000, immediate_retry_threshold=200):\n",
    "        image.to(self.device)\n",
    "        z = torch.randn(batch_size, size_z, 1, 1, device=self.device, requires_grad=True)\n",
    "        z_optimizer = torch.optim.Adam([z], lr=learning_rate)\n",
    "        losses = []\n",
    "        final_loss = 0\n",
    "        latest_checkpoint_loss = 0\n",
    "\n",
    "        # scheduler = lr_scheduler.LinearLR(z_optimizer, start_factor=0.4, end_factor=0.001, total_iters=max_opt_iterations-(math.floor(max_opt_iterations*0.2)))\n",
    "        # scheduler = lr_scheduler.StepLR(z_optimizer, step_size=max_opt_iterations, gamma=0.9)\n",
    "        # scheduler = torch.optim.lr_scheduler.CyclicLR(z_optimizer, base_lr=0.01, max_lr=0.4, cycle_momentum=False)\n",
    "        for i in range(max_opt_iterations):\n",
    "            retry = False\n",
    "            loss = self.__get_anomaly_score(z, image.unsqueeze(0).to(self.device))\n",
    "            loss.backward()\n",
    "            z_optimizer.step()\n",
    "            final_loss = loss.data.item()\n",
    "\n",
    "            if i == 1:\n",
    "                latest_checkpoint_loss = loss.data.item()\n",
    "\n",
    "            if loss.data.item() < opt_threshold*batch_size:\n",
    "                print(f\"Iteration: {i} -- Reached Defined Optimum -- Final Loss: {loss.data.item()}\")\n",
    "                break\n",
    "\n",
    "            if (i % print_every_n_iters == 0 and i != 0) or (i == max_opt_iterations-1):\n",
    "                print(f\"Iteration: {i} -- Current Loss: {loss.data.item()} -- Current Learning-Rate: {z_optimizer.param_groups[0]['lr']}\")\n",
    "                losses.append(loss.data.item())\n",
    "\n",
    "            if i % check_every_n_iter == 0 and i != 0:\n",
    "                if abs(loss.data.item()-latest_checkpoint_loss) < plateu_threshold:\n",
    "                    print(f\"Reached Plateu at Iteration {i} -- Loss: {loss.data.item()}\")\n",
    "                    retry = True\n",
    "                    break\n",
    "                if loss.data.item() > immediate_retry_threshold:\n",
    "                    print(f\"Loss at Iteration {i} too high -- Loss: {loss.data.item()}\")\n",
    "                    retry = True\n",
    "                    break\n",
    "                latest_checkpoint_loss = loss.data.item()\n",
    "\n",
    "            if i == retry_after_n_iters and loss.data.item() > ignore_rules_below_threshold:\n",
    "                retry = True\n",
    "                break\n",
    "\n",
    "            #scheduler.step()\n",
    "\n",
    "        return z, final_loss, retry\n",
    "\n",
    "    def __get_anomaly_score(self, z, x_query):\n",
    "        lamda = 0.1\n",
    "        g_z = self.generator(z.to(self.device))\n",
    "        loss_r = torch.sum(torch.abs(x_query - g_z))\n",
    "\n",
    "        return loss_r\n",
    "\n",
    "        #_, x_prop = self.discriminator(x_query)\n",
    "        #_, g_z_prop = self.discriminator(g_z)\n",
    "        #loss_d = torch.sum(torch.abs(x_prop - g_z_prop))\n",
    "        #return (1 - lamda) * loss_r + lamda * loss_d\n"
   ],
   "metadata": {
    "ExecuteTime": {
     "end_time": "2023-06-19T13:16:52.168904698Z",
     "start_time": "2023-06-19T13:16:52.152945768Z"
    },
    "id": "bDlGQeeozmej"
   }
  },
  {
   "cell_type": "code",
   "source": [
    "class AnoClassMNIST(Dataset):\n",
    "    def __init__(self, root_dir, transform=None):\n",
    "        root_dir = os.path.join(root_dir, \"AnoClassMNIST\")\n",
    "        assert os.path.exists(os.path.join(root_dir, \"ano_class_mnist_dataset.csv\")), \"Invalid root directory\"\n",
    "        self.root_dir = root_dir\n",
    "        self.transform = transform\n",
    "        self.label = pd.read_csv(os.path.join(root_dir, \"ano_class_mnist_dataset.csv\"))\n",
    "\n",
    "    def __len__(self):\n",
    "        return len(self.label)\n",
    "\n",
    "    def __getitem__(self, idx):\n",
    "        img_name = os.path.join(self.root_dir, self.label.iloc[idx, 0])\n",
    "        image_label = {\"label\": self.label.iloc[idx, 1], \"anomaly\": self.label.iloc[idx, 2]}\n",
    "        image = Image.open(img_name)\n",
    "\n",
    "        if self.transform:\n",
    "            image = self.transform(image)\n",
    "\n",
    "        return image, image_label\n",
    "\n",
    "\n",
    "class AnomalyExtendedMNIST(datasets.MNIST):\n",
    "    def __getitem__(self, idx):\n",
    "        return super(AnomalyExtendedMNIST, self).__getitem__(idx)[0], {\"label\": super(AnomalyExtendedMNIST, self).__getitem__(idx)[1], \"anomaly\": False}"
   ],
   "metadata": {
    "id": "J85BMSKZz2bh"
   },
   "execution_count": 76,
   "outputs": []
  },
  {
   "cell_type": "code",
   "source": [
    "def load_ano_class_mnist_from_drive(drop_folder):\n",
    "    if os.path.exists(drop_folder):\n",
    "        shutil.rmtree(drop_folder)\n",
    "\n",
    "    os.makedirs(drop_folder, exist_ok=True)\n",
    "    with zipfile.ZipFile('/content/drive/MyDrive/Colab/data/AnoClassMNIST.zip', 'r') as zip_ref:\n",
    "        zip_ref.extractall(drop_folder)"
   ],
   "metadata": {
    "id": "JYa5k658z7Nc"
   },
   "execution_count": 77,
   "outputs": []
  },
  {
   "cell_type": "code",
   "execution_count": 78,
   "outputs": [
    {
     "output_type": "execute_result",
     "data": {
      "text/plain": [
       "device(type='cuda')"
      ]
     },
     "metadata": {},
     "execution_count": 78
    }
   ],
   "source": [
    "device = torch.device('cuda' if torch.cuda.is_available() else 'cpu')\n",
    "num_color_channels = 1\n",
    "num_feature_maps_g = 64\n",
    "num_feature_maps_d = 64\n",
    "size_z = 100\n",
    "\n",
    "device"
   ],
   "metadata": {
    "ExecuteTime": {
     "end_time": "2023-06-19T13:16:56.718929255Z",
     "start_time": "2023-06-19T13:16:56.701170727Z"
    },
    "id": "sy0CAfU_zmep",
    "outputId": "ece2848c-2ffc-4440-973a-45e64c7bbc90",
    "colab": {
     "base_uri": "https://localhost:8080/"
    }
   }
  },
  {
   "cell_type": "code",
   "execution_count": 85,
   "outputs": [
    {
     "output_type": "execute_result",
     "data": {
      "text/plain": [
       "<All keys matched successfully>"
      ]
     },
     "metadata": {},
     "execution_count": 85
    }
   ],
   "source": [
    "generator = Generator(size_z=size_z,\n",
    "                      num_feature_maps=num_feature_maps_g,\n",
    "                      num_color_channels=num_color_channels).to(device)\n",
    "discriminator = Discriminator(num_feature_maps=num_feature_maps_d,\n",
    "                              num_color_channels=num_color_channels).to(device)\n",
    "\n",
    "generator.load_state_dict(torch.load(\"/content/drive/MyDrive/Colab/saved_models/generator.pkl\", map_location=torch.device(device)))\n",
    "discriminator.load_state_dict(torch.load('/content/drive/MyDrive/Colab/saved_models/discriminator.pkl', map_location=torch.device(device)))"
   ],
   "metadata": {
    "ExecuteTime": {
     "end_time": "2023-06-19T13:16:58.039609982Z",
     "start_time": "2023-06-19T13:16:57.998343596Z"
    },
    "id": "IJj0sB2Izmeq",
    "outputId": "427f4826-9270-4f43-d937-97c4af92e293",
    "colab": {
     "base_uri": "https://localhost:8080/"
    }
   }
  },
  {
   "cell_type": "code",
   "execution_count": 80,
   "outputs": [],
   "source": [
    "def get_ano_class_mnist_dataset_onthefly(root_dir, norm_class=9, ano_class=6, ano_fraction=0.2):\n",
    "    mnist_dataset = MNIST(\n",
    "        root=root_dir,\n",
    "        train=True,\n",
    "        transform=transforms.Compose([\n",
    "            transforms.ToTensor(),\n",
    "            transforms.Normalize(mean=(.5,), std=(.5,))\n",
    "        ]),\n",
    "        download=True,\n",
    "    )\n",
    "\n",
    "    norms = [d for d in mnist_dataset if (d[1] == norm_class)]\n",
    "    anos = [d for d in mnist_dataset if (d[1] == ano_class)]\n",
    "\n",
    "    dataset = torch.utils.data.ConcatDataset([norms, anos[:round(ano_fraction*len(anos))]])\n",
    "    dataloader = torch.utils.data.DataLoader(dataset, batch_size=1, shuffle=True)\n",
    "\n",
    "    return dataloader\n",
    "\n",
    "# data = get_ano_class_mnist_dataset_onthefly(root_dir='/content/drive/MyDrive/Colab/data')"
   ],
   "metadata": {
    "id": "BRc3Fm41zmes"
   }
  },
  {
   "cell_type": "code",
   "source": [
    "def get_ano_class_mnist_dataset(root_dir, train_size=0.9):\n",
    "    ano_mnist_dataset = AnoClassMNIST(\n",
    "        root_dir=root_dir,\n",
    "        transform=transforms.Compose([\n",
    "            transforms.ToTensor(),\n",
    "            transforms.Normalize(mean=(.5,), std=(.5,))\n",
    "        ])\n",
    "    )\n",
    "\n",
    "    return torch.utils.data.DataLoader(ano_mnist_dataset, batch_size=1, shuffle=True)"
   ],
   "metadata": {
    "id": "0REBsV4c0NkK"
   },
   "execution_count": 81,
   "outputs": []
  },
  {
   "cell_type": "code",
   "source": [
    "shutil.rmtree('/content/data')\n",
    "load_ano_class_mnist_from_drive(drop_folder='/content/data/AnoClassMNIST')\n",
    "ano_class_mnist_dataset = get_ano_class_mnist_dataset(root_dir='/content/data')"
   ],
   "metadata": {
    "id": "BIF4Fcad0CAw"
   },
   "execution_count": 86,
   "outputs": []
  },
  {
   "cell_type": "code",
   "execution_count": 87,
   "outputs": [],
   "source": [
    "from torch.cuda import reset_max_memory_allocated\n",
    "def create_cp(iteration_number):\n",
    "  print(\"CREATING CHECKPOINT...\")\n",
    "  drive.mount('/content/drive', force_remount=True)\n",
    "  shutil.make_archive(f\"/content/drive/MyDrive/Colab/data/latent_space_mappings_cp/latent_space_mappings_cp{iteration_number}\", 'zip', \"/content/data/latent_space_mappings\")\n",
    "\n",
    "def save_to_drive(mapped_z, iteration_number, csv_path):\n",
    "  torch.save(mapped_z, f'/content/drive/MyDrive/Colab/data/latent_space_mappings/mapped_z_{iteration_number}.pt')\n",
    "  shutil.copy(csv_path, \"/content/drive/MyDrive/Colab/data/latent_space_mappings/latent_space_mappings.csv\")\n",
    "\n",
    "base_folder = \"/content/data/latent_space_mappings\"\n",
    "csv_path = os.path.join(base_folder, \"latent_space_mappings.csv\")\n",
    "\n",
    "\n",
    "prepare_target_folder = True\n",
    "if prepare_target_folder:\n",
    "    if not os.path.exists(base_folder):\n",
    "        os.makedirs(base_folder, exist_ok=True)\n",
    "\n",
    "    if os.path.exists(base_folder):\n",
    "        shutil.rmtree(base_folder)\n",
    "        os.makedirs(base_folder, exist_ok=True)\n",
    "\n",
    "    with open(csv_path, 'a', newline='') as file:\n",
    "        writer = csv.writer(file)\n",
    "        fields = [\"filename\", \"label\", \"reconstruction_loss\"]\n",
    "        writer.writerow(fields)\n",
    "\n",
    "# Start mapping\n",
    "map_anomalies = True\n",
    "map_normals = True\n",
    "t = transforms.ToPILImage()\n",
    "lsm: LatentSpaceMapper = LatentSpaceMapper(generator=generator, discriminator=discriminator, device=device)\n",
    "mapped_images = []\n",
    "cp_counter = 0\n",
    "counter = len(ano_class_mnist_dataset)\n",
    "\n",
    "i = 0\n",
    "retry_counter = 0\n",
    "\n",
    "iterator = iter(ano_class_mnist_dataset)\n",
    "d = next(iterator)\n",
    "#print(d)"
   ],
   "metadata": {
    "ExecuteTime": {
     "end_time": "2023-06-19T13:17:18.568254955Z",
     "start_time": "2023-06-19T13:17:09.250792045Z"
    },
    "id": "Y611jafizmex"
   }
  },
  {
   "cell_type": "code",
   "source": [
    "while counter > 0:\n",
    "    if i % 50 == 0 and i != 0:\n",
    "        clear_output()\n",
    "        print(\"Cleared Output...\")\n",
    "\n",
    "    print(f\"{counter} images left\")\n",
    "    print(f\"Label: {d[1]['label'].item()}\")\n",
    "\n",
    "    max_retries = 5\n",
    "    opt_threshold=60\n",
    "    ignore_rules_below_threshold=75\n",
    "    immediate_retry_threshold=110\n",
    "    max_opt_iterations=20000\n",
    "\n",
    "    if (d[1]['anomaly'].item() == True and map_anomalies) or (d[1]['anomaly'].item() == False and map_normals):\n",
    "        mapped_z, reconstruction_loss, retry = lsm.map_image_to_point_in_latent_space(d[0][0],\n",
    "                                                                            batch_size=1,\n",
    "                                                                            max_opt_iterations=max_opt_iterations,\n",
    "                                                                            plateu_threshold=0.0005,\n",
    "                                                                            check_every_n_iter=5000,\n",
    "                                                                            learning_rate=0.01,\n",
    "                                                                            print_every_n_iters=5000,\n",
    "                                                                            retry_after_n_iters=30000,\n",
    "                                                                            ignore_rules_below_threshold=ignore_rules_below_threshold,\n",
    "                                                                            opt_threshold=opt_threshold,\n",
    "                                                                            immediate_retry_threshold=immediate_retry_threshold)\n",
    "\n",
    "        if retry:\n",
    "            if retry_counter == max_retries:\n",
    "                retry_counter = 0\n",
    "                i+=1\n",
    "                counter-=1\n",
    "                print(\"Retry Limit reached. Moving on to next sample\")\n",
    "                print('Original Image That Could Not Be Mapped')\n",
    "                display(t(original_img[0]).resize((128, 128), PIL.Image.NEAREST))\n",
    "                d = next(iterator)\n",
    "                print('-----------------------')\n",
    "                continue\n",
    "            else:\n",
    "                retry_counter += 1\n",
    "                print(f\"Could not find optimal region within the defined iteration count. Retry ({retry_counter}) with another random z...\")\n",
    "                continue\n",
    "\n",
    "        retry_counter = 0\n",
    "        mapped_images.append(mapped_z)\n",
    "        with open(csv_path, 'a', newline='') as file:\n",
    "            writer = csv.writer(file)\n",
    "            fields = [f'mapped_z_{counter}.pt', d[1]['label'].item(), math.floor(reconstruction_loss)]\n",
    "            writer.writerow(fields)\n",
    "\n",
    "        torch.save(mapped_z, os.path.join(base_folder, f'mapped_z_{counter}.pt'))\n",
    "        save_to_drive(mapped_z, counter, csv_path)\n",
    "        cp_counter += 1\n",
    "        if cp_counter % 50 == 0:\n",
    "            create_cp(counter)\n",
    "            clear_output\n",
    "\n",
    "        print('Original Image')\n",
    "        display(t(d[0][0]).resize((128, 128), PIL.Image.NEAREST))\n",
    "        print('Mapped and Reconstructed Image')\n",
    "        original_img = generator(mapped_z).cpu()\n",
    "        display(t(original_img[0]).resize((128, 128), PIL.Image.NEAREST))\n",
    "        print('-----------------------')\n",
    "\n",
    "    i+=1\n",
    "    counter-=1\n",
    "    d = next(iterator)\n",
    "\n",
    "create_cp(0)"
   ],
   "metadata": {
    "id": "AHpnpEgVeeV_",
    "colab": {
     "base_uri": "https://localhost:8080/",
     "height": 1000
    },
    "outputId": "bd17781b-6812-4405-ddc0-5cce7d61c9e2"
   },
   "execution_count": null,
   "outputs": [
    {
     "output_type": "stream",
     "name": "stdout",
     "text": [
      "Cleared Output...\n",
      "6833 images left\n",
      "Label: 6\n",
      "Iteration: 585 -- Reached Defined Optimum -- Final Loss: 59.65272521972656\n",
      "Original Image\n"
     ]
    },
    {
     "output_type": "display_data",
     "data": {
      "text/plain": [
       "<PIL.Image.Image image mode=L size=128x128>"
      ],
      "image/png": "[encoded data removed]"
     },
     "metadata": {}
    },
    {
     "output_type": "stream",
     "name": "stdout",
     "text": [
      "Mapped and Reconstructed Image\n"
     ]
    },
    {
     "output_type": "display_data",
     "data": {
      "text/plain": [
       "<PIL.Image.Image image mode=L size=128x128>"
      ],
      "image/png": "[encoded data removed]"
     },
     "metadata": {}
    },
    {
     "output_type": "stream",
     "name": "stdout",
     "text": [
      "-----------------------\n",
      "6832 images left\n",
      "Label: 9\n",
      "Iteration: 734 -- Reached Defined Optimum -- Final Loss: 59.99440002441406\n",
      "Original Image\n"
     ]
    },
    {
     "output_type": "display_data",
     "data": {
      "text/plain": [
       "<PIL.Image.Image image mode=L size=128x128>"
      ],
      "image/png": "[encoded data removed]"
     },
     "metadata": {}
    },
    {
     "output_type": "stream",
     "name": "stdout",
     "text": [
      "Mapped and Reconstructed Image\n"
     ]
    },
    {
     "output_type": "display_data",
     "data": {
      "text/plain": [
       "<PIL.Image.Image image mode=L size=128x128>"
      ],
      "image/png": "[encoded data removed]"
     },
     "metadata": {}
    },
    {
     "output_type": "stream",
     "name": "stdout",
     "text": [
      "-----------------------\n",
      "6831 images left\n",
      "Label: 9\n",
      "Iteration: 619 -- Reached Defined Optimum -- Final Loss: 59.98749923706055\n",
      "Original Image\n"
     ]
    },
    {
     "output_type": "display_data",
     "data": {
      "text/plain": [
       "<PIL.Image.Image image mode=L size=128x128>"
      ],
      "image/png": "[encoded data removed]"
     },
     "metadata": {}
    },
    {
     "output_type": "stream",
     "name": "stdout",
     "text": [
      "Mapped and Reconstructed Image\n"
     ]
    },
    {
     "output_type": "display_data",
     "data": {
      "text/plain": [
       "<PIL.Image.Image image mode=L size=128x128>"
      ],
      "image/png": "[encoded data removed]"
     },
     "metadata": {}
    },
    {
     "output_type": "stream",
     "name": "stdout",
     "text": [
      "-----------------------\n",
      "6830 images left\n",
      "Label: 9\n",
      "Iteration: 305 -- Reached Defined Optimum -- Final Loss: 59.938926696777344\n",
      "Original Image\n"
     ]
    },
    {
     "output_type": "display_data",
     "data": {
      "text/plain": [
       "<PIL.Image.Image image mode=L size=128x128>"
      ],
      "image/png": "[encoded data removed]"
     },
     "metadata": {}
    },
    {
     "output_type": "stream",
     "name": "stdout",
     "text": [
      "Mapped and Reconstructed Image\n"
     ]
    },
    {
     "output_type": "display_data",
     "data": {
      "text/plain": [
       "<PIL.Image.Image image mode=L size=128x128>"
      ],
      "image/png": "[encoded data removed]"
     },
     "metadata": {}
    },
    {
     "output_type": "stream",
     "name": "stdout",
     "text": [
      "-----------------------\n",
      "6829 images left\n",
      "Label: 9\n",
      "Iteration: 729 -- Reached Defined Optimum -- Final Loss: 59.994178771972656\n",
      "CREATING CHECKPOINT...\n",
      "Mounted at /content/drive\n",
      "Original Image\n"
     ]
    },
    {
     "output_type": "display_data",
     "data": {
      "text/plain": [
       "<PIL.Image.Image image mode=L size=128x128>"
      ],
      "image/png": "[encoded data removed]"
     },
     "metadata": {}
    },
    {
     "output_type": "stream",
     "name": "stdout",
     "text": [
      "Mapped and Reconstructed Image\n"
     ]
    },
    {
     "output_type": "display_data",
     "data": {
      "text/plain": [
       "<PIL.Image.Image image mode=L size=128x128>"
      ],
      "image/png": "[encoded data removed]"
     },
     "metadata": {}
    },
    {
     "output_type": "stream",
     "name": "stdout",
     "text": [
      "-----------------------\n",
      "6828 images left\n",
      "Label: 9\n",
      "Iteration: 538 -- Reached Defined Optimum -- Final Loss: 59.983428955078125\n",
      "Original Image\n"
     ]
    },
    {
     "output_type": "display_data",
     "data": {
      "text/plain": [
       "<PIL.Image.Image image mode=L size=128x128>"
      ],
      "image/png": "[encoded data removed]"
     },
     "metadata": {}
    },
    {
     "output_type": "stream",
     "name": "stdout",
     "text": [
      "Mapped and Reconstructed Image\n"
     ]
    },
    {
     "output_type": "display_data",
     "data": {
      "text/plain": [
       "<PIL.Image.Image image mode=L size=128x128>"
      ],
      "image/png": "[encoded data removed]"
     },
     "metadata": {}
    },
    {
     "output_type": "stream",
     "name": "stdout",
     "text": [
      "-----------------------\n",
      "6827 images left\n",
      "Label: 6\n",
      "Iteration: 4483 -- Reached Defined Optimum -- Final Loss: 59.998329162597656\n",
      "Original Image\n"
     ]
    },
    {
     "output_type": "display_data",
     "data": {
      "text/plain": [
       "<PIL.Image.Image image mode=L size=128x128>"
      ],
      "image/png": "[encoded data removed]"
     },
     "metadata": {}
    },
    {
     "output_type": "stream",
     "name": "stdout",
     "text": [
      "Mapped and Reconstructed Image\n"
     ]
    },
    {
     "output_type": "display_data",
     "data": {
      "text/plain": [
       "<PIL.Image.Image image mode=L size=128x128>"
      ],
      "image/png": "[encoded data removed]"
     },
     "metadata": {}
    },
    {
     "output_type": "stream",
     "name": "stdout",
     "text": [
      "-----------------------\n",
      "6826 images left\n",
      "Label: 9\n",
      "Iteration: 5000 -- Current Loss: 102.60089874267578 -- Current Learning-Rate: 0.01\n",
      "Iteration: 10000 -- Current Loss: 96.2188949584961 -- Current Learning-Rate: 0.01\n",
      "Iteration: 15000 -- Current Loss: 94.86223602294922 -- Current Learning-Rate: 0.01\n",
      "Iteration: 19999 -- Current Loss: 93.83287048339844 -- Current Learning-Rate: 0.01\n",
      "Original Image\n"
     ]
    },
    {
     "output_type": "display_data",
     "data": {
      "text/plain": [
       "<PIL.Image.Image image mode=L size=128x128>"
      ],
      "image/png": "[encoded data removed]"
     },
     "metadata": {}
    },
    {
     "output_type": "stream",
     "name": "stdout",
     "text": [
      "Mapped and Reconstructed Image\n"
     ]
    },
    {
     "output_type": "display_data",
     "data": {
      "text/plain": [
       "<PIL.Image.Image image mode=L size=128x128>"
      ],
      "image/png": "[encoded data removed]"
     },
     "metadata": {}
    },
    {
     "output_type": "stream",
     "name": "stdout",
     "text": [
      "-----------------------\n",
      "6825 images left\n",
      "Label: 9\n",
      "Iteration: 16 -- Reached Defined Optimum -- Final Loss: 59.640296936035156\n",
      "Original Image\n"
     ]
    },
    {
     "output_type": "display_data",
     "data": {
      "text/plain": [
       "<PIL.Image.Image image mode=L size=128x128>"
      ],
      "image/png": "[encoded data removed]"
     },
     "metadata": {}
    },
    {
     "output_type": "stream",
     "name": "stdout",
     "text": [
      "Mapped and Reconstructed Image\n"
     ]
    },
    {
     "output_type": "display_data",
     "data": {
      "text/plain": [
       "<PIL.Image.Image image mode=L size=128x128>"
      ],
      "image/png": "[encoded data removed]"
     },
     "metadata": {}
    },
    {
     "output_type": "stream",
     "name": "stdout",
     "text": [
      "-----------------------\n",
      "6824 images left\n",
      "Label: 6\n",
      "Iteration: 489 -- Reached Defined Optimum -- Final Loss: 59.917049407958984\n",
      "Original Image\n"
     ]
    },
    {
     "output_type": "display_data",
     "data": {
      "text/plain": [
       "<PIL.Image.Image image mode=L size=128x128>"
      ],
      "image/png": "[encoded data removed]"
     },
     "metadata": {}
    },
    {
     "output_type": "stream",
     "name": "stdout",
     "text": [
      "Mapped and Reconstructed Image\n"
     ]
    },
    {
     "output_type": "display_data",
     "data": {
      "text/plain": [
       "<PIL.Image.Image image mode=L size=128x128>"
      ],
      "image/png": "[encoded data removed]"
     },
     "metadata": {}
    },
    {
     "output_type": "stream",
     "name": "stdout",
     "text": [
      "-----------------------\n",
      "6823 images left\n",
      "Label: 9\n",
      "Iteration: 548 -- Reached Defined Optimum -- Final Loss: 59.98456573486328\n",
      "Original Image\n"
     ]
    },
    {
     "output_type": "display_data",
     "data": {
      "text/plain": [
       "<PIL.Image.Image image mode=L size=128x128>"
      ],
      "image/png": "[encoded data removed]"
     },
     "metadata": {}
    },
    {
     "output_type": "stream",
     "name": "stdout",
     "text": [
      "Mapped and Reconstructed Image\n"
     ]
    },
    {
     "output_type": "display_data",
     "data": {
      "text/plain": [
       "<PIL.Image.Image image mode=L size=128x128>"
      ],
      "image/png": "[encoded data removed]"
     },
     "metadata": {}
    },
    {
     "output_type": "stream",
     "name": "stdout",
     "text": [
      "-----------------------\n",
      "6822 images left\n",
      "Label: 9\n",
      "Iteration: 699 -- Reached Defined Optimum -- Final Loss: 59.98677444458008\n",
      "Original Image\n"
     ]
    },
    {
     "output_type": "display_data",
     "data": {
      "text/plain": [
       "<PIL.Image.Image image mode=L size=128x128>"
      ],
      "image/png": "[encoded data removed]"
     },
     "metadata": {}
    },
    {
     "output_type": "stream",
     "name": "stdout",
     "text": [
      "Mapped and Reconstructed Image\n"
     ]
    },
    {
     "output_type": "display_data",
     "data": {
      "text/plain": [
       "<PIL.Image.Image image mode=L size=128x128>"
      ],
      "image/png": "[encoded data removed]"
     },
     "metadata": {}
    },
    {
     "output_type": "stream",
     "name": "stdout",
     "text": [
      "-----------------------\n",
      "6821 images left\n",
      "Label: 9\n",
      "Iteration: 2500 -- Reached Defined Optimum -- Final Loss: 59.9957275390625\n",
      "Original Image\n"
     ]
    },
    {
     "output_type": "display_data",
     "data": {
      "text/plain": [
       "<PIL.Image.Image image mode=L size=128x128>"
      ],
      "image/png": "[encoded data removed]"
     },
     "metadata": {}
    },
    {
     "output_type": "stream",
     "name": "stdout",
     "text": [
      "Mapped and Reconstructed Image\n"
     ]
    },
    {
     "output_type": "display_data",
     "data": {
      "text/plain": [
       "<PIL.Image.Image image mode=L size=128x128>"
      ],
      "image/png": "[encoded data removed]"
     },
     "metadata": {}
    },
    {
     "output_type": "stream",
     "name": "stdout",
     "text": [
      "-----------------------\n",
      "6820 images left\n",
      "Label: 9\n",
      "Iteration: 1281 -- Reached Defined Optimum -- Final Loss: 59.992584228515625\n",
      "Original Image\n"
     ]
    },
    {
     "output_type": "display_data",
     "data": {
      "text/plain": [
       "<PIL.Image.Image image mode=L size=128x128>"
      ],
      "image/png": "[encoded data removed]"
     },
     "metadata": {}
    },
    {
     "output_type": "stream",
     "name": "stdout",
     "text": [
      "Mapped and Reconstructed Image\n"
     ]
    },
    {
     "output_type": "display_data",
     "data": {
      "text/plain": [
       "<PIL.Image.Image image mode=L size=128x128>"
      ],
      "image/png": "[encoded data removed]"
     },
     "metadata": {}
    },
    {
     "output_type": "stream",
     "name": "stdout",
     "text": [
      "-----------------------\n",
      "6819 images left\n",
      "Label: 9\n",
      "Iteration: 505 -- Reached Defined Optimum -- Final Loss: 59.945556640625\n",
      "Original Image\n"
     ]
    },
    {
     "output_type": "display_data",
     "data": {
      "text/plain": [
       "<PIL.Image.Image image mode=L size=128x128>"
      ],
      "image/png": "[encoded data removed]"
     },
     "metadata": {}
    },
    {
     "output_type": "stream",
     "name": "stdout",
     "text": [
      "Mapped and Reconstructed Image\n"
     ]
    },
    {
     "output_type": "display_data",
     "data": {
      "text/plain": [
       "<PIL.Image.Image image mode=L size=128x128>"
      ],
      "image/png": "[encoded data removed]"
     },
     "metadata": {}
    },
    {
     "output_type": "stream",
     "name": "stdout",
     "text": [
      "-----------------------\n",
      "6818 images left\n",
      "Label: 9\n",
      "Iteration: 2927 -- Reached Defined Optimum -- Final Loss: 59.99903106689453\n",
      "Original Image\n"
     ]
    },
    {
     "output_type": "display_data",
     "data": {
      "text/plain": [
       "<PIL.Image.Image image mode=L size=128x128>"
      ],
      "image/png": "[encoded data removed]"
     },
     "metadata": {}
    },
    {
     "output_type": "stream",
     "name": "stdout",
     "text": [
      "Mapped and Reconstructed Image\n"
     ]
    },
    {
     "output_type": "display_data",
     "data": {
      "text/plain": [
       "<PIL.Image.Image image mode=L size=128x128>"
      ],
      "image/png": "[encoded data removed]"
     },
     "metadata": {}
    },
    {
     "output_type": "stream",
     "name": "stdout",
     "text": [
      "-----------------------\n",
      "6817 images left\n",
      "Label: 9\n",
      "Iteration: 3187 -- Reached Defined Optimum -- Final Loss: 59.990631103515625\n",
      "Original Image\n"
     ]
    },
    {
     "output_type": "display_data",
     "data": {
      "text/plain": [
       "<PIL.Image.Image image mode=L size=128x128>"
      ],
      "image/png": "[encoded data removed]"
     },
     "metadata": {}
    },
    {
     "output_type": "stream",
     "name": "stdout",
     "text": [
      "Mapped and Reconstructed Image\n"
     ]
    },
    {
     "output_type": "display_data",
     "data": {
      "text/plain": [
       "<PIL.Image.Image image mode=L size=128x128>"
      ],
      "image/png": "[encoded data removed]"
     },
     "metadata": {}
    },
    {
     "output_type": "stream",
     "name": "stdout",
     "text": [
      "-----------------------\n",
      "6816 images left\n",
      "Label: 6\n",
      "Iteration: 1413 -- Reached Defined Optimum -- Final Loss: 59.96089553833008\n",
      "Original Image\n"
     ]
    },
    {
     "output_type": "display_data",
     "data": {
      "text/plain": [
       "<PIL.Image.Image image mode=L size=128x128>"
      ],
      "image/png": "[encoded data removed]"
     },
     "metadata": {}
    },
    {
     "output_type": "stream",
     "name": "stdout",
     "text": [
      "Mapped and Reconstructed Image\n"
     ]
    },
    {
     "output_type": "display_data",
     "data": {
      "text/plain": [
       "<PIL.Image.Image image mode=L size=128x128>"
      ],
      "image/png": "[encoded data removed]"
     },
     "metadata": {}
    },
    {
     "output_type": "stream",
     "name": "stdout",
     "text": [
      "-----------------------\n",
      "6815 images left\n",
      "Label: 9\n",
      "Iteration: 308 -- Reached Defined Optimum -- Final Loss: 59.844947814941406\n",
      "Original Image\n"
     ]
    },
    {
     "output_type": "display_data",
     "data": {
      "text/plain": [
       "<PIL.Image.Image image mode=L size=128x128>"
      ],
      "image/png": "[encoded data removed]"
     },
     "metadata": {}
    },
    {
     "output_type": "stream",
     "name": "stdout",
     "text": [
      "Mapped and Reconstructed Image\n"
     ]
    },
    {
     "output_type": "display_data",
     "data": {
      "text/plain": [
       "<PIL.Image.Image image mode=L size=128x128>"
      ],
      "image/png": "[encoded data removed]"
     },
     "metadata": {}
    },
    {
     "output_type": "stream",
     "name": "stdout",
     "text": [
      "-----------------------\n",
      "6814 images left\n",
      "Label: 9\n",
      "Iteration: 397 -- Reached Defined Optimum -- Final Loss: 59.776649475097656\n",
      "Original Image\n"
     ]
    },
    {
     "output_type": "display_data",
     "data": {
      "text/plain": [
       "<PIL.Image.Image image mode=L size=128x128>"
      ],
      "image/png": "[encoded data removed]"
     },
     "metadata": {}
    },
    {
     "output_type": "stream",
     "name": "stdout",
     "text": [
      "Mapped and Reconstructed Image\n"
     ]
    },
    {
     "output_type": "display_data",
     "data": {
      "text/plain": [
       "<PIL.Image.Image image mode=L size=128x128>"
      ],
      "image/png": "[encoded data removed]"
     },
     "metadata": {}
    },
    {
     "output_type": "stream",
     "name": "stdout",
     "text": [
      "-----------------------\n",
      "6813 images left\n",
      "Label: 9\n",
      "Iteration: 1586 -- Reached Defined Optimum -- Final Loss: 59.990211486816406\n",
      "Original Image\n"
     ]
    },
    {
     "output_type": "display_data",
     "data": {
      "text/plain": [
       "<PIL.Image.Image image mode=L size=128x128>"
      ],
      "image/png": "[encoded data removed]"
     },
     "metadata": {}
    },
    {
     "output_type": "stream",
     "name": "stdout",
     "text": [
      "Mapped and Reconstructed Image\n"
     ]
    },
    {
     "output_type": "display_data",
     "data": {
      "text/plain": [
       "<PIL.Image.Image image mode=L size=128x128>"
      ],
      "image/png": "[encoded data removed]"
     },
     "metadata": {}
    },
    {
     "output_type": "stream",
     "name": "stdout",
     "text": [
      "-----------------------\n",
      "6812 images left\n",
      "Label: 9\n",
      "Iteration: 5000 -- Current Loss: 84.82537841796875 -- Current Learning-Rate: 0.01\n",
      "Iteration: 10000 -- Current Loss: 80.4377212524414 -- Current Learning-Rate: 0.01\n",
      "Iteration: 15000 -- Current Loss: 79.94511413574219 -- Current Learning-Rate: 0.01\n",
      "Iteration: 19999 -- Current Loss: 79.45411682128906 -- Current Learning-Rate: 0.01\n",
      "Original Image\n"
     ]
    },
    {
     "output_type": "display_data",
     "data": {
      "text/plain": [
       "<PIL.Image.Image image mode=L size=128x128>"
      ],
      "image/png": "[encoded data removed]"
     },
     "metadata": {}
    },
    {
     "output_type": "stream",
     "name": "stdout",
     "text": [
      "Mapped and Reconstructed Image\n"
     ]
    },
    {
     "output_type": "display_data",
     "data": {
      "text/plain": [
       "<PIL.Image.Image image mode=L size=128x128>"
      ],
      "image/png": "[encoded data removed]"
     },
     "metadata": {}
    },
    {
     "output_type": "stream",
     "name": "stdout",
     "text": [
      "-----------------------\n",
      "6811 images left\n",
      "Label: 6\n",
      "Iteration: 5000 -- Current Loss: 61.3169059753418 -- Current Learning-Rate: 0.01\n",
      "Iteration: 5567 -- Reached Defined Optimum -- Final Loss: 59.99786376953125\n",
      "Original Image\n"
     ]
    },
    {
     "output_type": "display_data",
     "data": {
      "text/plain": [
       "<PIL.Image.Image image mode=L size=128x128>"
      ],
      "image/png": "[encoded data removed]"
     },
     "metadata": {}
    },
    {
     "output_type": "stream",
     "name": "stdout",
     "text": [
      "Mapped and Reconstructed Image\n"
     ]
    },
    {
     "output_type": "display_data",
     "data": {
      "text/plain": [
       "<PIL.Image.Image image mode=L size=128x128>"
      ],
      "image/png": "[encoded data removed]"
     },
     "metadata": {}
    },
    {
     "output_type": "stream",
     "name": "stdout",
     "text": [
      "-----------------------\n",
      "6810 images left\n",
      "Label: 9\n",
      "Iteration: 851 -- Reached Defined Optimum -- Final Loss: 59.99481964111328\n",
      "Original Image\n"
     ]
    },
    {
     "output_type": "display_data",
     "data": {
      "text/plain": [
       "<PIL.Image.Image image mode=L size=128x128>"
      ],
      "image/png": "[encoded data removed]"
     },
     "metadata": {}
    },
    {
     "output_type": "stream",
     "name": "stdout",
     "text": [
      "Mapped and Reconstructed Image\n"
     ]
    },
    {
     "output_type": "display_data",
     "data": {
      "text/plain": [
       "<PIL.Image.Image image mode=L size=128x128>"
      ],
      "image/png": "[encoded data removed]"
     },
     "metadata": {}
    },
    {
     "output_type": "stream",
     "name": "stdout",
     "text": [
      "-----------------------\n",
      "6809 images left\n",
      "Label: 9\n",
      "Iteration: 393 -- Reached Defined Optimum -- Final Loss: 59.898284912109375\n",
      "Original Image\n"
     ]
    },
    {
     "output_type": "display_data",
     "data": {
      "text/plain": [
       "<PIL.Image.Image image mode=L size=128x128>"
      ],
      "image/png": "[encoded data removed]"
     },
     "metadata": {}
    },
    {
     "output_type": "stream",
     "name": "stdout",
     "text": [
      "Mapped and Reconstructed Image\n"
     ]
    },
    {
     "output_type": "display_data",
     "data": {
      "text/plain": [
       "<PIL.Image.Image image mode=L size=128x128>"
      ],
      "image/png": "[encoded data removed]"
     },
     "metadata": {}
    },
    {
     "output_type": "stream",
     "name": "stdout",
     "text": [
      "-----------------------\n",
      "6808 images left\n",
      "Label: 9\n",
      "Iteration: 993 -- Reached Defined Optimum -- Final Loss: 59.984031677246094\n",
      "Original Image\n"
     ]
    },
    {
     "output_type": "display_data",
     "data": {
      "text/plain": [
       "<PIL.Image.Image image mode=L size=128x128>"
      ],
      "image/png": "[encoded data removed]"
     },
     "metadata": {}
    },
    {
     "output_type": "stream",
     "name": "stdout",
     "text": [
      "Mapped and Reconstructed Image\n"
     ]
    },
    {
     "output_type": "display_data",
     "data": {
      "text/plain": [
       "<PIL.Image.Image image mode=L size=128x128>"
      ],
      "image/png": "[encoded data removed]"
     },
     "metadata": {}
    },
    {
     "output_type": "stream",
     "name": "stdout",
     "text": [
      "-----------------------\n",
      "6807 images left\n",
      "Label: 9\n",
      "Iteration: 537 -- Reached Defined Optimum -- Final Loss: 59.93328094482422\n",
      "Original Image\n"
     ]
    },
    {
     "output_type": "display_data",
     "data": {
      "text/plain": [
       "<PIL.Image.Image image mode=L size=128x128>"
      ],
      "image/png": "[encoded data removed]"
     },
     "metadata": {}
    },
    {
     "output_type": "stream",
     "name": "stdout",
     "text": [
      "Mapped and Reconstructed Image\n"
     ]
    },
    {
     "output_type": "display_data",
     "data": {
      "text/plain": [
       "<PIL.Image.Image image mode=L size=128x128>"
      ],
      "image/png": "[encoded data removed]"
     },
     "metadata": {}
    },
    {
     "output_type": "stream",
     "name": "stdout",
     "text": [
      "-----------------------\n",
      "6806 images left\n",
      "Label: 9\n",
      "Iteration: 1186 -- Reached Defined Optimum -- Final Loss: 59.991661071777344\n",
      "Original Image\n"
     ]
    },
    {
     "output_type": "display_data",
     "data": {
      "text/plain": [
       "<PIL.Image.Image image mode=L size=128x128>"
      ],
      "image/png": "[encoded data removed]"
     },
     "metadata": {}
    },
    {
     "output_type": "stream",
     "name": "stdout",
     "text": [
      "Mapped and Reconstructed Image\n"
     ]
    },
    {
     "output_type": "display_data",
     "data": {
      "text/plain": [
       "<PIL.Image.Image image mode=L size=128x128>"
      ],
      "image/png": "[encoded data removed]"
     },
     "metadata": {}
    },
    {
     "output_type": "stream",
     "name": "stdout",
     "text": [
      "-----------------------\n",
      "6805 images left\n",
      "Label: 6\n",
      "Iteration: 5000 -- Current Loss: 61.46531677246094 -- Current Learning-Rate: 0.01\n",
      "Iteration: 5949 -- Reached Defined Optimum -- Final Loss: 59.99951171875\n",
      "Original Image\n"
     ]
    },
    {
     "output_type": "display_data",
     "data": {
      "text/plain": [
       "<PIL.Image.Image image mode=L size=128x128>"
      ],
      "image/png": "[encoded data removed]"
     },
     "metadata": {}
    },
    {
     "output_type": "stream",
     "name": "stdout",
     "text": [
      "Mapped and Reconstructed Image\n"
     ]
    },
    {
     "output_type": "display_data",
     "data": {
      "text/plain": [
       "<PIL.Image.Image image mode=L size=128x128>"
      ],
      "image/png": "[encoded data removed]"
     },
     "metadata": {}
    },
    {
     "output_type": "stream",
     "name": "stdout",
     "text": [
      "-----------------------\n",
      "6804 images left\n",
      "Label: 6\n",
      "Iteration: 3786 -- Reached Defined Optimum -- Final Loss: 59.99895095825195\n",
      "Original Image\n"
     ]
    },
    {
     "output_type": "display_data",
     "data": {
      "text/plain": [
       "<PIL.Image.Image image mode=L size=128x128>"
      ],
      "image/png": "[encoded data removed]"
     },
     "metadata": {}
    },
    {
     "output_type": "stream",
     "name": "stdout",
     "text": [
      "Mapped and Reconstructed Image\n"
     ]
    },
    {
     "output_type": "display_data",
     "data": {
      "text/plain": [
       "<PIL.Image.Image image mode=L size=128x128>"
      ],
      "image/png": "[encoded data removed]"
     },
     "metadata": {}
    },
    {
     "output_type": "stream",
     "name": "stdout",
     "text": [
      "-----------------------\n",
      "6803 images left\n",
      "Label: 9\n",
      "Iteration: 1720 -- Reached Defined Optimum -- Final Loss: 59.992210388183594\n",
      "Original Image\n"
     ]
    },
    {
     "output_type": "display_data",
     "data": {
      "text/plain": [
       "<PIL.Image.Image image mode=L size=128x128>"
      ],
      "image/png": "[encoded data removed]"
     },
     "metadata": {}
    },
    {
     "output_type": "stream",
     "name": "stdout",
     "text": [
      "Mapped and Reconstructed Image\n"
     ]
    },
    {
     "output_type": "display_data",
     "data": {
      "text/plain": [
       "<PIL.Image.Image image mode=L size=128x128>"
      ],
      "image/png": "[encoded data removed]"
     },
     "metadata": {}
    },
    {
     "output_type": "stream",
     "name": "stdout",
     "text": [
      "-----------------------\n",
      "6802 images left\n",
      "Label: 9\n",
      "Iteration: 1130 -- Reached Defined Optimum -- Final Loss: 59.987003326416016\n",
      "Original Image\n"
     ]
    },
    {
     "output_type": "display_data",
     "data": {
      "text/plain": [
       "<PIL.Image.Image image mode=L size=128x128>"
      ],
      "image/png": "[encoded data removed]"
     },
     "metadata": {}
    },
    {
     "output_type": "stream",
     "name": "stdout",
     "text": [
      "Mapped and Reconstructed Image\n"
     ]
    },
    {
     "output_type": "display_data",
     "data": {
      "text/plain": [
       "<PIL.Image.Image image mode=L size=128x128>"
      ],
      "image/png": "[encoded data removed]"
     },
     "metadata": {}
    },
    {
     "output_type": "stream",
     "name": "stdout",
     "text": [
      "-----------------------\n",
      "6801 images left\n",
      "Label: 9\n",
      "Iteration: 3509 -- Reached Defined Optimum -- Final Loss: 59.99881362915039\n",
      "Original Image\n"
     ]
    },
    {
     "output_type": "display_data",
     "data": {
      "text/plain": [
       "<PIL.Image.Image image mode=L size=128x128>"
      ],
      "image/png": "[encoded data removed]"
     },
     "metadata": {}
    },
    {
     "output_type": "stream",
     "name": "stdout",
     "text": [
      "Mapped and Reconstructed Image\n"
     ]
    },
    {
     "output_type": "display_data",
     "data": {
      "text/plain": [
       "<PIL.Image.Image image mode=L size=128x128>"
      ],
      "image/png": "[encoded data removed]"
     },
     "metadata": {}
    },
    {
     "output_type": "stream",
     "name": "stdout",
     "text": [
      "-----------------------\n",
      "6800 images left\n",
      "Label: 6\n",
      "Iteration: 1145 -- Reached Defined Optimum -- Final Loss: 59.9881591796875\n",
      "Original Image\n"
     ]
    },
    {
     "output_type": "display_data",
     "data": {
      "text/plain": [
       "<PIL.Image.Image image mode=L size=128x128>"
      ],
      "image/png": "[encoded data removed]"
     },
     "metadata": {}
    },
    {
     "output_type": "stream",
     "name": "stdout",
     "text": [
      "Mapped and Reconstructed Image\n"
     ]
    },
    {
     "output_type": "display_data",
     "data": {
      "text/plain": [
       "<PIL.Image.Image image mode=L size=128x128>"
      ],
      "image/png": "[encoded data removed]"
     },
     "metadata": {}
    },
    {
     "output_type": "stream",
     "name": "stdout",
     "text": [
      "-----------------------\n",
      "6799 images left\n",
      "Label: 9\n",
      "Iteration: 4721 -- Reached Defined Optimum -- Final Loss: 59.99680709838867\n",
      "Original Image\n"
     ]
    },
    {
     "output_type": "display_data",
     "data": {
      "text/plain": [
       "<PIL.Image.Image image mode=L size=128x128>"
      ],
      "image/png": "[encoded data removed]"
     },
     "metadata": {}
    },
    {
     "output_type": "stream",
     "name": "stdout",
     "text": [
      "Mapped and Reconstructed Image\n"
     ]
    },
    {
     "output_type": "display_data",
     "data": {
      "text/plain": [
       "<PIL.Image.Image image mode=L size=128x128>"
      ],
      "image/png": "[encoded data removed]"
     },
     "metadata": {}
    },
    {
     "output_type": "stream",
     "name": "stdout",
     "text": [
      "-----------------------\n",
      "6798 images left\n",
      "Label: 9\n",
      "Iteration: 5000 -- Current Loss: 74.12107849121094 -- Current Learning-Rate: 0.01\n",
      "Iteration: 10000 -- Current Loss: 68.37818145751953 -- Current Learning-Rate: 0.01\n",
      "Iteration: 15000 -- Current Loss: 65.99808502197266 -- Current Learning-Rate: 0.01\n",
      "Iteration: 19999 -- Current Loss: 64.41082763671875 -- Current Learning-Rate: 0.01\n",
      "Original Image\n"
     ]
    },
    {
     "output_type": "display_data",
     "data": {
      "text/plain": [
       "<PIL.Image.Image image mode=L size=128x128>"
      ],
      "image/png": "[encoded data removed]"
     },
     "metadata": {}
    },
    {
     "output_type": "stream",
     "name": "stdout",
     "text": [
      "Mapped and Reconstructed Image\n"
     ]
    },
    {
     "output_type": "display_data",
     "data": {
      "text/plain": [
       "<PIL.Image.Image image mode=L size=128x128>"
      ],
      "image/png": "[encoded data removed]"
     },
     "metadata": {}
    },
    {
     "output_type": "stream",
     "name": "stdout",
     "text": [
      "-----------------------\n",
      "6797 images left\n",
      "Label: 9\n",
      "Iteration: 3228 -- Reached Defined Optimum -- Final Loss: 59.99949645996094\n",
      "Original Image\n"
     ]
    },
    {
     "output_type": "display_data",
     "data": {
      "text/plain": [
       "<PIL.Image.Image image mode=L size=128x128>"
      ],
      "image/png": "[encoded data removed]"
     },
     "metadata": {}
    },
    {
     "output_type": "stream",
     "name": "stdout",
     "text": [
      "Mapped and Reconstructed Image\n"
     ]
    },
    {
     "output_type": "display_data",
     "data": {
      "text/plain": [
       "<PIL.Image.Image image mode=L size=128x128>"
      ],
      "image/png": "[encoded data removed]"
     },
     "metadata": {}
    },
    {
     "output_type": "stream",
     "name": "stdout",
     "text": [
      "-----------------------\n",
      "6796 images left\n",
      "Label: 9\n",
      "Iteration: 3989 -- Reached Defined Optimum -- Final Loss: 59.999794006347656\n",
      "Original Image\n"
     ]
    },
    {
     "output_type": "display_data",
     "data": {
      "text/plain": [
       "<PIL.Image.Image image mode=L size=128x128>"
      ],
      "image/png": "[encoded data removed]"
     },
     "metadata": {}
    },
    {
     "output_type": "stream",
     "name": "stdout",
     "text": [
      "Mapped and Reconstructed Image\n"
     ]
    },
    {
     "output_type": "display_data",
     "data": {
      "text/plain": [
       "<PIL.Image.Image image mode=L size=128x128>"
      ],
      "image/png": "[encoded data removed]"
     },
     "metadata": {}
    },
    {
     "output_type": "stream",
     "name": "stdout",
     "text": [
      "-----------------------\n",
      "6795 images left\n",
      "Label: 9\n",
      "Iteration: 546 -- Reached Defined Optimum -- Final Loss: 59.89910125732422\n",
      "Original Image\n"
     ]
    },
    {
     "output_type": "display_data",
     "data": {
      "text/plain": [
       "<PIL.Image.Image image mode=L size=128x128>"
      ],
      "image/png": "[encoded data removed]"
     },
     "metadata": {}
    },
    {
     "output_type": "stream",
     "name": "stdout",
     "text": [
      "Mapped and Reconstructed Image\n"
     ]
    },
    {
     "output_type": "display_data",
     "data": {
      "text/plain": [
       "<PIL.Image.Image image mode=L size=128x128>"
      ],
      "image/png": "[encoded data removed]"
     },
     "metadata": {}
    },
    {
     "output_type": "stream",
     "name": "stdout",
     "text": [
      "-----------------------\n",
      "6794 images left\n",
      "Label: 9\n",
      "Iteration: 452 -- Reached Defined Optimum -- Final Loss: 59.88998031616211\n",
      "Original Image\n"
     ]
    },
    {
     "output_type": "display_data",
     "data": {
      "text/plain": [
       "<PIL.Image.Image image mode=L size=128x128>"
      ],
      "image/png": "[encoded data removed]"
     },
     "metadata": {}
    },
    {
     "output_type": "stream",
     "name": "stdout",
     "text": [
      "Mapped and Reconstructed Image\n"
     ]
    },
    {
     "output_type": "display_data",
     "data": {
      "text/plain": [
       "<PIL.Image.Image image mode=L size=128x128>"
      ],
      "image/png": "[encoded data removed]"
     },
     "metadata": {}
    },
    {
     "output_type": "stream",
     "name": "stdout",
     "text": [
      "-----------------------\n",
      "6793 images left\n",
      "Label: 9\n",
      "Iteration: 803 -- Reached Defined Optimum -- Final Loss: 59.986793518066406\n",
      "Original Image\n"
     ]
    },
    {
     "output_type": "display_data",
     "data": {
      "text/plain": [
       "<PIL.Image.Image image mode=L size=128x128>"
      ],
      "image/png": "[encoded data removed]"
     },
     "metadata": {}
    },
    {
     "output_type": "stream",
     "name": "stdout",
     "text": [
      "Mapped and Reconstructed Image\n"
     ]
    },
    {
     "output_type": "display_data",
     "data": {
      "text/plain": [
       "<PIL.Image.Image image mode=L size=128x128>"
      ],
      "image/png": "[encoded data removed]"
     },
     "metadata": {}
    },
    {
     "output_type": "stream",
     "name": "stdout",
     "text": [
      "-----------------------\n",
      "6792 images left\n",
      "Label: 6\n",
      "Iteration: 376 -- Reached Defined Optimum -- Final Loss: 59.933677673339844\n",
      "Original Image\n"
     ]
    },
    {
     "output_type": "display_data",
     "data": {
      "text/plain": [
       "<PIL.Image.Image image mode=L size=128x128>"
      ],
      "image/png": "[encoded data removed]"
     },
     "metadata": {}
    },
    {
     "output_type": "stream",
     "name": "stdout",
     "text": [
      "Mapped and Reconstructed Image\n"
     ]
    },
    {
     "output_type": "display_data",
     "data": {
      "text/plain": [
       "<PIL.Image.Image image mode=L size=128x128>"
      ],
      "image/png": "[encoded data removed]"
     },
     "metadata": {}
    },
    {
     "output_type": "stream",
     "name": "stdout",
     "text": [
      "-----------------------\n",
      "6791 images left\n",
      "Label: 9\n",
      "Iteration: 523 -- Reached Defined Optimum -- Final Loss: 59.96478271484375\n",
      "Original Image\n"
     ]
    },
    {
     "output_type": "display_data",
     "data": {
      "text/plain": [
       "<PIL.Image.Image image mode=L size=128x128>"
      ],
      "image/png": "[encoded data removed]"
     },
     "metadata": {}
    },
    {
     "output_type": "stream",
     "name": "stdout",
     "text": [
      "Mapped and Reconstructed Image\n"
     ]
    },
    {
     "output_type": "display_data",
     "data": {
      "text/plain": [
       "<PIL.Image.Image image mode=L size=128x128>"
      ],
      "image/png": "[encoded data removed]"
     },
     "metadata": {}
    },
    {
     "output_type": "stream",
     "name": "stdout",
     "text": [
      "-----------------------\n",
      "6790 images left\n",
      "Label: 9\n",
      "Iteration: 5000 -- Current Loss: 69.83541107177734 -- Current Learning-Rate: 0.01\n"
     ]
    }
   ]
  },
  {
   "cell_type": "code",
   "source": [],
   "metadata": {
    "id": "eGh-cBlap_9X"
   },
   "execution_count": null,
   "outputs": []
  }
 ],
 "metadata": {
  "kernelspec": {
   "display_name": "Python 3",
   "name": "python3"
  },
  "language_info": {
   "codemirror_mode": {
    "name": "ipython",
    "version": 2
   },
   "file_extension": ".py",
   "mimetype": "text/x-python",
   "name": "python",
   "nbconvert_exporter": "python",
   "pygments_lexer": "ipython2",
   "version": "2.7.6"
  },
  "colab": {
   "provenance": [],
   "machine_shape": "hm",
   "gpuType": "V100"
  },
  "accelerator": "GPU"
 },
 "nbformat": 4,
 "nbformat_minor": 0
}
