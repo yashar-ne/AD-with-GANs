{
  "cells": [
    {
      "cell_type": "code",
      "source": [
        "from google.colab import drive\n",
        "drive.mount('/content/drive', force_remount=True)"
      ],
      "metadata": {
        "id": "9rCsmPpNzrBo",
        "outputId": "bd5f7f16-6ab8-4340-9f54-e2d1ac93caac",
        "colab": {
          "base_uri": "https://localhost:8080/"
        }
      },
      "execution_count": 1,
      "outputs": [
        {
          "output_type": "stream",
          "name": "stdout",
          "text": [
            "Mounted at /content/drive\n"
          ]
        }
      ]
    },
    {
      "cell_type": "code",
      "execution_count": 2,
      "metadata": {
        "collapsed": true,
        "ExecuteTime": {
          "end_time": "2023-06-19T13:16:49.352615778Z",
          "start_time": "2023-06-19T13:16:49.272631925Z"
        },
        "id": "uKhESdEpzmea"
      },
      "outputs": [],
      "source": [
        "import torch\n",
        "import torch.nn as nn\n",
        "import torch.optim.lr_scheduler as lr_scheduler\n",
        "from PIL import Image\n",
        "from torchvision import transforms, datasets\n",
        "import os\n",
        "import shutil\n",
        "import random\n",
        "import csv\n",
        "import zipfile\n",
        "import PIL\n",
        "import math\n",
        "from IPython.display import clear_output"
      ]
    },
    {
      "cell_type": "code",
      "execution_count": 3,
      "outputs": [],
      "source": [
        "class Generator(nn.Module):\n",
        "    def __init__(self, size_z, num_feature_maps, num_color_channels):\n",
        "        super(Generator, self).__init__()\n",
        "        self.size_z = size_z\n",
        "        self.network = nn.Sequential(\n",
        "            nn.ConvTranspose2d(self.size_z, num_feature_maps * 4, 4, 1, 0, bias=False),\n",
        "            nn.BatchNorm2d(num_feature_maps * 4),\n",
        "            nn.ReLU(True),\n",
        "\n",
        "            nn.ConvTranspose2d(num_feature_maps * 4, num_feature_maps * 2, 3, 2, 1, bias=False),\n",
        "            nn.BatchNorm2d(num_feature_maps * 2),\n",
        "            nn.ReLU(True),\n",
        "\n",
        "            nn.ConvTranspose2d(num_feature_maps * 2, num_feature_maps, 4, 2, 1, bias=False),\n",
        "            nn.BatchNorm2d(num_feature_maps),\n",
        "            nn.ReLU(True),\n",
        "\n",
        "            nn.ConvTranspose2d(num_feature_maps, num_color_channels, 4, 2, 1, bias=False),\n",
        "            nn.Tanh()\n",
        "        )\n",
        "\n",
        "    def forward(self, x):\n",
        "        output = self.network(x)\n",
        "        return output\n",
        "\n",
        "    def gen_shifted(self, x, shift):\n",
        "        shift = torch.unsqueeze(shift, -1)\n",
        "        shift = torch.unsqueeze(shift, -1)\n",
        "        return self.forward(x + shift)"
      ],
      "metadata": {
        "ExecuteTime": {
          "end_time": "2023-06-19T13:16:50.491940517Z",
          "start_time": "2023-06-19T13:16:50.476819472Z"
        },
        "id": "AZKotCEvzmee"
      }
    },
    {
      "cell_type": "code",
      "execution_count": 4,
      "outputs": [],
      "source": [
        "class Discriminator(nn.Module):\n",
        "    def __init__(self, num_feature_maps, num_color_channels):\n",
        "        super(Discriminator, self).__init__()\n",
        "        self.layer1 = nn.Sequential(\n",
        "            nn.Conv2d(num_color_channels, num_feature_maps, 4, 2, 1, bias=False),\n",
        "            nn.LeakyReLU(0.2, inplace=True),\n",
        "        )\n",
        "        self.layer2 = nn.Sequential(\n",
        "            nn.Conv2d(num_feature_maps, num_feature_maps * 2, 4, 2, 1, bias=False),\n",
        "            nn.BatchNorm2d(num_feature_maps * 2),\n",
        "            nn.LeakyReLU(0.2, inplace=True),\n",
        "        )\n",
        "        self.layer3 = nn.Sequential(\n",
        "            nn.Conv2d(num_feature_maps * 2, num_feature_maps * 4, 3, 2, 1, bias=False),\n",
        "            nn.BatchNorm2d(num_feature_maps * 4),\n",
        "            nn.LeakyReLU(0.2, inplace=True),\n",
        "        )\n",
        "        self.fc = nn.Sequential(\n",
        "            nn.Conv2d(num_feature_maps * 4, 1, 4, 1, 0, bias=False),\n",
        "            nn.Sigmoid()\n",
        "        )\n",
        "\n",
        "    def forward(self, x):\n",
        "        out = self.layer1(x)\n",
        "        out = self.layer2(out)\n",
        "        out = self.layer3(out)\n",
        "        feature = out\n",
        "        out = self.fc(out)\n",
        "        return out.view(-1, 1).squeeze(1), feature"
      ],
      "metadata": {
        "ExecuteTime": {
          "end_time": "2023-06-19T13:16:51.402689357Z",
          "start_time": "2023-06-19T13:16:51.383963387Z"
        },
        "id": "9jo7Zrbczmeh"
      }
    },
    {
      "cell_type": "code",
      "execution_count": 5,
      "outputs": [],
      "source": [
        "class LatentSpaceMapper:\n",
        "    def __init__(self, generator: Generator, discriminator: Discriminator, device):\n",
        "        self.generator: Generator = generator\n",
        "        self.generator.to(device)\n",
        "        self.discriminator: Discriminator = discriminator\n",
        "        self.discriminator.to(device)\n",
        "        self.device = device\n",
        "\n",
        "    def map_image_to_point_in_latent_space(self, image: torch.Tensor, batch_size=1, size_z=100, max_opt_iterations=30000, opt_threshold=140.0, plateu_threshold=3.0, check_every_n_iter=4000, learning_rate=0.4, print_every_n_iters=10000, ignore_rules_below_threshold=50, retry_after_n_iters=10000, immediate_retry_threshold=200):\n",
        "        image.to(self.device)\n",
        "        z = torch.randn(batch_size, size_z, 1, 1, device=self.device, requires_grad=True)\n",
        "        z_optimizer = torch.optim.Adam([z], lr=learning_rate)\n",
        "        losses = []\n",
        "        final_loss = 0\n",
        "        latest_checkpoint_loss = 0\n",
        "\n",
        "        # scheduler = lr_scheduler.LinearLR(z_optimizer, start_factor=0.4, end_factor=0.001, total_iters=max_opt_iterations-(math.floor(max_opt_iterations*0.2)))\n",
        "        # scheduler = lr_scheduler.StepLR(z_optimizer, step_size=max_opt_iterations, gamma=0.9)\n",
        "        # scheduler = torch.optim.lr_scheduler.CyclicLR(z_optimizer, base_lr=0.01, max_lr=0.4, cycle_momentum=False)\n",
        "        for i in range(max_opt_iterations):\n",
        "            retry = False\n",
        "            loss = self.__get_anomaly_score(z, image.unsqueeze(0).to(self.device))\n",
        "            loss.backward()\n",
        "            z_optimizer.step()\n",
        "            final_loss = loss.data.item()\n",
        "\n",
        "            if i == 1:\n",
        "                latest_checkpoint_loss = loss.data.item()\n",
        "\n",
        "            if loss.data.item() < opt_threshold*batch_size:\n",
        "                print(f\"Iteration: {i} -- Reached Defined Optimum -- Final Loss: {loss.data.item()}\")\n",
        "                break\n",
        "\n",
        "            if (i % print_every_n_iters == 0 and i != 0) or (i == max_opt_iterations-1):\n",
        "                print(f\"Iteration: {i} -- Current Loss: {loss.data.item()} -- Current Learning-Rate: {z_optimizer.param_groups[0]['lr']}\")\n",
        "                losses.append(loss.data.item())\n",
        "\n",
        "            if i % check_every_n_iter == 0 and i != 0:\n",
        "                if abs(loss.data.item()-latest_checkpoint_loss) < plateu_threshold:\n",
        "                    print(f\"Reached Plateu at Iteration {i} -- Loss: {loss.data.item()}\")\n",
        "                    retry = True\n",
        "                    break\n",
        "                if loss.data.item() > immediate_retry_threshold:\n",
        "                    print(f\"Loss at Iteration {i} too high -- Loss: {loss.data.item()}\")\n",
        "                    retry = True\n",
        "                    break\n",
        "                latest_checkpoint_loss = loss.data.item()\n",
        "\n",
        "            if i == retry_after_n_iters and loss.data.item() > ignore_rules_below_threshold:\n",
        "                retry = True\n",
        "                break\n",
        "\n",
        "            #scheduler.step()\n",
        "\n",
        "        return z, final_loss, retry\n",
        "\n",
        "    def __get_anomaly_score(self, z, x_query):\n",
        "        lamda = 0.1\n",
        "        g_z = self.generator(z.to(self.device))\n",
        "        loss_r = torch.sum(torch.abs(x_query - g_z))\n",
        "\n",
        "        return loss_r\n",
        "\n",
        "        #_, x_prop = self.discriminator(x_query)\n",
        "        #_, g_z_prop = self.discriminator(g_z)\n",
        "        #loss_d = torch.sum(torch.abs(x_prop - g_z_prop))\n",
        "        #return (1 - lamda) * loss_r + lamda * loss_d\n"
      ],
      "metadata": {
        "ExecuteTime": {
          "end_time": "2023-06-19T13:16:52.168904698Z",
          "start_time": "2023-06-19T13:16:52.152945768Z"
        },
        "id": "bDlGQeeozmej"
      }
    },
    {
      "cell_type": "code",
      "execution_count": 6,
      "outputs": [],
      "source": [
        "import os\n",
        "import pandas as pd\n",
        "from PIL import Image\n",
        "from torch.utils.data import Dataset\n",
        "\n",
        "\n",
        "class AnoMNIST(Dataset):\n",
        "    def __init__(self, root_dir, transform=None):\n",
        "        root_dir = os.path.join(root_dir, \"AnoMNIST\")\n",
        "        assert os.path.exists(os.path.join(root_dir, \"anomnist_dataset.csv\")), \"Invalid root directory\"\n",
        "        self.root_dir = root_dir\n",
        "        self.transform = transform\n",
        "        self.label = pd.read_csv(os.path.join(root_dir, \"anomnist_dataset.csv\"))\n",
        "\n",
        "    def __len__(self):\n",
        "        return len(self.label)\n",
        "\n",
        "    def __getitem__(self, idx):\n",
        "        img_name = os.path.join(self.root_dir, self.label.iloc[idx, 0])\n",
        "        image_label = {\"label\": self.label.iloc[idx, 1], \"anomaly\": self.label.iloc[idx, 2]}\n",
        "        image = Image.open(img_name)\n",
        "\n",
        "        if self.transform:\n",
        "            image = self.transform(image)\n",
        "\n",
        "        return image, image_label\n",
        "\n",
        "\n",
        "class AnomalyExtendedMNIST(datasets.MNIST):\n",
        "    def __getitem__(self, idx):\n",
        "        return super(AnomalyExtendedMNIST, self).__getitem__(idx)[0], {\"label\": super(AnomalyExtendedMNIST, self).__getitem__(idx)[1], \"anomaly\": False}\n"
      ],
      "metadata": {
        "ExecuteTime": {
          "end_time": "2023-06-19T13:16:54.041217345Z",
          "start_time": "2023-06-19T13:16:54.019769104Z"
        },
        "id": "0Nx2n4Iizmel"
      }
    },
    {
      "cell_type": "code",
      "execution_count": 7,
      "outputs": [],
      "source": [
        "def generate_augmented_mnist_images(base_folder, num, max_augmentation_thickness=5,\n",
        "                                    randomize_augmentation_thickness=False, labels=[]):\n",
        "    assert max_augmentation_thickness <= 7, \"max_augmentation_thickness must be smaller than 7\"\n",
        "    os.makedirs(base_folder, exist_ok=True)\n",
        "\n",
        "    dataset = datasets.MNIST(\n",
        "        root=base_folder,\n",
        "        train=True,\n",
        "        download=True,\n",
        "    )\n",
        "\n",
        "    if len(labels) > 0:\n",
        "        dataset = [d for d in dataset if (d[1] in labels)]\n",
        "    else:\n",
        "        dataset = dataset.data\n",
        "\n",
        "    ano_mnist_drop_folder = os.path.join(base_folder, \"AnoMNIST\")\n",
        "    csv_path = os.path.join(ano_mnist_drop_folder, \"anomnist_dataset.csv\")\n",
        "\n",
        "    os.makedirs(base_folder, exist_ok=True)\n",
        "    os.makedirs(ano_mnist_drop_folder, exist_ok=True)\n",
        "\n",
        "    augmentation_thickness: int = random.randint(1, max_augmentation_thickness)\n",
        "    for i in range(num):\n",
        "        random_idx = random.randint(0, len(dataset) - 1)\n",
        "        img, label = dataset[random_idx]\n",
        "\n",
        "        augmentation_thickness = random.randint(3,\n",
        "                                                max_augmentation_thickness) if randomize_augmentation_thickness else augmentation_thickness\n",
        "        random_idx = random.randint(4, 20)\n",
        "        for j in range(img.size[0]):\n",
        "            for k in range(augmentation_thickness):\n",
        "                img.putpixel((j, random_idx + k + 1), 0)\n",
        "\n",
        "        img.save(os.path.join(ano_mnist_drop_folder, f\"img_aug_{label}_{i}.png\"))\n",
        "        with open(csv_path, 'a', newline='') as file:\n",
        "            writer = csv.writer(file)\n",
        "            fields = [f'img_aug_{label}_{i}.png', f\"{label}\", \"True\"]\n",
        "            writer.writerow(fields)\n",
        "\n",
        "\n",
        "def generate_anomalous_image_files(base_folder, num, labels=[], copy_zip_to=''):\n",
        "    if os.path.exists(base_folder):\n",
        "        shutil.rmtree(base_folder)\n",
        "\n",
        "    ano_mnist_drop_folder = os.path.join(base_folder, \"AnoMNIST\")\n",
        "    csv_path = os.path.join(ano_mnist_drop_folder, \"anomnist_dataset.csv\")\n",
        "\n",
        "    os.makedirs(base_folder, exist_ok=True)\n",
        "    os.makedirs(ano_mnist_drop_folder, exist_ok=True)\n",
        "\n",
        "    with open(csv_path, 'a', newline='') as file:\n",
        "        writer = csv.writer(file)\n",
        "        fields = [\"filename\", \"label\", \"anomaly\"]\n",
        "        writer.writerow(fields)\n",
        "\n",
        "    generate_augmented_mnist_images(base_folder, num=num, labels=labels)\n",
        "    if copy_zip_to:\n",
        "      shutil.make_archive(os.path.join(copy_zip_to, \"AnoMNIST\"), 'zip', ano_mnist_drop_folder)\n",
        "\n",
        "def get_ano_mnist_dataset(transform, root_dir, labels=[9], train_size=0.9):\n",
        "    ano_mnist_dataset = AnoMNIST(\n",
        "        root_dir=root_dir,\n",
        "        transform=transform\n",
        "    )\n",
        "\n",
        "    mnist_dataset = AnomalyExtendedMNIST(\n",
        "        root=root_dir,\n",
        "        train=True,\n",
        "        transform=transform,\n",
        "        download=True,\n",
        "    )\n",
        "\n",
        "    dat = torch.utils.data.ConcatDataset([ano_mnist_dataset, mnist_dataset])\n",
        "\n",
        "    if len(labels) > 0:\n",
        "        dat = [d for d in dat if (d[1]['label'] in labels)]\n",
        "\n",
        "    absolute_train_size = int(len(dat) * train_size)\n",
        "    absolute_test_size = len(dat) - absolute_train_size\n",
        "    return torch.utils.data.random_split(dat, [absolute_train_size, absolute_test_size])"
      ],
      "metadata": {
        "ExecuteTime": {
          "end_time": "2023-06-19T13:16:55.267129710Z",
          "start_time": "2023-06-19T13:16:55.250785327Z"
        },
        "id": "dvoHrYngzmeo"
      }
    },
    {
      "cell_type": "code",
      "source": [
        "def load_ano_mnist_from_drive(drop_folder):\n",
        "  with zipfile.ZipFile('/content/drive/MyDrive/Colab/data/AnoMNIST.zip', 'r') as zip_ref:\n",
        "    zip_ref.extractall(drop_folder)"
      ],
      "metadata": {
        "id": "CovsspsjqzjN"
      },
      "execution_count": 8,
      "outputs": []
    },
    {
      "cell_type": "code",
      "execution_count": 9,
      "outputs": [
        {
          "output_type": "execute_result",
          "data": {
            "text/plain": [
              "device(type='cuda')"
            ]
          },
          "metadata": {},
          "execution_count": 9
        }
      ],
      "source": [
        "device = torch.device('cuda' if torch.cuda.is_available() else 'cpu')\n",
        "num_color_channels = 1\n",
        "num_feature_maps_g = 64\n",
        "num_feature_maps_d = 64\n",
        "size_z = 100\n",
        "\n",
        "device"
      ],
      "metadata": {
        "ExecuteTime": {
          "end_time": "2023-06-19T13:16:56.718929255Z",
          "start_time": "2023-06-19T13:16:56.701170727Z"
        },
        "id": "sy0CAfU_zmep",
        "outputId": "deaf432a-c774-4efe-cd71-bd2267013394",
        "colab": {
          "base_uri": "https://localhost:8080/"
        }
      }
    },
    {
      "cell_type": "code",
      "execution_count": 10,
      "outputs": [
        {
          "output_type": "execute_result",
          "data": {
            "text/plain": [
              "<All keys matched successfully>"
            ]
          },
          "metadata": {},
          "execution_count": 10
        }
      ],
      "source": [
        "generator = Generator(size_z=size_z,\n",
        "                      num_feature_maps=num_feature_maps_g,\n",
        "                      num_color_channels=num_color_channels).to(device)\n",
        "discriminator = Discriminator(num_feature_maps=num_feature_maps_d,\n",
        "                              num_color_channels=num_color_channels).to(device)\n",
        "\n",
        "generator.load_state_dict(torch.load(\"/content/drive/MyDrive/Colab/saved_models/generator.pkl\", map_location=torch.device(device)))\n",
        "discriminator.load_state_dict(torch.load('/content/drive/MyDrive/Colab/saved_models/discriminator.pkl', map_location=torch.device(device)))"
      ],
      "metadata": {
        "ExecuteTime": {
          "end_time": "2023-06-19T13:16:58.039609982Z",
          "start_time": "2023-06-19T13:16:57.998343596Z"
        },
        "id": "IJj0sB2Izmeq",
        "outputId": "f93d0f38-f5bc-4c3a-aa9c-7b2ef0088cd7",
        "colab": {
          "base_uri": "https://localhost:8080/"
        }
      }
    },
    {
      "cell_type": "code",
      "execution_count": 11,
      "outputs": [
        {
          "output_type": "stream",
          "name": "stdout",
          "text": [
            "Downloading http://yann.lecun.com/exdb/mnist/train-images-idx3-ubyte.gz\n",
            "Downloading http://yann.lecun.com/exdb/mnist/train-images-idx3-ubyte.gz to /content/data/AnomalyExtendedMNIST/raw/train-images-idx3-ubyte.gz\n"
          ]
        },
        {
          "output_type": "stream",
          "name": "stderr",
          "text": [
            "100%|██████████| 9912422/9912422 [00:00<00:00, 138383664.00it/s]"
          ]
        },
        {
          "output_type": "stream",
          "name": "stdout",
          "text": [
            "Extracting /content/data/AnomalyExtendedMNIST/raw/train-images-idx3-ubyte.gz to /content/data/AnomalyExtendedMNIST/raw\n"
          ]
        },
        {
          "output_type": "stream",
          "name": "stderr",
          "text": [
            "\n"
          ]
        },
        {
          "output_type": "stream",
          "name": "stdout",
          "text": [
            "\n",
            "Downloading http://yann.lecun.com/exdb/mnist/train-labels-idx1-ubyte.gz\n",
            "Downloading http://yann.lecun.com/exdb/mnist/train-labels-idx1-ubyte.gz to /content/data/AnomalyExtendedMNIST/raw/train-labels-idx1-ubyte.gz\n"
          ]
        },
        {
          "output_type": "stream",
          "name": "stderr",
          "text": [
            "100%|██████████| 28881/28881 [00:00<00:00, 23498679.69it/s]\n"
          ]
        },
        {
          "output_type": "stream",
          "name": "stdout",
          "text": [
            "Extracting /content/data/AnomalyExtendedMNIST/raw/train-labels-idx1-ubyte.gz to /content/data/AnomalyExtendedMNIST/raw\n",
            "\n",
            "Downloading http://yann.lecun.com/exdb/mnist/t10k-images-idx3-ubyte.gz\n",
            "Downloading http://yann.lecun.com/exdb/mnist/t10k-images-idx3-ubyte.gz to /content/data/AnomalyExtendedMNIST/raw/t10k-images-idx3-ubyte.gz\n"
          ]
        },
        {
          "output_type": "stream",
          "name": "stderr",
          "text": [
            "100%|██████████| 1648877/1648877 [00:00<00:00, 70306312.99it/s]"
          ]
        },
        {
          "output_type": "stream",
          "name": "stdout",
          "text": [
            "Extracting /content/data/AnomalyExtendedMNIST/raw/t10k-images-idx3-ubyte.gz to /content/data/AnomalyExtendedMNIST/raw\n",
            "\n",
            "Downloading http://yann.lecun.com/exdb/mnist/t10k-labels-idx1-ubyte.gz\n"
          ]
        },
        {
          "output_type": "stream",
          "name": "stderr",
          "text": [
            "\n"
          ]
        },
        {
          "output_type": "stream",
          "name": "stdout",
          "text": [
            "Downloading http://yann.lecun.com/exdb/mnist/t10k-labels-idx1-ubyte.gz to /content/data/AnomalyExtendedMNIST/raw/t10k-labels-idx1-ubyte.gz\n"
          ]
        },
        {
          "output_type": "stream",
          "name": "stderr",
          "text": [
            "100%|██████████| 4542/4542 [00:00<00:00, 3124574.18it/s]\n"
          ]
        },
        {
          "output_type": "stream",
          "name": "stdout",
          "text": [
            "Extracting /content/data/AnomalyExtendedMNIST/raw/t10k-labels-idx1-ubyte.gz to /content/data/AnomalyExtendedMNIST/raw\n",
            "\n"
          ]
        }
      ],
      "source": [
        "transform = transforms.Compose([\n",
        "    transforms.ToTensor(),\n",
        "    transforms.Normalize(mean=(.5,), std=(.5,))\n",
        "])\n",
        "\n",
        "# generate_anomalous_image_files(base_folder='/content/data', num=2000, labels=[9]) # number of normals is: 5949\n",
        "load_ano_mnist_from_drive(drop_folder='/content/data')\n",
        "ano_mnist_dataset, _ = get_ano_mnist_dataset(transform=transform, root_dir='/content/data', labels=[9])"
      ],
      "metadata": {
        "ExecuteTime": {
          "end_time": "2023-06-19T13:17:07.612568050Z",
          "start_time": "2023-06-19T13:16:59.840564543Z"
        },
        "id": "BRc3Fm41zmes",
        "colab": {
          "base_uri": "https://localhost:8080/"
        },
        "outputId": "1e7a748e-3375-42e9-a08f-fa6cd1fd0e6d"
      }
    },
    {
      "cell_type": "code",
      "execution_count": null,
      "outputs": [
        {
          "output_type": "stream",
          "name": "stdout",
          "text": [
            "Cleared Output...\n",
            "6954 images left\n",
            "Iteration: 721 -- Reached Defined Optimum -- Final Loss: 54.99495315551758\n",
            "Original Image\n"
          ]
        },
        {
          "output_type": "display_data",
          "data": {
            "text/plain": [
              "<PIL.Image.Image image mode=L size=128x128 at 0x7ABF56BC68C0>"
            ],
            "image/png": "[encoded data removed]"
          },
          "metadata": {}
        },
        {
          "output_type": "stream",
          "name": "stdout",
          "text": [
            "Mapped and Reconstructed Image\n"
          ]
        },
        {
          "output_type": "display_data",
          "data": {
            "text/plain": [
              "<PIL.Image.Image image mode=L size=128x128 at 0x7ABF56BC67D0>"
            ],
            "image/png": "[encoded data removed]"
          },
          "metadata": {}
        },
        {
          "output_type": "stream",
          "name": "stdout",
          "text": [
            "-----------------------\n",
            "6953 images left\n",
            "Iteration: 42 -- Reached Defined Optimum -- Final Loss: 53.605709075927734\n",
            "Original Image\n"
          ]
        },
        {
          "output_type": "display_data",
          "data": {
            "text/plain": [
              "<PIL.Image.Image image mode=L size=128x128 at 0x7ABE90AD4F70>"
            ],
            "image/png": "[encoded data removed]"
          },
          "metadata": {}
        },
        {
          "output_type": "stream",
          "name": "stdout",
          "text": [
            "Mapped and Reconstructed Image\n"
          ]
        },
        {
          "output_type": "display_data",
          "data": {
            "text/plain": [
              "<PIL.Image.Image image mode=L size=128x128 at 0x7ABE75A3C790>"
            ],
            "image/png": "[encoded data removed]"
          },
          "metadata": {}
        },
        {
          "output_type": "stream",
          "name": "stdout",
          "text": [
            "-----------------------\n",
            "6952 images left\n",
            "Iteration: 4576 -- Reached Defined Optimum -- Final Loss: 39.99968719482422\n",
            "Original Image\n"
          ]
        },
        {
          "output_type": "display_data",
          "data": {
            "text/plain": [
              "<PIL.Image.Image image mode=L size=128x128 at 0x7ABE75A3F580>"
            ],
            "image/png": "[encoded data removed]"
          },
          "metadata": {}
        },
        {
          "output_type": "stream",
          "name": "stdout",
          "text": [
            "Mapped and Reconstructed Image\n"
          ]
        },
        {
          "output_type": "display_data",
          "data": {
            "text/plain": [
              "<PIL.Image.Image image mode=L size=128x128 at 0x7ABF56BC66E0>"
            ],
            "image/png": "[encoded data removed]"
          },
          "metadata": {}
        },
        {
          "output_type": "stream",
          "name": "stdout",
          "text": [
            "-----------------------\n",
            "6951 images left\n",
            "Iteration: 267 -- Reached Defined Optimum -- Final Loss: 54.990909576416016\n",
            "Original Image\n"
          ]
        },
        {
          "output_type": "display_data",
          "data": {
            "text/plain": [
              "<PIL.Image.Image image mode=L size=128x128 at 0x7ABE90A1AFB0>"
            ],
            "image/png": "[encoded data removed]"
          },
          "metadata": {}
        },
        {
          "output_type": "stream",
          "name": "stdout",
          "text": [
            "Mapped and Reconstructed Image\n"
          ]
        },
        {
          "output_type": "display_data",
          "data": {
            "text/plain": [
              "<PIL.Image.Image image mode=L size=128x128 at 0x7ABF578F4400>"
            ],
            "image/png": "[encoded data removed]"
          },
          "metadata": {}
        },
        {
          "output_type": "stream",
          "name": "stdout",
          "text": [
            "-----------------------\n",
            "6950 images left\n",
            "Iteration: 107 -- Reached Defined Optimum -- Final Loss: 54.85802459716797\n",
            "Original Image\n"
          ]
        },
        {
          "output_type": "display_data",
          "data": {
            "text/plain": [
              "<PIL.Image.Image image mode=L size=128x128 at 0x7ABF57A6BE80>"
            ],
            "image/png": "[encoded data removed]"
          },
          "metadata": {}
        },
        {
          "output_type": "stream",
          "name": "stdout",
          "text": [
            "Mapped and Reconstructed Image\n"
          ]
        },
        {
          "output_type": "display_data",
          "data": {
            "text/plain": [
              "<PIL.Image.Image image mode=L size=128x128 at 0x7ABF57A6BAC0>"
            ],
            "image/png": "[encoded data removed]"
          },
          "metadata": {}
        },
        {
          "output_type": "stream",
          "name": "stdout",
          "text": [
            "-----------------------\n",
            "6949 images left\n",
            "Iteration: 124 -- Reached Defined Optimum -- Final Loss: 54.648780822753906\n",
            "Original Image\n"
          ]
        },
        {
          "output_type": "display_data",
          "data": {
            "text/plain": [
              "<PIL.Image.Image image mode=L size=128x128 at 0x7ABE90AD4F70>"
            ],
            "image/png": "[encoded data removed]"
          },
          "metadata": {}
        },
        {
          "output_type": "stream",
          "name": "stdout",
          "text": [
            "Mapped and Reconstructed Image\n"
          ]
        },
        {
          "output_type": "display_data",
          "data": {
            "text/plain": [
              "<PIL.Image.Image image mode=L size=128x128 at 0x7ABE90AD4F70>"
            ],
            "image/png": "[encoded data removed]"
          },
          "metadata": {}
        },
        {
          "output_type": "stream",
          "name": "stdout",
          "text": [
            "-----------------------\n",
            "6948 images left\n",
            "Iteration: 107 -- Reached Defined Optimum -- Final Loss: 54.69684600830078\n",
            "Original Image\n"
          ]
        },
        {
          "output_type": "display_data",
          "data": {
            "text/plain": [
              "<PIL.Image.Image image mode=L size=128x128 at 0x7ABE75A3C790>"
            ],
            "image/png": "[encoded data removed]"
          },
          "metadata": {}
        },
        {
          "output_type": "stream",
          "name": "stdout",
          "text": [
            "Mapped and Reconstructed Image\n"
          ]
        },
        {
          "output_type": "display_data",
          "data": {
            "text/plain": [
              "<PIL.Image.Image image mode=L size=128x128 at 0x7ABE75A3C790>"
            ],
            "image/png": "[encoded data removed]"
          },
          "metadata": {}
        },
        {
          "output_type": "stream",
          "name": "stdout",
          "text": [
            "-----------------------\n",
            "6947 images left\n",
            "Loss at Iteration 3000 too high -- Loss: 70.910888671875\n",
            "Could not find optimal region within the defined iteration count. Retry (1) with another random z...\n",
            "6947 images left\n",
            "Loss at Iteration 3000 too high -- Loss: 69.05314636230469\n",
            "Could not find optimal region within the defined iteration count. Retry (2) with another random z...\n",
            "6947 images left\n",
            "Loss at Iteration 3000 too high -- Loss: 67.50787353515625\n",
            "Could not find optimal region within the defined iteration count. Retry (3) with another random z...\n",
            "6947 images left\n",
            "Loss at Iteration 3000 too high -- Loss: 65.92596435546875\n",
            "Could not find optimal region within the defined iteration count. Retry (4) with another random z...\n",
            "6947 images left\n",
            "Loss at Iteration 3000 too high -- Loss: 81.40580749511719\n",
            "Could not find optimal region within the defined iteration count. Retry (5) with another random z...\n",
            "6947 images left\n",
            "Loss at Iteration 3000 too high -- Loss: 66.76104736328125\n",
            "Could not find optimal region within the defined iteration count. Retry (6) with another random z...\n",
            "6947 images left\n",
            "Loss at Iteration 3000 too high -- Loss: 78.52915954589844\n",
            "Could not find optimal region within the defined iteration count. Retry (7) with another random z...\n",
            "6947 images left\n",
            "Loss at Iteration 3000 too high -- Loss: 71.04869842529297\n",
            "Could not find optimal region within the defined iteration count. Retry (8) with another random z...\n",
            "6947 images left\n",
            "Loss at Iteration 3000 too high -- Loss: 79.20391845703125\n",
            "Could not find optimal region within the defined iteration count. Retry (9) with another random z...\n",
            "6947 images left\n",
            "Loss at Iteration 3000 too high -- Loss: 64.32610321044922\n",
            "Could not find optimal region within the defined iteration count. Retry (10) with another random z...\n",
            "6947 images left\n",
            "Loss at Iteration 3000 too high -- Loss: 75.47508239746094\n",
            "Could not find optimal region within the defined iteration count. Retry (11) with another random z...\n",
            "6947 images left\n",
            "Loss at Iteration 3000 too high -- Loss: 77.13973999023438\n",
            "Could not find optimal region within the defined iteration count. Retry (12) with another random z...\n",
            "6947 images left\n",
            "Loss at Iteration 3000 too high -- Loss: 67.1610107421875\n",
            "Could not find optimal region within the defined iteration count. Retry (13) with another random z...\n",
            "6947 images left\n",
            "Loss at Iteration 3000 too high -- Loss: 73.82864379882812\n",
            "Could not find optimal region within the defined iteration count. Retry (14) with another random z...\n",
            "6947 images left\n",
            "Loss at Iteration 3000 too high -- Loss: 63.2459716796875\n",
            "Could not find optimal region within the defined iteration count. Retry (15) with another random z...\n",
            "6947 images left\n",
            "Loss at Iteration 3000 too high -- Loss: 64.82376861572266\n",
            "Could not find optimal region within the defined iteration count. Retry (16) with another random z...\n",
            "6947 images left\n",
            "Loss at Iteration 3000 too high -- Loss: 66.68673706054688\n",
            "Could not find optimal region within the defined iteration count. Retry (17) with another random z...\n",
            "6947 images left\n",
            "Loss at Iteration 3000 too high -- Loss: 70.27740478515625\n",
            "Could not find optimal region within the defined iteration count. Retry (18) with another random z...\n",
            "6947 images left\n",
            "Loss at Iteration 3000 too high -- Loss: 71.3739013671875\n",
            "Could not find optimal region within the defined iteration count. Retry (19) with another random z...\n",
            "6947 images left\n",
            "Loss at Iteration 3000 too high -- Loss: 75.36766052246094\n",
            "Could not find optimal region within the defined iteration count. Retry (20) with another random z...\n",
            "6947 images left\n",
            "Iteration: 5000 -- Current Loss: 56.428016662597656 -- Current Learning-Rate: 0.1\n",
            "Iteration: 10000 -- Current Loss: 54.34376907348633 -- Current Learning-Rate: 0.1\n",
            "Retry Limit reached. Moving on to next sample\n",
            "Original Image That Could Not Be Mapped\n"
          ]
        },
        {
          "output_type": "display_data",
          "data": {
            "text/plain": [
              "<PIL.Image.Image image mode=L size=128x128 at 0x7ABF578F4400>"
            ],
            "image/png": "[encoded data removed]"
          },
          "metadata": {}
        },
        {
          "output_type": "stream",
          "name": "stdout",
          "text": [
            "-----------------------\n",
            "6946 images left\n",
            "Iteration: 5000 -- Current Loss: 46.0934944152832 -- Current Learning-Rate: 0.1\n",
            "Iteration: 10000 -- Current Loss: 45.44816589355469 -- Current Learning-Rate: 0.1\n",
            "Iteration: 15000 -- Current Loss: 45.11738967895508 -- Current Learning-Rate: 0.1\n",
            "Iteration: 20000 -- Current Loss: 44.76116943359375 -- Current Learning-Rate: 0.1\n",
            "Iteration: 25000 -- Current Loss: 44.39427185058594 -- Current Learning-Rate: 0.1\n",
            "Iteration: 29999 -- Current Loss: 44.17369079589844 -- Current Learning-Rate: 0.1\n",
            "Original Image\n"
          ]
        },
        {
          "output_type": "display_data",
          "data": {
            "text/plain": [
              "<PIL.Image.Image image mode=L size=128x128 at 0x7ABF56BC67D0>"
            ],
            "image/png": "[encoded data removed]"
          },
          "metadata": {}
        },
        {
          "output_type": "stream",
          "name": "stdout",
          "text": [
            "Mapped and Reconstructed Image\n"
          ]
        },
        {
          "output_type": "display_data",
          "data": {
            "text/plain": [
              "<PIL.Image.Image image mode=L size=128x128 at 0x7ABE75A3F5E0>"
            ],
            "image/png": "[encoded data removed]"
          },
          "metadata": {}
        },
        {
          "output_type": "stream",
          "name": "stdout",
          "text": [
            "-----------------------\n",
            "6945 images left\n",
            "Iteration: 343 -- Reached Defined Optimum -- Final Loss: 54.97621154785156\n",
            "Original Image\n"
          ]
        },
        {
          "output_type": "display_data",
          "data": {
            "text/plain": [
              "<PIL.Image.Image image mode=L size=128x128 at 0x7ABF56BC68C0>"
            ],
            "image/png": "[encoded data removed]"
          },
          "metadata": {}
        },
        {
          "output_type": "stream",
          "name": "stdout",
          "text": [
            "Mapped and Reconstructed Image\n"
          ]
        },
        {
          "output_type": "display_data",
          "data": {
            "text/plain": [
              "<PIL.Image.Image image mode=L size=128x128 at 0x7ABF56BC67D0>"
            ],
            "image/png": "[encoded data removed]"
          },
          "metadata": {}
        },
        {
          "output_type": "stream",
          "name": "stdout",
          "text": [
            "-----------------------\n",
            "6944 images left\n",
            "Loss at Iteration 3000 too high -- Loss: 69.3311767578125\n",
            "Could not find optimal region within the defined iteration count. Retry (1) with another random z...\n",
            "6944 images left\n",
            "Loss at Iteration 3000 too high -- Loss: 66.12588500976562\n",
            "Could not find optimal region within the defined iteration count. Retry (2) with another random z...\n",
            "6944 images left\n",
            "Loss at Iteration 3000 too high -- Loss: 64.9281005859375\n",
            "Could not find optimal region within the defined iteration count. Retry (3) with another random z...\n",
            "6944 images left\n",
            "Iteration: 5000 -- Current Loss: 58.04265213012695 -- Current Learning-Rate: 0.1\n",
            "Iteration: 10000 -- Current Loss: 57.145408630371094 -- Current Learning-Rate: 0.1\n",
            "Could not find optimal region within the defined iteration count. Retry (4) with another random z...\n",
            "6944 images left\n",
            "Loss at Iteration 3000 too high -- Loss: 70.63221740722656\n",
            "Could not find optimal region within the defined iteration count. Retry (5) with another random z...\n",
            "6944 images left\n",
            "Iteration: 5000 -- Current Loss: 57.97047424316406 -- Current Learning-Rate: 0.1\n",
            "Iteration: 10000 -- Current Loss: 56.877655029296875 -- Current Learning-Rate: 0.1\n",
            "Could not find optimal region within the defined iteration count. Retry (6) with another random z...\n",
            "6944 images left\n",
            "Loss at Iteration 3000 too high -- Loss: 72.04811096191406\n",
            "Could not find optimal region within the defined iteration count. Retry (7) with another random z...\n",
            "6944 images left\n",
            "Loss at Iteration 3000 too high -- Loss: 70.06857299804688\n",
            "Could not find optimal region within the defined iteration count. Retry (8) with another random z...\n",
            "6944 images left\n",
            "Loss at Iteration 3000 too high -- Loss: 86.38961791992188\n",
            "Could not find optimal region within the defined iteration count. Retry (9) with another random z...\n",
            "6944 images left\n",
            "Loss at Iteration 3000 too high -- Loss: 61.60563278198242\n",
            "Could not find optimal region within the defined iteration count. Retry (10) with another random z...\n",
            "6944 images left\n",
            "Iteration: 5000 -- Current Loss: 52.46393585205078 -- Current Learning-Rate: 0.1\n",
            "Iteration: 10000 -- Current Loss: 49.86268615722656 -- Current Learning-Rate: 0.1\n",
            "Iteration: 15000 -- Current Loss: 48.13168716430664 -- Current Learning-Rate: 0.1\n",
            "Iteration: 20000 -- Current Loss: 46.38048553466797 -- Current Learning-Rate: 0.1\n",
            "Iteration: 25000 -- Current Loss: 44.93343734741211 -- Current Learning-Rate: 0.1\n",
            "Iteration: 29999 -- Current Loss: 43.736698150634766 -- Current Learning-Rate: 0.1\n",
            "Original Image\n"
          ]
        },
        {
          "output_type": "display_data",
          "data": {
            "text/plain": [
              "<PIL.Image.Image image mode=L size=128x128 at 0x7ABE8480B790>"
            ],
            "image/png": "[encoded data removed]"
          },
          "metadata": {}
        },
        {
          "output_type": "stream",
          "name": "stdout",
          "text": [
            "Mapped and Reconstructed Image\n"
          ]
        },
        {
          "output_type": "display_data",
          "data": {
            "text/plain": [
              "<PIL.Image.Image image mode=L size=128x128 at 0x7ABE75A3F580>"
            ],
            "image/png": "[encoded data removed]"
          },
          "metadata": {}
        },
        {
          "output_type": "stream",
          "name": "stdout",
          "text": [
            "-----------------------\n",
            "6943 images left\n",
            "Loss at Iteration 3000 too high -- Loss: 69.37592315673828\n",
            "Could not find optimal region within the defined iteration count. Retry (1) with another random z...\n",
            "6943 images left\n",
            "Iteration: 338 -- Reached Defined Optimum -- Final Loss: 39.9852409362793\n",
            "Original Image\n"
          ]
        },
        {
          "output_type": "display_data",
          "data": {
            "text/plain": [
              "<PIL.Image.Image image mode=L size=128x128 at 0x7ABE90A1AFB0>"
            ],
            "image/png": "[encoded data removed]"
          },
          "metadata": {}
        },
        {
          "output_type": "stream",
          "name": "stdout",
          "text": [
            "Mapped and Reconstructed Image\n"
          ]
        },
        {
          "output_type": "display_data",
          "data": {
            "text/plain": [
              "<PIL.Image.Image image mode=L size=128x128 at 0x7ABE75A3D4B0>"
            ],
            "image/png": "[encoded data removed]"
          },
          "metadata": {}
        },
        {
          "output_type": "stream",
          "name": "stdout",
          "text": [
            "-----------------------\n",
            "6942 images left\n",
            "Loss at Iteration 3000 too high -- Loss: 122.19180297851562\n",
            "Could not find optimal region within the defined iteration count. Retry (1) with another random z...\n",
            "6942 images left\n",
            "Iteration: 5000 -- Current Loss: 55.40384292602539 -- Current Learning-Rate: 0.1\n",
            "Iteration: 8384 -- Reached Defined Optimum -- Final Loss: 54.99981689453125\n",
            "Original Image\n"
          ]
        },
        {
          "output_type": "display_data",
          "data": {
            "text/plain": [
              "<PIL.Image.Image image mode=L size=128x128 at 0x7ABF56BC67D0>"
            ],
            "image/png": "[encoded data removed]"
          },
          "metadata": {}
        },
        {
          "output_type": "stream",
          "name": "stdout",
          "text": [
            "Mapped and Reconstructed Image\n"
          ]
        },
        {
          "output_type": "display_data",
          "data": {
            "text/plain": [
              "<PIL.Image.Image image mode=L size=128x128 at 0x7ABF56BC68C0>"
            ],
            "image/png": "[encoded data removed]"
          },
          "metadata": {}
        },
        {
          "output_type": "stream",
          "name": "stdout",
          "text": [
            "-----------------------\n",
            "6941 images left\n",
            "Iteration: 1346 -- Reached Defined Optimum -- Final Loss: 39.998992919921875\n",
            "Original Image\n"
          ]
        },
        {
          "output_type": "display_data",
          "data": {
            "text/plain": [
              "<PIL.Image.Image image mode=L size=128x128 at 0x7ABE90AD4F70>"
            ],
            "image/png": "[encoded data removed]"
          },
          "metadata": {}
        },
        {
          "output_type": "stream",
          "name": "stdout",
          "text": [
            "Mapped and Reconstructed Image\n"
          ]
        },
        {
          "output_type": "display_data",
          "data": {
            "text/plain": [
              "<PIL.Image.Image image mode=L size=128x128 at 0x7ABF56BC67D0>"
            ],
            "image/png": "[encoded data removed]"
          },
          "metadata": {}
        },
        {
          "output_type": "stream",
          "name": "stdout",
          "text": [
            "-----------------------\n",
            "6940 images left\n"
          ]
        }
      ],
      "source": [
        "from torch.cuda import reset_max_memory_allocated\n",
        "def create_cp(iteration_number):\n",
        "  print(\"CREATING CHECKPOINT...\")\n",
        "  drive.mount('/content/drive', force_remount=True)\n",
        "  shutil.make_archive(f\"/content/drive/MyDrive/Colab/data/latent_space_mappings_cp/latent_space_mappings_cp{iteration_number}\", 'zip', \"/content/data/latent_space_mappings\")\n",
        "\n",
        "def save_to_drive(mapped_z, iteration_number, csv_path):\n",
        "  torch.save(mapped_z, f'/content/drive/MyDrive/Colab/data/latent_space_mappings/mapped_z_{iteration_number}.pt')\n",
        "  shutil.copy(csv_path, \"/content/drive/MyDrive/Colab/data/latent_space_mappings/latent_space_mappings.csv\")\n",
        "\n",
        "base_folder = \"/content/data/latent_space_mappings\"\n",
        "csv_path = os.path.join(base_folder, \"latent_space_mappings.csv\")\n",
        "\n",
        "\n",
        "prepare_target_folder = True\n",
        "if prepare_target_folder:\n",
        "    if not os.path.exists(base_folder):\n",
        "        os.mkdir(base_folder)\n",
        "\n",
        "    if os.path.exists(base_folder):\n",
        "        shutil.rmtree(base_folder)\n",
        "        os.mkdir(base_folder)\n",
        "\n",
        "    with open(csv_path, 'a', newline='') as file:\n",
        "        writer = csv.writer(file)\n",
        "        fields = [\"filename\", \"label\", \"anomaly\", \"reconstruction_loss\"]\n",
        "        writer.writerow(fields)\n",
        "\n",
        "# Start mapping\n",
        "map_anomalies = True\n",
        "map_normals = True\n",
        "t = transforms.ToPILImage()\n",
        "lsm: LatentSpaceMapper = LatentSpaceMapper(generator=generator, discriminator=discriminator, device=device)\n",
        "mapped_images = []\n",
        "cp_counter = 0\n",
        "counter = len(ano_mnist_dataset)\n",
        "\n",
        "i = 0\n",
        "retry_counter = 0\n",
        "while i < len(ano_mnist_dataset):\n",
        "    if i % 50 == 0 and i != 0:\n",
        "        clear_output()\n",
        "        print(\"Cleared Output...\")\n",
        "\n",
        "    print(f\"{counter} images left\")\n",
        "\n",
        "    if ano_mnist_dataset[i][1][\"anomaly\"] == True:\n",
        "        max_retries = 20\n",
        "        opt_threshold=40\n",
        "        ignore_rules_below_threshold=50\n",
        "        immediate_retry_threshold=60\n",
        "        max_opt_iterations=30000\n",
        "    else:\n",
        "        max_retries = 5\n",
        "        opt_threshold=55\n",
        "        ignore_rules_below_threshold=60\n",
        "        immediate_retry_threshold=65\n",
        "        max_opt_iterations=20000\n",
        "\n",
        "    if (ano_mnist_dataset[i][1][\"anomaly\"] == True and map_anomalies) or (ano_mnist_dataset[i][1][\"anomaly\"] == False and map_normals):\n",
        "        mapped_z, reconstruction_loss, retry = lsm.map_image_to_point_in_latent_space(ano_mnist_dataset[i][0],\n",
        "                                                                               batch_size=1,\n",
        "                                                                               max_opt_iterations=max_opt_iterations,\n",
        "                                                                               plateu_threshold=0.0005,\n",
        "                                                                               check_every_n_iter=3000,\n",
        "                                                                               learning_rate=0.1,\n",
        "                                                                               print_every_n_iters=5000,\n",
        "                                                                               retry_after_n_iters=10000,\n",
        "                                                                               ignore_rules_below_threshold=ignore_rules_below_threshold,\n",
        "                                                                               opt_threshold=opt_threshold,\n",
        "                                                                               immediate_retry_threshold=immediate_retry_threshold)\n",
        "\n",
        "        if retry:\n",
        "            if retry_counter == max_retries:\n",
        "                retry_counter = 0\n",
        "                i+=1\n",
        "                counter-=1\n",
        "                print(\"Retry Limit reached. Moving on to next sample\")\n",
        "                print('Original Image That Could Not Be Mapped')\n",
        "                t(ano_mnist_dataset[i][0]).resize((128, 128), PIL.Image.NEAREST).show()\n",
        "                print('-----------------------')\n",
        "                continue\n",
        "            else:\n",
        "                retry_counter += 1\n",
        "                print(f\"Could not find optimal region within the defined iteration count. Retry ({retry_counter}) with another random z...\")\n",
        "                continue\n",
        "\n",
        "        retry_counter = 0\n",
        "        mapped_images.append(mapped_z)\n",
        "        with open(csv_path, 'a', newline='') as file:\n",
        "            writer = csv.writer(file)\n",
        "            fields = [f'mapped_z_{counter}.pt', ano_mnist_dataset[i][1][\"label\"], ano_mnist_dataset[i][1][\"anomaly\"], math.floor(reconstruction_loss)]\n",
        "            writer.writerow(fields)\n",
        "\n",
        "        torch.save(mapped_z, os.path.join(base_folder, f'mapped_z_{counter}.pt'))\n",
        "        save_to_drive(mapped_z, counter, csv_path)\n",
        "        cp_counter += 1\n",
        "        if cp_counter % 50 == 0:\n",
        "          create_cp(counter)\n",
        "          clear_output\n",
        "\n",
        "        print('Original Image')\n",
        "        t(ano_mnist_dataset[i][0]).resize((128, 128), PIL.Image.NEAREST).show()\n",
        "        print('Mapped and Reconstructed Image')\n",
        "        original_img = generator(mapped_z).cpu()\n",
        "        img = t(original_img[0]).resize((128, 128), PIL.Image.NEAREST)\n",
        "        img.show()\n",
        "        print('-----------------------')\n",
        "\n",
        "    i+=1\n",
        "    counter-=1\n",
        "\n",
        "create_cp(0)"
      ],
      "metadata": {
        "ExecuteTime": {
          "end_time": "2023-06-19T13:17:18.568254955Z",
          "start_time": "2023-06-19T13:17:09.250792045Z"
        },
        "id": "Y611jafizmex",
        "outputId": "7a9a83ea-764b-4bc3-c167-ba05ae05411c",
        "colab": {
          "base_uri": "https://localhost:8080/",
          "height": 1000
        }
      }
    },
    {
      "cell_type": "code",
      "source": [],
      "metadata": {
        "id": "AHpnpEgVeeV_"
      },
      "execution_count": null,
      "outputs": []
    }
  ],
  "metadata": {
    "kernelspec": {
      "display_name": "Python 3",
      "name": "python3"
    },
    "language_info": {
      "codemirror_mode": {
        "name": "ipython",
        "version": 2
      },
      "file_extension": ".py",
      "mimetype": "text/x-python",
      "name": "python",
      "nbconvert_exporter": "python",
      "pygments_lexer": "ipython2",
      "version": "2.7.6"
    },
    "colab": {
      "provenance": [],
      "machine_shape": "hm",
      "gpuType": "V100"
    },
    "accelerator": "GPU"
  },
  "nbformat": 4,
  "nbformat_minor": 0
}