{
  "cells": [
    {
      "cell_type": "code",
      "source": [
        "from google.colab import drive\n",
        "drive.mount('/content/drive', force_remount=True)"
      ],
      "metadata": {
        "id": "9rCsmPpNzrBo",
        "outputId": "237b68e4-b4c8-49aa-ee05-67136c84d0bf",
        "colab": {
          "base_uri": "https://localhost:8080/"
        }
      },
      "execution_count": 1,
      "outputs": [
        {
          "output_type": "stream",
          "name": "stdout",
          "text": [
            "Mounted at /content/drive\n"
          ]
        }
      ]
    },
    {
      "cell_type": "code",
      "execution_count": 2,
      "metadata": {
        "collapsed": true,
        "ExecuteTime": {
          "end_time": "2023-06-19T13:16:49.352615778Z",
          "start_time": "2023-06-19T13:16:49.272631925Z"
        },
        "id": "uKhESdEpzmea"
      },
      "outputs": [],
      "source": [
        "import torch\n",
        "import torch.nn as nn\n",
        "import torch.optim.lr_scheduler as lr_scheduler\n",
        "from PIL import Image\n",
        "from torchvision import transforms, datasets\n",
        "import os\n",
        "import shutil\n",
        "import random\n",
        "import csv\n",
        "import zipfile\n",
        "import PIL\n",
        "import math\n",
        "from IPython.display import clear_output"
      ]
    },
    {
      "cell_type": "code",
      "execution_count": 3,
      "outputs": [],
      "source": [
        "class Generator(nn.Module):\n",
        "    def __init__(self, size_z, num_feature_maps, num_color_channels):\n",
        "        super(Generator, self).__init__()\n",
        "        self.size_z = size_z\n",
        "        self.network = nn.Sequential(\n",
        "            nn.ConvTranspose2d(self.size_z, num_feature_maps * 4, 4, 1, 0, bias=False),\n",
        "            nn.BatchNorm2d(num_feature_maps * 4),\n",
        "            nn.ReLU(True),\n",
        "\n",
        "            nn.ConvTranspose2d(num_feature_maps * 4, num_feature_maps * 2, 3, 2, 1, bias=False),\n",
        "            nn.BatchNorm2d(num_feature_maps * 2),\n",
        "            nn.ReLU(True),\n",
        "\n",
        "            nn.ConvTranspose2d(num_feature_maps * 2, num_feature_maps, 4, 2, 1, bias=False),\n",
        "            nn.BatchNorm2d(num_feature_maps),\n",
        "            nn.ReLU(True),\n",
        "\n",
        "            nn.ConvTranspose2d(num_feature_maps, num_color_channels, 4, 2, 1, bias=False),\n",
        "            nn.Tanh()\n",
        "        )\n",
        "\n",
        "    def forward(self, x):\n",
        "        output = self.network(x)\n",
        "        return output\n",
        "\n",
        "    def gen_shifted(self, x, shift):\n",
        "        shift = torch.unsqueeze(shift, -1)\n",
        "        shift = torch.unsqueeze(shift, -1)\n",
        "        return self.forward(x + shift)"
      ],
      "metadata": {
        "ExecuteTime": {
          "end_time": "2023-06-19T13:16:50.491940517Z",
          "start_time": "2023-06-19T13:16:50.476819472Z"
        },
        "id": "AZKotCEvzmee"
      }
    },
    {
      "cell_type": "code",
      "execution_count": 4,
      "outputs": [],
      "source": [
        "class Discriminator(nn.Module):\n",
        "    def __init__(self, num_feature_maps, num_color_channels):\n",
        "        super(Discriminator, self).__init__()\n",
        "        self.layer1 = nn.Sequential(\n",
        "            nn.Conv2d(num_color_channels, num_feature_maps, 4, 2, 1, bias=False),\n",
        "            nn.LeakyReLU(0.2, inplace=True),\n",
        "        )\n",
        "        self.layer2 = nn.Sequential(\n",
        "            nn.Conv2d(num_feature_maps, num_feature_maps * 2, 4, 2, 1, bias=False),\n",
        "            nn.BatchNorm2d(num_feature_maps * 2),\n",
        "            nn.LeakyReLU(0.2, inplace=True),\n",
        "        )\n",
        "        self.layer3 = nn.Sequential(\n",
        "            nn.Conv2d(num_feature_maps * 2, num_feature_maps * 4, 3, 2, 1, bias=False),\n",
        "            nn.BatchNorm2d(num_feature_maps * 4),\n",
        "            nn.LeakyReLU(0.2, inplace=True),\n",
        "        )\n",
        "        self.fc = nn.Sequential(\n",
        "            nn.Conv2d(num_feature_maps * 4, 1, 4, 1, 0, bias=False),\n",
        "            nn.Sigmoid()\n",
        "        )\n",
        "\n",
        "    def forward(self, x):\n",
        "        out = self.layer1(x)\n",
        "        out = self.layer2(out)\n",
        "        out = self.layer3(out)\n",
        "        feature = out\n",
        "        out = self.fc(out)\n",
        "        return out.view(-1, 1).squeeze(1), feature"
      ],
      "metadata": {
        "ExecuteTime": {
          "end_time": "2023-06-19T13:16:51.402689357Z",
          "start_time": "2023-06-19T13:16:51.383963387Z"
        },
        "id": "9jo7Zrbczmeh"
      }
    },
    {
      "cell_type": "code",
      "execution_count": 5,
      "outputs": [],
      "source": [
        "class LatentSpaceMapper:\n",
        "    def __init__(self, generator: Generator, discriminator: Discriminator, device):\n",
        "        self.generator: Generator = generator\n",
        "        self.generator.to(device)\n",
        "        self.discriminator: Discriminator = discriminator\n",
        "        self.discriminator.to(device)\n",
        "        self.device = device\n",
        "\n",
        "    def map_image_to_point_in_latent_space(self, image: torch.Tensor, batch_size=1, size_z=100, max_opt_iterations=30000, opt_threshold=140.0, plateu_threshold=3.0, check_every_n_iter=4000, learning_rate=0.4, print_every_n_iters=10000, ignore_rules_below_threshold=50, retry_after_n_iters=10000, immediate_retry_threshold=200):\n",
        "        image.to(self.device)\n",
        "        z = torch.randn(batch_size, size_z, 1, 1, device=self.device, requires_grad=True)\n",
        "        z_optimizer = torch.optim.Adam([z], lr=learning_rate)\n",
        "        losses = []\n",
        "        final_loss = 0\n",
        "        latest_checkpoint_loss = 0\n",
        "\n",
        "        # scheduler = lr_scheduler.LinearLR(z_optimizer, start_factor=0.4, end_factor=0.001, total_iters=max_opt_iterations-(math.floor(max_opt_iterations*0.2)))\n",
        "        # scheduler = lr_scheduler.StepLR(z_optimizer, step_size=max_opt_iterations, gamma=0.9)\n",
        "        # scheduler = torch.optim.lr_scheduler.CyclicLR(z_optimizer, base_lr=0.01, max_lr=0.4, cycle_momentum=False)\n",
        "        for i in range(max_opt_iterations):\n",
        "            retry = False\n",
        "            loss = self.__get_anomaly_score(z, image.unsqueeze(0).to(self.device))\n",
        "            loss.backward()\n",
        "            z_optimizer.step()\n",
        "            final_loss = loss.data.item()\n",
        "\n",
        "            if i == 1:\n",
        "                latest_checkpoint_loss = loss.data.item()\n",
        "\n",
        "            if loss.data.item() < opt_threshold*batch_size:\n",
        "                print(f\"Iteration: {i} -- Reached Defined Optimum -- Final Loss: {loss.data.item()}\")\n",
        "                break\n",
        "\n",
        "            if (i % print_every_n_iters == 0 and i != 0) or (i == max_opt_iterations-1):\n",
        "                print(f\"Iteration: {i} -- Current Loss: {loss.data.item()} -- Current Learning-Rate: {z_optimizer.param_groups[0]['lr']}\")\n",
        "                losses.append(loss.data.item())\n",
        "\n",
        "            if i % check_every_n_iter == 0 and i != 0:\n",
        "                if abs(loss.data.item()-latest_checkpoint_loss) < plateu_threshold:\n",
        "                    print(f\"Reached Plateu at Iteration {i} -- Loss: {loss.data.item()}\")\n",
        "                    retry = True\n",
        "                    break\n",
        "                if loss.data.item() > immediate_retry_threshold:\n",
        "                    print(f\"Loss at Iteration {i} too high -- Loss: {loss.data.item()}\")\n",
        "                    retry = True\n",
        "                    break\n",
        "                latest_checkpoint_loss = loss.data.item()\n",
        "\n",
        "            if i == retry_after_n_iters and loss.data.item() > ignore_rules_below_threshold:\n",
        "                retry = True\n",
        "                break\n",
        "\n",
        "            #scheduler.step()\n",
        "\n",
        "        return z, final_loss, retry\n",
        "\n",
        "    def __get_anomaly_score(self, z, x_query):\n",
        "        lamda = 0.1\n",
        "        g_z = self.generator(z.to(self.device))\n",
        "        loss_r = torch.sum(torch.abs(x_query - g_z))\n",
        "\n",
        "        return loss_r\n",
        "\n",
        "        #_, x_prop = self.discriminator(x_query)\n",
        "        #_, g_z_prop = self.discriminator(g_z)\n",
        "        #loss_d = torch.sum(torch.abs(x_prop - g_z_prop))\n",
        "        #return (1 - lamda) * loss_r + lamda * loss_d\n"
      ],
      "metadata": {
        "ExecuteTime": {
          "end_time": "2023-06-19T13:16:52.168904698Z",
          "start_time": "2023-06-19T13:16:52.152945768Z"
        },
        "id": "bDlGQeeozmej"
      }
    },
    {
      "cell_type": "code",
      "execution_count": 6,
      "outputs": [],
      "source": [
        "import os\n",
        "import pandas as pd\n",
        "from PIL import Image\n",
        "from torch.utils.data import Dataset\n",
        "\n",
        "\n",
        "class AnoMNIST(Dataset):\n",
        "    def __init__(self, root_dir, transform=None):\n",
        "        root_dir = os.path.join(root_dir, \"AnoMNIST\")\n",
        "        assert os.path.exists(os.path.join(root_dir, \"ano_dataset.csv\")), \"Invalid root directory\"\n",
        "        self.root_dir = root_dir\n",
        "        self.transform = transform\n",
        "        self.label = pd.read_csv(os.path.join(root_dir, \"ano_dataset.csv\"))\n",
        "\n",
        "    def __len__(self):\n",
        "        return len(self.label)\n",
        "\n",
        "    def __getitem__(self, idx):\n",
        "        img_name = os.path.join(self.root_dir, self.label.iloc[idx, 0])\n",
        "        image_label = {\"label\": self.label.iloc[idx, 1], \"anomaly\": self.label.iloc[idx, 2]}\n",
        "        image = Image.open(img_name)\n",
        "\n",
        "        if self.transform:\n",
        "            image = self.transform(image)\n",
        "\n",
        "        return image, image_label\n",
        "\n",
        "\n",
        "class AnomalyExtendedMNIST(datasets.MNIST):\n",
        "    def __getitem__(self, idx):\n",
        "        return super(AnomalyExtendedMNIST, self).__getitem__(idx)[0], {\"label\": super(AnomalyExtendedMNIST, self).__getitem__(idx)[1], \"anomaly\": False}\n"
      ],
      "metadata": {
        "ExecuteTime": {
          "end_time": "2023-06-19T13:16:54.041217345Z",
          "start_time": "2023-06-19T13:16:54.019769104Z"
        },
        "id": "0Nx2n4Iizmel"
      }
    },
    {
      "cell_type": "code",
      "execution_count": 7,
      "outputs": [],
      "source": [
        "def generate_augmented_mnist_images(base_folder, num, max_augmentation_thickness=5,\n",
        "                                    randomize_augmentation_thickness=False, labels=[]):\n",
        "    assert max_augmentation_thickness <= 7, \"max_augmentation_thickness must be smaller than 7\"\n",
        "    os.makedirs(base_folder, exist_ok=True)\n",
        "\n",
        "    dataset = datasets.MNIST(\n",
        "        root=base_folder,\n",
        "        train=True,\n",
        "        download=True,\n",
        "    )\n",
        "\n",
        "    if len(labels) > 0:\n",
        "        dataset = [d for d in dataset if (d[1] in labels)]\n",
        "    else:\n",
        "        dataset = dataset.data\n",
        "\n",
        "    ano_mnist_drop_folder = os.path.join(base_folder, \"AnoMNIST\")\n",
        "    csv_path = os.path.join(ano_mnist_drop_folder, \"ano_dataset.csv\")\n",
        "\n",
        "    os.makedirs(base_folder, exist_ok=True)\n",
        "    os.makedirs(ano_mnist_drop_folder, exist_ok=True)\n",
        "\n",
        "    augmentation_thickness: int = random.randint(1, max_augmentation_thickness)\n",
        "    for i in range(num):\n",
        "        random_idx = random.randint(0, len(dataset) - 1)\n",
        "        img, label = dataset[random_idx]\n",
        "\n",
        "        augmentation_thickness = random.randint(3,\n",
        "                                                max_augmentation_thickness) if randomize_augmentation_thickness else augmentation_thickness\n",
        "        random_idx = random.randint(4, 20)\n",
        "        for j in range(img.size[0]):\n",
        "            for k in range(augmentation_thickness):\n",
        "                img.putpixel((j, random_idx + k + 1), 0)\n",
        "\n",
        "        img.save(os.path.join(ano_mnist_drop_folder, f\"img_aug_{label}_{i}.png\"))\n",
        "        with open(csv_path, 'a', newline='') as file:\n",
        "            writer = csv.writer(file)\n",
        "            fields = [f'img_aug_{label}_{i}.png', f\"{label}\", \"True\"]\n",
        "            writer.writerow(fields)\n",
        "\n",
        "\n",
        "def generate_anomalous_image_files(base_folder, num, labels=[], copy_zip_to=''):\n",
        "    if os.path.exists(base_folder):\n",
        "        shutil.rmtree(base_folder)\n",
        "\n",
        "    ano_mnist_drop_folder = os.path.join(base_folder, \"AnoMNIST\")\n",
        "    csv_path = os.path.join(ano_mnist_drop_folder, \"ano_dataset.csv\")\n",
        "\n",
        "    os.makedirs(base_folder, exist_ok=True)\n",
        "    os.makedirs(ano_mnist_drop_folder, exist_ok=True)\n",
        "\n",
        "    with open(csv_path, 'a', newline='') as file:\n",
        "        writer = csv.writer(file)\n",
        "        fields = [\"filename\", \"label\", \"anomaly\"]\n",
        "        writer.writerow(fields)\n",
        "\n",
        "    generate_augmented_mnist_images(base_folder, num=num, labels=labels)\n",
        "    if copy_zip_to:\n",
        "      shutil.make_archive(os.path.join(copy_zip_to, \"AnoMNIST\"), 'zip', ano_mnist_drop_folder)\n",
        "\n",
        "def get_ano_mnist_dataset(transform, root_dir, labels=[9], train_size=0.9):\n",
        "    ano_mnist_dataset = AnoMNIST(\n",
        "        root_dir=root_dir,\n",
        "        transform=transform\n",
        "    )\n",
        "\n",
        "    mnist_dataset = AnomalyExtendedMNIST(\n",
        "        root=root_dir,\n",
        "        train=True,\n",
        "        transform=transform,\n",
        "        download=True,\n",
        "    )\n",
        "\n",
        "    dat = torch.utils.data.ConcatDataset([ano_mnist_dataset, mnist_dataset])\n",
        "\n",
        "    if len(labels) > 0:\n",
        "        dat = [d for d in dat if (d[1]['label'] in labels)]\n",
        "\n",
        "    absolute_train_size = int(len(dat) * train_size)\n",
        "    absolute_test_size = len(dat) - absolute_train_size\n",
        "    return torch.utils.data.random_split(dat, [absolute_train_size, absolute_test_size])"
      ],
      "metadata": {
        "ExecuteTime": {
          "end_time": "2023-06-19T13:16:55.267129710Z",
          "start_time": "2023-06-19T13:16:55.250785327Z"
        },
        "id": "dvoHrYngzmeo"
      }
    },
    {
      "cell_type": "code",
      "source": [
        "def load_ano_mnist_from_drive(drop_folder):\n",
        "  with zipfile.ZipFile('/content/drive/MyDrive/Colab/data/AnoMNIST.zip', 'r') as zip_ref:\n",
        "    zip_ref.extractall(drop_folder)"
      ],
      "metadata": {
        "id": "CovsspsjqzjN"
      },
      "execution_count": 8,
      "outputs": []
    },
    {
      "cell_type": "code",
      "execution_count": 9,
      "outputs": [
        {
          "output_type": "execute_result",
          "data": {
            "text/plain": [
              "device(type='cuda')"
            ]
          },
          "metadata": {},
          "execution_count": 9
        }
      ],
      "source": [
        "device = torch.device('cuda' if torch.cuda.is_available() else 'cpu')\n",
        "num_color_channels = 1\n",
        "num_feature_maps_g = 64\n",
        "num_feature_maps_d = 64\n",
        "size_z = 100\n",
        "\n",
        "device"
      ],
      "metadata": {
        "ExecuteTime": {
          "end_time": "2023-06-19T13:16:56.718929255Z",
          "start_time": "2023-06-19T13:16:56.701170727Z"
        },
        "id": "sy0CAfU_zmep",
        "outputId": "ee86324f-4cef-4db7-aeaf-5a95049b5365",
        "colab": {
          "base_uri": "https://localhost:8080/"
        }
      }
    },
    {
      "cell_type": "code",
      "execution_count": 10,
      "outputs": [
        {
          "output_type": "execute_result",
          "data": {
            "text/plain": [
              "<All keys matched successfully>"
            ]
          },
          "metadata": {},
          "execution_count": 10
        }
      ],
      "source": [
        "generator = Generator(size_z=size_z,\n",
        "                      num_feature_maps=num_feature_maps_g,\n",
        "                      num_color_channels=num_color_channels).to(device)\n",
        "discriminator = Discriminator(num_feature_maps=num_feature_maps_d,\n",
        "                              num_color_channels=num_color_channels).to(device)\n",
        "\n",
        "generator.load_state_dict(torch.load(\"/content/drive/MyDrive/Colab/saved_models/generator.pkl\", map_location=torch.device(device)))\n",
        "discriminator.load_state_dict(torch.load('/content/drive/MyDrive/Colab/saved_models/discriminator.pkl', map_location=torch.device(device)))"
      ],
      "metadata": {
        "ExecuteTime": {
          "end_time": "2023-06-19T13:16:58.039609982Z",
          "start_time": "2023-06-19T13:16:57.998343596Z"
        },
        "id": "IJj0sB2Izmeq",
        "outputId": "f8f7e492-c557-4fc5-9fbc-cf7504929283",
        "colab": {
          "base_uri": "https://localhost:8080/"
        }
      }
    },
    {
      "cell_type": "code",
      "execution_count": 11,
      "outputs": [
        {
          "output_type": "stream",
          "name": "stdout",
          "text": [
            "Downloading http://yann.lecun.com/exdb/mnist/train-images-idx3-ubyte.gz\n",
            "Downloading http://yann.lecun.com/exdb/mnist/train-images-idx3-ubyte.gz to /content/data/AnomalyExtendedMNIST/raw/train-images-idx3-ubyte.gz\n"
          ]
        },
        {
          "output_type": "stream",
          "name": "stderr",
          "text": [
            "100%|██████████| 9912422/9912422 [00:00<00:00, 156970627.25it/s]"
          ]
        },
        {
          "output_type": "stream",
          "name": "stdout",
          "text": [
            "Extracting /content/data/AnomalyExtendedMNIST/raw/train-images-idx3-ubyte.gz to /content/data/AnomalyExtendedMNIST/raw\n"
          ]
        },
        {
          "output_type": "stream",
          "name": "stderr",
          "text": [
            "\n"
          ]
        },
        {
          "output_type": "stream",
          "name": "stdout",
          "text": [
            "\n",
            "Downloading http://yann.lecun.com/exdb/mnist/train-labels-idx1-ubyte.gz\n",
            "Downloading http://yann.lecun.com/exdb/mnist/train-labels-idx1-ubyte.gz to /content/data/AnomalyExtendedMNIST/raw/train-labels-idx1-ubyte.gz\n"
          ]
        },
        {
          "output_type": "stream",
          "name": "stderr",
          "text": [
            "100%|██████████| 28881/28881 [00:00<00:00, 33751934.75it/s]\n"
          ]
        },
        {
          "output_type": "stream",
          "name": "stdout",
          "text": [
            "Extracting /content/data/AnomalyExtendedMNIST/raw/train-labels-idx1-ubyte.gz to /content/data/AnomalyExtendedMNIST/raw\n",
            "\n",
            "Downloading http://yann.lecun.com/exdb/mnist/t10k-images-idx3-ubyte.gz\n",
            "Downloading http://yann.lecun.com/exdb/mnist/t10k-images-idx3-ubyte.gz to /content/data/AnomalyExtendedMNIST/raw/t10k-images-idx3-ubyte.gz\n"
          ]
        },
        {
          "output_type": "stream",
          "name": "stderr",
          "text": [
            "100%|██████████| 1648877/1648877 [00:00<00:00, 62807790.22it/s]"
          ]
        },
        {
          "output_type": "stream",
          "name": "stdout",
          "text": [
            "Extracting /content/data/AnomalyExtendedMNIST/raw/t10k-images-idx3-ubyte.gz to /content/data/AnomalyExtendedMNIST/raw\n",
            "\n",
            "Downloading http://yann.lecun.com/exdb/mnist/t10k-labels-idx1-ubyte.gz\n"
          ]
        },
        {
          "output_type": "stream",
          "name": "stderr",
          "text": [
            "\n"
          ]
        },
        {
          "output_type": "stream",
          "name": "stdout",
          "text": [
            "Downloading http://yann.lecun.com/exdb/mnist/t10k-labels-idx1-ubyte.gz to /content/data/AnomalyExtendedMNIST/raw/t10k-labels-idx1-ubyte.gz\n"
          ]
        },
        {
          "output_type": "stream",
          "name": "stderr",
          "text": [
            "100%|██████████| 4542/4542 [00:00<00:00, 3410406.15it/s]\n"
          ]
        },
        {
          "output_type": "stream",
          "name": "stdout",
          "text": [
            "Extracting /content/data/AnomalyExtendedMNIST/raw/t10k-labels-idx1-ubyte.gz to /content/data/AnomalyExtendedMNIST/raw\n",
            "\n"
          ]
        }
      ],
      "source": [
        "transform = transforms.Compose([\n",
        "    transforms.ToTensor(),\n",
        "    transforms.Normalize(mean=(.5,), std=(.5,))\n",
        "])\n",
        "\n",
        "# generate_anomalous_image_files(base_folder='/content/data', num=2000, labels=[9]) # number of normals is: 5949\n",
        "load_ano_mnist_from_drive(drop_folder='/content/data')\n",
        "ano_mnist_dataset, _ = get_ano_mnist_dataset(transform=transform, root_dir='/content/data', labels=[9])"
      ],
      "metadata": {
        "ExecuteTime": {
          "end_time": "2023-06-19T13:17:07.612568050Z",
          "start_time": "2023-06-19T13:16:59.840564543Z"
        },
        "id": "BRc3Fm41zmes",
        "colab": {
          "base_uri": "https://localhost:8080/"
        },
        "outputId": "2fc3e8e8-0602-4555-e1eb-8da5979d4cf5"
      }
    },
    {
      "cell_type": "code",
      "execution_count": null,
      "outputs": [
        {
          "output_type": "stream",
          "name": "stdout",
          "text": [
            "Cleared Output...\n",
            "6504 images left\n",
            "Iteration: 3334 -- Reached Defined Optimum -- Final Loss: 39.999855041503906\n",
            "Original Image\n"
          ]
        },
        {
          "output_type": "display_data",
          "data": {
            "text/plain": [
              "<PIL.Image.Image image mode=L size=128x128 at 0x791442B63B50>"
            ],
            "image/png": "[encoded data removed]"
          },
          "metadata": {}
        },
        {
          "output_type": "stream",
          "name": "stdout",
          "text": [
            "Mapped and Reconstructed Image\n"
          ]
        },
        {
          "output_type": "display_data",
          "data": {
            "text/plain": [
              "<PIL.Image.Image image mode=L size=128x128 at 0x791437F29930>"
            ],
            "image/png": "[encoded data removed]"
          },
          "metadata": {}
        },
        {
          "output_type": "stream",
          "name": "stdout",
          "text": [
            "-----------------------\n",
            "6503 images left\n",
            "Iteration: 5000 -- Current Loss: 53.366817474365234 -- Current Learning-Rate: 0.1\n",
            "Iteration: 10000 -- Current Loss: 52.6717529296875 -- Current Learning-Rate: 0.1\n",
            "Could not find optimal region within the defined iteration count. Retry (1) with another random z...\n",
            "6503 images left\n",
            "Iteration: 5000 -- Current Loss: 56.5463981628418 -- Current Learning-Rate: 0.1\n",
            "Iteration: 10000 -- Current Loss: 55.671443939208984 -- Current Learning-Rate: 0.1\n",
            "Could not find optimal region within the defined iteration count. Retry (2) with another random z...\n",
            "6503 images left\n",
            "Loss at Iteration 4000 too high -- Loss: 66.13246154785156\n",
            "Could not find optimal region within the defined iteration count. Retry (3) with another random z...\n",
            "6503 images left\n",
            "Iteration: 5000 -- Current Loss: 57.58891296386719 -- Current Learning-Rate: 0.1\n",
            "Iteration: 10000 -- Current Loss: 57.204158782958984 -- Current Learning-Rate: 0.1\n",
            "Could not find optimal region within the defined iteration count. Retry (4) with another random z...\n",
            "6503 images left\n",
            "Iteration: 5000 -- Current Loss: 57.96122360229492 -- Current Learning-Rate: 0.1\n",
            "Iteration: 10000 -- Current Loss: 55.383750915527344 -- Current Learning-Rate: 0.1\n",
            "Could not find optimal region within the defined iteration count. Retry (5) with another random z...\n",
            "6503 images left\n",
            "Iteration: 5000 -- Current Loss: 57.813297271728516 -- Current Learning-Rate: 0.1\n",
            "Iteration: 10000 -- Current Loss: 54.9157600402832 -- Current Learning-Rate: 0.1\n",
            "Could not find optimal region within the defined iteration count. Retry (6) with another random z...\n",
            "6503 images left\n",
            "Iteration: 5000 -- Current Loss: 54.15949249267578 -- Current Learning-Rate: 0.1\n",
            "Iteration: 10000 -- Current Loss: 51.01197052001953 -- Current Learning-Rate: 0.1\n",
            "Could not find optimal region within the defined iteration count. Retry (7) with another random z...\n",
            "6503 images left\n",
            "Iteration: 5000 -- Current Loss: 52.73987579345703 -- Current Learning-Rate: 0.1\n",
            "Iteration: 10000 -- Current Loss: 50.40264892578125 -- Current Learning-Rate: 0.1\n",
            "Could not find optimal region within the defined iteration count. Retry (8) with another random z...\n",
            "6503 images left\n",
            "Iteration: 5000 -- Current Loss: 56.03744125366211 -- Current Learning-Rate: 0.1\n",
            "Iteration: 10000 -- Current Loss: 53.08655548095703 -- Current Learning-Rate: 0.1\n",
            "Could not find optimal region within the defined iteration count. Retry (9) with another random z...\n",
            "6503 images left\n",
            "Loss at Iteration 4000 too high -- Loss: 61.50355911254883\n",
            "Could not find optimal region within the defined iteration count. Retry (10) with another random z...\n",
            "6503 images left\n",
            "Iteration: 5000 -- Current Loss: 53.54036331176758 -- Current Learning-Rate: 0.1\n",
            "Iteration: 10000 -- Current Loss: 51.50243377685547 -- Current Learning-Rate: 0.1\n",
            "Could not find optimal region within the defined iteration count. Retry (11) with another random z...\n",
            "6503 images left\n",
            "Iteration: 5000 -- Current Loss: 54.054473876953125 -- Current Learning-Rate: 0.1\n",
            "Iteration: 10000 -- Current Loss: 51.96435546875 -- Current Learning-Rate: 0.1\n",
            "Could not find optimal region within the defined iteration count. Retry (12) with another random z...\n",
            "6503 images left\n",
            "Iteration: 5000 -- Current Loss: 54.991310119628906 -- Current Learning-Rate: 0.1\n",
            "Iteration: 10000 -- Current Loss: 53.02155685424805 -- Current Learning-Rate: 0.1\n",
            "Could not find optimal region within the defined iteration count. Retry (13) with another random z...\n",
            "6503 images left\n",
            "Iteration: 5000 -- Current Loss: 55.746490478515625 -- Current Learning-Rate: 0.1\n",
            "Iteration: 10000 -- Current Loss: 54.00444793701172 -- Current Learning-Rate: 0.1\n",
            "Could not find optimal region within the defined iteration count. Retry (14) with another random z...\n",
            "6503 images left\n",
            "Iteration: 5000 -- Current Loss: 56.005088806152344 -- Current Learning-Rate: 0.1\n",
            "Iteration: 10000 -- Current Loss: 53.59416961669922 -- Current Learning-Rate: 0.1\n",
            "Could not find optimal region within the defined iteration count. Retry (15) with another random z...\n",
            "6503 images left\n",
            "Iteration: 5000 -- Current Loss: 58.04381561279297 -- Current Learning-Rate: 0.1\n",
            "Iteration: 10000 -- Current Loss: 55.80671691894531 -- Current Learning-Rate: 0.1\n",
            "Could not find optimal region within the defined iteration count. Retry (16) with another random z...\n",
            "6503 images left\n",
            "Iteration: 5000 -- Current Loss: 54.89415740966797 -- Current Learning-Rate: 0.1\n",
            "Iteration: 10000 -- Current Loss: 51.78593444824219 -- Current Learning-Rate: 0.1\n",
            "Could not find optimal region within the defined iteration count. Retry (17) with another random z...\n",
            "6503 images left\n",
            "Iteration: 5000 -- Current Loss: 52.90565872192383 -- Current Learning-Rate: 0.1\n",
            "Iteration: 10000 -- Current Loss: 50.57967758178711 -- Current Learning-Rate: 0.1\n",
            "Could not find optimal region within the defined iteration count. Retry (18) with another random z...\n",
            "6503 images left\n",
            "Iteration: 5000 -- Current Loss: 54.47400665283203 -- Current Learning-Rate: 0.1\n",
            "Iteration: 10000 -- Current Loss: 53.28138732910156 -- Current Learning-Rate: 0.1\n",
            "Could not find optimal region within the defined iteration count. Retry (19) with another random z...\n",
            "6503 images left\n",
            "Iteration: 5000 -- Current Loss: 56.79840087890625 -- Current Learning-Rate: 0.1\n",
            "Iteration: 10000 -- Current Loss: 55.733551025390625 -- Current Learning-Rate: 0.1\n",
            "Could not find optimal region within the defined iteration count. Retry (20) with another random z...\n",
            "6503 images left\n",
            "Iteration: 5000 -- Current Loss: 55.167747497558594 -- Current Learning-Rate: 0.1\n",
            "Iteration: 10000 -- Current Loss: 52.84166717529297 -- Current Learning-Rate: 0.1\n",
            "Retry Limit reached. Moving on to next sample\n",
            "Original Image That Could Not Be Mapped\n"
          ]
        },
        {
          "output_type": "display_data",
          "data": {
            "text/plain": [
              "<PIL.Image.Image image mode=L size=128x128 at 0x7914319D3EE0>"
            ],
            "image/png": "[encoded data removed]"
          },
          "metadata": {}
        },
        {
          "output_type": "stream",
          "name": "stdout",
          "text": [
            "-----------------------\n",
            "6502 images left\n",
            "Iteration: 809 -- Reached Defined Optimum -- Final Loss: 39.99669647216797\n",
            "Original Image\n"
          ]
        },
        {
          "output_type": "display_data",
          "data": {
            "text/plain": [
              "<PIL.Image.Image image mode=L size=128x128 at 0x791437F3CFD0>"
            ],
            "image/png": "[encoded data removed]"
          },
          "metadata": {}
        },
        {
          "output_type": "stream",
          "name": "stdout",
          "text": [
            "Mapped and Reconstructed Image\n"
          ]
        },
        {
          "output_type": "display_data",
          "data": {
            "text/plain": [
              "<PIL.Image.Image image mode=L size=128x128 at 0x791437F3E4A0>"
            ],
            "image/png": "[encoded data removed]"
          },
          "metadata": {}
        },
        {
          "output_type": "stream",
          "name": "stdout",
          "text": [
            "-----------------------\n",
            "6501 images left\n",
            "Iteration: 43 -- Reached Defined Optimum -- Final Loss: 38.74482727050781\n",
            "Original Image\n"
          ]
        },
        {
          "output_type": "display_data",
          "data": {
            "text/plain": [
              "<PIL.Image.Image image mode=L size=128x128 at 0x791442B63B50>"
            ],
            "image/png": "[encoded data removed]"
          },
          "metadata": {}
        },
        {
          "output_type": "stream",
          "name": "stdout",
          "text": [
            "Mapped and Reconstructed Image\n"
          ]
        },
        {
          "output_type": "display_data",
          "data": {
            "text/plain": [
              "<PIL.Image.Image image mode=L size=128x128 at 0x791442B63B50>"
            ],
            "image/png": "[encoded data removed]"
          },
          "metadata": {}
        },
        {
          "output_type": "stream",
          "name": "stdout",
          "text": [
            "-----------------------\n",
            "6500 images left\n",
            "Iteration: 5000 -- Current Loss: 57.54082489013672 -- Current Learning-Rate: 0.1\n",
            "Iteration: 10000 -- Current Loss: 57.36751937866211 -- Current Learning-Rate: 0.1\n",
            "Could not find optimal region within the defined iteration count. Retry (1) with another random z...\n",
            "6500 images left\n",
            "Iteration: 5000 -- Current Loss: 51.59101867675781 -- Current Learning-Rate: 0.1\n",
            "Iteration: 10000 -- Current Loss: 49.37873077392578 -- Current Learning-Rate: 0.1\n",
            "Iteration: 15000 -- Current Loss: 48.83012390136719 -- Current Learning-Rate: 0.1\n",
            "Iteration: 20000 -- Current Loss: 48.507545471191406 -- Current Learning-Rate: 0.1\n",
            "Iteration: 25000 -- Current Loss: 48.294189453125 -- Current Learning-Rate: 0.1\n",
            "Iteration: 30000 -- Current Loss: 48.152435302734375 -- Current Learning-Rate: 0.1\n",
            "Iteration: 35000 -- Current Loss: 48.0634880065918 -- Current Learning-Rate: 0.1\n",
            "Iteration: 39999 -- Current Loss: 47.933876037597656 -- Current Learning-Rate: 0.1\n",
            "Original Image\n"
          ]
        },
        {
          "output_type": "display_data",
          "data": {
            "text/plain": [
              "<PIL.Image.Image image mode=L size=128x128 at 0x791437F3E4A0>"
            ],
            "image/png": "[encoded data removed]"
          },
          "metadata": {}
        },
        {
          "output_type": "stream",
          "name": "stdout",
          "text": [
            "Mapped and Reconstructed Image\n"
          ]
        },
        {
          "output_type": "display_data",
          "data": {
            "text/plain": [
              "<PIL.Image.Image image mode=L size=128x128 at 0x791437F3CFD0>"
            ],
            "image/png": "[encoded data removed]"
          },
          "metadata": {}
        },
        {
          "output_type": "stream",
          "name": "stdout",
          "text": [
            "-----------------------\n",
            "6499 images left\n",
            "Iteration: 5000 -- Current Loss: 48.58253479003906 -- Current Learning-Rate: 0.1\n",
            "Iteration: 10000 -- Current Loss: 48.30031967163086 -- Current Learning-Rate: 0.1\n",
            "Iteration: 15000 -- Current Loss: 47.8507080078125 -- Current Learning-Rate: 0.1\n",
            "Iteration: 20000 -- Current Loss: 47.40306091308594 -- Current Learning-Rate: 0.1\n",
            "Iteration: 25000 -- Current Loss: 46.87102127075195 -- Current Learning-Rate: 0.1\n",
            "Iteration: 30000 -- Current Loss: 46.21721649169922 -- Current Learning-Rate: 0.1\n",
            "Iteration: 35000 -- Current Loss: 45.47218322753906 -- Current Learning-Rate: 0.1\n",
            "Iteration: 39999 -- Current Loss: 44.65748977661133 -- Current Learning-Rate: 0.1\n",
            "Original Image\n"
          ]
        },
        {
          "output_type": "display_data",
          "data": {
            "text/plain": [
              "<PIL.Image.Image image mode=L size=128x128 at 0x791437F3D480>"
            ],
            "image/png": "[encoded data removed]"
          },
          "metadata": {}
        },
        {
          "output_type": "stream",
          "name": "stdout",
          "text": [
            "Mapped and Reconstructed Image\n"
          ]
        },
        {
          "output_type": "display_data",
          "data": {
            "text/plain": [
              "<PIL.Image.Image image mode=L size=128x128 at 0x791437F3E4A0>"
            ],
            "image/png": "[encoded data removed]"
          },
          "metadata": {}
        },
        {
          "output_type": "stream",
          "name": "stdout",
          "text": [
            "-----------------------\n",
            "6498 images left\n",
            "Loss at Iteration 4000 too high -- Loss: 197.15943908691406\n",
            "Could not find optimal region within the defined iteration count. Retry (1) with another random z...\n",
            "6498 images left\n",
            "Loss at Iteration 4000 too high -- Loss: 65.42698669433594\n",
            "Could not find optimal region within the defined iteration count. Retry (2) with another random z...\n",
            "6498 images left\n",
            "Loss at Iteration 4000 too high -- Loss: 64.7202377319336\n",
            "Could not find optimal region within the defined iteration count. Retry (3) with another random z...\n",
            "6498 images left\n",
            "Loss at Iteration 4000 too high -- Loss: 75.45631408691406\n",
            "Could not find optimal region within the defined iteration count. Retry (4) with another random z...\n",
            "6498 images left\n",
            "Loss at Iteration 4000 too high -- Loss: 61.08356475830078\n",
            "Could not find optimal region within the defined iteration count. Retry (5) with another random z...\n",
            "6498 images left\n",
            "Loss at Iteration 4000 too high -- Loss: 66.06024169921875\n",
            "Could not find optimal region within the defined iteration count. Retry (6) with another random z...\n",
            "6498 images left\n",
            "Loss at Iteration 4000 too high -- Loss: 63.68172836303711\n",
            "Could not find optimal region within the defined iteration count. Retry (7) with another random z...\n",
            "6498 images left\n",
            "Loss at Iteration 4000 too high -- Loss: 63.90153503417969\n",
            "Could not find optimal region within the defined iteration count. Retry (8) with another random z...\n",
            "6498 images left\n",
            "Loss at Iteration 4000 too high -- Loss: 74.97540283203125\n",
            "Could not find optimal region within the defined iteration count. Retry (9) with another random z...\n",
            "6498 images left\n",
            "Loss at Iteration 4000 too high -- Loss: 69.05870056152344\n",
            "Could not find optimal region within the defined iteration count. Retry (10) with another random z...\n",
            "6498 images left\n",
            "Loss at Iteration 4000 too high -- Loss: 75.76952362060547\n",
            "Could not find optimal region within the defined iteration count. Retry (11) with another random z...\n",
            "6498 images left\n",
            "Loss at Iteration 4000 too high -- Loss: 83.5986099243164\n",
            "Could not find optimal region within the defined iteration count. Retry (12) with another random z...\n",
            "6498 images left\n",
            "Loss at Iteration 4000 too high -- Loss: 73.02132415771484\n",
            "Could not find optimal region within the defined iteration count. Retry (13) with another random z...\n",
            "6498 images left\n",
            "Loss at Iteration 4000 too high -- Loss: 76.41365814208984\n",
            "Could not find optimal region within the defined iteration count. Retry (14) with another random z...\n",
            "6498 images left\n",
            "Loss at Iteration 4000 too high -- Loss: 70.56484985351562\n",
            "Could not find optimal region within the defined iteration count. Retry (15) with another random z...\n",
            "6498 images left\n",
            "Loss at Iteration 4000 too high -- Loss: 69.9932861328125\n",
            "Could not find optimal region within the defined iteration count. Retry (16) with another random z...\n",
            "6498 images left\n",
            "Loss at Iteration 4000 too high -- Loss: 210.10848999023438\n",
            "Could not find optimal region within the defined iteration count. Retry (17) with another random z...\n",
            "6498 images left\n",
            "Loss at Iteration 4000 too high -- Loss: 72.12223815917969\n",
            "Could not find optimal region within the defined iteration count. Retry (18) with another random z...\n",
            "6498 images left\n",
            "Loss at Iteration 4000 too high -- Loss: 64.92874145507812\n",
            "Could not find optimal region within the defined iteration count. Retry (19) with another random z...\n",
            "6498 images left\n",
            "Loss at Iteration 4000 too high -- Loss: 64.16890716552734\n",
            "Could not find optimal region within the defined iteration count. Retry (20) with another random z...\n",
            "6498 images left\n",
            "Loss at Iteration 4000 too high -- Loss: 74.93380737304688\n",
            "Retry Limit reached. Moving on to next sample\n",
            "Original Image That Could Not Be Mapped\n"
          ]
        },
        {
          "output_type": "display_data",
          "data": {
            "text/plain": [
              "<PIL.Image.Image image mode=L size=128x128 at 0x791437F3D480>"
            ],
            "image/png": "[encoded data removed]"
          },
          "metadata": {}
        },
        {
          "output_type": "stream",
          "name": "stdout",
          "text": [
            "-----------------------\n",
            "6497 images left\n",
            "Loss at Iteration 4000 too high -- Loss: 60.68195724487305\n",
            "Could not find optimal region within the defined iteration count. Retry (1) with another random z...\n",
            "6497 images left\n",
            "Loss at Iteration 4000 too high -- Loss: 64.16934967041016\n",
            "Could not find optimal region within the defined iteration count. Retry (2) with another random z...\n",
            "6497 images left\n",
            "Loss at Iteration 4000 too high -- Loss: 62.20384979248047\n",
            "Could not find optimal region within the defined iteration count. Retry (3) with another random z...\n",
            "6497 images left\n",
            "Loss at Iteration 4000 too high -- Loss: 61.7420768737793\n",
            "Could not find optimal region within the defined iteration count. Retry (4) with another random z...\n",
            "6497 images left\n",
            "Loss at Iteration 4000 too high -- Loss: 70.03813171386719\n",
            "Could not find optimal region within the defined iteration count. Retry (5) with another random z...\n",
            "6497 images left\n",
            "Loss at Iteration 4000 too high -- Loss: 69.60616302490234\n",
            "Could not find optimal region within the defined iteration count. Retry (6) with another random z...\n",
            "6497 images left\n",
            "Loss at Iteration 4000 too high -- Loss: 60.19256591796875\n",
            "Could not find optimal region within the defined iteration count. Retry (7) with another random z...\n",
            "6497 images left\n",
            "Loss at Iteration 4000 too high -- Loss: 60.65666198730469\n",
            "Could not find optimal region within the defined iteration count. Retry (8) with another random z...\n",
            "6497 images left\n",
            "Loss at Iteration 4000 too high -- Loss: 60.713233947753906\n",
            "Could not find optimal region within the defined iteration count. Retry (9) with another random z...\n",
            "6497 images left\n",
            "Loss at Iteration 4000 too high -- Loss: 61.478919982910156\n",
            "Could not find optimal region within the defined iteration count. Retry (10) with another random z...\n",
            "6497 images left\n",
            "Loss at Iteration 4000 too high -- Loss: 62.33741760253906\n",
            "Could not find optimal region within the defined iteration count. Retry (11) with another random z...\n",
            "6497 images left\n",
            "Loss at Iteration 4000 too high -- Loss: 61.087379455566406\n",
            "Could not find optimal region within the defined iteration count. Retry (12) with another random z...\n",
            "6497 images left\n",
            "Loss at Iteration 4000 too high -- Loss: 60.08437728881836\n",
            "Could not find optimal region within the defined iteration count. Retry (13) with another random z...\n",
            "6497 images left\n",
            "Loss at Iteration 4000 too high -- Loss: 61.604530334472656\n",
            "Could not find optimal region within the defined iteration count. Retry (14) with another random z...\n",
            "6497 images left\n",
            "Loss at Iteration 4000 too high -- Loss: 61.43778610229492\n",
            "Could not find optimal region within the defined iteration count. Retry (15) with another random z...\n",
            "6497 images left\n",
            "Loss at Iteration 4000 too high -- Loss: 66.9088363647461\n",
            "Could not find optimal region within the defined iteration count. Retry (16) with another random z...\n",
            "6497 images left\n",
            "Loss at Iteration 4000 too high -- Loss: 61.03139114379883\n",
            "Could not find optimal region within the defined iteration count. Retry (17) with another random z...\n",
            "6497 images left\n",
            "Loss at Iteration 4000 too high -- Loss: 62.66466522216797\n",
            "Could not find optimal region within the defined iteration count. Retry (18) with another random z...\n",
            "6497 images left\n",
            "Loss at Iteration 4000 too high -- Loss: 60.802276611328125\n",
            "Could not find optimal region within the defined iteration count. Retry (19) with another random z...\n",
            "6497 images left\n",
            "Loss at Iteration 4000 too high -- Loss: 60.49755096435547\n",
            "Could not find optimal region within the defined iteration count. Retry (20) with another random z...\n",
            "6497 images left\n",
            "Loss at Iteration 4000 too high -- Loss: 80.17527770996094\n",
            "Retry Limit reached. Moving on to next sample\n",
            "Original Image That Could Not Be Mapped\n"
          ]
        },
        {
          "output_type": "display_data",
          "data": {
            "text/plain": [
              "<PIL.Image.Image image mode=L size=128x128 at 0x7914319D3EE0>"
            ],
            "image/png": "[encoded data removed]"
          },
          "metadata": {}
        },
        {
          "output_type": "stream",
          "name": "stdout",
          "text": [
            "-----------------------\n",
            "6496 images left\n",
            "Iteration: 5000 -- Current Loss: 54.785404205322266 -- Current Learning-Rate: 0.1\n",
            "Iteration: 10000 -- Current Loss: 53.243839263916016 -- Current Learning-Rate: 0.1\n",
            "Could not find optimal region within the defined iteration count. Retry (1) with another random z...\n",
            "6496 images left\n",
            "Loss at Iteration 4000 too high -- Loss: 62.57313537597656\n",
            "Could not find optimal region within the defined iteration count. Retry (2) with another random z...\n",
            "6496 images left\n",
            "Loss at Iteration 4000 too high -- Loss: 64.59930419921875\n",
            "Could not find optimal region within the defined iteration count. Retry (3) with another random z...\n",
            "6496 images left\n",
            "Loss at Iteration 4000 too high -- Loss: 68.40452575683594\n",
            "Could not find optimal region within the defined iteration count. Retry (4) with another random z...\n",
            "6496 images left\n",
            "Loss at Iteration 4000 too high -- Loss: 63.09858322143555\n",
            "Could not find optimal region within the defined iteration count. Retry (5) with another random z...\n",
            "6496 images left\n",
            "Loss at Iteration 4000 too high -- Loss: 62.98106384277344\n",
            "Could not find optimal region within the defined iteration count. Retry (6) with another random z...\n",
            "6496 images left\n",
            "Loss at Iteration 4000 too high -- Loss: 72.20857238769531\n",
            "Could not find optimal region within the defined iteration count. Retry (7) with another random z...\n",
            "6496 images left\n",
            "Loss at Iteration 4000 too high -- Loss: 66.56295013427734\n",
            "Could not find optimal region within the defined iteration count. Retry (8) with another random z...\n",
            "6496 images left\n",
            "Loss at Iteration 4000 too high -- Loss: 62.046241760253906\n",
            "Could not find optimal region within the defined iteration count. Retry (9) with another random z...\n",
            "6496 images left\n",
            "Loss at Iteration 4000 too high -- Loss: 70.07600402832031\n",
            "Could not find optimal region within the defined iteration count. Retry (10) with another random z...\n",
            "6496 images left\n",
            "Loss at Iteration 4000 too high -- Loss: 62.0483512878418\n",
            "Could not find optimal region within the defined iteration count. Retry (11) with another random z...\n",
            "6496 images left\n",
            "Loss at Iteration 4000 too high -- Loss: 70.52873229980469\n",
            "Could not find optimal region within the defined iteration count. Retry (12) with another random z...\n",
            "6496 images left\n",
            "Loss at Iteration 4000 too high -- Loss: 60.172752380371094\n",
            "Could not find optimal region within the defined iteration count. Retry (13) with another random z...\n",
            "6496 images left\n",
            "Loss at Iteration 4000 too high -- Loss: 64.20033264160156\n",
            "Could not find optimal region within the defined iteration count. Retry (14) with another random z...\n",
            "6496 images left\n",
            "Loss at Iteration 4000 too high -- Loss: 65.37593078613281\n",
            "Could not find optimal region within the defined iteration count. Retry (15) with another random z...\n",
            "6496 images left\n",
            "Loss at Iteration 4000 too high -- Loss: 68.87548828125\n",
            "Could not find optimal region within the defined iteration count. Retry (16) with another random z...\n",
            "6496 images left\n",
            "Iteration: 5000 -- Current Loss: 50.717796325683594 -- Current Learning-Rate: 0.1\n",
            "Iteration: 10000 -- Current Loss: 48.357704162597656 -- Current Learning-Rate: 0.1\n",
            "Iteration: 15000 -- Current Loss: 47.36834716796875 -- Current Learning-Rate: 0.1\n",
            "Iteration: 20000 -- Current Loss: 46.912776947021484 -- Current Learning-Rate: 0.1\n",
            "Iteration: 25000 -- Current Loss: 46.749061584472656 -- Current Learning-Rate: 0.1\n",
            "Iteration: 30000 -- Current Loss: 46.65514373779297 -- Current Learning-Rate: 0.1\n",
            "Iteration: 35000 -- Current Loss: 46.597007751464844 -- Current Learning-Rate: 0.1\n",
            "Iteration: 39999 -- Current Loss: 46.56055450439453 -- Current Learning-Rate: 0.1\n",
            "Original Image\n"
          ]
        },
        {
          "output_type": "display_data",
          "data": {
            "text/plain": [
              "<PIL.Image.Image image mode=L size=128x128 at 0x7914319D3310>"
            ],
            "image/png": "[encoded data removed]"
          },
          "metadata": {}
        },
        {
          "output_type": "stream",
          "name": "stdout",
          "text": [
            "Mapped and Reconstructed Image\n"
          ]
        },
        {
          "output_type": "display_data",
          "data": {
            "text/plain": [
              "<PIL.Image.Image image mode=L size=128x128 at 0x7914319D3730>"
            ],
            "image/png": "[encoded data removed]"
          },
          "metadata": {}
        },
        {
          "output_type": "stream",
          "name": "stdout",
          "text": [
            "-----------------------\n",
            "6495 images left\n",
            "Iteration: 557 -- Reached Defined Optimum -- Final Loss: 39.93864440917969\n",
            "Original Image\n"
          ]
        },
        {
          "output_type": "display_data",
          "data": {
            "text/plain": [
              "<PIL.Image.Image image mode=L size=128x128 at 0x791437F3D150>"
            ],
            "image/png": "[encoded data removed]"
          },
          "metadata": {}
        },
        {
          "output_type": "stream",
          "name": "stdout",
          "text": [
            "Mapped and Reconstructed Image\n"
          ]
        },
        {
          "output_type": "display_data",
          "data": {
            "text/plain": [
              "<PIL.Image.Image image mode=L size=128x128 at 0x791442B62F50>"
            ],
            "image/png": "[encoded data removed]"
          },
          "metadata": {}
        },
        {
          "output_type": "stream",
          "name": "stdout",
          "text": [
            "-----------------------\n",
            "6494 images left\n",
            "Iteration: 5000 -- Current Loss: 58.4724006652832 -- Current Learning-Rate: 0.1\n",
            "Iteration: 10000 -- Current Loss: 56.06672286987305 -- Current Learning-Rate: 0.1\n",
            "Could not find optimal region within the defined iteration count. Retry (1) with another random z...\n",
            "6494 images left\n",
            "Iteration: 5000 -- Current Loss: 56.38196563720703 -- Current Learning-Rate: 0.1\n",
            "Iteration: 10000 -- Current Loss: 54.34966278076172 -- Current Learning-Rate: 0.1\n",
            "Could not find optimal region within the defined iteration count. Retry (2) with another random z...\n",
            "6494 images left\n",
            "Iteration: 5000 -- Current Loss: 56.103179931640625 -- Current Learning-Rate: 0.1\n",
            "Iteration: 10000 -- Current Loss: 55.10174560546875 -- Current Learning-Rate: 0.1\n",
            "Could not find optimal region within the defined iteration count. Retry (3) with another random z...\n",
            "6494 images left\n",
            "Loss at Iteration 4000 too high -- Loss: 61.52152633666992\n",
            "Could not find optimal region within the defined iteration count. Retry (4) with another random z...\n",
            "6494 images left\n",
            "Iteration: 908 -- Reached Defined Optimum -- Final Loss: 39.98846435546875\n",
            "Original Image\n"
          ]
        },
        {
          "output_type": "display_data",
          "data": {
            "text/plain": [
              "<PIL.Image.Image image mode=L size=128x128 at 0x7914319D3310>"
            ],
            "image/png": "[encoded data removed]"
          },
          "metadata": {}
        },
        {
          "output_type": "stream",
          "name": "stdout",
          "text": [
            "Mapped and Reconstructed Image\n"
          ]
        },
        {
          "output_type": "display_data",
          "data": {
            "text/plain": [
              "<PIL.Image.Image image mode=L size=128x128 at 0x7914319D3A60>"
            ],
            "image/png": "[encoded data removed]"
          },
          "metadata": {}
        },
        {
          "output_type": "stream",
          "name": "stdout",
          "text": [
            "-----------------------\n",
            "6493 images left\n",
            "Loss at Iteration 4000 too high -- Loss: 139.30882263183594\n",
            "Could not find optimal region within the defined iteration count. Retry (1) with another random z...\n",
            "6493 images left\n",
            "Loss at Iteration 4000 too high -- Loss: 119.52204132080078\n",
            "Could not find optimal region within the defined iteration count. Retry (2) with another random z...\n",
            "6493 images left\n",
            "Loss at Iteration 4000 too high -- Loss: 108.22669982910156\n",
            "Could not find optimal region within the defined iteration count. Retry (3) with another random z...\n",
            "6493 images left\n",
            "Loss at Iteration 4000 too high -- Loss: 155.3092498779297\n",
            "Could not find optimal region within the defined iteration count. Retry (4) with another random z...\n",
            "6493 images left\n",
            "Loss at Iteration 4000 too high -- Loss: 151.59979248046875\n",
            "Could not find optimal region within the defined iteration count. Retry (5) with another random z...\n",
            "6493 images left\n",
            "Loss at Iteration 4000 too high -- Loss: 160.68081665039062\n",
            "Could not find optimal region within the defined iteration count. Retry (6) with another random z...\n",
            "6493 images left\n",
            "Loss at Iteration 4000 too high -- Loss: 212.53469848632812\n",
            "Could not find optimal region within the defined iteration count. Retry (7) with another random z...\n",
            "6493 images left\n",
            "Loss at Iteration 4000 too high -- Loss: 154.51034545898438\n",
            "Could not find optimal region within the defined iteration count. Retry (8) with another random z...\n",
            "6493 images left\n",
            "Loss at Iteration 4000 too high -- Loss: 186.05902099609375\n",
            "Could not find optimal region within the defined iteration count. Retry (9) with another random z...\n",
            "6493 images left\n",
            "Loss at Iteration 4000 too high -- Loss: 100.72134399414062\n",
            "Could not find optimal region within the defined iteration count. Retry (10) with another random z...\n",
            "6493 images left\n",
            "Loss at Iteration 4000 too high -- Loss: 154.3279266357422\n",
            "Could not find optimal region within the defined iteration count. Retry (11) with another random z...\n",
            "6493 images left\n",
            "Loss at Iteration 4000 too high -- Loss: 135.53164672851562\n",
            "Could not find optimal region within the defined iteration count. Retry (12) with another random z...\n",
            "6493 images left\n",
            "Loss at Iteration 4000 too high -- Loss: 137.82952880859375\n",
            "Could not find optimal region within the defined iteration count. Retry (13) with another random z...\n",
            "6493 images left\n",
            "Loss at Iteration 4000 too high -- Loss: 124.15267181396484\n",
            "Could not find optimal region within the defined iteration count. Retry (14) with another random z...\n",
            "6493 images left\n",
            "Loss at Iteration 4000 too high -- Loss: 191.2408447265625\n",
            "Could not find optimal region within the defined iteration count. Retry (15) with another random z...\n",
            "6493 images left\n",
            "Loss at Iteration 4000 too high -- Loss: 117.75746154785156\n",
            "Could not find optimal region within the defined iteration count. Retry (16) with another random z...\n",
            "6493 images left\n",
            "Loss at Iteration 4000 too high -- Loss: 150.71559143066406\n",
            "Could not find optimal region within the defined iteration count. Retry (17) with another random z...\n",
            "6493 images left\n",
            "Loss at Iteration 4000 too high -- Loss: 110.34487915039062\n",
            "Could not find optimal region within the defined iteration count. Retry (18) with another random z...\n",
            "6493 images left\n",
            "Loss at Iteration 4000 too high -- Loss: 114.30170440673828\n",
            "Could not find optimal region within the defined iteration count. Retry (19) with another random z...\n",
            "6493 images left\n",
            "Loss at Iteration 4000 too high -- Loss: 132.70046997070312\n",
            "Could not find optimal region within the defined iteration count. Retry (20) with another random z...\n",
            "6493 images left\n",
            "Loss at Iteration 4000 too high -- Loss: 122.35417175292969\n",
            "Retry Limit reached. Moving on to next sample\n",
            "Original Image That Could Not Be Mapped\n"
          ]
        },
        {
          "output_type": "display_data",
          "data": {
            "text/plain": [
              "<PIL.Image.Image image mode=L size=128x128 at 0x791437F29A20>"
            ],
            "image/png": "[encoded data removed]"
          },
          "metadata": {}
        },
        {
          "output_type": "stream",
          "name": "stdout",
          "text": [
            "-----------------------\n",
            "6492 images left\n",
            "Iteration: 455 -- Reached Defined Optimum -- Final Loss: 39.966712951660156\n",
            "Original Image\n"
          ]
        },
        {
          "output_type": "display_data",
          "data": {
            "text/plain": [
              "<PIL.Image.Image image mode=L size=128x128 at 0x7914319D3730>"
            ],
            "image/png": "[encoded data removed]"
          },
          "metadata": {}
        },
        {
          "output_type": "stream",
          "name": "stdout",
          "text": [
            "Mapped and Reconstructed Image\n"
          ]
        },
        {
          "output_type": "display_data",
          "data": {
            "text/plain": [
              "<PIL.Image.Image image mode=L size=128x128 at 0x7914319D3EE0>"
            ],
            "image/png": "[encoded data removed]"
          },
          "metadata": {}
        },
        {
          "output_type": "stream",
          "name": "stdout",
          "text": [
            "-----------------------\n",
            "6491 images left\n",
            "Loss at Iteration 4000 too high -- Loss: 71.42195129394531\n",
            "Could not find optimal region within the defined iteration count. Retry (1) with another random z...\n",
            "6491 images left\n",
            "Loss at Iteration 4000 too high -- Loss: 67.62837219238281\n",
            "Could not find optimal region within the defined iteration count. Retry (2) with another random z...\n",
            "6491 images left\n",
            "Loss at Iteration 4000 too high -- Loss: 74.89374542236328\n",
            "Could not find optimal region within the defined iteration count. Retry (3) with another random z...\n",
            "6491 images left\n",
            "Iteration: 5000 -- Current Loss: 51.96242141723633 -- Current Learning-Rate: 0.1\n",
            "Iteration: 10000 -- Current Loss: 50.83638000488281 -- Current Learning-Rate: 0.1\n",
            "Could not find optimal region within the defined iteration count. Retry (4) with another random z...\n",
            "6491 images left\n",
            "Iteration: 5000 -- Current Loss: 54.02947998046875 -- Current Learning-Rate: 0.1\n",
            "Iteration: 10000 -- Current Loss: 53.297176361083984 -- Current Learning-Rate: 0.1\n",
            "Could not find optimal region within the defined iteration count. Retry (5) with another random z...\n",
            "6491 images left\n",
            "Iteration: 5000 -- Current Loss: 53.650047302246094 -- Current Learning-Rate: 0.1\n",
            "Iteration: 10000 -- Current Loss: 50.968223571777344 -- Current Learning-Rate: 0.1\n",
            "Could not find optimal region within the defined iteration count. Retry (6) with another random z...\n",
            "6491 images left\n",
            "Iteration: 5000 -- Current Loss: 50.62239074707031 -- Current Learning-Rate: 0.1\n",
            "Iteration: 10000 -- Current Loss: 49.300987243652344 -- Current Learning-Rate: 0.1\n",
            "Iteration: 15000 -- Current Loss: 48.68337631225586 -- Current Learning-Rate: 0.1\n",
            "Iteration: 20000 -- Current Loss: 48.623050689697266 -- Current Learning-Rate: 0.1\n",
            "Iteration: 25000 -- Current Loss: 48.5682258605957 -- Current Learning-Rate: 0.1\n",
            "Iteration: 30000 -- Current Loss: 48.263816833496094 -- Current Learning-Rate: 0.1\n",
            "Iteration: 35000 -- Current Loss: 48.048336029052734 -- Current Learning-Rate: 0.1\n",
            "Iteration: 39999 -- Current Loss: 47.858177185058594 -- Current Learning-Rate: 0.1\n",
            "Original Image\n"
          ]
        },
        {
          "output_type": "display_data",
          "data": {
            "text/plain": [
              "<PIL.Image.Image image mode=L size=128x128 at 0x791442B62F50>"
            ],
            "image/png": "[encoded data removed]"
          },
          "metadata": {}
        },
        {
          "output_type": "stream",
          "name": "stdout",
          "text": [
            "Mapped and Reconstructed Image\n"
          ]
        },
        {
          "output_type": "display_data",
          "data": {
            "text/plain": [
              "<PIL.Image.Image image mode=L size=128x128 at 0x7914319D3730>"
            ],
            "image/png": "[encoded data removed]"
          },
          "metadata": {}
        },
        {
          "output_type": "stream",
          "name": "stdout",
          "text": [
            "-----------------------\n",
            "6490 images left\n",
            "Iteration: 1841 -- Reached Defined Optimum -- Final Loss: 39.99610137939453\n",
            "Original Image\n"
          ]
        },
        {
          "output_type": "display_data",
          "data": {
            "text/plain": [
              "<PIL.Image.Image image mode=L size=128x128 at 0x791437F3D480>"
            ],
            "image/png": "[encoded data removed]"
          },
          "metadata": {}
        },
        {
          "output_type": "stream",
          "name": "stdout",
          "text": [
            "Mapped and Reconstructed Image\n"
          ]
        },
        {
          "output_type": "display_data",
          "data": {
            "text/plain": [
              "<PIL.Image.Image image mode=L size=128x128 at 0x791437F29930>"
            ],
            "image/png": "[encoded data removed]"
          },
          "metadata": {}
        },
        {
          "output_type": "stream",
          "name": "stdout",
          "text": [
            "-----------------------\n",
            "6489 images left\n",
            "Iteration: 3558 -- Reached Defined Optimum -- Final Loss: 39.99916458129883\n",
            "Original Image\n"
          ]
        },
        {
          "output_type": "display_data",
          "data": {
            "text/plain": [
              "<PIL.Image.Image image mode=L size=128x128 at 0x791437F3D480>"
            ],
            "image/png": "[encoded data removed]"
          },
          "metadata": {}
        },
        {
          "output_type": "stream",
          "name": "stdout",
          "text": [
            "Mapped and Reconstructed Image\n"
          ]
        },
        {
          "output_type": "display_data",
          "data": {
            "text/plain": [
              "<PIL.Image.Image image mode=L size=128x128 at 0x7914319D3EE0>"
            ],
            "image/png": "[encoded data removed]"
          },
          "metadata": {}
        },
        {
          "output_type": "stream",
          "name": "stdout",
          "text": [
            "-----------------------\n",
            "6488 images left\n",
            "Iteration: 5000 -- Current Loss: 49.032318115234375 -- Current Learning-Rate: 0.1\n",
            "Iteration: 10000 -- Current Loss: 47.584625244140625 -- Current Learning-Rate: 0.1\n",
            "Iteration: 15000 -- Current Loss: 47.26947784423828 -- Current Learning-Rate: 0.1\n",
            "Iteration: 20000 -- Current Loss: 47.04381561279297 -- Current Learning-Rate: 0.1\n",
            "Iteration: 25000 -- Current Loss: 46.91899871826172 -- Current Learning-Rate: 0.1\n",
            "Iteration: 30000 -- Current Loss: 46.70731735229492 -- Current Learning-Rate: 0.1\n",
            "Iteration: 35000 -- Current Loss: 46.57073974609375 -- Current Learning-Rate: 0.1\n",
            "Iteration: 39999 -- Current Loss: 46.48908233642578 -- Current Learning-Rate: 0.1\n",
            "Original Image\n"
          ]
        },
        {
          "output_type": "display_data",
          "data": {
            "text/plain": [
              "<PIL.Image.Image image mode=L size=128x128 at 0x791437F3E4A0>"
            ],
            "image/png": "[encoded data removed]"
          },
          "metadata": {}
        },
        {
          "output_type": "stream",
          "name": "stdout",
          "text": [
            "Mapped and Reconstructed Image\n"
          ]
        },
        {
          "output_type": "display_data",
          "data": {
            "text/plain": [
              "<PIL.Image.Image image mode=L size=128x128 at 0x791437F3D480>"
            ],
            "image/png": "[encoded data removed]"
          },
          "metadata": {}
        },
        {
          "output_type": "stream",
          "name": "stdout",
          "text": [
            "-----------------------\n",
            "6487 images left\n",
            "Loss at Iteration 4000 too high -- Loss: 72.37394714355469\n",
            "Could not find optimal region within the defined iteration count. Retry (1) with another random z...\n",
            "6487 images left\n",
            "Iteration: 5000 -- Current Loss: 52.259681701660156 -- Current Learning-Rate: 0.1\n",
            "Iteration: 10000 -- Current Loss: 48.80503845214844 -- Current Learning-Rate: 0.1\n",
            "Iteration: 15000 -- Current Loss: 47.415470123291016 -- Current Learning-Rate: 0.1\n",
            "Iteration: 20000 -- Current Loss: 46.18897247314453 -- Current Learning-Rate: 0.1\n",
            "Iteration: 25000 -- Current Loss: 45.03615951538086 -- Current Learning-Rate: 0.1\n",
            "Iteration: 30000 -- Current Loss: 44.10394287109375 -- Current Learning-Rate: 0.1\n",
            "Iteration: 35000 -- Current Loss: 43.16094207763672 -- Current Learning-Rate: 0.1\n",
            "Iteration: 39999 -- Current Loss: 42.325523376464844 -- Current Learning-Rate: 0.1\n",
            "Original Image\n"
          ]
        },
        {
          "output_type": "display_data",
          "data": {
            "text/plain": [
              "<PIL.Image.Image image mode=L size=128x128 at 0x7914319D3A60>"
            ],
            "image/png": "[encoded data removed]"
          },
          "metadata": {}
        },
        {
          "output_type": "stream",
          "name": "stdout",
          "text": [
            "Mapped and Reconstructed Image\n"
          ]
        },
        {
          "output_type": "display_data",
          "data": {
            "text/plain": [
              "<PIL.Image.Image image mode=L size=128x128 at 0x7914319D3A60>"
            ],
            "image/png": "[encoded data removed]"
          },
          "metadata": {}
        },
        {
          "output_type": "stream",
          "name": "stdout",
          "text": [
            "-----------------------\n",
            "6486 images left\n",
            "Iteration: 340 -- Reached Defined Optimum -- Final Loss: 39.954776763916016\n",
            "Original Image\n"
          ]
        },
        {
          "output_type": "display_data",
          "data": {
            "text/plain": [
              "<PIL.Image.Image image mode=L size=128x128 at 0x791437F3CFD0>"
            ],
            "image/png": "[encoded data removed]"
          },
          "metadata": {}
        },
        {
          "output_type": "stream",
          "name": "stdout",
          "text": [
            "Mapped and Reconstructed Image\n"
          ]
        },
        {
          "output_type": "display_data",
          "data": {
            "text/plain": [
              "<PIL.Image.Image image mode=L size=128x128 at 0x791437F3CFD0>"
            ],
            "image/png": "[encoded data removed]"
          },
          "metadata": {}
        },
        {
          "output_type": "stream",
          "name": "stdout",
          "text": [
            "-----------------------\n",
            "6485 images left\n",
            "Iteration: 554 -- Reached Defined Optimum -- Final Loss: 39.96437072753906\n",
            "Original Image\n"
          ]
        },
        {
          "output_type": "display_data",
          "data": {
            "text/plain": [
              "<PIL.Image.Image image mode=L size=128x128 at 0x791437F29A20>"
            ],
            "image/png": "[encoded data removed]"
          },
          "metadata": {}
        },
        {
          "output_type": "stream",
          "name": "stdout",
          "text": [
            "Mapped and Reconstructed Image\n"
          ]
        },
        {
          "output_type": "display_data",
          "data": {
            "text/plain": [
              "<PIL.Image.Image image mode=L size=128x128 at 0x791437F29930>"
            ],
            "image/png": "[encoded data removed]"
          },
          "metadata": {}
        },
        {
          "output_type": "stream",
          "name": "stdout",
          "text": [
            "-----------------------\n",
            "6484 images left\n",
            "Iteration: 597 -- Reached Defined Optimum -- Final Loss: 39.99510955810547\n",
            "Original Image\n"
          ]
        },
        {
          "output_type": "display_data",
          "data": {
            "text/plain": [
              "<PIL.Image.Image image mode=L size=128x128 at 0x791437F3E4A0>"
            ],
            "image/png": "[encoded data removed]"
          },
          "metadata": {}
        },
        {
          "output_type": "stream",
          "name": "stdout",
          "text": [
            "Mapped and Reconstructed Image\n"
          ]
        },
        {
          "output_type": "display_data",
          "data": {
            "text/plain": [
              "<PIL.Image.Image image mode=L size=128x128 at 0x791437F3CFD0>"
            ],
            "image/png": "[encoded data removed]"
          },
          "metadata": {}
        },
        {
          "output_type": "stream",
          "name": "stdout",
          "text": [
            "-----------------------\n",
            "6483 images left\n",
            "Iteration: 5000 -- Current Loss: 57.862091064453125 -- Current Learning-Rate: 0.1\n",
            "Iteration: 10000 -- Current Loss: 56.7652587890625 -- Current Learning-Rate: 0.1\n",
            "Could not find optimal region within the defined iteration count. Retry (1) with another random z...\n",
            "6483 images left\n",
            "Iteration: 5000 -- Current Loss: 58.137264251708984 -- Current Learning-Rate: 0.1\n",
            "Iteration: 10000 -- Current Loss: 55.79133987426758 -- Current Learning-Rate: 0.1\n",
            "Could not find optimal region within the defined iteration count. Retry (2) with another random z...\n",
            "6483 images left\n",
            "Iteration: 5000 -- Current Loss: 56.309181213378906 -- Current Learning-Rate: 0.1\n",
            "Iteration: 10000 -- Current Loss: 55.45556640625 -- Current Learning-Rate: 0.1\n",
            "Could not find optimal region within the defined iteration count. Retry (3) with another random z...\n",
            "6483 images left\n",
            "Iteration: 5000 -- Current Loss: 57.91265869140625 -- Current Learning-Rate: 0.1\n",
            "Iteration: 10000 -- Current Loss: 56.56615447998047 -- Current Learning-Rate: 0.1\n",
            "Could not find optimal region within the defined iteration count. Retry (4) with another random z...\n",
            "6483 images left\n",
            "Iteration: 5000 -- Current Loss: 54.897220611572266 -- Current Learning-Rate: 0.1\n",
            "Iteration: 10000 -- Current Loss: 52.92507553100586 -- Current Learning-Rate: 0.1\n",
            "Could not find optimal region within the defined iteration count. Retry (5) with another random z...\n",
            "6483 images left\n",
            "Loss at Iteration 4000 too high -- Loss: 60.90218734741211\n",
            "Could not find optimal region within the defined iteration count. Retry (6) with another random z...\n",
            "6483 images left\n",
            "Iteration: 5000 -- Current Loss: 57.58206558227539 -- Current Learning-Rate: 0.1\n",
            "Iteration: 10000 -- Current Loss: 56.428070068359375 -- Current Learning-Rate: 0.1\n",
            "Could not find optimal region within the defined iteration count. Retry (7) with another random z...\n",
            "6483 images left\n",
            "Loss at Iteration 4000 too high -- Loss: 60.574256896972656\n",
            "Could not find optimal region within the defined iteration count. Retry (8) with another random z...\n",
            "6483 images left\n",
            "Iteration: 5000 -- Current Loss: 57.14371871948242 -- Current Learning-Rate: 0.1\n",
            "Iteration: 10000 -- Current Loss: 56.147064208984375 -- Current Learning-Rate: 0.1\n",
            "Could not find optimal region within the defined iteration count. Retry (9) with another random z...\n",
            "6483 images left\n",
            "Iteration: 5000 -- Current Loss: 49.43376922607422 -- Current Learning-Rate: 0.1\n",
            "Iteration: 10000 -- Current Loss: 47.649471282958984 -- Current Learning-Rate: 0.1\n",
            "Iteration: 15000 -- Current Loss: 47.27199935913086 -- Current Learning-Rate: 0.1\n",
            "Iteration: 20000 -- Current Loss: 46.9481201171875 -- Current Learning-Rate: 0.1\n",
            "Iteration: 25000 -- Current Loss: 46.59346008300781 -- Current Learning-Rate: 0.1\n",
            "Iteration: 30000 -- Current Loss: 46.49201965332031 -- Current Learning-Rate: 0.1\n",
            "Iteration: 35000 -- Current Loss: 46.32469177246094 -- Current Learning-Rate: 0.1\n",
            "Iteration: 39999 -- Current Loss: 46.05136489868164 -- Current Learning-Rate: 0.1\n",
            "Original Image\n"
          ]
        },
        {
          "output_type": "display_data",
          "data": {
            "text/plain": [
              "<PIL.Image.Image image mode=L size=128x128 at 0x7914319D3A60>"
            ],
            "image/png": "[encoded data removed]"
          },
          "metadata": {}
        },
        {
          "output_type": "stream",
          "name": "stdout",
          "text": [
            "Mapped and Reconstructed Image\n"
          ]
        },
        {
          "output_type": "display_data",
          "data": {
            "text/plain": [
              "<PIL.Image.Image image mode=L size=128x128 at 0x791437F29A20>"
            ],
            "image/png": "[encoded data removed]"
          },
          "metadata": {}
        },
        {
          "output_type": "stream",
          "name": "stdout",
          "text": [
            "-----------------------\n",
            "6482 images left\n",
            "Loss at Iteration 4000 too high -- Loss: 208.29505920410156\n",
            "Could not find optimal region within the defined iteration count. Retry (1) with another random z...\n",
            "6482 images left\n",
            "Loss at Iteration 4000 too high -- Loss: 68.3353271484375\n",
            "Could not find optimal region within the defined iteration count. Retry (2) with another random z...\n",
            "6482 images left\n",
            "Loss at Iteration 4000 too high -- Loss: 83.94263458251953\n",
            "Could not find optimal region within the defined iteration count. Retry (3) with another random z...\n",
            "6482 images left\n",
            "Loss at Iteration 4000 too high -- Loss: 171.3458251953125\n",
            "Could not find optimal region within the defined iteration count. Retry (4) with another random z...\n",
            "6482 images left\n",
            "Loss at Iteration 4000 too high -- Loss: 127.03248596191406\n",
            "Could not find optimal region within the defined iteration count. Retry (5) with another random z...\n",
            "6482 images left\n",
            "Loss at Iteration 4000 too high -- Loss: 111.87275695800781\n",
            "Could not find optimal region within the defined iteration count. Retry (6) with another random z...\n",
            "6482 images left\n",
            "Loss at Iteration 4000 too high -- Loss: 73.13665771484375\n",
            "Could not find optimal region within the defined iteration count. Retry (7) with another random z...\n",
            "6482 images left\n",
            "Loss at Iteration 4000 too high -- Loss: 103.20674133300781\n",
            "Could not find optimal region within the defined iteration count. Retry (8) with another random z...\n",
            "6482 images left\n",
            "Loss at Iteration 4000 too high -- Loss: 68.80464172363281\n",
            "Could not find optimal region within the defined iteration count. Retry (9) with another random z...\n",
            "6482 images left\n",
            "Loss at Iteration 4000 too high -- Loss: 72.67036437988281\n",
            "Could not find optimal region within the defined iteration count. Retry (10) with another random z...\n",
            "6482 images left\n",
            "Loss at Iteration 4000 too high -- Loss: 122.57347106933594\n",
            "Could not find optimal region within the defined iteration count. Retry (11) with another random z...\n",
            "6482 images left\n",
            "Loss at Iteration 4000 too high -- Loss: 128.40618896484375\n",
            "Could not find optimal region within the defined iteration count. Retry (12) with another random z...\n",
            "6482 images left\n",
            "Loss at Iteration 4000 too high -- Loss: 75.52942657470703\n",
            "Could not find optimal region within the defined iteration count. Retry (13) with another random z...\n",
            "6482 images left\n",
            "Loss at Iteration 4000 too high -- Loss: 70.54800415039062\n",
            "Could not find optimal region within the defined iteration count. Retry (14) with another random z...\n",
            "6482 images left\n",
            "Loss at Iteration 4000 too high -- Loss: 69.99179077148438\n",
            "Could not find optimal region within the defined iteration count. Retry (15) with another random z...\n",
            "6482 images left\n",
            "Loss at Iteration 4000 too high -- Loss: 75.98200225830078\n",
            "Could not find optimal region within the defined iteration count. Retry (16) with another random z...\n",
            "6482 images left\n",
            "Loss at Iteration 4000 too high -- Loss: 70.36705017089844\n",
            "Could not find optimal region within the defined iteration count. Retry (17) with another random z...\n",
            "6482 images left\n",
            "Loss at Iteration 4000 too high -- Loss: 220.87213134765625\n",
            "Could not find optimal region within the defined iteration count. Retry (18) with another random z...\n",
            "6482 images left\n",
            "Loss at Iteration 4000 too high -- Loss: 75.90215301513672\n",
            "Could not find optimal region within the defined iteration count. Retry (19) with another random z...\n",
            "6482 images left\n",
            "Loss at Iteration 4000 too high -- Loss: 70.64398193359375\n",
            "Could not find optimal region within the defined iteration count. Retry (20) with another random z...\n",
            "6482 images left\n",
            "Loss at Iteration 4000 too high -- Loss: 217.45298767089844\n",
            "Retry Limit reached. Moving on to next sample\n",
            "Original Image That Could Not Be Mapped\n"
          ]
        },
        {
          "output_type": "display_data",
          "data": {
            "text/plain": [
              "<PIL.Image.Image image mode=L size=128x128 at 0x7914319D3730>"
            ],
            "image/png": "[encoded data removed]"
          },
          "metadata": {}
        },
        {
          "output_type": "stream",
          "name": "stdout",
          "text": [
            "-----------------------\n",
            "6481 images left\n",
            "Loss at Iteration 4000 too high -- Loss: 62.68345260620117\n",
            "Could not find optimal region within the defined iteration count. Retry (1) with another random z...\n",
            "6481 images left\n",
            "Loss at Iteration 4000 too high -- Loss: 66.32392120361328\n",
            "Could not find optimal region within the defined iteration count. Retry (2) with another random z...\n",
            "6481 images left\n",
            "Loss at Iteration 4000 too high -- Loss: 80.24627685546875\n",
            "Could not find optimal region within the defined iteration count. Retry (3) with another random z...\n",
            "6481 images left\n",
            "Loss at Iteration 4000 too high -- Loss: 78.41650390625\n",
            "Could not find optimal region within the defined iteration count. Retry (4) with another random z...\n",
            "6481 images left\n",
            "Loss at Iteration 4000 too high -- Loss: 85.39590454101562\n",
            "Could not find optimal region within the defined iteration count. Retry (5) with another random z...\n",
            "6481 images left\n",
            "Loss at Iteration 4000 too high -- Loss: 74.12992858886719\n",
            "Could not find optimal region within the defined iteration count. Retry (6) with another random z...\n",
            "6481 images left\n",
            "Loss at Iteration 4000 too high -- Loss: 79.40325927734375\n",
            "Could not find optimal region within the defined iteration count. Retry (7) with another random z...\n",
            "6481 images left\n",
            "Loss at Iteration 4000 too high -- Loss: 68.31723022460938\n",
            "Could not find optimal region within the defined iteration count. Retry (8) with another random z...\n",
            "6481 images left\n",
            "Loss at Iteration 4000 too high -- Loss: 61.27366638183594\n",
            "Could not find optimal region within the defined iteration count. Retry (9) with another random z...\n",
            "6481 images left\n",
            "Loss at Iteration 4000 too high -- Loss: 80.83346557617188\n",
            "Could not find optimal region within the defined iteration count. Retry (10) with another random z...\n",
            "6481 images left\n",
            "Loss at Iteration 4000 too high -- Loss: 85.21171569824219\n",
            "Could not find optimal region within the defined iteration count. Retry (11) with another random z...\n",
            "6481 images left\n",
            "Iteration: 5000 -- Current Loss: 53.910682678222656 -- Current Learning-Rate: 0.1\n",
            "Iteration: 10000 -- Current Loss: 51.399227142333984 -- Current Learning-Rate: 0.1\n",
            "Could not find optimal region within the defined iteration count. Retry (12) with another random z...\n",
            "6481 images left\n",
            "Loss at Iteration 4000 too high -- Loss: 82.0751953125\n",
            "Could not find optimal region within the defined iteration count. Retry (13) with another random z...\n",
            "6481 images left\n",
            "Loss at Iteration 4000 too high -- Loss: 76.69178771972656\n",
            "Could not find optimal region within the defined iteration count. Retry (14) with another random z...\n",
            "6481 images left\n",
            "Loss at Iteration 4000 too high -- Loss: 79.14215850830078\n",
            "Could not find optimal region within the defined iteration count. Retry (15) with another random z...\n",
            "6481 images left\n",
            "Loss at Iteration 4000 too high -- Loss: 89.25518798828125\n",
            "Could not find optimal region within the defined iteration count. Retry (16) with another random z...\n",
            "6481 images left\n",
            "Loss at Iteration 4000 too high -- Loss: 77.5875244140625\n",
            "Could not find optimal region within the defined iteration count. Retry (17) with another random z...\n",
            "6481 images left\n",
            "Loss at Iteration 4000 too high -- Loss: 84.90184020996094\n",
            "Could not find optimal region within the defined iteration count. Retry (18) with another random z...\n",
            "6481 images left\n",
            "Loss at Iteration 4000 too high -- Loss: 87.01103973388672\n",
            "Could not find optimal region within the defined iteration count. Retry (19) with another random z...\n",
            "6481 images left\n",
            "Loss at Iteration 4000 too high -- Loss: 79.73320770263672\n",
            "Could not find optimal region within the defined iteration count. Retry (20) with another random z...\n",
            "6481 images left\n",
            "Iteration: 1048 -- Reached Defined Optimum -- Final Loss: 39.990264892578125\n",
            "Original Image\n"
          ]
        },
        {
          "output_type": "display_data",
          "data": {
            "text/plain": [
              "<PIL.Image.Image image mode=L size=128x128 at 0x7914319D3A60>"
            ],
            "image/png": "[encoded data removed]"
          },
          "metadata": {}
        },
        {
          "output_type": "stream",
          "name": "stdout",
          "text": [
            "Mapped and Reconstructed Image\n"
          ]
        },
        {
          "output_type": "display_data",
          "data": {
            "text/plain": [
              "<PIL.Image.Image image mode=L size=128x128 at 0x791442B63B50>"
            ],
            "image/png": "[encoded data removed]"
          },
          "metadata": {}
        },
        {
          "output_type": "stream",
          "name": "stdout",
          "text": [
            "-----------------------\n",
            "6480 images left\n",
            "Iteration: 1378 -- Reached Defined Optimum -- Final Loss: 39.9996452331543\n",
            "Original Image\n"
          ]
        },
        {
          "output_type": "display_data",
          "data": {
            "text/plain": [
              "<PIL.Image.Image image mode=L size=128x128 at 0x7914319D3A60>"
            ],
            "image/png": "[encoded data removed]"
          },
          "metadata": {}
        },
        {
          "output_type": "stream",
          "name": "stdout",
          "text": [
            "Mapped and Reconstructed Image\n"
          ]
        },
        {
          "output_type": "display_data",
          "data": {
            "text/plain": [
              "<PIL.Image.Image image mode=L size=128x128 at 0x7914319D3A60>"
            ],
            "image/png": "[encoded data removed]"
          },
          "metadata": {}
        },
        {
          "output_type": "stream",
          "name": "stdout",
          "text": [
            "-----------------------\n",
            "6479 images left\n",
            "Loss at Iteration 4000 too high -- Loss: 70.6929931640625\n",
            "Could not find optimal region within the defined iteration count. Retry (1) with another random z...\n",
            "6479 images left\n",
            "Loss at Iteration 4000 too high -- Loss: 80.17012023925781\n",
            "Could not find optimal region within the defined iteration count. Retry (2) with another random z...\n",
            "6479 images left\n",
            "Loss at Iteration 4000 too high -- Loss: 77.22914123535156\n",
            "Could not find optimal region within the defined iteration count. Retry (3) with another random z...\n",
            "6479 images left\n",
            "Loss at Iteration 4000 too high -- Loss: 86.18907165527344\n",
            "Could not find optimal region within the defined iteration count. Retry (4) with another random z...\n",
            "6479 images left\n",
            "Loss at Iteration 4000 too high -- Loss: 68.12570190429688\n",
            "Could not find optimal region within the defined iteration count. Retry (5) with another random z...\n",
            "6479 images left\n",
            "Loss at Iteration 4000 too high -- Loss: 71.22286987304688\n",
            "Could not find optimal region within the defined iteration count. Retry (6) with another random z...\n",
            "6479 images left\n",
            "Loss at Iteration 4000 too high -- Loss: 73.93707275390625\n",
            "Could not find optimal region within the defined iteration count. Retry (7) with another random z...\n",
            "6479 images left\n",
            "Loss at Iteration 4000 too high -- Loss: 69.45103454589844\n",
            "Could not find optimal region within the defined iteration count. Retry (8) with another random z...\n",
            "6479 images left\n",
            "Loss at Iteration 4000 too high -- Loss: 76.35352325439453\n",
            "Could not find optimal region within the defined iteration count. Retry (9) with another random z...\n",
            "6479 images left\n",
            "Loss at Iteration 4000 too high -- Loss: 86.51962280273438\n",
            "Could not find optimal region within the defined iteration count. Retry (10) with another random z...\n",
            "6479 images left\n",
            "Loss at Iteration 4000 too high -- Loss: 75.74401092529297\n",
            "Could not find optimal region within the defined iteration count. Retry (11) with another random z...\n",
            "6479 images left\n",
            "Loss at Iteration 4000 too high -- Loss: 70.10302734375\n",
            "Could not find optimal region within the defined iteration count. Retry (12) with another random z...\n",
            "6479 images left\n",
            "Loss at Iteration 4000 too high -- Loss: 73.7401123046875\n",
            "Could not find optimal region within the defined iteration count. Retry (13) with another random z...\n",
            "6479 images left\n",
            "Loss at Iteration 4000 too high -- Loss: 69.76689147949219\n",
            "Could not find optimal region within the defined iteration count. Retry (14) with another random z...\n",
            "6479 images left\n",
            "Loss at Iteration 4000 too high -- Loss: 72.95304870605469\n",
            "Could not find optimal region within the defined iteration count. Retry (15) with another random z...\n",
            "6479 images left\n"
          ]
        }
      ],
      "source": [
        "from torch.cuda import reset_max_memory_allocated\n",
        "def create_cp(iteration_number):\n",
        "  print(\"CREATING CHECKPOINT...\")\n",
        "  drive.mount('/content/drive', force_remount=True)\n",
        "  shutil.make_archive(f\"/content/drive/MyDrive/Colab/data/latent_space_mappings_cp/latent_space_mappings_cp{iteration_number}\", 'zip', \"/content/data/latent_space_mappings\")\n",
        "\n",
        "def save_to_drive(mapped_z, iteration_number, csv_path):\n",
        "  torch.save(mapped_z, f'/content/drive/MyDrive/Colab/data/latent_space_mappings/mapped_z_{iteration_number}.pt')\n",
        "  shutil.copy(csv_path, \"/content/drive/MyDrive/Colab/data/latent_space_mappings/latent_space_mappings.csv\")\n",
        "\n",
        "base_folder = \"/content/data/latent_space_mappings\"\n",
        "csv_path = os.path.join(base_folder, \"latent_space_mappings.csv\")\n",
        "\n",
        "\n",
        "prepare_target_folder = True\n",
        "if prepare_target_folder:\n",
        "    if not os.path.exists(base_folder):\n",
        "        os.mkdir(base_folder)\n",
        "\n",
        "    if os.path.exists(base_folder):\n",
        "        shutil.rmtree(base_folder)\n",
        "        os.mkdir(base_folder)\n",
        "\n",
        "    with open(csv_path, 'a', newline='') as file:\n",
        "        writer = csv.writer(file)\n",
        "        fields = [\"filename\", \"label\", \"anomaly\", \"reconstruction_loss\"]\n",
        "        writer.writerow(fields)\n",
        "\n",
        "# Start mapping\n",
        "map_anomalies = True\n",
        "map_normals = True\n",
        "t = transforms.ToPILImage()\n",
        "lsm: LatentSpaceMapper = LatentSpaceMapper(generator=generator, discriminator=discriminator, device=device)\n",
        "mapped_images = []\n",
        "cp_counter = 0\n",
        "counter = len(ano_mnist_dataset)\n",
        "\n",
        "i = 0\n",
        "retry_counter = 0\n",
        "while i < len(ano_mnist_dataset):\n",
        "    if i % 50 == 0 and i != 0:\n",
        "        clear_output()\n",
        "        print(\"Cleared Output...\")\n",
        "\n",
        "    print(f\"{counter} images left\")\n",
        "\n",
        "    max_retries = 20\n",
        "    opt_threshold=40\n",
        "    ignore_rules_below_threshold=50\n",
        "    immediate_retry_threshold=60\n",
        "    max_opt_iterations=40000\n",
        "\n",
        "    if (ano_mnist_dataset[i][1][\"anomaly\"] == True and map_anomalies) or (ano_mnist_dataset[i][1][\"anomaly\"] == False and map_normals):\n",
        "        mapped_z, reconstruction_loss, retry = lsm.map_image_to_point_in_latent_space(ano_mnist_dataset[i][0],\n",
        "                                                                               batch_size=1,\n",
        "                                                                               max_opt_iterations=max_opt_iterations,\n",
        "                                                                               plateu_threshold=0.0005,\n",
        "                                                                               check_every_n_iter=4000,\n",
        "                                                                               learning_rate=0.1,\n",
        "                                                                               print_every_n_iters=5000,\n",
        "                                                                               retry_after_n_iters=10000,\n",
        "                                                                               ignore_rules_below_threshold=ignore_rules_below_threshold,\n",
        "                                                                               opt_threshold=opt_threshold,\n",
        "                                                                               immediate_retry_threshold=immediate_retry_threshold)\n",
        "\n",
        "        if retry:\n",
        "            if retry_counter == max_retries:\n",
        "                retry_counter = 0\n",
        "                i+=1\n",
        "                counter-=1\n",
        "                print(\"Retry Limit reached. Moving on to next sample\")\n",
        "                print('Original Image That Could Not Be Mapped')\n",
        "                t(ano_mnist_dataset[i][0]).resize((128, 128), PIL.Image.NEAREST).show()\n",
        "                print('-----------------------')\n",
        "                continue\n",
        "            else:\n",
        "                retry_counter += 1\n",
        "                print(f\"Could not find optimal region within the defined iteration count. Retry ({retry_counter}) with another random z...\")\n",
        "                continue\n",
        "\n",
        "        retry_counter = 0\n",
        "        mapped_images.append(mapped_z)\n",
        "        with open(csv_path, 'a', newline='') as file:\n",
        "            writer = csv.writer(file)\n",
        "            fields = [f'mapped_z_{counter}.pt', ano_mnist_dataset[i][1][\"label\"], ano_mnist_dataset[i][1][\"anomaly\"], math.floor(reconstruction_loss)]\n",
        "            writer.writerow(fields)\n",
        "\n",
        "        torch.save(mapped_z, os.path.join(base_folder, f'mapped_z_{counter}.pt'))\n",
        "        save_to_drive(mapped_z, counter, csv_path)\n",
        "        cp_counter += 1\n",
        "        if cp_counter % 50 == 0:\n",
        "          create_cp(counter)\n",
        "          clear_output\n",
        "\n",
        "        print('Original Image')\n",
        "        t(ano_mnist_dataset[i][0]).resize((128, 128), PIL.Image.NEAREST).show()\n",
        "        print('Mapped and Reconstructed Image')\n",
        "        original_img = generator(mapped_z).cpu()\n",
        "        img = t(original_img[0]).resize((128, 128), PIL.Image.NEAREST)\n",
        "        img.show()\n",
        "        print('-----------------------')\n",
        "\n",
        "    i+=1\n",
        "    counter-=1\n",
        "\n",
        "create_cp(0)"
      ],
      "metadata": {
        "ExecuteTime": {
          "end_time": "2023-06-19T13:17:18.568254955Z",
          "start_time": "2023-06-19T13:17:09.250792045Z"
        },
        "id": "Y611jafizmex",
        "outputId": "d06c25d2-2a74-419d-8945-422baa034285",
        "colab": {
          "base_uri": "https://localhost:8080/",
          "height": 1000
        }
      }
    },
    {
      "cell_type": "code",
      "source": [],
      "metadata": {
        "id": "AHpnpEgVeeV_"
      },
      "execution_count": null,
      "outputs": []
    }
  ],
  "metadata": {
    "kernelspec": {
      "display_name": "Python 3",
      "name": "python3"
    },
    "language_info": {
      "codemirror_mode": {
        "name": "ipython",
        "version": 2
      },
      "file_extension": ".py",
      "mimetype": "text/x-python",
      "name": "python",
      "nbconvert_exporter": "python",
      "pygments_lexer": "ipython2",
      "version": "2.7.6"
    },
    "colab": {
      "provenance": [],
      "machine_shape": "hm",
      "gpuType": "V100"
    },
    "accelerator": "GPU"
  },
  "nbformat": 4,
  "nbformat_minor": 0
}