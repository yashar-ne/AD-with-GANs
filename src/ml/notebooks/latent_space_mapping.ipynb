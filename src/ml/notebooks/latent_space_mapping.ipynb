{
  "cells": [
    {
      "cell_type": "code",
      "source": [
        "from google.colab import drive\n",
        "drive.mount('/content/drive', force_remount=True)"
      ],
      "metadata": {
        "id": "9rCsmPpNzrBo",
        "outputId": "bfadf9c3-ce3e-4e1a-bf7e-e08e8f9f3bed",
        "colab": {
          "base_uri": "https://localhost:8080/"
        }
      },
      "execution_count": 46,
      "outputs": [
        {
          "output_type": "stream",
          "name": "stdout",
          "text": [
            "Mounted at /content/drive\n"
          ]
        }
      ]
    },
    {
      "cell_type": "code",
      "execution_count": 47,
      "metadata": {
        "collapsed": true,
        "ExecuteTime": {
          "end_time": "2023-06-19T13:16:49.352615778Z",
          "start_time": "2023-06-19T13:16:49.272631925Z"
        },
        "id": "uKhESdEpzmea"
      },
      "outputs": [],
      "source": [
        "import torch\n",
        "import torch.nn as nn\n",
        "import torch.optim.lr_scheduler as lr_scheduler\n",
        "from PIL import Image\n",
        "from torchvision import transforms, datasets\n",
        "import os\n",
        "import shutil\n",
        "import random\n",
        "import csv\n",
        "import zipfile\n",
        "import PIL\n",
        "import math\n",
        "from IPython.display import clear_output"
      ]
    },
    {
      "cell_type": "code",
      "execution_count": 48,
      "outputs": [],
      "source": [
        "class Generator(nn.Module):\n",
        "    def __init__(self, size_z, num_feature_maps, num_color_channels):\n",
        "        super(Generator, self).__init__()\n",
        "        self.size_z = size_z\n",
        "        self.network = nn.Sequential(\n",
        "            nn.ConvTranspose2d(self.size_z, num_feature_maps * 4, 4, 1, 0, bias=False),\n",
        "            nn.BatchNorm2d(num_feature_maps * 4),\n",
        "            nn.ReLU(True),\n",
        "\n",
        "            nn.ConvTranspose2d(num_feature_maps * 4, num_feature_maps * 2, 3, 2, 1, bias=False),\n",
        "            nn.BatchNorm2d(num_feature_maps * 2),\n",
        "            nn.ReLU(True),\n",
        "\n",
        "            nn.ConvTranspose2d(num_feature_maps * 2, num_feature_maps, 4, 2, 1, bias=False),\n",
        "            nn.BatchNorm2d(num_feature_maps),\n",
        "            nn.ReLU(True),\n",
        "\n",
        "            nn.ConvTranspose2d(num_feature_maps, num_color_channels, 4, 2, 1, bias=False),\n",
        "            nn.Tanh()\n",
        "        )\n",
        "\n",
        "    def forward(self, x):\n",
        "        output = self.network(x)\n",
        "        return output\n",
        "\n",
        "    def gen_shifted(self, x, shift):\n",
        "        shift = torch.unsqueeze(shift, -1)\n",
        "        shift = torch.unsqueeze(shift, -1)\n",
        "        return self.forward(x + shift)"
      ],
      "metadata": {
        "ExecuteTime": {
          "end_time": "2023-06-19T13:16:50.491940517Z",
          "start_time": "2023-06-19T13:16:50.476819472Z"
        },
        "id": "AZKotCEvzmee"
      }
    },
    {
      "cell_type": "code",
      "execution_count": 49,
      "outputs": [],
      "source": [
        "class Discriminator(nn.Module):\n",
        "    def __init__(self, num_feature_maps, num_color_channels):\n",
        "        super(Discriminator, self).__init__()\n",
        "        self.layer1 = nn.Sequential(\n",
        "            nn.Conv2d(num_color_channels, num_feature_maps, 4, 2, 1, bias=False),\n",
        "            nn.LeakyReLU(0.2, inplace=True),\n",
        "        )\n",
        "        self.layer2 = nn.Sequential(\n",
        "            nn.Conv2d(num_feature_maps, num_feature_maps * 2, 4, 2, 1, bias=False),\n",
        "            nn.BatchNorm2d(num_feature_maps * 2),\n",
        "            nn.LeakyReLU(0.2, inplace=True),\n",
        "        )\n",
        "        self.layer3 = nn.Sequential(\n",
        "            nn.Conv2d(num_feature_maps * 2, num_feature_maps * 4, 3, 2, 1, bias=False),\n",
        "            nn.BatchNorm2d(num_feature_maps * 4),\n",
        "            nn.LeakyReLU(0.2, inplace=True),\n",
        "        )\n",
        "        self.fc = nn.Sequential(\n",
        "            nn.Conv2d(num_feature_maps * 4, 1, 4, 1, 0, bias=False),\n",
        "            nn.Sigmoid()\n",
        "        )\n",
        "\n",
        "    def forward(self, x):\n",
        "        out = self.layer1(x)\n",
        "        out = self.layer2(out)\n",
        "        out = self.layer3(out)\n",
        "        feature = out\n",
        "        out = self.fc(out)\n",
        "        return out.view(-1, 1).squeeze(1), feature"
      ],
      "metadata": {
        "ExecuteTime": {
          "end_time": "2023-06-19T13:16:51.402689357Z",
          "start_time": "2023-06-19T13:16:51.383963387Z"
        },
        "id": "9jo7Zrbczmeh"
      }
    },
    {
      "cell_type": "code",
      "execution_count": 85,
      "outputs": [],
      "source": [
        "class LatentSpaceMapper:\n",
        "    def __init__(self, generator: Generator, discriminator: Discriminator, device):\n",
        "        self.generator: Generator = generator\n",
        "        self.generator.to(device)\n",
        "        self.discriminator: Discriminator = discriminator\n",
        "        self.discriminator.to(device)\n",
        "        self.device = device\n",
        "\n",
        "    def map_image_to_point_in_latent_space(self, image: torch.Tensor, batch_size=1, size_z=100, max_opt_iterations=30000, opt_threshold=140.0, plateu_threshold=3.0, plateu_check_every_n_iter=4000, learning_rate=0.4, print_every_n_iters=10000, ignore_rules_below_threshold=50, retry_after_n_iters=10000):\n",
        "        image.to(self.device)\n",
        "        z = torch.randn(batch_size, size_z, 1, 1, device=self.device, requires_grad=True)\n",
        "        z_optimizer = torch.optim.Adam([z], lr=learning_rate)\n",
        "        losses = []\n",
        "        final_loss = 0\n",
        "        latest_checkpoint_loss = 0\n",
        "\n",
        "        scheduler = lr_scheduler.LinearLR(z_optimizer, start_factor=0.5, end_factor=0.0001, total_iters=max_opt_iterations-(math.floor(max_opt_iterations*0.2)))\n",
        "        for i in range(max_opt_iterations):\n",
        "            retry = False\n",
        "            loss = self.__get_anomaly_score(z, image.unsqueeze(0).to(self.device))\n",
        "            loss.backward()\n",
        "            z_optimizer.step()\n",
        "            final_loss = loss.data.item()\n",
        "\n",
        "            if i == 1:\n",
        "                latest_checkpoint_loss = loss.data.item()\n",
        "\n",
        "            if loss.data.item() < opt_threshold*batch_size:\n",
        "                print(f\"Iteration: {i} -- Reached Defined Optimum -- Final Loss: {loss.data.item()}\")\n",
        "                break\n",
        "\n",
        "            if i % print_every_n_iters == 0 or i == max_opt_iterations-1:\n",
        "                print(f\"Iteration: {i} -- Current Loss: {loss.data.item()} -- Current Learning-Rate: {z_optimizer.param_groups[0]['lr']}\")\n",
        "                losses.append(loss.data.item())\n",
        "\n",
        "            if i % plateu_check_every_n_iter == 0:\n",
        "                if abs(loss.data.item()-latest_checkpoint_loss) < plateu_threshold and loss.data.item() > ignore_rules_below_threshold:\n",
        "                    print(f\"Reached Plateu at Iteration {i} -- Loss: {loss.data.item()}\")\n",
        "                    retry = True\n",
        "                    break\n",
        "                latest_checkpoint_loss = loss.data.item()\n",
        "\n",
        "            if i == retry_after_n_iters and loss.data.item() > ignore_rules_below_threshold:\n",
        "                retry = True\n",
        "                break\n",
        "\n",
        "            scheduler.step()\n",
        "\n",
        "        return z, final_loss, retry\n",
        "\n",
        "    def __get_anomaly_score(self, z, x_query):\n",
        "        lamda = 0.1\n",
        "        g_z = self.generator(z.to(self.device))\n",
        "        #_, x_prop = self.discriminator(x_query)\n",
        "        #_, g_z_prop = self.discriminator(g_z)\n",
        "\n",
        "        loss_r = torch.sum(torch.abs(x_query - g_z))\n",
        "        #loss_d = torch.sum(torch.abs(x_prop - g_z_prop))\n",
        "\n",
        "        # return (1 - lamda) * loss_r + lamda * loss_d\n",
        "        return loss_r"
      ],
      "metadata": {
        "ExecuteTime": {
          "end_time": "2023-06-19T13:16:52.168904698Z",
          "start_time": "2023-06-19T13:16:52.152945768Z"
        },
        "id": "bDlGQeeozmej"
      }
    },
    {
      "cell_type": "code",
      "execution_count": 51,
      "outputs": [],
      "source": [
        "import os\n",
        "import pandas as pd\n",
        "from PIL import Image\n",
        "from torch.utils.data import Dataset\n",
        "\n",
        "\n",
        "class AnoMNIST(Dataset):\n",
        "    def __init__(self, root_dir, transform=None):\n",
        "        root_dir = os.path.join(root_dir, \"AnoMNIST\")\n",
        "        assert os.path.exists(os.path.join(root_dir, \"anomnist_dataset.csv\")), \"Invalid root directory\"\n",
        "        self.root_dir = root_dir\n",
        "        self.transform = transform\n",
        "        self.label = pd.read_csv(os.path.join(root_dir, \"anomnist_dataset.csv\"))\n",
        "\n",
        "    def __len__(self):\n",
        "        return len(self.label)\n",
        "\n",
        "    def __getitem__(self, idx):\n",
        "        img_name = os.path.join(self.root_dir, self.label.iloc[idx, 0])\n",
        "        image_label = {\"label\": self.label.iloc[idx, 1], \"anomaly\": self.label.iloc[idx, 2]}\n",
        "        image = Image.open(img_name)\n",
        "\n",
        "        if self.transform:\n",
        "            image = self.transform(image)\n",
        "\n",
        "        return image, image_label\n",
        "\n",
        "\n",
        "class AnomalyExtendedMNIST(datasets.MNIST):\n",
        "    def __getitem__(self, idx):\n",
        "        return super(AnomalyExtendedMNIST, self).__getitem__(idx)[0], {\"label\": super(AnomalyExtendedMNIST, self).__getitem__(idx)[1], \"anomaly\": False}\n"
      ],
      "metadata": {
        "ExecuteTime": {
          "end_time": "2023-06-19T13:16:54.041217345Z",
          "start_time": "2023-06-19T13:16:54.019769104Z"
        },
        "id": "0Nx2n4Iizmel"
      }
    },
    {
      "cell_type": "code",
      "execution_count": 52,
      "outputs": [],
      "source": [
        "def generate_augmented_mnist_images(base_folder, num, max_augmentation_thickness=5,\n",
        "                                    randomize_augmentation_thickness=False, labels=[]):\n",
        "    assert max_augmentation_thickness <= 7, \"max_augmentation_thickness must be smaller than 7\"\n",
        "    os.makedirs(base_folder, exist_ok=True)\n",
        "\n",
        "    dataset = datasets.MNIST(\n",
        "        root=base_folder,\n",
        "        train=True,\n",
        "        download=True,\n",
        "    )\n",
        "\n",
        "    if len(labels) > 0:\n",
        "        dataset = [d for d in dataset if (d[1] in labels)]\n",
        "    else:\n",
        "        dataset = dataset.data\n",
        "\n",
        "    ano_mnist_drop_folder = os.path.join(base_folder, \"AnoMNIST\")\n",
        "    csv_path = os.path.join(ano_mnist_drop_folder, \"anomnist_dataset.csv\")\n",
        "\n",
        "    os.makedirs(base_folder, exist_ok=True)\n",
        "    os.makedirs(ano_mnist_drop_folder, exist_ok=True)\n",
        "\n",
        "    augmentation_thickness: int = random.randint(1, max_augmentation_thickness)\n",
        "    for i in range(num):\n",
        "        random_idx = random.randint(0, len(dataset) - 1)\n",
        "        img, label = dataset[random_idx]\n",
        "\n",
        "        augmentation_thickness = random.randint(3,\n",
        "                                                max_augmentation_thickness) if randomize_augmentation_thickness else augmentation_thickness\n",
        "        random_idx = random.randint(4, 20)\n",
        "        for j in range(img.size[0]):\n",
        "            for k in range(augmentation_thickness):\n",
        "                img.putpixel((j, random_idx + k + 1), 0)\n",
        "\n",
        "        img.save(os.path.join(ano_mnist_drop_folder, f\"img_aug_{label}_{i}.png\"))\n",
        "        with open(csv_path, 'a', newline='') as file:\n",
        "            writer = csv.writer(file)\n",
        "            fields = [f'img_aug_{label}_{i}.png', f\"{label}\", \"True\"]\n",
        "            writer.writerow(fields)\n",
        "\n",
        "\n",
        "def generate_anomalous_image_files(base_folder, num, labels=[], copy_zip_to=''):\n",
        "    if os.path.exists(base_folder):\n",
        "        shutil.rmtree(base_folder)\n",
        "\n",
        "    ano_mnist_drop_folder = os.path.join(base_folder, \"AnoMNIST\")\n",
        "    csv_path = os.path.join(ano_mnist_drop_folder, \"anomnist_dataset.csv\")\n",
        "\n",
        "    os.makedirs(base_folder, exist_ok=True)\n",
        "    os.makedirs(ano_mnist_drop_folder, exist_ok=True)\n",
        "\n",
        "    with open(csv_path, 'a', newline='') as file:\n",
        "        writer = csv.writer(file)\n",
        "        fields = [\"filename\", \"label\", \"anomaly\"]\n",
        "        writer.writerow(fields)\n",
        "\n",
        "    generate_augmented_mnist_images(base_folder, num=num, labels=labels)\n",
        "    if copy_zip_to:\n",
        "      shutil.make_archive(os.path.join(copy_zip_to, \"AnoMNIST\"), 'zip', ano_mnist_drop_folder)\n",
        "\n",
        "def get_ano_mnist_dataset(transform, root_dir, labels=[9], train_size=0.9):\n",
        "    ano_mnist_dataset = AnoMNIST(\n",
        "        root_dir=root_dir,\n",
        "        transform=transform\n",
        "    )\n",
        "\n",
        "    mnist_dataset = AnomalyExtendedMNIST(\n",
        "        root=root_dir,\n",
        "        train=True,\n",
        "        transform=transform,\n",
        "        download=True,\n",
        "    )\n",
        "\n",
        "    dat = torch.utils.data.ConcatDataset([ano_mnist_dataset, mnist_dataset])\n",
        "\n",
        "    if len(labels) > 0:\n",
        "        dat = [d for d in dat if (d[1]['label'] in labels)]\n",
        "\n",
        "    absolute_train_size = int(len(dat) * train_size)\n",
        "    absolute_test_size = len(dat) - absolute_train_size\n",
        "    return torch.utils.data.random_split(dat, [absolute_train_size, absolute_test_size])"
      ],
      "metadata": {
        "ExecuteTime": {
          "end_time": "2023-06-19T13:16:55.267129710Z",
          "start_time": "2023-06-19T13:16:55.250785327Z"
        },
        "id": "dvoHrYngzmeo"
      }
    },
    {
      "cell_type": "code",
      "source": [
        "def load_ano_mnist_from_drive(drop_folder):\n",
        "  with zipfile.ZipFile('/content/drive/MyDrive/Colab/data/AnoMNIST.zip', 'r') as zip_ref:\n",
        "    zip_ref.extractall(drop_folder)"
      ],
      "metadata": {
        "id": "CovsspsjqzjN"
      },
      "execution_count": 53,
      "outputs": []
    },
    {
      "cell_type": "code",
      "execution_count": 54,
      "outputs": [
        {
          "output_type": "execute_result",
          "data": {
            "text/plain": [
              "device(type='cuda')"
            ]
          },
          "metadata": {},
          "execution_count": 54
        }
      ],
      "source": [
        "device = torch.device('cuda' if torch.cuda.is_available() else 'cpu')\n",
        "num_color_channels = 1\n",
        "num_feature_maps_g = 64\n",
        "num_feature_maps_d = 64\n",
        "size_z = 100\n",
        "\n",
        "device"
      ],
      "metadata": {
        "ExecuteTime": {
          "end_time": "2023-06-19T13:16:56.718929255Z",
          "start_time": "2023-06-19T13:16:56.701170727Z"
        },
        "id": "sy0CAfU_zmep",
        "outputId": "3d3cee7f-af16-4809-a036-cf8632871761",
        "colab": {
          "base_uri": "https://localhost:8080/"
        }
      }
    },
    {
      "cell_type": "code",
      "execution_count": 55,
      "outputs": [
        {
          "output_type": "execute_result",
          "data": {
            "text/plain": [
              "<All keys matched successfully>"
            ]
          },
          "metadata": {},
          "execution_count": 55
        }
      ],
      "source": [
        "generator = Generator(size_z=size_z,\n",
        "                      num_feature_maps=num_feature_maps_g,\n",
        "                      num_color_channels=num_color_channels).to(device)\n",
        "discriminator = Discriminator(num_feature_maps=num_feature_maps_d,\n",
        "                              num_color_channels=num_color_channels).to(device)\n",
        "\n",
        "generator.load_state_dict(torch.load(\"/content/drive/MyDrive/Colab/saved_models/generator.pkl\", map_location=torch.device(device)))\n",
        "discriminator.load_state_dict(torch.load('/content/drive/MyDrive/Colab/saved_models/discriminator.pkl', map_location=torch.device(device)))"
      ],
      "metadata": {
        "ExecuteTime": {
          "end_time": "2023-06-19T13:16:58.039609982Z",
          "start_time": "2023-06-19T13:16:57.998343596Z"
        },
        "id": "IJj0sB2Izmeq",
        "outputId": "d7d92455-e84f-484f-cf93-168d3101a86f",
        "colab": {
          "base_uri": "https://localhost:8080/"
        }
      }
    },
    {
      "cell_type": "code",
      "execution_count": 56,
      "outputs": [],
      "source": [
        "transform = transforms.Compose([\n",
        "    transforms.ToTensor(),\n",
        "    transforms.Normalize(mean=(.5,), std=(.5,))\n",
        "])\n",
        "\n",
        "# generate_anomalous_image_files(base_folder='/content/data', num=2000, labels=[9]) # number of normals is: 5949\n",
        "load_ano_mnist_from_drive(drop_folder='/content/data')\n",
        "ano_mnist_dataset, _ = get_ano_mnist_dataset(transform=transform, root_dir='/content/data', labels=[9])"
      ],
      "metadata": {
        "ExecuteTime": {
          "end_time": "2023-06-19T13:17:07.612568050Z",
          "start_time": "2023-06-19T13:16:59.840564543Z"
        },
        "id": "BRc3Fm41zmes"
      }
    },
    {
      "cell_type": "code",
      "execution_count": 88,
      "outputs": [
        {
          "output_type": "stream",
          "name": "stdout",
          "text": [
            "Iteration: 0 -- Current Loss: 262.6532287597656 -- Current Learning-Rate: 0.2\n",
            "Iteration: 5000 -- Current Loss: 62.09111785888672 -- Current Learning-Rate: 0.1875024999999862\n",
            "Iteration: 0 -- Current Loss: 252.9490509033203 -- Current Learning-Rate: 0.2\n",
            "Iteration: 5000 -- Current Loss: 74.44017791748047 -- Current Learning-Rate: 0.1875024999999862\n",
            "Iteration: 0 -- Current Loss: 252.53639221191406 -- Current Learning-Rate: 0.2\n",
            "Iteration: 5000 -- Current Loss: 63.6950569152832 -- Current Learning-Rate: 0.1875024999999862\n",
            "Iteration: 0 -- Current Loss: 206.86190795898438 -- Current Learning-Rate: 0.2\n",
            "Iteration: 737 -- Reached Defined Optimum -- Final Loss: 44.99251937866211\n",
            "Original Image\n"
          ]
        },
        {
          "output_type": "display_data",
          "data": {
            "text/plain": [
              "<PIL.Image.Image image mode=L size=128x128 at 0x7FABF410A680>"
            ],
            "image/png": "[encoded data removed]"
          },
          "metadata": {}
        },
        {
          "output_type": "stream",
          "name": "stdout",
          "text": [
            "Mapped and Reconstructed Image\n"
          ]
        },
        {
          "output_type": "display_data",
          "data": {
            "text/plain": [
              "<PIL.Image.Image image mode=L size=128x128 at 0x7FABF4108190>"
            ],
            "image/png": "[encoded data removed]"
          },
          "metadata": {}
        },
        {
          "output_type": "stream",
          "name": "stdout",
          "text": [
            "-----------------------\n",
            "Iteration: 0 -- Current Loss: 219.1505889892578 -- Current Learning-Rate: 0.2\n",
            "Iteration: 5000 -- Current Loss: 53.2415771484375 -- Current Learning-Rate: 0.1875024999999862\n",
            "Iteration: 10000 -- Current Loss: 50.39973449707031 -- Current Learning-Rate: 0.17500499999997238\n",
            "Iteration: 15000 -- Current Loss: 49.71961212158203 -- Current Learning-Rate: 0.16250749999995856\n",
            "Iteration: 20000 -- Current Loss: 49.07652282714844 -- Current Learning-Rate: 0.15000999999994474\n",
            "Iteration: 25000 -- Current Loss: 48.77836227416992 -- Current Learning-Rate: 0.13751249999993093\n",
            "Iteration: 30000 -- Current Loss: 48.603729248046875 -- Current Learning-Rate: 0.1250149999999171\n",
            "Iteration: 35000 -- Current Loss: 48.34946823120117 -- Current Learning-Rate: 0.11251749999992483\n",
            "Iteration: 40000 -- Current Loss: 48.096343994140625 -- Current Learning-Rate: 0.1000199999999307\n",
            "Iteration: 45000 -- Current Loss: 47.95427703857422 -- Current Learning-Rate: 0.08752249999993482\n",
            "Iteration: 50000 -- Current Loss: 47.85118865966797 -- Current Learning-Rate: 0.07502499999993854\n",
            "Iteration: 55000 -- Current Loss: 47.78846740722656 -- Current Learning-Rate: 0.06252749999994124\n",
            "Iteration: 60000 -- Current Loss: 47.75465393066406 -- Current Learning-Rate: 0.05002999999995357\n",
            "Iteration: 65000 -- Current Loss: 47.6712646484375 -- Current Learning-Rate: 0.03753249999996805\n",
            "Iteration: 70000 -- Current Loss: 47.58536148071289 -- Current Learning-Rate: 0.025034999999980406\n",
            "Iteration: 75000 -- Current Loss: 47.549339294433594 -- Current Learning-Rate: 0.012537499999989647\n",
            "Iteration: 80000 -- Current Loss: 47.538856506347656 -- Current Learning-Rate: 3.999999999996503e-05\n",
            "Iteration: 85000 -- Current Loss: 47.538856506347656 -- Current Learning-Rate: 3.999999999996503e-05\n",
            "Iteration: 90000 -- Current Loss: 47.538856506347656 -- Current Learning-Rate: 3.999999999996503e-05\n",
            "Iteration: 95000 -- Current Loss: 47.538856506347656 -- Current Learning-Rate: 3.999999999996503e-05\n",
            "Iteration: 99999 -- Current Loss: 47.538856506347656 -- Current Learning-Rate: 3.999999999996503e-05\n",
            "Original Image\n"
          ]
        },
        {
          "output_type": "display_data",
          "data": {
            "text/plain": [
              "<PIL.Image.Image image mode=L size=128x128 at 0x7FABF4109420>"
            ],
            "image/png": "[encoded data removed]"
          },
          "metadata": {}
        },
        {
          "output_type": "stream",
          "name": "stdout",
          "text": [
            "Mapped and Reconstructed Image\n"
          ]
        },
        {
          "output_type": "display_data",
          "data": {
            "text/plain": [
              "<PIL.Image.Image image mode=L size=128x128 at 0x7FABF4109720>"
            ],
            "image/png": "[encoded data removed]"
          },
          "metadata": {}
        },
        {
          "output_type": "stream",
          "name": "stdout",
          "text": [
            "-----------------------\n",
            "Iteration: 0 -- Current Loss: 238.83584594726562 -- Current Learning-Rate: 0.2\n",
            "Iteration: 5000 -- Current Loss: 64.71182250976562 -- Current Learning-Rate: 0.1875024999999862\n",
            "Iteration: 0 -- Current Loss: 196.9811553955078 -- Current Learning-Rate: 0.2\n",
            "Iteration: 5000 -- Current Loss: 60.76661682128906 -- Current Learning-Rate: 0.1875024999999862\n",
            "Iteration: 0 -- Current Loss: 162.2450714111328 -- Current Learning-Rate: 0.2\n",
            "Iteration: 5000 -- Current Loss: 62.79054260253906 -- Current Learning-Rate: 0.1875024999999862\n",
            "Iteration: 0 -- Current Loss: 161.03729248046875 -- Current Learning-Rate: 0.2\n",
            "Iteration: 5000 -- Current Loss: 61.701568603515625 -- Current Learning-Rate: 0.1875024999999862\n",
            "Iteration: 0 -- Current Loss: 156.2599639892578 -- Current Learning-Rate: 0.2\n",
            "Iteration: 5000 -- Current Loss: 63.92429733276367 -- Current Learning-Rate: 0.1875024999999862\n",
            "Iteration: 0 -- Current Loss: 159.9542236328125 -- Current Learning-Rate: 0.2\n",
            "Iteration: 5000 -- Current Loss: 69.48286437988281 -- Current Learning-Rate: 0.1875024999999862\n",
            "Iteration: 0 -- Current Loss: 171.22222900390625 -- Current Learning-Rate: 0.2\n",
            "Iteration: 818 -- Reached Defined Optimum -- Final Loss: 44.97711181640625\n",
            "Original Image\n"
          ]
        },
        {
          "output_type": "display_data",
          "data": {
            "text/plain": [
              "<PIL.Image.Image image mode=L size=128x128 at 0x7FABF4108F10>"
            ],
            "image/png": "[encoded data removed]"
          },
          "metadata": {}
        },
        {
          "output_type": "stream",
          "name": "stdout",
          "text": [
            "Mapped and Reconstructed Image\n"
          ]
        },
        {
          "output_type": "display_data",
          "data": {
            "text/plain": [
              "<PIL.Image.Image image mode=L size=128x128 at 0x7FABF4108F10>"
            ],
            "image/png": "[encoded data removed]"
          },
          "metadata": {}
        },
        {
          "output_type": "stream",
          "name": "stdout",
          "text": [
            "-----------------------\n",
            "Iteration: 0 -- Current Loss: 201.03677368164062 -- Current Learning-Rate: 0.2\n",
            "Iteration: 5000 -- Current Loss: 63.6123046875 -- Current Learning-Rate: 0.1875024999999862\n",
            "Iteration: 0 -- Current Loss: 117.49888610839844 -- Current Learning-Rate: 0.2\n",
            "Iteration: 1248 -- Reached Defined Optimum -- Final Loss: 44.991729736328125\n",
            "Original Image\n"
          ]
        },
        {
          "output_type": "display_data",
          "data": {
            "text/plain": [
              "<PIL.Image.Image image mode=L size=128x128 at 0x7FABF410BFA0>"
            ],
            "image/png": "[encoded data removed]"
          },
          "metadata": {}
        },
        {
          "output_type": "stream",
          "name": "stdout",
          "text": [
            "Mapped and Reconstructed Image\n"
          ]
        },
        {
          "output_type": "display_data",
          "data": {
            "text/plain": [
              "<PIL.Image.Image image mode=L size=128x128 at 0x7FABF410BFA0>"
            ],
            "image/png": "[encoded data removed]"
          },
          "metadata": {}
        },
        {
          "output_type": "stream",
          "name": "stdout",
          "text": [
            "-----------------------\n",
            "Iteration: 0 -- Current Loss: 294.2508544921875 -- Current Learning-Rate: 0.2\n",
            "Iteration: 5000 -- Current Loss: 85.02444458007812 -- Current Learning-Rate: 0.1875024999999862\n",
            "Iteration: 0 -- Current Loss: 203.81163024902344 -- Current Learning-Rate: 0.2\n",
            "Iteration: 5000 -- Current Loss: 108.82443237304688 -- Current Learning-Rate: 0.1875024999999862\n",
            "Iteration: 0 -- Current Loss: 167.2078857421875 -- Current Learning-Rate: 0.2\n",
            "Iteration: 5000 -- Current Loss: 101.45537567138672 -- Current Learning-Rate: 0.1875024999999862\n",
            "Iteration: 0 -- Current Loss: 237.0912322998047 -- Current Learning-Rate: 0.2\n",
            "Iteration: 5000 -- Current Loss: 101.39053344726562 -- Current Learning-Rate: 0.1875024999999862\n",
            "Iteration: 0 -- Current Loss: 183.71737670898438 -- Current Learning-Rate: 0.2\n",
            "Iteration: 3236 -- Reached Defined Optimum -- Final Loss: 44.998573303222656\n",
            "Original Image\n"
          ]
        },
        {
          "output_type": "display_data",
          "data": {
            "text/plain": [
              "<PIL.Image.Image image mode=L size=128x128 at 0x7FABF4109F30>"
            ],
            "image/png": "[encoded data removed]"
          },
          "metadata": {}
        },
        {
          "output_type": "stream",
          "name": "stdout",
          "text": [
            "Mapped and Reconstructed Image\n"
          ]
        },
        {
          "output_type": "display_data",
          "data": {
            "text/plain": [
              "<PIL.Image.Image image mode=L size=128x128 at 0x7FABF4108910>"
            ],
            "image/png": "[encoded data removed]"
          },
          "metadata": {}
        },
        {
          "output_type": "stream",
          "name": "stdout",
          "text": [
            "-----------------------\n",
            "Iteration: 0 -- Current Loss: 251.8968505859375 -- Current Learning-Rate: 0.2\n",
            "Iteration: 5000 -- Current Loss: 53.197425842285156 -- Current Learning-Rate: 0.1875024999999862\n",
            "Iteration: 10000 -- Current Loss: 51.59398651123047 -- Current Learning-Rate: 0.17500499999997238\n",
            "Iteration: 15000 -- Current Loss: 50.621971130371094 -- Current Learning-Rate: 0.16250749999995856\n",
            "Iteration: 20000 -- Current Loss: 50.01015090942383 -- Current Learning-Rate: 0.15000999999994474\n",
            "Iteration: 25000 -- Current Loss: 49.528404235839844 -- Current Learning-Rate: 0.13751249999993093\n",
            "Iteration: 30000 -- Current Loss: 49.13898468017578 -- Current Learning-Rate: 0.1250149999999171\n",
            "Iteration: 35000 -- Current Loss: 48.85490417480469 -- Current Learning-Rate: 0.11251749999992483\n",
            "Iteration: 40000 -- Current Loss: 48.70127868652344 -- Current Learning-Rate: 0.1000199999999307\n",
            "Iteration: 45000 -- Current Loss: 48.58259201049805 -- Current Learning-Rate: 0.08752249999993482\n",
            "Iteration: 50000 -- Current Loss: 48.47090148925781 -- Current Learning-Rate: 0.07502499999993854\n",
            "Iteration: 55000 -- Current Loss: 48.372901916503906 -- Current Learning-Rate: 0.06252749999994124\n",
            "Iteration: 60000 -- Current Loss: 48.30078887939453 -- Current Learning-Rate: 0.05002999999995357\n",
            "Iteration: 65000 -- Current Loss: 48.231040954589844 -- Current Learning-Rate: 0.03753249999996805\n",
            "Iteration: 70000 -- Current Loss: 48.15481185913086 -- Current Learning-Rate: 0.025034999999980406\n",
            "Iteration: 75000 -- Current Loss: 48.11186981201172 -- Current Learning-Rate: 0.012537499999989647\n",
            "Iteration: 80000 -- Current Loss: 48.0973014831543 -- Current Learning-Rate: 3.999999999996503e-05\n",
            "Iteration: 85000 -- Current Loss: 48.09727478027344 -- Current Learning-Rate: 3.999999999996503e-05\n",
            "Iteration: 90000 -- Current Loss: 48.09727478027344 -- Current Learning-Rate: 3.999999999996503e-05\n",
            "Iteration: 95000 -- Current Loss: 48.09727478027344 -- Current Learning-Rate: 3.999999999996503e-05\n",
            "Iteration: 99999 -- Current Loss: 48.09727478027344 -- Current Learning-Rate: 3.999999999996503e-05\n",
            "Original Image\n"
          ]
        },
        {
          "output_type": "display_data",
          "data": {
            "text/plain": [
              "<PIL.Image.Image image mode=L size=128x128 at 0x7FABF4109450>"
            ],
            "image/png": "[encoded data removed]"
          },
          "metadata": {}
        },
        {
          "output_type": "stream",
          "name": "stdout",
          "text": [
            "Mapped and Reconstructed Image\n"
          ]
        },
        {
          "output_type": "display_data",
          "data": {
            "text/plain": [
              "<PIL.Image.Image image mode=L size=128x128 at 0x7FABF4109450>"
            ],
            "image/png": "[encoded data removed]"
          },
          "metadata": {}
        },
        {
          "output_type": "stream",
          "name": "stdout",
          "text": [
            "-----------------------\n",
            "Iteration: 0 -- Current Loss: 149.0736846923828 -- Current Learning-Rate: 0.2\n",
            "Iteration: 5000 -- Current Loss: 82.84903717041016 -- Current Learning-Rate: 0.1875024999999862\n",
            "Iteration: 0 -- Current Loss: 235.18614196777344 -- Current Learning-Rate: 0.2\n",
            "Iteration: 5000 -- Current Loss: 91.16984558105469 -- Current Learning-Rate: 0.1875024999999862\n",
            "Iteration: 0 -- Current Loss: 237.43350219726562 -- Current Learning-Rate: 0.2\n",
            "Iteration: 5000 -- Current Loss: 74.82390594482422 -- Current Learning-Rate: 0.1875024999999862\n",
            "Iteration: 0 -- Current Loss: 240.1129150390625 -- Current Learning-Rate: 0.2\n",
            "Iteration: 5000 -- Current Loss: 61.71625518798828 -- Current Learning-Rate: 0.1875024999999862\n",
            "Iteration: 0 -- Current Loss: 151.14767456054688 -- Current Learning-Rate: 0.2\n",
            "Iteration: 5000 -- Current Loss: 58.05367660522461 -- Current Learning-Rate: 0.1875024999999862\n",
            "Iteration: 0 -- Current Loss: 193.09176635742188 -- Current Learning-Rate: 0.2\n",
            "Iteration: 5000 -- Current Loss: 92.05834197998047 -- Current Learning-Rate: 0.1875024999999862\n",
            "Iteration: 0 -- Current Loss: 231.46827697753906 -- Current Learning-Rate: 0.2\n",
            "Iteration: 5000 -- Current Loss: 62.52239990234375 -- Current Learning-Rate: 0.1875024999999862\n",
            "Iteration: 0 -- Current Loss: 210.831298828125 -- Current Learning-Rate: 0.2\n",
            "Iteration: 5000 -- Current Loss: 81.98081970214844 -- Current Learning-Rate: 0.1875024999999862\n",
            "Iteration: 0 -- Current Loss: 182.82101440429688 -- Current Learning-Rate: 0.2\n",
            "Iteration: 375 -- Reached Defined Optimum -- Final Loss: 44.83412551879883\n",
            "Original Image\n"
          ]
        },
        {
          "output_type": "display_data",
          "data": {
            "text/plain": [
              "<PIL.Image.Image image mode=L size=128x128 at 0x7FABF4109390>"
            ],
            "image/png": "[encoded data removed]"
          },
          "metadata": {}
        },
        {
          "output_type": "stream",
          "name": "stdout",
          "text": [
            "Mapped and Reconstructed Image\n"
          ]
        },
        {
          "output_type": "display_data",
          "data": {
            "text/plain": [
              "<PIL.Image.Image image mode=L size=128x128 at 0x7FABF410BD30>"
            ],
            "image/png": "[encoded data removed]"
          },
          "metadata": {}
        },
        {
          "output_type": "stream",
          "name": "stdout",
          "text": [
            "-----------------------\n",
            "Iteration: 0 -- Current Loss: 201.13507080078125 -- Current Learning-Rate: 0.2\n",
            "Iteration: 5000 -- Current Loss: 70.85951232910156 -- Current Learning-Rate: 0.1875024999999862\n",
            "Iteration: 0 -- Current Loss: 120.18634033203125 -- Current Learning-Rate: 0.2\n",
            "Iteration: 5000 -- Current Loss: 53.535362243652344 -- Current Learning-Rate: 0.1875024999999862\n",
            "Iteration: 10000 -- Current Loss: 50.20843505859375 -- Current Learning-Rate: 0.17500499999997238\n",
            "Iteration: 15000 -- Current Loss: 49.46543884277344 -- Current Learning-Rate: 0.16250749999995856\n",
            "Iteration: 20000 -- Current Loss: 48.714317321777344 -- Current Learning-Rate: 0.15000999999994474\n",
            "Iteration: 25000 -- Current Loss: 48.33443832397461 -- Current Learning-Rate: 0.13751249999993093\n",
            "Iteration: 30000 -- Current Loss: 47.97645568847656 -- Current Learning-Rate: 0.1250149999999171\n",
            "Iteration: 35000 -- Current Loss: 47.511558532714844 -- Current Learning-Rate: 0.11251749999992483\n",
            "Iteration: 40000 -- Current Loss: 47.14628601074219 -- Current Learning-Rate: 0.1000199999999307\n",
            "Iteration: 45000 -- Current Loss: 46.991981506347656 -- Current Learning-Rate: 0.08752249999993482\n",
            "Iteration: 50000 -- Current Loss: 46.887969970703125 -- Current Learning-Rate: 0.07502499999993854\n",
            "Iteration: 55000 -- Current Loss: 46.79102325439453 -- Current Learning-Rate: 0.06252749999994124\n",
            "Iteration: 60000 -- Current Loss: 46.73108673095703 -- Current Learning-Rate: 0.05002999999995357\n",
            "Iteration: 65000 -- Current Loss: 46.680694580078125 -- Current Learning-Rate: 0.03753249999996805\n",
            "Iteration: 70000 -- Current Loss: 46.650146484375 -- Current Learning-Rate: 0.025034999999980406\n",
            "Iteration: 75000 -- Current Loss: 46.63227462768555 -- Current Learning-Rate: 0.012537499999989647\n",
            "Iteration: 80000 -- Current Loss: 46.62674331665039 -- Current Learning-Rate: 3.999999999996503e-05\n",
            "Iteration: 85000 -- Current Loss: 46.62671661376953 -- Current Learning-Rate: 3.999999999996503e-05\n",
            "Iteration: 90000 -- Current Loss: 46.62669372558594 -- Current Learning-Rate: 3.999999999996503e-05\n",
            "Iteration: 95000 -- Current Loss: 46.62667465209961 -- Current Learning-Rate: 3.999999999996503e-05\n",
            "Iteration: 99999 -- Current Loss: 46.62664794921875 -- Current Learning-Rate: 3.999999999996503e-05\n",
            "Original Image\n"
          ]
        },
        {
          "output_type": "display_data",
          "data": {
            "text/plain": [
              "<PIL.Image.Image image mode=L size=128x128 at 0x7FABF4109450>"
            ],
            "image/png": "[encoded data removed]"
          },
          "metadata": {}
        },
        {
          "output_type": "stream",
          "name": "stdout",
          "text": [
            "Mapped and Reconstructed Image\n"
          ]
        },
        {
          "output_type": "display_data",
          "data": {
            "text/plain": [
              "<PIL.Image.Image image mode=L size=128x128 at 0x7FABF4108880>"
            ],
            "image/png": "[encoded data removed]"
          },
          "metadata": {}
        },
        {
          "output_type": "stream",
          "name": "stdout",
          "text": [
            "-----------------------\n",
            "Iteration: 0 -- Current Loss: 151.39991760253906 -- Current Learning-Rate: 0.2\n",
            "Iteration: 235 -- Reached Defined Optimum -- Final Loss: 44.63934326171875\n",
            "Original Image\n"
          ]
        },
        {
          "output_type": "display_data",
          "data": {
            "text/plain": [
              "<PIL.Image.Image image mode=L size=128x128 at 0x7FABF41093C0>"
            ],
            "image/png": "[encoded data removed]"
          },
          "metadata": {}
        },
        {
          "output_type": "stream",
          "name": "stdout",
          "text": [
            "Mapped and Reconstructed Image\n"
          ]
        },
        {
          "output_type": "display_data",
          "data": {
            "text/plain": [
              "<PIL.Image.Image image mode=L size=128x128 at 0x7FABF41093C0>"
            ],
            "image/png": "[encoded data removed]"
          },
          "metadata": {}
        },
        {
          "output_type": "stream",
          "name": "stdout",
          "text": [
            "-----------------------\n",
            "Iteration: 0 -- Current Loss: 288.06524658203125 -- Current Learning-Rate: 0.2\n",
            "Iteration: 5000 -- Current Loss: 74.47142791748047 -- Current Learning-Rate: 0.1875024999999862\n",
            "Iteration: 0 -- Current Loss: 104.98190307617188 -- Current Learning-Rate: 0.2\n",
            "Iteration: 182 -- Reached Defined Optimum -- Final Loss: 44.84928894042969\n",
            "Original Image\n"
          ]
        },
        {
          "output_type": "display_data",
          "data": {
            "text/plain": [
              "<PIL.Image.Image image mode=L size=128x128 at 0x7FABF410AE00>"
            ],
            "image/png": "[encoded data removed]"
          },
          "metadata": {}
        },
        {
          "output_type": "stream",
          "name": "stdout",
          "text": [
            "Mapped and Reconstructed Image\n"
          ]
        },
        {
          "output_type": "display_data",
          "data": {
            "text/plain": [
              "<PIL.Image.Image image mode=L size=128x128 at 0x7FABF410A230>"
            ],
            "image/png": "[encoded data removed]"
          },
          "metadata": {}
        },
        {
          "output_type": "stream",
          "name": "stdout",
          "text": [
            "-----------------------\n",
            "Iteration: 0 -- Current Loss: 226.40435791015625 -- Current Learning-Rate: 0.2\n",
            "Iteration: 5000 -- Current Loss: 57.67473602294922 -- Current Learning-Rate: 0.1875024999999862\n",
            "Iteration: 0 -- Current Loss: 169.447998046875 -- Current Learning-Rate: 0.2\n",
            "Iteration: 5000 -- Current Loss: 48.79117202758789 -- Current Learning-Rate: 0.1875024999999862\n",
            "Iteration: 10000 -- Current Loss: 46.07897186279297 -- Current Learning-Rate: 0.17500499999997238\n",
            "Iteration: 11439 -- Reached Defined Optimum -- Final Loss: 44.99930953979492\n",
            "Original Image\n"
          ]
        },
        {
          "output_type": "display_data",
          "data": {
            "text/plain": [
              "<PIL.Image.Image image mode=L size=128x128 at 0x7FABF4108880>"
            ],
            "image/png": "[encoded data removed]"
          },
          "metadata": {}
        },
        {
          "output_type": "stream",
          "name": "stdout",
          "text": [
            "Mapped and Reconstructed Image\n"
          ]
        },
        {
          "output_type": "display_data",
          "data": {
            "text/plain": [
              "<PIL.Image.Image image mode=L size=128x128 at 0x7FABF4108880>"
            ],
            "image/png": "[encoded data removed]"
          },
          "metadata": {}
        },
        {
          "output_type": "stream",
          "name": "stdout",
          "text": [
            "-----------------------\n",
            "Iteration: 0 -- Current Loss: 255.30496215820312 -- Current Learning-Rate: 0.2\n",
            "Iteration: 5000 -- Current Loss: 70.29408264160156 -- Current Learning-Rate: 0.1875024999999862\n",
            "Iteration: 0 -- Current Loss: 187.48553466796875 -- Current Learning-Rate: 0.2\n",
            "Iteration: 5000 -- Current Loss: 50.245941162109375 -- Current Learning-Rate: 0.1875024999999862\n",
            "Iteration: 10000 -- Current Loss: 49.92649841308594 -- Current Learning-Rate: 0.17500499999997238\n",
            "Iteration: 15000 -- Current Loss: 49.86149597167969 -- Current Learning-Rate: 0.16250749999995856\n",
            "Iteration: 20000 -- Current Loss: 49.821781158447266 -- Current Learning-Rate: 0.15000999999994474\n",
            "Iteration: 25000 -- Current Loss: 49.80384063720703 -- Current Learning-Rate: 0.13751249999993093\n",
            "Iteration: 30000 -- Current Loss: 49.7481575012207 -- Current Learning-Rate: 0.1250149999999171\n",
            "Iteration: 35000 -- Current Loss: 49.7469482421875 -- Current Learning-Rate: 0.11251749999992483\n",
            "Iteration: 40000 -- Current Loss: 49.758514404296875 -- Current Learning-Rate: 0.1000199999999307\n",
            "Iteration: 45000 -- Current Loss: 49.752098083496094 -- Current Learning-Rate: 0.08752249999993482\n",
            "Iteration: 50000 -- Current Loss: 49.7407112121582 -- Current Learning-Rate: 0.07502499999993854\n",
            "Iteration: 55000 -- Current Loss: 49.73219299316406 -- Current Learning-Rate: 0.06252749999994124\n",
            "Iteration: 60000 -- Current Loss: 49.71460723876953 -- Current Learning-Rate: 0.05002999999995357\n",
            "Iteration: 65000 -- Current Loss: 49.684471130371094 -- Current Learning-Rate: 0.03753249999996805\n",
            "Iteration: 70000 -- Current Loss: 49.66918182373047 -- Current Learning-Rate: 0.025034999999980406\n",
            "Iteration: 75000 -- Current Loss: 49.65985107421875 -- Current Learning-Rate: 0.012537499999989647\n",
            "Iteration: 80000 -- Current Loss: 49.65645980834961 -- Current Learning-Rate: 3.999999999996503e-05\n",
            "Iteration: 85000 -- Current Loss: 49.65645217895508 -- Current Learning-Rate: 3.999999999996503e-05\n",
            "Iteration: 90000 -- Current Loss: 49.65645217895508 -- Current Learning-Rate: 3.999999999996503e-05\n",
            "Iteration: 95000 -- Current Loss: 49.65644836425781 -- Current Learning-Rate: 3.999999999996503e-05\n",
            "Iteration: 99999 -- Current Loss: 49.65644836425781 -- Current Learning-Rate: 3.999999999996503e-05\n",
            "Original Image\n"
          ]
        },
        {
          "output_type": "display_data",
          "data": {
            "text/plain": [
              "<PIL.Image.Image image mode=L size=128x128 at 0x7FABF410A440>"
            ],
            "image/png": "[encoded data removed]"
          },
          "metadata": {}
        },
        {
          "output_type": "stream",
          "name": "stdout",
          "text": [
            "Mapped and Reconstructed Image\n"
          ]
        },
        {
          "output_type": "display_data",
          "data": {
            "text/plain": [
              "<PIL.Image.Image image mode=L size=128x128 at 0x7FABF4108910>"
            ],
            "image/png": "[encoded data removed]"
          },
          "metadata": {}
        },
        {
          "output_type": "stream",
          "name": "stdout",
          "text": [
            "-----------------------\n",
            "Iteration: 0 -- Current Loss: 182.5355682373047 -- Current Learning-Rate: 0.2\n",
            "Iteration: 5000 -- Current Loss: 63.37078094482422 -- Current Learning-Rate: 0.1875024999999862\n",
            "Iteration: 0 -- Current Loss: 142.53488159179688 -- Current Learning-Rate: 0.2\n",
            "Iteration: 677 -- Reached Defined Optimum -- Final Loss: 44.967105865478516\n",
            "Original Image\n"
          ]
        },
        {
          "output_type": "display_data",
          "data": {
            "text/plain": [
              "<PIL.Image.Image image mode=L size=128x128 at 0x7FABF41097E0>"
            ],
            "image/png": "[encoded data removed]"
          },
          "metadata": {}
        },
        {
          "output_type": "stream",
          "name": "stdout",
          "text": [
            "Mapped and Reconstructed Image\n"
          ]
        },
        {
          "output_type": "display_data",
          "data": {
            "text/plain": [
              "<PIL.Image.Image image mode=L size=128x128 at 0x7FABF4109390>"
            ],
            "image/png": "[encoded data removed]"
          },
          "metadata": {}
        },
        {
          "output_type": "stream",
          "name": "stdout",
          "text": [
            "-----------------------\n",
            "Iteration: 0 -- Current Loss: 205.55227661132812 -- Current Learning-Rate: 0.2\n",
            "Iteration: 5000 -- Current Loss: 60.8579216003418 -- Current Learning-Rate: 0.1875024999999862\n",
            "Iteration: 0 -- Current Loss: 252.93472290039062 -- Current Learning-Rate: 0.2\n",
            "Iteration: 5000 -- Current Loss: 51.463905334472656 -- Current Learning-Rate: 0.1875024999999862\n",
            "Iteration: 10000 -- Current Loss: 51.070640563964844 -- Current Learning-Rate: 0.17500499999997238\n",
            "Iteration: 15000 -- Current Loss: 50.957393646240234 -- Current Learning-Rate: 0.16250749999995856\n",
            "Iteration: 20000 -- Current Loss: 50.80390930175781 -- Current Learning-Rate: 0.15000999999994474\n",
            "Iteration: 25000 -- Current Loss: 50.7927131652832 -- Current Learning-Rate: 0.13751249999993093\n",
            "Iteration: 30000 -- Current Loss: 50.77676010131836 -- Current Learning-Rate: 0.1250149999999171\n",
            "Iteration: 35000 -- Current Loss: 50.68600082397461 -- Current Learning-Rate: 0.11251749999992483\n"
          ]
        },
        {
          "output_type": "error",
          "ename": "KeyboardInterrupt",
          "evalue": "ignored",
          "traceback": [
            "\u001b[0;31m---------------------------------------------------------------------------\u001b[0m",
            "\u001b[0;31mKeyboardInterrupt\u001b[0m                         Traceback (most recent call last)",
            "\u001b[0;32m<ipython-input-88-c78ccbeb5656>\u001b[0m in \u001b[0;36m<cell line: 34>\u001b[0;34m()\u001b[0m\n\u001b[1;32m     37\u001b[0m \u001b[0;34m\u001b[0m\u001b[0m\n\u001b[1;32m     38\u001b[0m     \u001b[0;32mif\u001b[0m \u001b[0;34m(\u001b[0m\u001b[0mano_mnist_dataset\u001b[0m\u001b[0;34m[\u001b[0m\u001b[0mi\u001b[0m\u001b[0;34m]\u001b[0m\u001b[0;34m[\u001b[0m\u001b[0;36m1\u001b[0m\u001b[0;34m]\u001b[0m\u001b[0;34m[\u001b[0m\u001b[0;34m\"anomaly\"\u001b[0m\u001b[0;34m]\u001b[0m \u001b[0;34m==\u001b[0m \u001b[0;32mTrue\u001b[0m \u001b[0;32mand\u001b[0m \u001b[0monly_map_anomalies\u001b[0m\u001b[0;34m)\u001b[0m \u001b[0;32mor\u001b[0m \u001b[0;32mnot\u001b[0m \u001b[0monly_map_anomalies\u001b[0m\u001b[0;34m:\u001b[0m\u001b[0;34m\u001b[0m\u001b[0;34m\u001b[0m\u001b[0m\n\u001b[0;32m---> 39\u001b[0;31m         mapped_z, reconstruction_loss, retry = lsm.map_image_to_point_in_latent_space(ano_mnist_dataset[i][0],\n\u001b[0m\u001b[1;32m     40\u001b[0m                                                                                \u001b[0mbatch_size\u001b[0m\u001b[0;34m=\u001b[0m\u001b[0;36m1\u001b[0m\u001b[0;34m,\u001b[0m\u001b[0;34m\u001b[0m\u001b[0;34m\u001b[0m\u001b[0m\n\u001b[1;32m     41\u001b[0m                                                                                \u001b[0mmax_opt_iterations\u001b[0m\u001b[0;34m=\u001b[0m\u001b[0;36m100000\u001b[0m\u001b[0;34m,\u001b[0m\u001b[0;34m\u001b[0m\u001b[0;34m\u001b[0m\u001b[0m\n",
            "\u001b[0;32m<ipython-input-85-0891a4430b8b>\u001b[0m in \u001b[0;36mmap_image_to_point_in_latent_space\u001b[0;34m(self, image, batch_size, size_z, max_opt_iterations, opt_threshold, plateu_threshold, plateu_check_every_n_iter, learning_rate, print_every_n_iters, ignore_rules_below_threshold, retry_after_n_iters)\u001b[0m\n\u001b[1;32m     19\u001b[0m             \u001b[0mretry\u001b[0m \u001b[0;34m=\u001b[0m \u001b[0;32mFalse\u001b[0m\u001b[0;34m\u001b[0m\u001b[0;34m\u001b[0m\u001b[0m\n\u001b[1;32m     20\u001b[0m             \u001b[0mloss\u001b[0m \u001b[0;34m=\u001b[0m \u001b[0mself\u001b[0m\u001b[0;34m.\u001b[0m\u001b[0m__get_anomaly_score\u001b[0m\u001b[0;34m(\u001b[0m\u001b[0mz\u001b[0m\u001b[0;34m,\u001b[0m \u001b[0mimage\u001b[0m\u001b[0;34m.\u001b[0m\u001b[0munsqueeze\u001b[0m\u001b[0;34m(\u001b[0m\u001b[0;36m0\u001b[0m\u001b[0;34m)\u001b[0m\u001b[0;34m.\u001b[0m\u001b[0mto\u001b[0m\u001b[0;34m(\u001b[0m\u001b[0mself\u001b[0m\u001b[0;34m.\u001b[0m\u001b[0mdevice\u001b[0m\u001b[0;34m)\u001b[0m\u001b[0;34m)\u001b[0m\u001b[0;34m\u001b[0m\u001b[0;34m\u001b[0m\u001b[0m\n\u001b[0;32m---> 21\u001b[0;31m             \u001b[0mloss\u001b[0m\u001b[0;34m.\u001b[0m\u001b[0mbackward\u001b[0m\u001b[0;34m(\u001b[0m\u001b[0;34m)\u001b[0m\u001b[0;34m\u001b[0m\u001b[0;34m\u001b[0m\u001b[0m\n\u001b[0m\u001b[1;32m     22\u001b[0m             \u001b[0mz_optimizer\u001b[0m\u001b[0;34m.\u001b[0m\u001b[0mstep\u001b[0m\u001b[0;34m(\u001b[0m\u001b[0;34m)\u001b[0m\u001b[0;34m\u001b[0m\u001b[0;34m\u001b[0m\u001b[0m\n\u001b[1;32m     23\u001b[0m             \u001b[0mfinal_loss\u001b[0m \u001b[0;34m=\u001b[0m \u001b[0mloss\u001b[0m\u001b[0;34m.\u001b[0m\u001b[0mdata\u001b[0m\u001b[0;34m.\u001b[0m\u001b[0mitem\u001b[0m\u001b[0;34m(\u001b[0m\u001b[0;34m)\u001b[0m\u001b[0;34m\u001b[0m\u001b[0;34m\u001b[0m\u001b[0m\n",
            "\u001b[0;32m/usr/local/lib/python3.10/dist-packages/torch/_tensor.py\u001b[0m in \u001b[0;36mbackward\u001b[0;34m(self, gradient, retain_graph, create_graph, inputs)\u001b[0m\n\u001b[1;32m    485\u001b[0m                 \u001b[0minputs\u001b[0m\u001b[0;34m=\u001b[0m\u001b[0minputs\u001b[0m\u001b[0;34m,\u001b[0m\u001b[0;34m\u001b[0m\u001b[0;34m\u001b[0m\u001b[0m\n\u001b[1;32m    486\u001b[0m             )\n\u001b[0;32m--> 487\u001b[0;31m         torch.autograd.backward(\n\u001b[0m\u001b[1;32m    488\u001b[0m             \u001b[0mself\u001b[0m\u001b[0;34m,\u001b[0m \u001b[0mgradient\u001b[0m\u001b[0;34m,\u001b[0m \u001b[0mretain_graph\u001b[0m\u001b[0;34m,\u001b[0m \u001b[0mcreate_graph\u001b[0m\u001b[0;34m,\u001b[0m \u001b[0minputs\u001b[0m\u001b[0;34m=\u001b[0m\u001b[0minputs\u001b[0m\u001b[0;34m\u001b[0m\u001b[0;34m\u001b[0m\u001b[0m\n\u001b[1;32m    489\u001b[0m         )\n",
            "\u001b[0;32m/usr/local/lib/python3.10/dist-packages/torch/autograd/__init__.py\u001b[0m in \u001b[0;36mbackward\u001b[0;34m(tensors, grad_tensors, retain_graph, create_graph, grad_variables, inputs)\u001b[0m\n\u001b[1;32m    198\u001b[0m     \u001b[0;31m# some Python versions print out the first line of a multi-line function\u001b[0m\u001b[0;34m\u001b[0m\u001b[0;34m\u001b[0m\u001b[0m\n\u001b[1;32m    199\u001b[0m     \u001b[0;31m# calls in the traceback and some print out the last line\u001b[0m\u001b[0;34m\u001b[0m\u001b[0;34m\u001b[0m\u001b[0m\n\u001b[0;32m--> 200\u001b[0;31m     Variable._execution_engine.run_backward(  # Calls into the C++ engine to run the backward pass\n\u001b[0m\u001b[1;32m    201\u001b[0m         \u001b[0mtensors\u001b[0m\u001b[0;34m,\u001b[0m \u001b[0mgrad_tensors_\u001b[0m\u001b[0;34m,\u001b[0m \u001b[0mretain_graph\u001b[0m\u001b[0;34m,\u001b[0m \u001b[0mcreate_graph\u001b[0m\u001b[0;34m,\u001b[0m \u001b[0minputs\u001b[0m\u001b[0;34m,\u001b[0m\u001b[0;34m\u001b[0m\u001b[0;34m\u001b[0m\u001b[0m\n\u001b[1;32m    202\u001b[0m         allow_unreachable=True, accumulate_grad=True)  # Calls into the C++ engine to run the backward pass\n",
            "\u001b[0;31mKeyboardInterrupt\u001b[0m: "
          ]
        }
      ],
      "source": [
        "def create_cp(iteration_number):\n",
        "  print(\"CREATING CHECKPOINT...\")\n",
        "  drive.mount('/content/drive', force_remount=True)\n",
        "  shutil.make_archive(f\"/content/drive/MyDrive/Colab/data/latent_space_mappings_cp/latent_space_mappings_cp{iteration_number}\", 'zip', \"/content/data/latent_space_mappings\")\n",
        "\n",
        "def save_to_drive(mapped_z, iteration_number, csv_path):\n",
        "  torch.save(mapped_z, f'/content/drive/MyDrive/Colab/data/latent_space_mappings/mapped_z_{iteration_number}.pt')\n",
        "  shutil.copy(csv_path, \"/content/drive/MyDrive/Colab/data/latent_space_mappings/latent_space_mappings.csv\")\n",
        "\n",
        "base_folder = \"/content/data/latent_space_mappings\"\n",
        "csv_path = os.path.join(base_folder, \"latent_space_mappings.csv\")\n",
        "\n",
        "if not os.path.exists(base_folder):\n",
        "    os.mkdir(base_folder)\n",
        "\n",
        "if os.path.exists(base_folder):\n",
        "    shutil.rmtree(base_folder)\n",
        "    os.mkdir(base_folder)\n",
        "\n",
        "with open(csv_path, 'a', newline='') as file:\n",
        "    writer = csv.writer(file)\n",
        "    fields = [\"filename\", \"label\", \"anomaly\", \"reconstruction_loss\"]\n",
        "    writer.writerow(fields)\n",
        "\n",
        "# Start mapping\n",
        "only_map_anomalies = True\n",
        "t = transforms.ToPILImage()\n",
        "lsm: LatentSpaceMapper = LatentSpaceMapper(generator=generator, discriminator=discriminator, device=device)\n",
        "mapped_images = []\n",
        "cp_counter = 0\n",
        "counter = len(ano_mnist_dataset)\n",
        "#for img in ano_mnist_dataset:\n",
        "i = 0\n",
        "while i < len(ano_mnist_dataset):\n",
        "\n",
        "    # print(f\"{counter} images left\")\n",
        "\n",
        "    if (ano_mnist_dataset[i][1][\"anomaly\"] == True and only_map_anomalies) or not only_map_anomalies:\n",
        "        mapped_z, reconstruction_loss, retry = lsm.map_image_to_point_in_latent_space(ano_mnist_dataset[i][0],\n",
        "                                                                               batch_size=1,\n",
        "                                                                               max_opt_iterations=100000,\n",
        "                                                                               opt_threshold=45.0,\n",
        "                                                                               plateu_threshold=0,\n",
        "                                                                               plateu_check_every_n_iter=100000,\n",
        "                                                                               learning_rate=0.4,\n",
        "                                                                               print_every_n_iters=5000,\n",
        "                                                                               ignore_rules_below_threshold=55,\n",
        "                                                                               retry_after_n_iters=5000)\n",
        "\n",
        "        if retry:\n",
        "            i-=1\n",
        "            continue\n",
        "\n",
        "        mapped_images.append(mapped_z)\n",
        "        with open(csv_path, 'a', newline='') as file:\n",
        "            writer = csv.writer(file)\n",
        "            fields = [f'mapped_z_{counter}.pt', ano_mnist_dataset[i][1][\"label\"], ano_mnist_dataset[i][1][\"anomaly\"], math.floor(reconstruction_loss)]\n",
        "            writer.writerow(fields)\n",
        "\n",
        "        torch.save(mapped_z, os.path.join(base_folder, f'mapped_z_{counter}.pt'))\n",
        "        save_to_drive(mapped_z, counter, csv_path)\n",
        "        cp_counter += 1\n",
        "        if cp_counter % 50 == 0:\n",
        "          create_cp(counter)\n",
        "          clear_output\n",
        "\n",
        "        print('Original Image')\n",
        "        t(ano_mnist_dataset[i][0]).resize((128, 128), PIL.Image.NEAREST).show()\n",
        "        original_img = generator(mapped_z).cpu()\n",
        "        img = t(original_img[0]).resize((128, 128), PIL.Image.NEAREST)\n",
        "        print('Mapped and Reconstructed Image')\n",
        "        img.show()\n",
        "        print('-----------------------')\n",
        "\n",
        "    i+=1\n",
        "    counter-=1\n",
        "\n",
        "create_cp(0)"
      ],
      "metadata": {
        "ExecuteTime": {
          "end_time": "2023-06-19T13:17:18.568254955Z",
          "start_time": "2023-06-19T13:17:09.250792045Z"
        },
        "id": "Y611jafizmex",
        "outputId": "fe369643-a37f-4199-d1f1-7fa156752df1",
        "colab": {
          "base_uri": "https://localhost:8080/",
          "height": 1000
        }
      }
    },
    {
      "cell_type": "code",
      "source": [],
      "metadata": {
        "id": "uEKTkC4VVmif"
      },
      "execution_count": null,
      "outputs": []
    }
  ],
  "metadata": {
    "kernelspec": {
      "display_name": "Python 3",
      "name": "python3"
    },
    "language_info": {
      "codemirror_mode": {
        "name": "ipython",
        "version": 2
      },
      "file_extension": ".py",
      "mimetype": "text/x-python",
      "name": "python",
      "nbconvert_exporter": "python",
      "pygments_lexer": "ipython2",
      "version": "2.7.6"
    },
    "colab": {
      "provenance": [],
      "machine_shape": "hm",
      "gpuType": "V100"
    },
    "accelerator": "GPU"
  },
  "nbformat": 4,
  "nbformat_minor": 0
}