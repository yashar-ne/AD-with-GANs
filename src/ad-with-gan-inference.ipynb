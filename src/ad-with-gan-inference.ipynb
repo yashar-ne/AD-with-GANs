{
  "cells": [
    {
      "cell_type": "code",
      "source": [
        "from google.colab import drive\n",
        "drive.mount('/content/drive')\n",
        "!cp -r /content/drive/MyDrive/Colab/data /content/data\n",
        "\n",
        "%cd /content/drive/MyDrive/Colab\n",
        "%ls"
      ],
      "metadata": {
        "id": "3dlxtjAuDfKX"
      },
      "execution_count": null,
      "outputs": []
    },
    {
      "cell_type": "code",
      "execution_count": 4,
      "outputs": [],
      "source": [
        "import sys\n",
        "\n",
        "sys.path.append('/content/drive/MyDrive/Colab/src')\n",
        "sys.path.append('./models')\n",
        "sys.path.append('./tools')\n",
        "from models.generator import Generator\n",
        "from models.discriminator import Discriminator\n",
        "from tools.ano_mnist_dataset_generator import get_ano_mnist_dataset"
      ],
      "metadata": {
        "id": "EV6dZHu-uwy0"
      }
    },
    {
      "cell_type": "code",
      "execution_count": 5,
      "metadata": {
        "collapsed": true,
        "id": "xtoXvC1nfhOK"
      },
      "outputs": [],
      "source": [
        "import torch\n",
        "import torch.nn as nn\n",
        "from torch.utils.data import DataLoader\n",
        "import torch.optim as optim\n",
        "from torchvision import datasets, transforms\n",
        "import torchvision.utils as vutils\n",
        "from sklearn.metrics import roc_curve, auc\n",
        "import numpy as np\n",
        "import matplotlib.pyplot as plt\n",
        "import matplotlib.animation as animation\n",
        "from IPython.display import HTML\n",
        "from PIL import Image\n",
        "import pandas as pd\n",
        "import time\n",
        "import random"
      ]
    },
    {
      "cell_type": "code",
      "execution_count": 6,
      "outputs": [],
      "source": [
        "device = torch.device('cuda' if torch.cuda.is_available() else 'cpu')"
      ],
      "metadata": {
        "id": "kwb65Q9DfhOO"
      }
    },
    {
      "cell_type": "code",
      "execution_count": 7,
      "outputs": [],
      "source": [
        "batch_size = 64\n",
        "num_classes = 1\n",
        "learning_rate = 0.002\n",
        "num_epochs = 50\n",
        "num_color_channels = 1\n",
        "num_feature_maps_g = 32\n",
        "num_feature_maps_d = 32\n",
        "size_z = 100\n",
        "adam_beta1 = 0.2\n",
        "test_size = 1"
      ],
      "metadata": {
        "id": "1Y3il4ovfhOR"
      }
    },
    {
      "cell_type": "code",
      "execution_count": 8,
      "outputs": [],
      "source": [
        "generator = Generator(size_z=size_z,\n",
        "                      num_feature_maps=num_feature_maps_g,\n",
        "                      num_color_channels=num_color_channels).to(device)\n",
        "discriminator = Discriminator(num_feature_maps=num_feature_maps_d,\n",
        "                              num_color_channels=num_color_channels).to(device)"
      ],
      "metadata": {
        "id": "tCj3teR7fhOT"
      }
    },
    {
      "cell_type": "code",
      "execution_count": 9,
      "outputs": [
        {
          "output_type": "stream",
          "name": "stdout",
          "text": [
            "Generating Dataset...\n"
          ]
        }
      ],
      "source": [
        "transform = transforms.Compose([\n",
        "    transforms.ToTensor(),\n",
        "    transforms.Normalize(mean=(.5,), std=(.5,))\n",
        "])\n",
        "\n",
        "train_dataset = datasets.MNIST(\n",
        "    root='data',\n",
        "    train=True,\n",
        "    transform=transform,\n",
        "    download=True,\n",
        ")\n",
        "\n",
        "test_dataset = datasets.MNIST(\n",
        "    root='data',\n",
        "    train=False,\n",
        "    transform=transform,\n",
        "    download=True,\n",
        ")\n",
        "\n",
        "#indices = (train_dataset.targets == 1) |\\\n",
        "#          (train_dataset.targets == 2) |\\\n",
        "#          (train_dataset.targets == 4) |\\\n",
        "#          (train_dataset.targets == 5) |\\\n",
        "#          (train_dataset.targets == 6) |\\\n",
        "#          (train_dataset.targets == 7) |\\\n",
        "#          (train_dataset.targets == 8) |\\\n",
        "#          (train_dataset.targets == 9)\n",
        "\n",
        "indices = (train_dataset.targets == 9)\n",
        "train_dataset.data, train_dataset.targets = train_dataset.data[indices], train_dataset.targets[indices]\n",
        "\n",
        "indices = (test_dataset.targets == 9)\n",
        "test_dataset.data, test_dataset.targets = test_dataset.data[indices], test_dataset.targets[indices]\n",
        "\n",
        "ano_mnist_dataset = get_ano_mnist_dataset(transform=transform, root_dir=\"/content/data\", labels=[9])"
      ],
      "metadata": {
        "id": "VlILqAhFfhOX",
        "colab": {
          "base_uri": "https://localhost:8080/"
        },
        "outputId": "37af3236-3d11-4961-d1fe-0428cb47fee4"
      }
    },
    {
      "cell_type": "markdown",
      "source": [
        "Save/Load models into generator and discriminator models"
      ],
      "metadata": {
        "collapsed": false,
        "id": "nNUq7iL5VO0f"
      }
    },
    {
      "cell_type": "code",
      "source": [
        "# %cd /content/drive/My Drive/Colab/\n",
        "# !ls\n",
        "\n",
        "def save_checkpoint(epoch):\n",
        "    timestamp = time.time()\n",
        "    torch.save(generator.state_dict(),f'./saved_models/generator_epoch_{epoch}_{timestamp}.pkl')\n",
        "    torch.save(discriminator.state_dict(),f'./saved_models/discriminator_epoch_{epoch}_{timestamp}.pkl')\n",
        "\n",
        "def save_models():\n",
        "    torch.save(generator.state_dict(),f'./saved_models/generator.pkl')\n",
        "    torch.save(discriminator.state_dict(),f'./saved_models/discriminator.pkl')\n",
        "\n",
        "def load_models():\n",
        "    generator.load_state_dict(torch.load(\"./saved_models/generator.pkl\", map_location=torch.device(device)))\n",
        "    discriminator.load_state_dict(torch.load('./saved_models/discriminator.pkl', map_location=torch.device(device)))"
      ],
      "metadata": {
        "id": "AUkBkw0LdQCi"
      },
      "execution_count": 10,
      "outputs": []
    },
    {
      "cell_type": "markdown",
      "source": [
        "Train the GAN"
      ],
      "metadata": {
        "collapsed": false,
        "id": "Mr8Pn8i9VO0b"
      }
    },
    {
      "cell_type": "code",
      "execution_count": 11,
      "outputs": [],
      "source": [
        "criterion = nn.BCELoss()\n",
        "\n",
        "fixed_noise = torch.randn(64, size_z, 1, 1, device=device)\n",
        "\n",
        "real_label = 1.\n",
        "fake_label = 0.\n",
        "\n",
        "optimizerG = optim.Adam(generator.parameters(), lr=learning_rate, betas=(adam_beta1, 0.999))\n",
        "optimizerD = optim.Adam(discriminator.parameters(), lr=learning_rate, betas=(adam_beta1, 0.999))\n",
        "\n",
        "def train_gan(dataset):\n",
        "    img_list = []\n",
        "    G_losses = []\n",
        "    D_losses = []\n",
        "    iters = 0\n",
        "    dataloader = torch.utils.data.DataLoader(dataset=dataset,\n",
        "                                         batch_size=batch_size,\n",
        "                                         shuffle=True)\n",
        "\n",
        "    print(\"Starting Training Loop...\")\n",
        "    for epoch in range(num_epochs):\n",
        "        for i, (real_images, _) in enumerate(dataloader):\n",
        "            # get batch-size from actual image batch\n",
        "            bs = real_images.shape[0]\n",
        "\n",
        "            # -- train discriminator --\n",
        "\n",
        "            # reset/clear discriminators gradient\n",
        "            discriminator.zero_grad()\n",
        "\n",
        "            # move images to either CPU or GPU\n",
        "            real_images = real_images.to(device)\n",
        "\n",
        "            # creates a label tensor filled with 1s\n",
        "            label = torch.full((bs,), real_label, dtype=torch.float, device=device)\n",
        "\n",
        "            # get probs for discriminators guess on the real images\n",
        "            output, _ = discriminator(real_images)\n",
        "\n",
        "            # get loss for real images. that means it calculates the difference\n",
        "            # between the output of the model with the current parameter and the\n",
        "            # target (goal) of what the model is supposed to do\n",
        "            # output --> current outcome of the model\n",
        "            # label  --> target of the model\n",
        "            lossD_real = criterion(output, label)\n",
        "\n",
        "            # calculates the gradient (using chain-rule)\n",
        "            # see https://pytorch.org/docs/stable/generated/torch.Tensor.backward.html\n",
        "            lossD_real.backward()\n",
        "\n",
        "            # Gets the mean value of all results from the discriminator to get an average\n",
        "            # probability of all sample evaluations (for real data ) --> D(x)\n",
        "            D_x = output.mean().item()\n",
        "\n",
        "            # create noise as an input for the G in order to create fake images\n",
        "            noise = torch.randn(bs, size_z, 1, 1, device=device)\n",
        "\n",
        "            # use generator to map input noise to an output that is supposed do become fake images during training\n",
        "            fake_images = generator(noise)\n",
        "\n",
        "            # creates a label tensor filled with 0s\n",
        "            label.fill_(fake_label)\n",
        "\n",
        "            # get discriminators guess on fake images\n",
        "            output, _ = discriminator(fake_images.detach())\n",
        "\n",
        "            # get loss for fake images\n",
        "            lossD_fake = criterion(output, label)\n",
        "\n",
        "            # adjust parameter to identify fakes\n",
        "            lossD_fake.backward()\n",
        "\n",
        "            # gets the mean value of all results from the discriminator to get an average\n",
        "            # probability of all sample evaluations. this time for the fake images that were\n",
        "            # generated by the generator --> D(G(z))\n",
        "            D_G_z1 = output.mean().item()\n",
        "\n",
        "            # calculate loss\n",
        "            lossD = lossD_real + lossD_fake\n",
        "\n",
        "            # adjust models (discriminator) parameter\n",
        "            optimizerD.step()\n",
        "\n",
        "            # -- train generator --\n",
        "\n",
        "            # reset/clear generators gradient\n",
        "            generator.zero_grad()\n",
        "\n",
        "            # creates a label tensor filled with 1s\n",
        "            label.fill_(real_label)\n",
        "\n",
        "            # get discriminators guess on fake images\n",
        "            output, _ = discriminator(fake_images)\n",
        "            output = output.view(-1)\n",
        "\n",
        "            # get loss for fake images\n",
        "            lossG = criterion(output, label)\n",
        "\n",
        "            # adjust parameter to generate fakes\n",
        "            lossG.backward()\n",
        "\n",
        "            # gets the mean value of all results from the discriminator to get an average\n",
        "            # probability of all sample evaluations. this time for the fake images that were\n",
        "            # generated by the generator --> D(G(z))\n",
        "            D_G_z2 = output.mean().item()\n",
        "\n",
        "            # adjust models (generator) parameter\n",
        "            optimizerG.step()\n",
        "            # Save Losses for plotting later\n",
        "            G_losses.append(lossG.item())\n",
        "            D_losses.append(lossD.item())\n",
        "\n",
        "            # Check how the generator is doing by saving G's output on fixed_noise\n",
        "            if (iters % 500 == 0) or ((epoch == num_epochs - 1) and (i == len(dataloader) - 1)):\n",
        "                with torch.no_grad():\n",
        "                    fake = generator(fixed_noise).detach().cpu()\n",
        "                img_list.append(vutils.make_grid(fake, padding=2, normalize=True))\n",
        "            iters += 1\n",
        "\n",
        "        print('[%d/%d]\\tLoss_D: %.4f\\tLoss_G: %.4f\\tD(x): %.4f\\tD(G(z)): %.4f / %.4f'\n",
        "              % (epoch+1, num_epochs, lossD.item(), lossG.item(), D_x, D_G_z1, D_G_z2))\n",
        "        \n",
        "        if epoch%5 == 0:\n",
        "          save_checkpoint(epoch)\n",
        "\n",
        "    plt.figure(figsize=(10, 5))\n",
        "    plt.title(\"Generator and Discriminator Loss During Training\")\n",
        "    plt.plot(G_losses, label=\"G\")\n",
        "    plt.plot(D_losses, label=\"D\")\n",
        "    plt.xlabel(\"iterations\")\n",
        "    plt.ylabel(\"Loss\")\n",
        "    plt.legend()\n",
        "    plt.show()\n",
        "\n",
        "    plt.rcParams['animation.embed_limit'] = 100\n",
        "    fig = plt.figure(figsize=(8, 8))\n",
        "    plt.axis(\"off\")\n",
        "    ims = [[plt.imshow(np.transpose(i, (1, 2, 0)), animated=True)] for i in img_list]\n",
        "    ani = animation.ArtistAnimation(fig, ims, interval=1000, repeat_delay=1000, blit=True)\n",
        "    HTML(ani.to_jshtml())"
      ],
      "metadata": {
        "id": "ybtYpgwZVO0e"
      }
    },
    {
      "cell_type": "code",
      "source": [
        "train_gan(ano_mnist_dataset)"
      ],
      "metadata": {
        "id": "GbDMrvAjEFdL",
        "outputId": "d03ab17b-0eb4-4a6d-a4ea-f4444f4faec2",
        "colab": {
          "base_uri": "https://localhost:8080/",
          "height": 480
        }
      },
      "execution_count": 12,
      "outputs": [
        {
          "output_type": "stream",
          "name": "stdout",
          "text": [
            "Starting Training Loop...\n",
            "[1/50]\tLoss_D: 1.2901\tLoss_G: 0.7771\tD(x): 0.4544\tD(G(z)): 0.3580 / 0.4704\n",
            "[2/50]\tLoss_D: 1.3405\tLoss_G: 0.6521\tD(x): 0.3687\tD(G(z)): 0.2646 / 0.5328\n",
            "[3/50]\tLoss_D: 1.6153\tLoss_G: 1.7590\tD(x): 0.8181\tD(G(z)): 0.7430 / 0.1818\n",
            "[4/50]\tLoss_D: 1.5147\tLoss_G: 0.5866\tD(x): 0.3051\tD(G(z)): 0.2319 / 0.5712\n",
            "[5/50]\tLoss_D: 1.2384\tLoss_G: 1.5267\tD(x): 0.6773\tD(G(z)): 0.5520 / 0.2274\n",
            "[6/50]\tLoss_D: 1.3164\tLoss_G: 0.7548\tD(x): 0.4499\tD(G(z)): 0.3780 / 0.4804\n",
            "[7/50]\tLoss_D: 1.2598\tLoss_G: 1.7162\tD(x): 0.7154\tD(G(z)): 0.5859 / 0.1931\n",
            "[8/50]\tLoss_D: 1.1229\tLoss_G: 1.1417\tD(x): 0.5605\tD(G(z)): 0.4015 / 0.3418\n",
            "[9/50]\tLoss_D: 1.2977\tLoss_G: 1.7787\tD(x): 0.6963\tD(G(z)): 0.5898 / 0.1809\n",
            "[10/50]\tLoss_D: 1.5801\tLoss_G: 1.7742\tD(x): 0.7752\tD(G(z)): 0.7143 / 0.1868\n"
          ]
        },
        {
          "output_type": "error",
          "ename": "KeyboardInterrupt",
          "evalue": "ignored",
          "traceback": [
            "\u001b[0;31m---------------------------------------------------------------------------\u001b[0m",
            "\u001b[0;31mKeyboardInterrupt\u001b[0m                         Traceback (most recent call last)",
            "\u001b[0;32m<ipython-input-12-b274b5468191>\u001b[0m in \u001b[0;36m<cell line: 1>\u001b[0;34m()\u001b[0m\n\u001b[0;32m----> 1\u001b[0;31m \u001b[0mtrain_gan\u001b[0m\u001b[0;34m(\u001b[0m\u001b[0mano_mnist_dataset\u001b[0m\u001b[0;34m)\u001b[0m\u001b[0;34m\u001b[0m\u001b[0;34m\u001b[0m\u001b[0m\n\u001b[0m",
            "\u001b[0;32m<ipython-input-11-c3f97b9efc08>\u001b[0m in \u001b[0;36mtrain_gan\u001b[0;34m(dataset)\u001b[0m\n\u001b[1;32m     54\u001b[0m \u001b[0;34m\u001b[0m\u001b[0m\n\u001b[1;32m     55\u001b[0m             \u001b[0;31m# create noise as an input for the G in order to create fake images\u001b[0m\u001b[0;34m\u001b[0m\u001b[0;34m\u001b[0m\u001b[0m\n\u001b[0;32m---> 56\u001b[0;31m             \u001b[0mnoise\u001b[0m \u001b[0;34m=\u001b[0m \u001b[0mtorch\u001b[0m\u001b[0;34m.\u001b[0m\u001b[0mrandn\u001b[0m\u001b[0;34m(\u001b[0m\u001b[0mbs\u001b[0m\u001b[0;34m,\u001b[0m \u001b[0msize_z\u001b[0m\u001b[0;34m,\u001b[0m \u001b[0;36m1\u001b[0m\u001b[0;34m,\u001b[0m \u001b[0;36m1\u001b[0m\u001b[0;34m,\u001b[0m \u001b[0mdevice\u001b[0m\u001b[0;34m=\u001b[0m\u001b[0mdevice\u001b[0m\u001b[0;34m)\u001b[0m\u001b[0;34m\u001b[0m\u001b[0;34m\u001b[0m\u001b[0m\n\u001b[0m\u001b[1;32m     57\u001b[0m \u001b[0;34m\u001b[0m\u001b[0m\n\u001b[1;32m     58\u001b[0m             \u001b[0;31m# use generator to map input noise to an output that is supposed do become fake images during training\u001b[0m\u001b[0;34m\u001b[0m\u001b[0;34m\u001b[0m\u001b[0m\n",
            "\u001b[0;31mKeyboardInterrupt\u001b[0m: "
          ]
        }
      ]
    },
    {
      "cell_type": "markdown",
      "source": [
        "Inference"
      ],
      "metadata": {
        "collapsed": false,
        "id": "d5CPmIqSVO0h"
      }
    },
    {
      "cell_type": "code",
      "execution_count": null,
      "outputs": [],
      "source": [
        "def generate_anomaly():\n",
        "    random_idx = random.randint(0, len(test_dataset.data)-1)\n",
        "    img, _ = test_dataset[random_idx]\n",
        "    img = img.numpy()\n",
        "    random_idx = random.randint(4, 20)\n",
        "    img[0][random_idx:random_idx + 3] = np.ones(28, dtype=\"float32\") - 2\n",
        "\n",
        "    return np.expand_dims(img, axis=0)\n",
        "\n",
        "def generate_normals_set(size):\n",
        "    i = torch.from_numpy(np.random.randint(len(test_dataset)-1, size=size))\n",
        "    train_loader = DataLoader(test_dataset, batch_size=len(test_dataset))\n",
        "    data = next(iter(train_loader))[0].numpy()[i]\n",
        "    if len(data.shape) == 3: data = np.expand_dims(data, axis=0)\n",
        "\n",
        "    return torch.from_numpy(data)\n",
        "\n",
        "def generate_anomaly_set(size):\n",
        "    anomalies = generate_anomaly()\n",
        "    for i in range(size-1):\n",
        "        anomalies = np.concatenate((anomalies, generate_anomaly()))\n",
        "\n",
        "    return torch.from_numpy(anomalies)\n",
        "\n",
        "def generate_test_set(size_normals, size_anomalies):\n",
        "    normals = generate_normals_set(size_normals)\n",
        "    anomalies = generate_anomaly_set(size_anomalies)\n",
        "\n",
        "    return normals, anomalies"
      ],
      "metadata": {
        "id": "5Akb2B4sKfaG"
      }
    },
    {
      "cell_type": "code",
      "execution_count": null,
      "outputs": [],
      "source": [
        "def get_anomaly_score(z, x_query):\n",
        "    lamda = 0.1\n",
        "    g_z = generator(z.to(device))\n",
        "    _, x_prop = discriminator(x_query)\n",
        "    _, g_z_prop = discriminator(g_z)\n",
        "\n",
        "    loss_r = torch.sum(torch.abs(x_query - g_z))\n",
        "    loss_d = torch.sum(torch.abs(x_prop - g_z_prop))\n",
        "\n",
        "    return (1 - lamda) * loss_r + lamda * loss_d"
      ],
      "metadata": {
        "id": "Cfo5Iri0uwzD"
      }
    },
    {
      "cell_type": "code",
      "execution_count": null,
      "outputs": [],
      "source": [
        "def run_inference(query_image, input_type, draw_loss_curve, opt_iterations = 10000, draw_result = True):\n",
        "    z = torch.randn(test_size, size_z, 1, 1, device=device, requires_grad=True).to(device)\n",
        "    z_optimizer = torch.optim.Adam([z], lr=1e-4)\n",
        "    losses = []\n",
        "    score = 0\n",
        "\n",
        "    for i in range(opt_iterations):\n",
        "        loss = get_anomaly_score(z, query_image.unsqueeze(0).to(device))\n",
        "        loss.backward()\n",
        "        z_optimizer.step()\n",
        "        if i % 500==0:\n",
        "            losses.append(loss.data.item())\n",
        "        if i == opt_iterations - 1: score = loss.data.item()\n",
        "\n",
        "    if draw_loss_curve:\n",
        "        plt.figure(figsize=(10, 5))\n",
        "        plt.title(\"Loss trajectory during optimization\")\n",
        "        plt.plot(losses, label=\"Loss\")\n",
        "        plt.xlabel(\"iterations\")\n",
        "        plt.ylabel(\"Loss\")\n",
        "        plt.legend()\n",
        "        plt.show()\n",
        "\n",
        "    if draw_result: draw_results(z, query_image, input_type, score)\n",
        "\n",
        "    if not draw_result: print(f\"Ran Inference with {opt_iterations} iterations. Query-Type was {input_type}. Anonaly-Score: {score}\")\n",
        "    return score\n",
        "\n",
        "def draw_results(z, query_image, input_type, score):\n",
        "    gen_fake = generator(z.to(device))\n",
        "    target = query_image.squeeze().numpy()\n",
        "    img = gen_fake.detach().numpy().squeeze()\n",
        "\n",
        "    num_rows = 1\n",
        "    images_in_row = 4\n",
        "    f, ax = plt.subplots(num_rows, images_in_row, figsize=(10,4))\n",
        "\n",
        "    f.add_subplot(num_rows, images_in_row, 1)\n",
        "    plt.imshow(target, cmap=\"binary\")\n",
        "    plt.axis('off')\n",
        "    plt.title(\"Query Image\")\n",
        "\n",
        "    f.add_subplot(num_rows, images_in_row, 2)\n",
        "    plt.imshow(img, cmap=\"binary\")\n",
        "    plt.axis('off')\n",
        "    plt.title(\"G(z_Gamma)\")\n",
        "\n",
        "    diff = np.abs(img - target)*255\n",
        "    diff_isclose = np.isclose(img, target, rtol=1.2, atol=0.4)\n",
        "\n",
        "    f.add_subplot(num_rows, images_in_row, 3)\n",
        "    plt.imshow(Image.fromarray(diff), cmap=\"binary\")\n",
        "    plt.axis('off')\n",
        "    plt.title(\"|G(z_Gamma) - x|\")\n",
        "\n",
        "    f.add_subplot(num_rows, images_in_row, 4)\n",
        "    plt.imshow(Image.fromarray(diff_isclose), cmap=\"binary\")\n",
        "    plt.axis('off')\n",
        "    plt.title(\"np.isclose()\")\n",
        "\n",
        "    f.suptitle(f'Sample Type: {input_type} - Score: {score}', fontsize=14)\n",
        "    plt.show()\n",
        "\n",
        "def create_roc_curve(file_path):\n",
        "    data = pd.read_csv(file_path, delimiter=';').iloc[: , 1:].to_numpy()\n",
        "    y_label, y_scores = np.hsplit(data, 2)\n",
        "    y_label = y_label.reshape(len(y_label))\n",
        "    y_scores = np.array(y_scores.reshape(len(y_scores)), dtype='float64')\n",
        "    label_dict = {'normal': 0, 'anomaly': 1}\n",
        "    y_label = np.array([label_dict[y_i] for y_i in y_label])\n",
        "\n",
        "    fpr, tpr, _ = roc_curve(y_label, y_scores)\n",
        "    auc_value = auc(fpr, tpr)\n",
        "    plt.figure(figsize=(10, 5))\n",
        "    plt.plot(fpr, tpr, color='orange', label='ROC')\n",
        "    plt.plot([0, 1], [0, 1], color='darkblue', linestyle='--')\n",
        "    plt.title(f\"ROC Curve - AUC: {auc_value}\", fontsize=18)\n",
        "    plt.xlabel(\"FPR\", fontsize=14)\n",
        "    plt.ylabel(\"TPR\", fontsize=14)\n",
        "    plt.legend()\n",
        "\n",
        "def test_inference(size_normals, size_anomalies, draw_loss_curve = False, save_statistics = True, draw_result = True, opt_iterations = 10000):\n",
        "    statistics = {\n",
        "        \"sample-type\": [],\n",
        "        \"score\": []\n",
        "    }\n",
        "\n",
        "    normals, anomalies = generate_test_set(size_normals, size_anomalies)\n",
        "    for n in normals:\n",
        "        score = run_inference(n, 'NORMAL', draw_loss_curve=draw_loss_curve, opt_iterations = opt_iterations, draw_result = draw_result)\n",
        "        if save_statistics:\n",
        "            statistics[\"sample-type\"].append(\"normal\")\n",
        "            statistics[\"score\"].append(round(score, 2))\n",
        "    for a in anomalies:\n",
        "        score = run_inference(a, 'ANOMALY', draw_loss_curve=draw_loss_curve, opt_iterations = opt_iterations, draw_result = draw_result)\n",
        "        if save_statistics:\n",
        "            statistics[\"sample-type\"].append(\"anomaly\")\n",
        "            statistics[\"score\"].append(round(score, 2))\n",
        "    if save_statistics:\n",
        "        timestr = time.strftime('%d %b %Y %H:%M:%S GMT', time.localtime())\n",
        "        df = pd.DataFrame(statistics)\n",
        "        df.to_csv(f'./data/statistics/stat_{timestr}.csv', sep=';')\n"
      ],
      "metadata": {
        "id": "ia_ly0qkuwzD"
      }
    },
    {
      "cell_type": "code",
      "execution_count": null,
      "outputs": [],
      "source": [
        "# load_models()\n",
        "# test_inference(80, 20, draw_loss_curve = False, save_statistics = True, draw_result = True, opt_iterations = 10000)"
      ],
      "metadata": {
        "pycharm": {
          "is_executing": true
        },
        "id": "grnbE4sBuwzE"
      }
    },
    {
      "cell_type": "code",
      "execution_count": null,
      "outputs": [],
      "source": [
        "# file = './data/statistics/stat_02 Apr 2023 17:30:50 GMT.csv'\n",
        "# create_roc_curve(file)"
      ],
      "metadata": {
        "pycharm": {
          "is_executing": true
        },
        "id": "FHXpEBZguwzF"
      }
    },
    {
      "cell_type": "code",
      "source": [
        "# train_gan(ano_mnist_dataset)"
      ],
      "metadata": {
        "id": "Qwt6o8I11h4-"
      },
      "execution_count": null,
      "outputs": []
    },
    {
      "cell_type": "code",
      "execution_count": null,
      "outputs": [],
      "source": [
        "# save_models()"
      ],
      "metadata": {
        "id": "s-4EyjuTVO0l"
      }
    }
  ],
  "metadata": {
    "kernelspec": {
      "display_name": "Python 3",
      "language": "python",
      "name": "python3"
    },
    "language_info": {
      "codemirror_mode": {
        "name": "ipython",
        "version": 2
      },
      "file_extension": ".py",
      "mimetype": "text/x-python",
      "name": "python",
      "nbconvert_exporter": "python",
      "pygments_lexer": "ipython2",
      "version": "2.7.6"
    },
    "colab": {
      "provenance": []
    },
    "accelerator": "GPU",
    "gpuClass": "standard"
  },
  "nbformat": 4,
  "nbformat_minor": 0
}