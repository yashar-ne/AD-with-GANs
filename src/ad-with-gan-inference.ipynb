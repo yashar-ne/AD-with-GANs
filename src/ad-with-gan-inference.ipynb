{
  "cells": [
    {
      "cell_type": "code",
      "source": [
        "from google.colab import drive\n",
        "drive.mount('/content/drive')"
      ],
      "metadata": {
        "id": "UeSZYnUjfx3f",
        "outputId": "00f3632f-16e4-411d-af8a-4804be00ef4f",
        "colab": {
          "base_uri": "https://localhost:8080/"
        }
      },
      "execution_count": 1,
      "outputs": [
        {
          "output_type": "stream",
          "name": "stdout",
          "text": [
            "Mounted at /content/drive\n"
          ]
        }
      ]
    },
    {
      "cell_type": "code",
      "execution_count": 2,
      "metadata": {
        "collapsed": true,
        "id": "xtoXvC1nfhOK"
      },
      "outputs": [],
      "source": [
        "import torch\n",
        "import torch.nn as nn\n",
        "from torch.utils.data import DataLoader\n",
        "import torch.optim as optim\n",
        "from torchvision import datasets, transforms\n",
        "import torchvision.utils as vutils\n",
        "from torch.autograd import Variable\n",
        "import numpy as np\n",
        "import matplotlib.pyplot as plt\n",
        "import matplotlib.animation as animation\n",
        "from IPython.display import HTML\n",
        "import PIL\n",
        "from PIL import Image\n",
        "import time\n",
        "import random"
      ]
    },
    {
      "cell_type": "code",
      "execution_count": 3,
      "outputs": [],
      "source": [
        "class Generator(nn.Module):\n",
        "    def __init__(self, size_z, num_feature_maps, num_color_channels):\n",
        "        super(Generator, self).__init__()\n",
        "        self.network = nn.Sequential(\n",
        "            nn.ConvTranspose2d(size_z, num_feature_maps * 4, 4, 1, 0, bias=False),\n",
        "            nn.BatchNorm2d(num_feature_maps * 4),\n",
        "            nn.ReLU(True),\n",
        "\n",
        "            nn.ConvTranspose2d(num_feature_maps*4, num_feature_maps * 2, 3, 2, 1, bias=False),\n",
        "            nn.BatchNorm2d(num_feature_maps * 2),\n",
        "            nn.ReLU(True),\n",
        "\n",
        "            nn.ConvTranspose2d(num_feature_maps * 2, num_feature_maps, 4, 2, 1, bias=False),\n",
        "            nn.BatchNorm2d(num_feature_maps),\n",
        "            nn.ReLU(True),\n",
        "\n",
        "            nn.ConvTranspose2d(num_feature_maps, num_color_channels, 4, 2, 1, bias=False),\n",
        "            nn.Tanh()\n",
        "        )\n",
        "\n",
        "    def forward(self, input):\n",
        "        output = self.network(input)\n",
        "        return output\n",
        "\n",
        "\n",
        "class Discriminator(nn.Module):\n",
        "    def __init__(self, num_feature_maps, num_color_channels):\n",
        "        super(Discriminator, self).__init__()\n",
        "        self.layer1 = nn.Sequential(\n",
        "            nn.Conv2d(num_color_channels, num_feature_maps, 4, 2, 1, bias=False),\n",
        "            nn.LeakyReLU(0.2, inplace=True),\n",
        "        )\n",
        "        self.layer2 = nn.Sequential(\n",
        "            nn.Conv2d(num_feature_maps, num_feature_maps * 2, 4, 2, 1, bias=False),\n",
        "            nn.BatchNorm2d(num_feature_maps * 2),\n",
        "            nn.LeakyReLU(0.2, inplace=True),\n",
        "        )\n",
        "        self.layer3 = nn.Sequential(\n",
        "            nn.Conv2d(num_feature_maps * 2, num_feature_maps * 4, 3, 2, 1, bias=False),\n",
        "            nn.BatchNorm2d(num_feature_maps * 4),\n",
        "            nn.LeakyReLU(0.2, inplace=True),\n",
        "        )\n",
        "        self.fc = nn.Sequential(\n",
        "            nn.Conv2d(num_feature_maps * 4, 1, 4, 1, 0, bias=False),\n",
        "            nn.Sigmoid()\n",
        "        )\n",
        "\n",
        "    def forward(self, x):\n",
        "        out = self.layer1(x)\n",
        "        out = self.layer2(out)\n",
        "        out = self.layer3(out)\n",
        "        feature = out\n",
        "        out = self.fc(out)\n",
        "        return out.view(-1, 1).squeeze(1), feature\n",
        "        \n",
        "device = torch.device('cuda' if torch.cuda.is_available() else 'cpu')"
      ],
      "metadata": {
        "id": "kwb65Q9DfhOO"
      }
    },
    {
      "cell_type": "code",
      "execution_count": 4,
      "outputs": [],
      "source": [
        "batch_size = 64\n",
        "num_classes = 1\n",
        "learning_rate = 0.002\n",
        "num_epochs = 100\n",
        "num_color_channels = 1\n",
        "num_feature_maps_g = 32\n",
        "num_feature_maps_d = 32\n",
        "size_z = 100\n",
        "adam_beta1 = 0.2"
      ],
      "metadata": {
        "id": "1Y3il4ovfhOR"
      }
    },
    {
      "cell_type": "code",
      "execution_count": 5,
      "outputs": [],
      "source": [
        "generator = Generator(size_z=size_z,\n",
        "                      num_feature_maps=num_feature_maps_g,\n",
        "                      num_color_channels=num_color_channels).to(device)\n",
        "discriminator = Discriminator(num_feature_maps=num_feature_maps_d,\n",
        "                              num_color_channels=num_color_channels).to(device)"
      ],
      "metadata": {
        "id": "tCj3teR7fhOT"
      }
    },
    {
      "cell_type": "code",
      "execution_count": 6,
      "outputs": [
        {
          "output_type": "stream",
          "name": "stdout",
          "text": [
            "Downloading http://yann.lecun.com/exdb/mnist/train-images-idx3-ubyte.gz\n",
            "Downloading http://yann.lecun.com/exdb/mnist/train-images-idx3-ubyte.gz to data/MNIST/raw/train-images-idx3-ubyte.gz\n"
          ]
        },
        {
          "output_type": "display_data",
          "data": {
            "text/plain": [
              "  0%|          | 0/9912422 [00:00<?, ?it/s]"
            ],
            "application/vnd.jupyter.widget-view+json": {
              "version_major": 2,
              "version_minor": 0,
              "model_id": "0a341d9e9ec848108e006cabe392fbc1"
            }
          },
          "metadata": {}
        },
        {
          "output_type": "stream",
          "name": "stdout",
          "text": [
            "Extracting data/MNIST/raw/train-images-idx3-ubyte.gz to data/MNIST/raw\n",
            "\n",
            "Downloading http://yann.lecun.com/exdb/mnist/train-labels-idx1-ubyte.gz\n",
            "Downloading http://yann.lecun.com/exdb/mnist/train-labels-idx1-ubyte.gz to data/MNIST/raw/train-labels-idx1-ubyte.gz\n"
          ]
        },
        {
          "output_type": "display_data",
          "data": {
            "text/plain": [
              "  0%|          | 0/28881 [00:00<?, ?it/s]"
            ],
            "application/vnd.jupyter.widget-view+json": {
              "version_major": 2,
              "version_minor": 0,
              "model_id": "6198098c3b5c47139db6515088caea4a"
            }
          },
          "metadata": {}
        },
        {
          "output_type": "stream",
          "name": "stdout",
          "text": [
            "Extracting data/MNIST/raw/train-labels-idx1-ubyte.gz to data/MNIST/raw\n",
            "\n",
            "Downloading http://yann.lecun.com/exdb/mnist/t10k-images-idx3-ubyte.gz\n",
            "Downloading http://yann.lecun.com/exdb/mnist/t10k-images-idx3-ubyte.gz to data/MNIST/raw/t10k-images-idx3-ubyte.gz\n"
          ]
        },
        {
          "output_type": "display_data",
          "data": {
            "text/plain": [
              "  0%|          | 0/1648877 [00:00<?, ?it/s]"
            ],
            "application/vnd.jupyter.widget-view+json": {
              "version_major": 2,
              "version_minor": 0,
              "model_id": "eab2fe1cee1f4a699cb0f3c43d0deca4"
            }
          },
          "metadata": {}
        },
        {
          "output_type": "stream",
          "name": "stdout",
          "text": [
            "Extracting data/MNIST/raw/t10k-images-idx3-ubyte.gz to data/MNIST/raw\n",
            "\n",
            "Downloading http://yann.lecun.com/exdb/mnist/t10k-labels-idx1-ubyte.gz\n",
            "Downloading http://yann.lecun.com/exdb/mnist/t10k-labels-idx1-ubyte.gz to data/MNIST/raw/t10k-labels-idx1-ubyte.gz\n"
          ]
        },
        {
          "output_type": "display_data",
          "data": {
            "text/plain": [
              "  0%|          | 0/4542 [00:00<?, ?it/s]"
            ],
            "application/vnd.jupyter.widget-view+json": {
              "version_major": 2,
              "version_minor": 0,
              "model_id": "88bd2db077124f7dbdd8696708f77f7e"
            }
          },
          "metadata": {}
        },
        {
          "output_type": "stream",
          "name": "stdout",
          "text": [
            "Extracting data/MNIST/raw/t10k-labels-idx1-ubyte.gz to data/MNIST/raw\n",
            "\n"
          ]
        }
      ],
      "source": [
        "transform = transforms.Compose([\n",
        "    transforms.ToTensor(),\n",
        "    transforms.Normalize(mean=(.5,), std=(.5,))\n",
        "])\n",
        "\n",
        "train_dataset = datasets.MNIST(\n",
        "    root='data',\n",
        "    train=True,\n",
        "    transform=transform,\n",
        "    download=True,\n",
        ")\n",
        "\n",
        "test_dataset = datasets.MNIST(\n",
        "    root='data',\n",
        "    train=False,\n",
        "    transform=transform,\n",
        "    download=True,\n",
        ")\n",
        "\n",
        "#indices = (train_dataset.targets == 1) |\\\n",
        "#          (train_dataset.targets == 2) |\\\n",
        "#          (train_dataset.targets == 4) |\\\n",
        "#          (train_dataset.targets == 5) |\\\n",
        "#          (train_dataset.targets == 6) |\\\n",
        "#          (train_dataset.targets == 7) |\\\n",
        "#          (train_dataset.targets == 8) |\\\n",
        "#          (train_dataset.targets == 9)\n",
        "\n",
        "indices = (train_dataset.targets == 9)\n",
        "train_dataset.data, train_dataset.targets = train_dataset.data[indices], train_dataset.targets[indices]\n",
        "\n"
      ],
      "metadata": {
        "id": "VlILqAhFfhOX",
        "outputId": "ea7b3aed-3a9e-4733-d14c-d1abf1b56f69",
        "colab": {
          "base_uri": "https://localhost:8080/",
          "height": 423,
          "referenced_widgets": [
            "0a341d9e9ec848108e006cabe392fbc1",
            "f7b7a4a066b340d982d95ac2166f7f57",
            "75ee08e8f02a4a0790c08ac108ec7533",
            "f7438417cb4f46669cf2f3429a31011a",
            "e8d9390130b547ac8767f312c4c9874d",
            "22836968fa664ce69f8a26db80e745e4",
            "a26546d565d545c5937b9b91608aa269",
            "ee773994b19b467ca7088d9cb22a9f20",
            "38a8babbf35d43b88792837111317333",
            "debb2498636540189205fdf352f22981",
            "7dfeb3d533b24c3d9ba8929dfff85ede",
            "6198098c3b5c47139db6515088caea4a",
            "9b6a515a02ef4aecb9a21d01e493d400",
            "7ba656e18bec45e3a3116d757c0a2872",
            "59eadb8359b24b3389d36ba8575594ca",
            "c448e158068544a7ac0d660ea7a16684",
            "f355a2a08a30455aa44962e701388ec1",
            "1495ad932aa54c7ca81d09213ff1ac84",
            "7820692d8f2f4833b2d64b95d4ae1911",
            "6a2d2a01954c4fdbba1d923ab684d8ca",
            "508fba7af8b644cd94f0ec6dafe88558",
            "c64e7837d22447a79954aad5e3e2f329",
            "eab2fe1cee1f4a699cb0f3c43d0deca4",
            "2b3b6a37135e4ab59bdbccf724aabe81",
            "daf7ffbc0de641b7b1bf59ac067f1405",
            "05fcb5a3c8d845d08a01af398862e39c",
            "41bd97c041114d85b22bf70a0938e6b9",
            "5cc015a275b743648e57271661050a77",
            "e951716de86f416ca0e7725fbd4aab1f",
            "43fbb2544712477faec77a473efa6a39",
            "3370ace603d84536ab3bd7e8bb84ccf1",
            "55eab39d11404ff78d5ea88f76794cb1",
            "86d407c73cb6426299ca8a9cf7c66ec3",
            "88bd2db077124f7dbdd8696708f77f7e",
            "9107789ea6da409f8a6b7ba2e8855900",
            "c6f22c7425d84baaa680b4d2572710ea",
            "ddee3fae03034121879dd514ff52cd61",
            "1b6e2489f8e1448e8ee89668e22aa7fc",
            "03c1f8f7218c49d8940f0b9ae6204b38",
            "de23e1820d214d03bdb8d5d1dfa76060",
            "2c6c0a00e058460ca5d033b69f7235dc",
            "2413dc4cc7844182b2010e3ce4aaf5a2",
            "2b15f74951964931904dc9eec4416142",
            "1cf046d867be4823a35a1f874a92abcf"
          ]
        }
      }
    },
    {
      "cell_type": "markdown",
      "source": [
        "Save/Load models into generator and discriminator models"
      ],
      "metadata": {
        "collapsed": false,
        "id": "nNUq7iL5VO0f"
      }
    },
    {
      "cell_type": "code",
      "source": [
        "%cd /content/drive/My Drive/Colab/\n",
        "!ls\n",
        "\n",
        "def save_checkpoint(epoch):\n",
        "    timestamp = time.time()\n",
        "    torch.save(generator.state_dict(),f'./saved_models/generator_epoch_{epoch}_{timestamp}.pkl')\n",
        "    torch.save(discriminator.state_dict(),f'./saved_models/discriminator_epoch_{epoch}_{timestamp}.pkl')\n",
        "\n",
        "def save_models():\n",
        "    torch.save(generator.state_dict(),f'./saved_models/generator.pkl')\n",
        "    torch.save(discriminator.state_dict(),f'./saved_models/discriminator.pkl')\n",
        "\n",
        "def load_models():\n",
        "    generator.load_state_dict(torch.load(\"./saved_models/generator.pkl\", map_location=torch.device(device)))\n",
        "    discriminator.load_state_dict(torch.load('./saved_models/discriminator.pkl', map_location=torch.device(device)))"
      ],
      "metadata": {
        "id": "AUkBkw0LdQCi",
        "outputId": "14412f0c-04fd-4779-a58d-6ffe28350a7b",
        "colab": {
          "base_uri": "https://localhost:8080/"
        }
      },
      "execution_count": 7,
      "outputs": [
        {
          "output_type": "stream",
          "name": "stdout",
          "text": [
            "/content/drive/My Drive/Colab\n",
            "AdGAN  data  saved_models\n"
          ]
        }
      ]
    },
    {
      "cell_type": "markdown",
      "source": [
        "Train the GAN"
      ],
      "metadata": {
        "collapsed": false,
        "id": "Mr8Pn8i9VO0b"
      }
    },
    {
      "cell_type": "code",
      "execution_count": 8,
      "outputs": [],
      "source": [
        "criterion = nn.BCELoss()\n",
        "\n",
        "fixed_noise = torch.randn(64, size_z, 1, 1, device=device)\n",
        "\n",
        "real_label = 1.\n",
        "fake_label = 0.\n",
        "\n",
        "optimizerG = optim.Adam(generator.parameters(), lr=learning_rate, betas=(adam_beta1, 0.999))\n",
        "optimizerD = optim.Adam(discriminator.parameters(), lr=learning_rate, betas=(adam_beta1, 0.999))\n",
        "\n",
        "def train_gan():\n",
        "    img_list = []\n",
        "    G_losses = []\n",
        "    D_losses = []\n",
        "    iters = 0\n",
        "    dataloader = torch.utils.data.DataLoader(dataset=train_dataset,\n",
        "                                         batch_size=batch_size,\n",
        "                                         shuffle=True)\n",
        "\n",
        "    print(\"Starting Training Loop...\")\n",
        "    for epoch in range(num_epochs):\n",
        "        for i, (real_images, _) in enumerate(dataloader):\n",
        "            # get batch-size from actual image batch\n",
        "            bs = real_images.shape[0]\n",
        "\n",
        "            # -- train discriminator --\n",
        "\n",
        "            # reset/clear discriminators gradient\n",
        "            discriminator.zero_grad()\n",
        "\n",
        "            # move images to either CPU or GPU\n",
        "            real_images = real_images.to(device)\n",
        "\n",
        "            # creates a label tensor filled with 1s\n",
        "            label = torch.full((bs,), real_label, dtype=torch.float, device=device)\n",
        "\n",
        "            # get probs for discriminators guess on the real images\n",
        "            output, _ = discriminator(real_images)\n",
        "\n",
        "            # get loss for real images. that means it calculates the difference\n",
        "            # between the output of the model with the current parameter and the\n",
        "            # target (goal) of what the model is supposed to do\n",
        "            # output --> current outcome of the model\n",
        "            # label  --> target of the model\n",
        "            lossD_real = criterion(output, label)\n",
        "\n",
        "            # calculates the gradient (using chain-rule)\n",
        "            # see https://pytorch.org/docs/stable/generated/torch.Tensor.backward.html\n",
        "            lossD_real.backward()\n",
        "\n",
        "            # Gets the mean value of all results from the discriminator to get an average\n",
        "            # probability of all sample evaluations (for real data ) --> D(x)\n",
        "            D_x = output.mean().item()\n",
        "\n",
        "            # create noise as an input for the G in order to create fake images\n",
        "            noise = torch.randn(bs, size_z, 1, 1, device=device)\n",
        "\n",
        "            # use generator to map input noise to an output that is supposed do become fake images during training\n",
        "            fake_images = generator(noise)\n",
        "\n",
        "            # creates a label tensor filled with 0s\n",
        "            label.fill_(fake_label)\n",
        "\n",
        "            # get discriminators guess on fake images\n",
        "            output, _ = discriminator(fake_images.detach())\n",
        "\n",
        "            # get loss for fake images\n",
        "            lossD_fake = criterion(output, label)\n",
        "\n",
        "            # adjust parameter to identify fakes\n",
        "            lossD_fake.backward()\n",
        "\n",
        "            # gets the mean value of all results from the discriminator to get an average\n",
        "            # probability of all sample evaluations. this time for the fake images that were\n",
        "            # generated by the generator --> D(G(z))\n",
        "            D_G_z1 = output.mean().item()\n",
        "\n",
        "            # calculate loss\n",
        "            lossD = lossD_real + lossD_fake\n",
        "\n",
        "            # adjust models (discriminator) parameter\n",
        "            optimizerD.step()\n",
        "\n",
        "            # -- train generator --\n",
        "\n",
        "            # reset/clear generators gradient\n",
        "            generator.zero_grad()\n",
        "\n",
        "            # creates a label tensor filled with 1s\n",
        "            label.fill_(real_label)\n",
        "\n",
        "            # get discriminators guess on fake images\n",
        "            output, _ = discriminator(fake_images)\n",
        "            output = output.view(-1)\n",
        "\n",
        "            # get loss for fake images\n",
        "            lossG = criterion(output, label)\n",
        "\n",
        "            # adjust parameter to generate fakes\n",
        "            lossG.backward()\n",
        "\n",
        "            # gets the mean value of all results from the discriminator to get an average\n",
        "            # probability of all sample evaluations. this time for the fake images that were\n",
        "            # generated by the generator --> D(G(z))\n",
        "            D_G_z2 = output.mean().item()\n",
        "\n",
        "            # adjust models (generator) parameter\n",
        "            optimizerG.step()\n",
        "            # Save Losses for plotting later\n",
        "            G_losses.append(lossG.item())\n",
        "            D_losses.append(lossD.item())\n",
        "\n",
        "            # Check how the generator is doing by saving G's output on fixed_noise\n",
        "            if (iters % 500 == 0) or ((epoch == num_epochs - 1) and (i == len(dataloader) - 1)):\n",
        "                with torch.no_grad():\n",
        "                    fake = generator(fixed_noise).detach().cpu()\n",
        "                img_list.append(vutils.make_grid(fake, padding=2, normalize=True))\n",
        "            iters += 1\n",
        "\n",
        "        print('[%d/%d]\\tLoss_D: %.4f\\tLoss_G: %.4f\\tD(x): %.4f\\tD(G(z)): %.4f / %.4f'\n",
        "              % (epoch+1, num_epochs, lossD.item(), lossG.item(), D_x, D_G_z1, D_G_z2))\n",
        "        \n",
        "        if epoch%5 == 0:\n",
        "          save_checkpoint(epoch)\n",
        "\n",
        "    plt.figure(figsize=(10, 5))\n",
        "    plt.title(\"Generator and Discriminator Loss During Training\")\n",
        "    plt.plot(G_losses, label=\"G\")\n",
        "    plt.plot(D_losses, label=\"D\")\n",
        "    plt.xlabel(\"iterations\")\n",
        "    plt.ylabel(\"Loss\")\n",
        "    plt.legend()\n",
        "    plt.show()\n",
        "\n",
        "    plt.rcParams['animation.embed_limit'] = 100\n",
        "    fig = plt.figure(figsize=(8, 8))\n",
        "    plt.axis(\"off\")\n",
        "    ims = [[plt.imshow(np.transpose(i, (1, 2, 0)), animated=True)] for i in img_list]\n",
        "    ani = animation.ArtistAnimation(fig, ims, interval=1000, repeat_delay=1000, blit=True)\n",
        "    HTML(ani.to_jshtml())"
      ],
      "metadata": {
        "id": "ybtYpgwZVO0e"
      }
    },
    {
      "cell_type": "markdown",
      "source": [
        "Inference"
      ],
      "metadata": {
        "collapsed": false,
        "id": "d5CPmIqSVO0h"
      }
    },
    {
      "cell_type": "code",
      "execution_count": 9,
      "outputs": [],
      "source": [
        "def get_anomaly_score(x_query, g_z):\n",
        "    _, x_prop = discriminator(x_query)\n",
        "    _, g_z_prop = discriminator(g_z)\n",
        "\n",
        "    loss_residual = torch.sum(torch.abs(x_query - g_z))\n",
        "    loss_discriminative = torch.sum(torch.abs(x_prop - g_z_prop))\n",
        "\n",
        "    return (1-.1)*loss_residual + .1* loss_discriminative"
      ],
      "metadata": {
        "id": "Zomc6EGKfhOZ"
      }
    },
    {
      "cell_type": "code",
      "execution_count": 10,
      "outputs": [
        {
          "output_type": "execute_result",
          "data": {
            "text/plain": [
              "torch.Size([8, 1, 28, 28])"
            ]
          },
          "metadata": {},
          "execution_count": 10
        }
      ],
      "source": [
        "start_idx = 0\n",
        "test_size = 8\n",
        "\n",
        "test_images = test_dataset.__dict__['data'][start_idx:start_idx + test_size]\n",
        "test_images = test_images.view(test_size, 1, 28, 28).type_as(torch.FloatTensor())\n",
        "test_images.shape\n",
        "\n"
      ],
      "metadata": {
        "id": "_hQNgN7afhOe",
        "outputId": "35eae631-d9ff-4cb5-d731-f9f8bac196b0",
        "colab": {
          "base_uri": "https://localhost:8080/"
        }
      }
    },
    {
      "cell_type": "code",
      "execution_count": 11,
      "outputs": [],
      "source": [
        "z = torch.randn(8, size_z, 1, 1, device=device, requires_grad=True)"
      ],
      "metadata": {
        "id": "7tuwgGXVVO0j"
      }
    },
    {
      "cell_type": "code",
      "execution_count": 12,
      "outputs": [
        {
          "output_type": "execute_result",
          "data": {
            "text/plain": [
              "torch.Size([8, 1, 28, 28])"
            ]
          },
          "metadata": {},
          "execution_count": 12
        }
      ],
      "source": [
        "def generate_anomaly():\n",
        "    random_idx = random.randint(0, len(train_dataset.data)-1)\n",
        "    img, _ = train_dataset[random_idx]\n",
        "    img = img.numpy()\n",
        "\n",
        "    random_idx = random.randint(4, 20)\n",
        "    img[0][random_idx:random_idx+3] = np.ones(28, dtype=\"float32\")-2\n",
        "    return np.expand_dims(img, axis=0)\n",
        "\n",
        "\n",
        "tests = generate_anomaly()\n",
        "for i in range(test_size-1):\n",
        "    tests = np.concatenate((tests, generate_anomaly()))\n",
        "tests = torch.from_numpy(tests)\n",
        "\n",
        "tests.shape"
      ],
      "metadata": {
        "id": "5Akb2B4sKfaG",
        "outputId": "372dc245-d98f-4e4c-dd50-2dc2eccad434",
        "colab": {
          "base_uri": "https://localhost:8080/"
        }
      }
    },
    {
      "cell_type": "code",
      "execution_count": 13,
      "outputs": [],
      "source": [
        "def run_inference():\n",
        "    z_optimizer = torch.optim.Adam([z],lr=1e-4)\n",
        "    losses = []\n",
        "    for i in range(100000):\n",
        "        gen_fake = generator(z.to(device))\n",
        "        loss = get_anomaly_score(Variable(tests).to(device), gen_fake)\n",
        "        loss.backward()\n",
        "        z_optimizer.step()\n",
        "        if i%1000==0:\n",
        "            print(\"Anomaly Score: %s\" %(loss.data.item()))\n",
        "            losses.append(loss.data.item())\n",
        "\n",
        "    plt.figure(figsize=(10, 5))\n",
        "    plt.title(\"Anomaly Score trajectory during optimization\")\n",
        "    plt.plot(losses, label=\"Loss\")\n",
        "    plt.xlabel(\"iterations\")\n",
        "    plt.ylabel(\"Loss\")\n",
        "    plt.legend()\n",
        "    plt.show()\n",
        "\n",
        "def test_inferences():\n",
        "    gen_fake = generator(z.to(device))\n",
        "    for idx in range(test_size):\n",
        "        target = tests[idx, 0, :, :].numpy()\n",
        "        img = gen_fake.cpu().data[idx,0,:,:].numpy()\n",
        "\n",
        "        NUM_ROWS = 1\n",
        "        IMGs_IN_ROW = 3\n",
        "        f, ax = plt.subplots(NUM_ROWS, IMGs_IN_ROW, figsize=(8,4))\n",
        "\n",
        "        f.add_subplot(NUM_ROWS, IMGs_IN_ROW, 1)\n",
        "        plt.imshow(target, cmap=\"binary\")\n",
        "        plt.axis('off')\n",
        "        plt.title(\"Query Image\")\n",
        "\n",
        "        f.add_subplot(NUM_ROWS, IMGs_IN_ROW, 2)\n",
        "        plt.imshow(img, cmap=\"binary\")\n",
        "        plt.axis('off')\n",
        "        plt.title(\"G(z_Gamma)\")\n",
        "\n",
        "        # img += 1.5\n",
        "\n",
        "        diff = np.isclose(img, target, rtol=0.03, atol=0.008)\n",
        "        # display(diff.astype(\"uint8\"))\n",
        "\n",
        "        img_pil = Image.fromarray(img.astype(np.uint8))\n",
        "        target_pil = Image.fromarray(target.astype(np.uint8))\n",
        "        # subtracted = PIL.ImageChops.subtract(img_pil, target_pil)\n",
        "        subtracted = Image.fromarray(diff)\n",
        "\n",
        "        f.add_subplot(NUM_ROWS, IMGs_IN_ROW, 3)\n",
        "        plt.imshow(subtracted, cmap=\"binary\")\n",
        "        plt.axis('off')\n",
        "        plt.title(\"|G(z_Gamma) - x|\")\n",
        "\n",
        "        plt.tight_layout()\n",
        "        plt.show()"
      ],
      "metadata": {
        "id": "7Ebbc0wSKfaH"
      }
    },
    {
      "cell_type": "code",
      "source": [
        "train_gan()"
      ],
      "metadata": {
        "id": "Qwt6o8I11h4-",
        "outputId": "8359c027-5d84-4e91-cf7c-f780fef2ebc2",
        "colab": {
          "base_uri": "https://localhost:8080/",
          "height": 1000
        }
      },
      "execution_count": 14,
      "outputs": [
        {
          "output_type": "stream",
          "name": "stdout",
          "text": [
            "Starting Training Loop...\n",
            "[1/100]\tLoss_D: 1.3236\tLoss_G: 0.7609\tD(x): 0.4388\tD(G(z)): 0.3621 / 0.4751\n",
            "[2/100]\tLoss_D: 1.2859\tLoss_G: 1.6573\tD(x): 0.6373\tD(G(z)): 0.5539 / 0.2133\n",
            "[3/100]\tLoss_D: 1.2192\tLoss_G: 1.3070\tD(x): 0.6404\tD(G(z)): 0.5224 / 0.2853\n",
            "[4/100]\tLoss_D: 1.2258\tLoss_G: 0.9428\tD(x): 0.5298\tD(G(z)): 0.4270 / 0.4045\n",
            "[5/100]\tLoss_D: 1.3407\tLoss_G: 0.7601\tD(x): 0.4700\tD(G(z)): 0.4237 / 0.4796\n",
            "[6/100]\tLoss_D: 1.2837\tLoss_G: 1.1788\tD(x): 0.5646\tD(G(z)): 0.4880 / 0.3284\n",
            "[7/100]\tLoss_D: 1.3241\tLoss_G: 0.6580\tD(x): 0.4319\tD(G(z)): 0.3569 / 0.5360\n",
            "[8/100]\tLoss_D: 1.3413\tLoss_G: 1.0532\tD(x): 0.5240\tD(G(z)): 0.4757 / 0.3571\n",
            "[9/100]\tLoss_D: 1.4316\tLoss_G: 1.7154\tD(x): 0.6578\tD(G(z)): 0.6173 / 0.1904\n",
            "[10/100]\tLoss_D: 1.2820\tLoss_G: 1.1447\tD(x): 0.5505\tD(G(z)): 0.4650 / 0.3382\n",
            "[11/100]\tLoss_D: 1.3737\tLoss_G: 1.0003\tD(x): 0.4653\tD(G(z)): 0.4387 / 0.3773\n",
            "[12/100]\tLoss_D: 1.2743\tLoss_G: 0.9910\tD(x): 0.5189\tD(G(z)): 0.4426 / 0.3936\n",
            "[13/100]\tLoss_D: 1.1252\tLoss_G: 1.1016\tD(x): 0.5554\tD(G(z)): 0.3952 / 0.3412\n",
            "[14/100]\tLoss_D: 1.3896\tLoss_G: 0.9870\tD(x): 0.5385\tD(G(z)): 0.5211 / 0.3819\n",
            "[15/100]\tLoss_D: 1.2341\tLoss_G: 1.3668\tD(x): 0.6681\tD(G(z)): 0.5488 / 0.2655\n",
            "[16/100]\tLoss_D: 1.3854\tLoss_G: 0.7905\tD(x): 0.4035\tD(G(z)): 0.3453 / 0.4775\n",
            "[17/100]\tLoss_D: 1.2748\tLoss_G: 1.8646\tD(x): 0.7146\tD(G(z)): 0.5949 / 0.1638\n",
            "[18/100]\tLoss_D: 1.2515\tLoss_G: 0.9813\tD(x): 0.5144\tD(G(z)): 0.4273 / 0.3856\n",
            "[19/100]\tLoss_D: 1.1848\tLoss_G: 0.8203\tD(x): 0.4999\tD(G(z)): 0.3387 / 0.4492\n",
            "[20/100]\tLoss_D: 1.1760\tLoss_G: 1.3642\tD(x): 0.6300\tD(G(z)): 0.4863 / 0.2690\n",
            "[21/100]\tLoss_D: 1.2063\tLoss_G: 1.0914\tD(x): 0.5542\tD(G(z)): 0.4405 / 0.3475\n",
            "[22/100]\tLoss_D: 1.2114\tLoss_G: 1.0674\tD(x): 0.5444\tD(G(z)): 0.4193 / 0.3620\n",
            "[23/100]\tLoss_D: 1.1981\tLoss_G: 1.4959\tD(x): 0.6925\tD(G(z)): 0.5440 / 0.2374\n",
            "[24/100]\tLoss_D: 1.4634\tLoss_G: 1.6064\tD(x): 0.7235\tD(G(z)): 0.6555 / 0.2189\n",
            "[25/100]\tLoss_D: 1.2369\tLoss_G: 0.8038\tD(x): 0.4359\tD(G(z)): 0.2876 / 0.4644\n",
            "[26/100]\tLoss_D: 1.3530\tLoss_G: 1.5561\tD(x): 0.6402\tD(G(z)): 0.5551 / 0.2310\n",
            "[27/100]\tLoss_D: 1.4347\tLoss_G: 1.7782\tD(x): 0.8096\tD(G(z)): 0.6888 / 0.1828\n",
            "[28/100]\tLoss_D: 1.1036\tLoss_G: 1.7916\tD(x): 0.6583\tD(G(z)): 0.4654 / 0.1820\n",
            "[29/100]\tLoss_D: 1.0486\tLoss_G: 1.4323\tD(x): 0.6516\tD(G(z)): 0.4127 / 0.2653\n",
            "[30/100]\tLoss_D: 1.1164\tLoss_G: 1.8490\tD(x): 0.7416\tD(G(z)): 0.5367 / 0.1695\n",
            "[31/100]\tLoss_D: 1.0815\tLoss_G: 0.9990\tD(x): 0.5126\tD(G(z)): 0.2937 / 0.3854\n",
            "[32/100]\tLoss_D: 1.2294\tLoss_G: 0.8865\tD(x): 0.4737\tD(G(z)): 0.3234 / 0.4496\n",
            "[33/100]\tLoss_D: 1.0207\tLoss_G: 2.4577\tD(x): 0.7179\tD(G(z)): 0.4628 / 0.0960\n",
            "[34/100]\tLoss_D: 1.1196\tLoss_G: 1.0772\tD(x): 0.5188\tD(G(z)): 0.3219 / 0.3698\n",
            "[35/100]\tLoss_D: 1.0039\tLoss_G: 1.6350\tD(x): 0.6439\tD(G(z)): 0.3997 / 0.2194\n",
            "[36/100]\tLoss_D: 1.0257\tLoss_G: 1.1735\tD(x): 0.5657\tD(G(z)): 0.3248 / 0.3301\n",
            "[37/100]\tLoss_D: 1.2094\tLoss_G: 3.3044\tD(x): 0.8324\tD(G(z)): 0.6037 / 0.0447\n",
            "[38/100]\tLoss_D: 1.0838\tLoss_G: 1.0234\tD(x): 0.4956\tD(G(z)): 0.2459 / 0.3845\n",
            "[39/100]\tLoss_D: 0.8592\tLoss_G: 2.3823\tD(x): 0.7623\tD(G(z)): 0.4050 / 0.1145\n",
            "[40/100]\tLoss_D: 1.0242\tLoss_G: 2.3563\tD(x): 0.7486\tD(G(z)): 0.4735 / 0.1143\n",
            "[41/100]\tLoss_D: 0.9445\tLoss_G: 1.1727\tD(x): 0.6073\tD(G(z)): 0.3057 / 0.3392\n",
            "[42/100]\tLoss_D: 0.9354\tLoss_G: 2.2009\tD(x): 0.7985\tD(G(z)): 0.4679 / 0.1300\n",
            "[43/100]\tLoss_D: 0.8619\tLoss_G: 2.5763\tD(x): 0.8002\tD(G(z)): 0.4227 / 0.0913\n",
            "[44/100]\tLoss_D: 0.7284\tLoss_G: 3.3196\tD(x): 0.8781\tD(G(z)): 0.4077 / 0.0442\n",
            "[45/100]\tLoss_D: 0.8566\tLoss_G: 1.5792\tD(x): 0.5906\tD(G(z)): 0.2320 / 0.2358\n",
            "[46/100]\tLoss_D: 0.6397\tLoss_G: 1.8582\tD(x): 0.6866\tD(G(z)): 0.1970 / 0.1902\n",
            "[47/100]\tLoss_D: 0.8014\tLoss_G: 2.4552\tD(x): 0.7352\tD(G(z)): 0.3437 / 0.1075\n",
            "[48/100]\tLoss_D: 1.1357\tLoss_G: 4.0695\tD(x): 0.9256\tD(G(z)): 0.5860 / 0.0301\n",
            "[49/100]\tLoss_D: 0.9099\tLoss_G: 3.5131\tD(x): 0.8359\tD(G(z)): 0.4781 / 0.0367\n",
            "[50/100]\tLoss_D: 0.9670\tLoss_G: 1.2252\tD(x): 0.4960\tD(G(z)): 0.1608 / 0.3649\n",
            "[51/100]\tLoss_D: 0.8020\tLoss_G: 1.7964\tD(x): 0.6887\tD(G(z)): 0.2868 / 0.1958\n",
            "[52/100]\tLoss_D: 0.8204\tLoss_G: 0.9747\tD(x): 0.5619\tD(G(z)): 0.1305 / 0.4315\n",
            "[53/100]\tLoss_D: 0.5551\tLoss_G: 2.0454\tD(x): 0.7227\tD(G(z)): 0.1699 / 0.1559\n",
            "[54/100]\tLoss_D: 0.6238\tLoss_G: 1.5963\tD(x): 0.6240\tD(G(z)): 0.0671 / 0.2570\n",
            "[55/100]\tLoss_D: 1.3246\tLoss_G: 4.7993\tD(x): 0.9515\tD(G(z)): 0.6289 / 0.0141\n",
            "[56/100]\tLoss_D: 0.7948\tLoss_G: 4.9398\tD(x): 0.9217\tD(G(z)): 0.4344 / 0.0099\n",
            "[57/100]\tLoss_D: 0.6068\tLoss_G: 2.5106\tD(x): 0.6940\tD(G(z)): 0.1570 / 0.1198\n",
            "[58/100]\tLoss_D: 0.4297\tLoss_G: 2.2130\tD(x): 0.7292\tD(G(z)): 0.0778 / 0.1491\n",
            "[59/100]\tLoss_D: 0.6201\tLoss_G: 3.8007\tD(x): 0.8559\tD(G(z)): 0.3249 / 0.0291\n",
            "[60/100]\tLoss_D: 1.6177\tLoss_G: 0.7920\tD(x): 0.2637\tD(G(z)): 0.0359 / 0.5497\n",
            "[61/100]\tLoss_D: 0.5805\tLoss_G: 2.7006\tD(x): 0.7476\tD(G(z)): 0.1890 / 0.0978\n",
            "[62/100]\tLoss_D: 0.4306\tLoss_G: 2.5967\tD(x): 0.8067\tD(G(z)): 0.1543 / 0.1072\n",
            "[63/100]\tLoss_D: 0.4742\tLoss_G: 3.6538\tD(x): 0.8819\tD(G(z)): 0.2609 / 0.0373\n",
            "[64/100]\tLoss_D: 0.4274\tLoss_G: 3.0100\tD(x): 0.8280\tD(G(z)): 0.1677 / 0.0738\n",
            "[65/100]\tLoss_D: 0.4178\tLoss_G: 3.7844\tD(x): 0.8785\tD(G(z)): 0.2106 / 0.0336\n",
            "[66/100]\tLoss_D: 0.5361\tLoss_G: 3.6382\tD(x): 0.8532\tD(G(z)): 0.2618 / 0.0370\n",
            "[67/100]\tLoss_D: 0.4874\tLoss_G: 2.2572\tD(x): 0.7455\tD(G(z)): 0.1419 / 0.1308\n",
            "[68/100]\tLoss_D: 0.5342\tLoss_G: 5.2436\tD(x): 0.9602\tD(G(z)): 0.3456 / 0.0071\n",
            "[69/100]\tLoss_D: 0.4587\tLoss_G: 3.2225\tD(x): 0.7946\tD(G(z)): 0.1702 / 0.0591\n",
            "[70/100]\tLoss_D: 0.6416\tLoss_G: 4.7573\tD(x): 0.9003\tD(G(z)): 0.3375 / 0.0122\n",
            "[71/100]\tLoss_D: 0.3705\tLoss_G: 3.2380\tD(x): 0.8556\tD(G(z)): 0.1671 / 0.0555\n",
            "[72/100]\tLoss_D: 0.3974\tLoss_G: 2.8979\tD(x): 0.8215\tD(G(z)): 0.1433 / 0.0841\n",
            "[73/100]\tLoss_D: 1.4317\tLoss_G: 6.1765\tD(x): 0.9553\tD(G(z)): 0.6383 / 0.0046\n",
            "[74/100]\tLoss_D: 0.3973\tLoss_G: 2.1426\tD(x): 0.7639\tD(G(z)): 0.0854 / 0.1878\n",
            "[75/100]\tLoss_D: 0.4255\tLoss_G: 4.2383\tD(x): 0.8908\tD(G(z)): 0.2200 / 0.0220\n",
            "[76/100]\tLoss_D: 0.4563\tLoss_G: 3.0897\tD(x): 0.8231\tD(G(z)): 0.1759 / 0.0762\n",
            "[77/100]\tLoss_D: 0.3801\tLoss_G: 2.8892\tD(x): 0.8495\tD(G(z)): 0.1629 / 0.0794\n",
            "[78/100]\tLoss_D: 0.2630\tLoss_G: 3.3264\tD(x): 0.8785\tD(G(z)): 0.0869 / 0.0540\n",
            "[79/100]\tLoss_D: 0.3290\tLoss_G: 2.4969\tD(x): 0.7933\tD(G(z)): 0.0626 / 0.1391\n",
            "[80/100]\tLoss_D: 0.6802\tLoss_G: 2.4517\tD(x): 0.5706\tD(G(z)): 0.0237 / 0.1765\n",
            "[81/100]\tLoss_D: 0.3592\tLoss_G: 2.4818\tD(x): 0.8037\tD(G(z)): 0.0909 / 0.1313\n",
            "[82/100]\tLoss_D: 0.5055\tLoss_G: 6.3241\tD(x): 0.9848\tD(G(z)): 0.3340 / 0.0031\n",
            "[83/100]\tLoss_D: 1.0769\tLoss_G: 7.0063\tD(x): 0.9599\tD(G(z)): 0.5318 / 0.0019\n",
            "[84/100]\tLoss_D: 1.6853\tLoss_G: 6.9273\tD(x): 0.9839\tD(G(z)): 0.7189 / 0.0022\n",
            "[85/100]\tLoss_D: 0.5410\tLoss_G: 1.9315\tD(x): 0.6841\tD(G(z)): 0.0493 / 0.2954\n",
            "[86/100]\tLoss_D: 0.1405\tLoss_G: 4.9055\tD(x): 0.9554\tD(G(z)): 0.0762 / 0.0151\n",
            "[87/100]\tLoss_D: 0.6942\tLoss_G: 5.3669\tD(x): 0.8664\tD(G(z)): 0.3465 / 0.0072\n",
            "[88/100]\tLoss_D: 0.1924\tLoss_G: 3.3490\tD(x): 0.8594\tD(G(z)): 0.0273 / 0.0723\n",
            "[89/100]\tLoss_D: 0.3354\tLoss_G: 3.0204\tD(x): 0.7692\tD(G(z)): 0.0302 / 0.1044\n",
            "[90/100]\tLoss_D: 0.1867\tLoss_G: 3.5497\tD(x): 0.8981\tD(G(z)): 0.0640 / 0.0558\n",
            "[91/100]\tLoss_D: 1.0229\tLoss_G: 5.8535\tD(x): 0.9376\tD(G(z)): 0.4435 / 0.0053\n",
            "[92/100]\tLoss_D: 0.2033\tLoss_G: 4.9069\tD(x): 0.9611\tD(G(z)): 0.1216 / 0.0118\n",
            "[93/100]\tLoss_D: 0.2126\tLoss_G: 3.4345\tD(x): 0.8627\tD(G(z)): 0.0497 / 0.0635\n",
            "[94/100]\tLoss_D: 0.2266\tLoss_G: 3.6220\tD(x): 0.8939\tD(G(z)): 0.0766 / 0.0480\n",
            "[95/100]\tLoss_D: 0.2106\tLoss_G: 5.0126\tD(x): 0.9650\tD(G(z)): 0.1411 / 0.0098\n",
            "[96/100]\tLoss_D: 0.1600\tLoss_G: 3.4648\tD(x): 0.8815\tD(G(z)): 0.0267 / 0.0567\n",
            "[97/100]\tLoss_D: 0.2305\tLoss_G: 3.7993\tD(x): 0.8787\tD(G(z)): 0.0776 / 0.0340\n",
            "[98/100]\tLoss_D: 0.8810\tLoss_G: 1.6478\tD(x): 0.5626\tD(G(z)): 0.0940 / 0.3091\n",
            "[99/100]\tLoss_D: 0.1316\tLoss_G: 4.9211\tD(x): 0.9700\tD(G(z)): 0.0868 / 0.0164\n",
            "[100/100]\tLoss_D: 0.1245\tLoss_G: 3.8723\tD(x): 0.9193\tD(G(z)): 0.0344 / 0.0405\n"
          ]
        },
        {
          "output_type": "display_data",
          "data": {
            "text/plain": [
              "<Figure size 720x360 with 1 Axes>"
            ],
            "image/png": "[encoded data removed]"
          },
          "metadata": {
            "needs_background": "light"
          }
        },
        {
          "output_type": "display_data",
          "data": {
            "text/plain": [
              "<Figure size 576x576 with 1 Axes>"
            ],
            "image/png": "[encoded data removed]"
          },
          "metadata": {
            "needs_background": "light"
          }
        }
      ]
    },
    {
      "cell_type": "code",
      "execution_count": 15,
      "outputs": [],
      "source": [
        "save_models()"
      ],
      "metadata": {
        "id": "s-4EyjuTVO0l"
      }
    },
    {
      "cell_type": "code",
      "execution_count": 16,
      "outputs": [
        {
          "output_type": "stream",
          "name": "stdout",
          "text": [
            "Anomaly Score: 2071.421875\n",
            "Anomaly Score: 1669.571044921875\n",
            "Anomaly Score: 1504.7025146484375\n",
            "Anomaly Score: 1389.5709228515625\n",
            "Anomaly Score: 1281.4244384765625\n",
            "Anomaly Score: 1232.887939453125\n",
            "Anomaly Score: 1202.3277587890625\n",
            "Anomaly Score: 1166.0977783203125\n",
            "Anomaly Score: 1127.4857177734375\n",
            "Anomaly Score: 1093.853271484375\n",
            "Anomaly Score: 1072.005615234375\n",
            "Anomaly Score: 1051.432373046875\n",
            "Anomaly Score: 1034.446044921875\n",
            "Anomaly Score: 1020.494384765625\n",
            "Anomaly Score: 1010.6534423828125\n",
            "Anomaly Score: 1002.8755493164062\n",
            "Anomaly Score: 995.9440307617188\n",
            "Anomaly Score: 988.4947509765625\n",
            "Anomaly Score: 980.6796875\n",
            "Anomaly Score: 973.37255859375\n",
            "Anomaly Score: 966.3699951171875\n",
            "Anomaly Score: 960.499755859375\n",
            "Anomaly Score: 955.41357421875\n",
            "Anomaly Score: 951.3133544921875\n",
            "Anomaly Score: 948.462646484375\n",
            "Anomaly Score: 944.5443115234375\n",
            "Anomaly Score: 941.1300048828125\n",
            "Anomaly Score: 938.1197509765625\n",
            "Anomaly Score: 935.482666015625\n",
            "Anomaly Score: 932.6538696289062\n",
            "Anomaly Score: 929.82080078125\n",
            "Anomaly Score: 926.9826049804688\n",
            "Anomaly Score: 924.257568359375\n",
            "Anomaly Score: 922.054931640625\n",
            "Anomaly Score: 919.9542236328125\n",
            "Anomaly Score: 918.0260009765625\n",
            "Anomaly Score: 916.3948974609375\n",
            "Anomaly Score: 914.732177734375\n",
            "Anomaly Score: 913.473876953125\n",
            "Anomaly Score: 912.244384765625\n",
            "Anomaly Score: 911.158203125\n",
            "Anomaly Score: 909.9688720703125\n",
            "Anomaly Score: 908.4937133789062\n",
            "Anomaly Score: 906.9862060546875\n",
            "Anomaly Score: 905.4713134765625\n",
            "Anomaly Score: 903.972900390625\n",
            "Anomaly Score: 902.3904418945312\n",
            "Anomaly Score: 900.78564453125\n",
            "Anomaly Score: 899.13916015625\n",
            "Anomaly Score: 897.5318603515625\n",
            "Anomaly Score: 895.9326171875\n",
            "Anomaly Score: 894.4501953125\n",
            "Anomaly Score: 892.9781494140625\n",
            "Anomaly Score: 891.5149536132812\n",
            "Anomaly Score: 890.0621337890625\n",
            "Anomaly Score: 888.5234375\n",
            "Anomaly Score: 887.025390625\n",
            "Anomaly Score: 885.5601806640625\n",
            "Anomaly Score: 884.0686645507812\n",
            "Anomaly Score: 882.55517578125\n",
            "Anomaly Score: 881.151611328125\n",
            "Anomaly Score: 879.78955078125\n",
            "Anomaly Score: 878.4459228515625\n",
            "Anomaly Score: 877.1002197265625\n",
            "Anomaly Score: 875.7442626953125\n",
            "Anomaly Score: 874.489990234375\n",
            "Anomaly Score: 873.25537109375\n",
            "Anomaly Score: 872.1116943359375\n",
            "Anomaly Score: 871.1751708984375\n",
            "Anomaly Score: 870.3223876953125\n",
            "Anomaly Score: 869.4580078125\n",
            "Anomaly Score: 868.6796875\n",
            "Anomaly Score: 868.0523681640625\n",
            "Anomaly Score: 867.432861328125\n",
            "Anomaly Score: 866.8463134765625\n",
            "Anomaly Score: 866.203857421875\n",
            "Anomaly Score: 865.5142822265625\n",
            "Anomaly Score: 864.8006591796875\n",
            "Anomaly Score: 864.1210327148438\n",
            "Anomaly Score: 863.4263916015625\n",
            "Anomaly Score: 862.8154296875\n",
            "Anomaly Score: 862.2703857421875\n",
            "Anomaly Score: 861.7576904296875\n",
            "Anomaly Score: 861.2176513671875\n",
            "Anomaly Score: 860.589599609375\n",
            "Anomaly Score: 859.96044921875\n",
            "Anomaly Score: 859.28759765625\n",
            "Anomaly Score: 858.63818359375\n",
            "Anomaly Score: 858.0250244140625\n",
            "Anomaly Score: 857.4127807617188\n",
            "Anomaly Score: 856.7648315429688\n",
            "Anomaly Score: 856.1683959960938\n",
            "Anomaly Score: 855.5528564453125\n",
            "Anomaly Score: 854.9241943359375\n",
            "Anomaly Score: 854.2349853515625\n",
            "Anomaly Score: 853.5169067382812\n",
            "Anomaly Score: 852.8067016601562\n",
            "Anomaly Score: 852.1864013671875\n",
            "Anomaly Score: 851.61279296875\n",
            "Anomaly Score: 851.0955810546875\n"
          ]
        },
        {
          "output_type": "display_data",
          "data": {
            "text/plain": [
              "<Figure size 720x360 with 1 Axes>"
            ],
            "image/png": "[encoded data removed]"
          },
          "metadata": {
            "needs_background": "light"
          }
        }
      ],
      "source": [
        "load_models()\n",
        "run_inference()"
      ],
      "metadata": {
        "id": "VBzeXxu8VO0l",
        "colab": {
          "base_uri": "https://localhost:8080/",
          "height": 1000
        },
        "outputId": "fd288815-4a44-411f-fd63-fd4c1d2b3246"
      }
    },
    {
      "cell_type": "code",
      "execution_count": 16,
      "outputs": [],
      "source": [],
      "metadata": {
        "id": "uC4KWRNRVO0m"
      }
    },
    {
      "cell_type": "code",
      "execution_count": 17,
      "outputs": [
        {
          "output_type": "display_data",
          "data": {
            "text/plain": [
              "<Figure size 576x288 with 6 Axes>"
            ],
            "image/png": "[encoded data removed]"
          },
          "metadata": {
            "needs_background": "light"
          }
        },
        {
          "output_type": "display_data",
          "data": {
            "text/plain": [
              "<Figure size 576x288 with 6 Axes>"
            ],
            "image/png": "[encoded data removed]"
          },
          "metadata": {
            "needs_background": "light"
          }
        },
        {
          "output_type": "display_data",
          "data": {
            "text/plain": [
              "<Figure size 576x288 with 6 Axes>"
            ],
            "image/png": "[encoded data removed]"
          },
          "metadata": {
            "needs_background": "light"
          }
        },
        {
          "output_type": "display_data",
          "data": {
            "text/plain": [
              "<Figure size 576x288 with 6 Axes>"
            ],
            "image/png": "[encoded data removed]"
          },
          "metadata": {
            "needs_background": "light"
          }
        },
        {
          "output_type": "display_data",
          "data": {
            "text/plain": [
              "<Figure size 576x288 with 6 Axes>"
            ],
            "image/png": "[encoded data removed]"
          },
          "metadata": {
            "needs_background": "light"
          }
        },
        {
          "output_type": "display_data",
          "data": {
            "text/plain": [
              "<Figure size 576x288 with 6 Axes>"
            ],
            "image/png": "[encoded data removed]"
          },
          "metadata": {
            "needs_background": "light"
          }
        },
        {
          "output_type": "display_data",
          "data": {
            "text/plain": [
              "<Figure size 576x288 with 6 Axes>"
            ],
            "image/png": "[encoded data removed]"
          },
          "metadata": {
            "needs_background": "light"
          }
        },
        {
          "output_type": "display_data",
          "data": {
            "text/plain": [
              "<Figure size 576x288 with 6 Axes>"
            ],
            "image/png": "[encoded data removed]"
          },
          "metadata": {
            "needs_background": "light"
          }
        }
      ],
      "source": [
        "test_inferences()"
      ],
      "metadata": {
        "id": "AU6bPEXiVO0m",
        "colab": {
          "base_uri": "https://localhost:8080/",
          "height": 1000
        },
        "outputId": "8b835501-4567-4086-d59e-006502ea37d8"
      }
    },
    {
      "cell_type": "code",
      "execution_count": 17,
      "outputs": [],
      "source": [],
      "metadata": {
        "id": "HkqXj2tQVO0m"
      }
    }
  ],
  "metadata": {
    "kernelspec": {
      "display_name": "Python 3",
      "language": "python",
      "name": "python3"
    },
    "language_info": {
      "codemirror_mode": {
        "name": "ipython",
        "version": 2
      },
      "file_extension": ".py",
      "mimetype": "text/x-python",
      "name": "python",
      "nbconvert_exporter": "python",
      "pygments_lexer": "ipython2",
      "version": "2.7.6"
    },
    "colab": {
      "provenance": []
    },
    "accelerator": "GPU",
    "gpuClass": "standard",
    "widgets": {
      "application/vnd.jupyter.widget-state+json": {
        "0a341d9e9ec848108e006cabe392fbc1": {
          "model_module": "@jupyter-widgets/controls",
          "model_name": "HBoxModel",
          "model_module_version": "1.5.0",
          "state": {
            "_dom_classes": [],
            "_model_module": "@jupyter-widgets/controls",
            "_model_module_version": "1.5.0",
            "_model_name": "HBoxModel",
            "_view_count": null,
            "_view_module": "@jupyter-widgets/controls",
            "_view_module_version": "1.5.0",
            "_view_name": "HBoxView",
            "box_style": "",
            "children": [
              "IPY_MODEL_f7b7a4a066b340d982d95ac2166f7f57",
              "IPY_MODEL_75ee08e8f02a4a0790c08ac108ec7533",
              "IPY_MODEL_f7438417cb4f46669cf2f3429a31011a"
            ],
            "layout": "IPY_MODEL_e8d9390130b547ac8767f312c4c9874d"
          }
        },
        "f7b7a4a066b340d982d95ac2166f7f57": {
          "model_module": "@jupyter-widgets/controls",
          "model_name": "HTMLModel",
          "model_module_version": "1.5.0",
          "state": {
            "_dom_classes": [],
            "_model_module": "@jupyter-widgets/controls",
            "_model_module_version": "1.5.0",
            "_model_name": "HTMLModel",
            "_view_count": null,
            "_view_module": "@jupyter-widgets/controls",
            "_view_module_version": "1.5.0",
            "_view_name": "HTMLView",
            "description": "",
            "description_tooltip": null,
            "layout": "IPY_MODEL_22836968fa664ce69f8a26db80e745e4",
            "placeholder": "​",
            "style": "IPY_MODEL_a26546d565d545c5937b9b91608aa269",
            "value": "100%"
          }
        },
        "75ee08e8f02a4a0790c08ac108ec7533": {
          "model_module": "@jupyter-widgets/controls",
          "model_name": "FloatProgressModel",
          "model_module_version": "1.5.0",
          "state": {
            "_dom_classes": [],
            "_model_module": "@jupyter-widgets/controls",
            "_model_module_version": "1.5.0",
            "_model_name": "FloatProgressModel",
            "_view_count": null,
            "_view_module": "@jupyter-widgets/controls",
            "_view_module_version": "1.5.0",
            "_view_name": "ProgressView",
            "bar_style": "success",
            "description": "",
            "description_tooltip": null,
            "layout": "IPY_MODEL_ee773994b19b467ca7088d9cb22a9f20",
            "max": 9912422,
            "min": 0,
            "orientation": "horizontal",
            "style": "IPY_MODEL_38a8babbf35d43b88792837111317333",
            "value": 9912422
          }
        },
        "f7438417cb4f46669cf2f3429a31011a": {
          "model_module": "@jupyter-widgets/controls",
          "model_name": "HTMLModel",
          "model_module_version": "1.5.0",
          "state": {
            "_dom_classes": [],
            "_model_module": "@jupyter-widgets/controls",
            "_model_module_version": "1.5.0",
            "_model_name": "HTMLModel",
            "_view_count": null,
            "_view_module": "@jupyter-widgets/controls",
            "_view_module_version": "1.5.0",
            "_view_name": "HTMLView",
            "description": "",
            "description_tooltip": null,
            "layout": "IPY_MODEL_debb2498636540189205fdf352f22981",
            "placeholder": "​",
            "style": "IPY_MODEL_7dfeb3d533b24c3d9ba8929dfff85ede",
            "value": " 9912422/9912422 [00:00&lt;00:00, 154582981.64it/s]"
          }
        },
        "e8d9390130b547ac8767f312c4c9874d": {
          "model_module": "@jupyter-widgets/base",
          "model_name": "LayoutModel",
          "model_module_version": "1.2.0",
          "state": {
            "_model_module": "@jupyter-widgets/base",
            "_model_module_version": "1.2.0",
            "_model_name": "LayoutModel",
            "_view_count": null,
            "_view_module": "@jupyter-widgets/base",
            "_view_module_version": "1.2.0",
            "_view_name": "LayoutView",
            "align_content": null,
            "align_items": null,
            "align_self": null,
            "border": null,
            "bottom": null,
            "display": null,
            "flex": null,
            "flex_flow": null,
            "grid_area": null,
            "grid_auto_columns": null,
            "grid_auto_flow": null,
            "grid_auto_rows": null,
            "grid_column": null,
            "grid_gap": null,
            "grid_row": null,
            "grid_template_areas": null,
            "grid_template_columns": null,
            "grid_template_rows": null,
            "height": null,
            "justify_content": null,
            "justify_items": null,
            "left": null,
            "margin": null,
            "max_height": null,
            "max_width": null,
            "min_height": null,
            "min_width": null,
            "object_fit": null,
            "object_position": null,
            "order": null,
            "overflow": null,
            "overflow_x": null,
            "overflow_y": null,
            "padding": null,
            "right": null,
            "top": null,
            "visibility": null,
            "width": null
          }
        },
        "22836968fa664ce69f8a26db80e745e4": {
          "model_module": "@jupyter-widgets/base",
          "model_name": "LayoutModel",
          "model_module_version": "1.2.0",
          "state": {
            "_model_module": "@jupyter-widgets/base",
            "_model_module_version": "1.2.0",
            "_model_name": "LayoutModel",
            "_view_count": null,
            "_view_module": "@jupyter-widgets/base",
            "_view_module_version": "1.2.0",
            "_view_name": "LayoutView",
            "align_content": null,
            "align_items": null,
            "align_self": null,
            "border": null,
            "bottom": null,
            "display": null,
            "flex": null,
            "flex_flow": null,
            "grid_area": null,
            "grid_auto_columns": null,
            "grid_auto_flow": null,
            "grid_auto_rows": null,
            "grid_column": null,
            "grid_gap": null,
            "grid_row": null,
            "grid_template_areas": null,
            "grid_template_columns": null,
            "grid_template_rows": null,
            "height": null,
            "justify_content": null,
            "justify_items": null,
            "left": null,
            "margin": null,
            "max_height": null,
            "max_width": null,
            "min_height": null,
            "min_width": null,
            "object_fit": null,
            "object_position": null,
            "order": null,
            "overflow": null,
            "overflow_x": null,
            "overflow_y": null,
            "padding": null,
            "right": null,
            "top": null,
            "visibility": null,
            "width": null
          }
        },
        "a26546d565d545c5937b9b91608aa269": {
          "model_module": "@jupyter-widgets/controls",
          "model_name": "DescriptionStyleModel",
          "model_module_version": "1.5.0",
          "state": {
            "_model_module": "@jupyter-widgets/controls",
            "_model_module_version": "1.5.0",
            "_model_name": "DescriptionStyleModel",
            "_view_count": null,
            "_view_module": "@jupyter-widgets/base",
            "_view_module_version": "1.2.0",
            "_view_name": "StyleView",
            "description_width": ""
          }
        },
        "ee773994b19b467ca7088d9cb22a9f20": {
          "model_module": "@jupyter-widgets/base",
          "model_name": "LayoutModel",
          "model_module_version": "1.2.0",
          "state": {
            "_model_module": "@jupyter-widgets/base",
            "_model_module_version": "1.2.0",
            "_model_name": "LayoutModel",
            "_view_count": null,
            "_view_module": "@jupyter-widgets/base",
            "_view_module_version": "1.2.0",
            "_view_name": "LayoutView",
            "align_content": null,
            "align_items": null,
            "align_self": null,
            "border": null,
            "bottom": null,
            "display": null,
            "flex": null,
            "flex_flow": null,
            "grid_area": null,
            "grid_auto_columns": null,
            "grid_auto_flow": null,
            "grid_auto_rows": null,
            "grid_column": null,
            "grid_gap": null,
            "grid_row": null,
            "grid_template_areas": null,
            "grid_template_columns": null,
            "grid_template_rows": null,
            "height": null,
            "justify_content": null,
            "justify_items": null,
            "left": null,
            "margin": null,
            "max_height": null,
            "max_width": null,
            "min_height": null,
            "min_width": null,
            "object_fit": null,
            "object_position": null,
            "order": null,
            "overflow": null,
            "overflow_x": null,
            "overflow_y": null,
            "padding": null,
            "right": null,
            "top": null,
            "visibility": null,
            "width": null
          }
        },
        "38a8babbf35d43b88792837111317333": {
          "model_module": "@jupyter-widgets/controls",
          "model_name": "ProgressStyleModel",
          "model_module_version": "1.5.0",
          "state": {
            "_model_module": "@jupyter-widgets/controls",
            "_model_module_version": "1.5.0",
            "_model_name": "ProgressStyleModel",
            "_view_count": null,
            "_view_module": "@jupyter-widgets/base",
            "_view_module_version": "1.2.0",
            "_view_name": "StyleView",
            "bar_color": null,
            "description_width": ""
          }
        },
        "debb2498636540189205fdf352f22981": {
          "model_module": "@jupyter-widgets/base",
          "model_name": "LayoutModel",
          "model_module_version": "1.2.0",
          "state": {
            "_model_module": "@jupyter-widgets/base",
            "_model_module_version": "1.2.0",
            "_model_name": "LayoutModel",
            "_view_count": null,
            "_view_module": "@jupyter-widgets/base",
            "_view_module_version": "1.2.0",
            "_view_name": "LayoutView",
            "align_content": null,
            "align_items": null,
            "align_self": null,
            "border": null,
            "bottom": null,
            "display": null,
            "flex": null,
            "flex_flow": null,
            "grid_area": null,
            "grid_auto_columns": null,
            "grid_auto_flow": null,
            "grid_auto_rows": null,
            "grid_column": null,
            "grid_gap": null,
            "grid_row": null,
            "grid_template_areas": null,
            "grid_template_columns": null,
            "grid_template_rows": null,
            "height": null,
            "justify_content": null,
            "justify_items": null,
            "left": null,
            "margin": null,
            "max_height": null,
            "max_width": null,
            "min_height": null,
            "min_width": null,
            "object_fit": null,
            "object_position": null,
            "order": null,
            "overflow": null,
            "overflow_x": null,
            "overflow_y": null,
            "padding": null,
            "right": null,
            "top": null,
            "visibility": null,
            "width": null
          }
        },
        "7dfeb3d533b24c3d9ba8929dfff85ede": {
          "model_module": "@jupyter-widgets/controls",
          "model_name": "DescriptionStyleModel",
          "model_module_version": "1.5.0",
          "state": {
            "_model_module": "@jupyter-widgets/controls",
            "_model_module_version": "1.5.0",
            "_model_name": "DescriptionStyleModel",
            "_view_count": null,
            "_view_module": "@jupyter-widgets/base",
            "_view_module_version": "1.2.0",
            "_view_name": "StyleView",
            "description_width": ""
          }
        },
        "6198098c3b5c47139db6515088caea4a": {
          "model_module": "@jupyter-widgets/controls",
          "model_name": "HBoxModel",
          "model_module_version": "1.5.0",
          "state": {
            "_dom_classes": [],
            "_model_module": "@jupyter-widgets/controls",
            "_model_module_version": "1.5.0",
            "_model_name": "HBoxModel",
            "_view_count": null,
            "_view_module": "@jupyter-widgets/controls",
            "_view_module_version": "1.5.0",
            "_view_name": "HBoxView",
            "box_style": "",
            "children": [
              "IPY_MODEL_9b6a515a02ef4aecb9a21d01e493d400",
              "IPY_MODEL_7ba656e18bec45e3a3116d757c0a2872",
              "IPY_MODEL_59eadb8359b24b3389d36ba8575594ca"
            ],
            "layout": "IPY_MODEL_c448e158068544a7ac0d660ea7a16684"
          }
        },
        "9b6a515a02ef4aecb9a21d01e493d400": {
          "model_module": "@jupyter-widgets/controls",
          "model_name": "HTMLModel",
          "model_module_version": "1.5.0",
          "state": {
            "_dom_classes": [],
            "_model_module": "@jupyter-widgets/controls",
            "_model_module_version": "1.5.0",
            "_model_name": "HTMLModel",
            "_view_count": null,
            "_view_module": "@jupyter-widgets/controls",
            "_view_module_version": "1.5.0",
            "_view_name": "HTMLView",
            "description": "",
            "description_tooltip": null,
            "layout": "IPY_MODEL_f355a2a08a30455aa44962e701388ec1",
            "placeholder": "​",
            "style": "IPY_MODEL_1495ad932aa54c7ca81d09213ff1ac84",
            "value": "100%"
          }
        },
        "7ba656e18bec45e3a3116d757c0a2872": {
          "model_module": "@jupyter-widgets/controls",
          "model_name": "FloatProgressModel",
          "model_module_version": "1.5.0",
          "state": {
            "_dom_classes": [],
            "_model_module": "@jupyter-widgets/controls",
            "_model_module_version": "1.5.0",
            "_model_name": "FloatProgressModel",
            "_view_count": null,
            "_view_module": "@jupyter-widgets/controls",
            "_view_module_version": "1.5.0",
            "_view_name": "ProgressView",
            "bar_style": "success",
            "description": "",
            "description_tooltip": null,
            "layout": "IPY_MODEL_7820692d8f2f4833b2d64b95d4ae1911",
            "max": 28881,
            "min": 0,
            "orientation": "horizontal",
            "style": "IPY_MODEL_6a2d2a01954c4fdbba1d923ab684d8ca",
            "value": 28881
          }
        },
        "59eadb8359b24b3389d36ba8575594ca": {
          "model_module": "@jupyter-widgets/controls",
          "model_name": "HTMLModel",
          "model_module_version": "1.5.0",
          "state": {
            "_dom_classes": [],
            "_model_module": "@jupyter-widgets/controls",
            "_model_module_version": "1.5.0",
            "_model_name": "HTMLModel",
            "_view_count": null,
            "_view_module": "@jupyter-widgets/controls",
            "_view_module_version": "1.5.0",
            "_view_name": "HTMLView",
            "description": "",
            "description_tooltip": null,
            "layout": "IPY_MODEL_508fba7af8b644cd94f0ec6dafe88558",
            "placeholder": "​",
            "style": "IPY_MODEL_c64e7837d22447a79954aad5e3e2f329",
            "value": " 28881/28881 [00:00&lt;00:00, 1565485.39it/s]"
          }
        },
        "c448e158068544a7ac0d660ea7a16684": {
          "model_module": "@jupyter-widgets/base",
          "model_name": "LayoutModel",
          "model_module_version": "1.2.0",
          "state": {
            "_model_module": "@jupyter-widgets/base",
            "_model_module_version": "1.2.0",
            "_model_name": "LayoutModel",
            "_view_count": null,
            "_view_module": "@jupyter-widgets/base",
            "_view_module_version": "1.2.0",
            "_view_name": "LayoutView",
            "align_content": null,
            "align_items": null,
            "align_self": null,
            "border": null,
            "bottom": null,
            "display": null,
            "flex": null,
            "flex_flow": null,
            "grid_area": null,
            "grid_auto_columns": null,
            "grid_auto_flow": null,
            "grid_auto_rows": null,
            "grid_column": null,
            "grid_gap": null,
            "grid_row": null,
            "grid_template_areas": null,
            "grid_template_columns": null,
            "grid_template_rows": null,
            "height": null,
            "justify_content": null,
            "justify_items": null,
            "left": null,
            "margin": null,
            "max_height": null,
            "max_width": null,
            "min_height": null,
            "min_width": null,
            "object_fit": null,
            "object_position": null,
            "order": null,
            "overflow": null,
            "overflow_x": null,
            "overflow_y": null,
            "padding": null,
            "right": null,
            "top": null,
            "visibility": null,
            "width": null
          }
        },
        "f355a2a08a30455aa44962e701388ec1": {
          "model_module": "@jupyter-widgets/base",
          "model_name": "LayoutModel",
          "model_module_version": "1.2.0",
          "state": {
            "_model_module": "@jupyter-widgets/base",
            "_model_module_version": "1.2.0",
            "_model_name": "LayoutModel",
            "_view_count": null,
            "_view_module": "@jupyter-widgets/base",
            "_view_module_version": "1.2.0",
            "_view_name": "LayoutView",
            "align_content": null,
            "align_items": null,
            "align_self": null,
            "border": null,
            "bottom": null,
            "display": null,
            "flex": null,
            "flex_flow": null,
            "grid_area": null,
            "grid_auto_columns": null,
            "grid_auto_flow": null,
            "grid_auto_rows": null,
            "grid_column": null,
            "grid_gap": null,
            "grid_row": null,
            "grid_template_areas": null,
            "grid_template_columns": null,
            "grid_template_rows": null,
            "height": null,
            "justify_content": null,
            "justify_items": null,
            "left": null,
            "margin": null,
            "max_height": null,
            "max_width": null,
            "min_height": null,
            "min_width": null,
            "object_fit": null,
            "object_position": null,
            "order": null,
            "overflow": null,
            "overflow_x": null,
            "overflow_y": null,
            "padding": null,
            "right": null,
            "top": null,
            "visibility": null,
            "width": null
          }
        },
        "1495ad932aa54c7ca81d09213ff1ac84": {
          "model_module": "@jupyter-widgets/controls",
          "model_name": "DescriptionStyleModel",
          "model_module_version": "1.5.0",
          "state": {
            "_model_module": "@jupyter-widgets/controls",
            "_model_module_version": "1.5.0",
            "_model_name": "DescriptionStyleModel",
            "_view_count": null,
            "_view_module": "@jupyter-widgets/base",
            "_view_module_version": "1.2.0",
            "_view_name": "StyleView",
            "description_width": ""
          }
        },
        "7820692d8f2f4833b2d64b95d4ae1911": {
          "model_module": "@jupyter-widgets/base",
          "model_name": "LayoutModel",
          "model_module_version": "1.2.0",
          "state": {
            "_model_module": "@jupyter-widgets/base",
            "_model_module_version": "1.2.0",
            "_model_name": "LayoutModel",
            "_view_count": null,
            "_view_module": "@jupyter-widgets/base",
            "_view_module_version": "1.2.0",
            "_view_name": "LayoutView",
            "align_content": null,
            "align_items": null,
            "align_self": null,
            "border": null,
            "bottom": null,
            "display": null,
            "flex": null,
            "flex_flow": null,
            "grid_area": null,
            "grid_auto_columns": null,
            "grid_auto_flow": null,
            "grid_auto_rows": null,
            "grid_column": null,
            "grid_gap": null,
            "grid_row": null,
            "grid_template_areas": null,
            "grid_template_columns": null,
            "grid_template_rows": null,
            "height": null,
            "justify_content": null,
            "justify_items": null,
            "left": null,
            "margin": null,
            "max_height": null,
            "max_width": null,
            "min_height": null,
            "min_width": null,
            "object_fit": null,
            "object_position": null,
            "order": null,
            "overflow": null,
            "overflow_x": null,
            "overflow_y": null,
            "padding": null,
            "right": null,
            "top": null,
            "visibility": null,
            "width": null
          }
        },
        "6a2d2a01954c4fdbba1d923ab684d8ca": {
          "model_module": "@jupyter-widgets/controls",
          "model_name": "ProgressStyleModel",
          "model_module_version": "1.5.0",
          "state": {
            "_model_module": "@jupyter-widgets/controls",
            "_model_module_version": "1.5.0",
            "_model_name": "ProgressStyleModel",
            "_view_count": null,
            "_view_module": "@jupyter-widgets/base",
            "_view_module_version": "1.2.0",
            "_view_name": "StyleView",
            "bar_color": null,
            "description_width": ""
          }
        },
        "508fba7af8b644cd94f0ec6dafe88558": {
          "model_module": "@jupyter-widgets/base",
          "model_name": "LayoutModel",
          "model_module_version": "1.2.0",
          "state": {
            "_model_module": "@jupyter-widgets/base",
            "_model_module_version": "1.2.0",
            "_model_name": "LayoutModel",
            "_view_count": null,
            "_view_module": "@jupyter-widgets/base",
            "_view_module_version": "1.2.0",
            "_view_name": "LayoutView",
            "align_content": null,
            "align_items": null,
            "align_self": null,
            "border": null,
            "bottom": null,
            "display": null,
            "flex": null,
            "flex_flow": null,
            "grid_area": null,
            "grid_auto_columns": null,
            "grid_auto_flow": null,
            "grid_auto_rows": null,
            "grid_column": null,
            "grid_gap": null,
            "grid_row": null,
            "grid_template_areas": null,
            "grid_template_columns": null,
            "grid_template_rows": null,
            "height": null,
            "justify_content": null,
            "justify_items": null,
            "left": null,
            "margin": null,
            "max_height": null,
            "max_width": null,
            "min_height": null,
            "min_width": null,
            "object_fit": null,
            "object_position": null,
            "order": null,
            "overflow": null,
            "overflow_x": null,
            "overflow_y": null,
            "padding": null,
            "right": null,
            "top": null,
            "visibility": null,
            "width": null
          }
        },
        "c64e7837d22447a79954aad5e3e2f329": {
          "model_module": "@jupyter-widgets/controls",
          "model_name": "DescriptionStyleModel",
          "model_module_version": "1.5.0",
          "state": {
            "_model_module": "@jupyter-widgets/controls",
            "_model_module_version": "1.5.0",
            "_model_name": "DescriptionStyleModel",
            "_view_count": null,
            "_view_module": "@jupyter-widgets/base",
            "_view_module_version": "1.2.0",
            "_view_name": "StyleView",
            "description_width": ""
          }
        },
        "eab2fe1cee1f4a699cb0f3c43d0deca4": {
          "model_module": "@jupyter-widgets/controls",
          "model_name": "HBoxModel",
          "model_module_version": "1.5.0",
          "state": {
            "_dom_classes": [],
            "_model_module": "@jupyter-widgets/controls",
            "_model_module_version": "1.5.0",
            "_model_name": "HBoxModel",
            "_view_count": null,
            "_view_module": "@jupyter-widgets/controls",
            "_view_module_version": "1.5.0",
            "_view_name": "HBoxView",
            "box_style": "",
            "children": [
              "IPY_MODEL_2b3b6a37135e4ab59bdbccf724aabe81",
              "IPY_MODEL_daf7ffbc0de641b7b1bf59ac067f1405",
              "IPY_MODEL_05fcb5a3c8d845d08a01af398862e39c"
            ],
            "layout": "IPY_MODEL_41bd97c041114d85b22bf70a0938e6b9"
          }
        },
        "2b3b6a37135e4ab59bdbccf724aabe81": {
          "model_module": "@jupyter-widgets/controls",
          "model_name": "HTMLModel",
          "model_module_version": "1.5.0",
          "state": {
            "_dom_classes": [],
            "_model_module": "@jupyter-widgets/controls",
            "_model_module_version": "1.5.0",
            "_model_name": "HTMLModel",
            "_view_count": null,
            "_view_module": "@jupyter-widgets/controls",
            "_view_module_version": "1.5.0",
            "_view_name": "HTMLView",
            "description": "",
            "description_tooltip": null,
            "layout": "IPY_MODEL_5cc015a275b743648e57271661050a77",
            "placeholder": "​",
            "style": "IPY_MODEL_e951716de86f416ca0e7725fbd4aab1f",
            "value": "100%"
          }
        },
        "daf7ffbc0de641b7b1bf59ac067f1405": {
          "model_module": "@jupyter-widgets/controls",
          "model_name": "FloatProgressModel",
          "model_module_version": "1.5.0",
          "state": {
            "_dom_classes": [],
            "_model_module": "@jupyter-widgets/controls",
            "_model_module_version": "1.5.0",
            "_model_name": "FloatProgressModel",
            "_view_count": null,
            "_view_module": "@jupyter-widgets/controls",
            "_view_module_version": "1.5.0",
            "_view_name": "ProgressView",
            "bar_style": "success",
            "description": "",
            "description_tooltip": null,
            "layout": "IPY_MODEL_43fbb2544712477faec77a473efa6a39",
            "max": 1648877,
            "min": 0,
            "orientation": "horizontal",
            "style": "IPY_MODEL_3370ace603d84536ab3bd7e8bb84ccf1",
            "value": 1648877
          }
        },
        "05fcb5a3c8d845d08a01af398862e39c": {
          "model_module": "@jupyter-widgets/controls",
          "model_name": "HTMLModel",
          "model_module_version": "1.5.0",
          "state": {
            "_dom_classes": [],
            "_model_module": "@jupyter-widgets/controls",
            "_model_module_version": "1.5.0",
            "_model_name": "HTMLModel",
            "_view_count": null,
            "_view_module": "@jupyter-widgets/controls",
            "_view_module_version": "1.5.0",
            "_view_name": "HTMLView",
            "description": "",
            "description_tooltip": null,
            "layout": "IPY_MODEL_55eab39d11404ff78d5ea88f76794cb1",
            "placeholder": "​",
            "style": "IPY_MODEL_86d407c73cb6426299ca8a9cf7c66ec3",
            "value": " 1648877/1648877 [00:00&lt;00:00, 42982544.42it/s]"
          }
        },
        "41bd97c041114d85b22bf70a0938e6b9": {
          "model_module": "@jupyter-widgets/base",
          "model_name": "LayoutModel",
          "model_module_version": "1.2.0",
          "state": {
            "_model_module": "@jupyter-widgets/base",
            "_model_module_version": "1.2.0",
            "_model_name": "LayoutModel",
            "_view_count": null,
            "_view_module": "@jupyter-widgets/base",
            "_view_module_version": "1.2.0",
            "_view_name": "LayoutView",
            "align_content": null,
            "align_items": null,
            "align_self": null,
            "border": null,
            "bottom": null,
            "display": null,
            "flex": null,
            "flex_flow": null,
            "grid_area": null,
            "grid_auto_columns": null,
            "grid_auto_flow": null,
            "grid_auto_rows": null,
            "grid_column": null,
            "grid_gap": null,
            "grid_row": null,
            "grid_template_areas": null,
            "grid_template_columns": null,
            "grid_template_rows": null,
            "height": null,
            "justify_content": null,
            "justify_items": null,
            "left": null,
            "margin": null,
            "max_height": null,
            "max_width": null,
            "min_height": null,
            "min_width": null,
            "object_fit": null,
            "object_position": null,
            "order": null,
            "overflow": null,
            "overflow_x": null,
            "overflow_y": null,
            "padding": null,
            "right": null,
            "top": null,
            "visibility": null,
            "width": null
          }
        },
        "5cc015a275b743648e57271661050a77": {
          "model_module": "@jupyter-widgets/base",
          "model_name": "LayoutModel",
          "model_module_version": "1.2.0",
          "state": {
            "_model_module": "@jupyter-widgets/base",
            "_model_module_version": "1.2.0",
            "_model_name": "LayoutModel",
            "_view_count": null,
            "_view_module": "@jupyter-widgets/base",
            "_view_module_version": "1.2.0",
            "_view_name": "LayoutView",
            "align_content": null,
            "align_items": null,
            "align_self": null,
            "border": null,
            "bottom": null,
            "display": null,
            "flex": null,
            "flex_flow": null,
            "grid_area": null,
            "grid_auto_columns": null,
            "grid_auto_flow": null,
            "grid_auto_rows": null,
            "grid_column": null,
            "grid_gap": null,
            "grid_row": null,
            "grid_template_areas": null,
            "grid_template_columns": null,
            "grid_template_rows": null,
            "height": null,
            "justify_content": null,
            "justify_items": null,
            "left": null,
            "margin": null,
            "max_height": null,
            "max_width": null,
            "min_height": null,
            "min_width": null,
            "object_fit": null,
            "object_position": null,
            "order": null,
            "overflow": null,
            "overflow_x": null,
            "overflow_y": null,
            "padding": null,
            "right": null,
            "top": null,
            "visibility": null,
            "width": null
          }
        },
        "e951716de86f416ca0e7725fbd4aab1f": {
          "model_module": "@jupyter-widgets/controls",
          "model_name": "DescriptionStyleModel",
          "model_module_version": "1.5.0",
          "state": {
            "_model_module": "@jupyter-widgets/controls",
            "_model_module_version": "1.5.0",
            "_model_name": "DescriptionStyleModel",
            "_view_count": null,
            "_view_module": "@jupyter-widgets/base",
            "_view_module_version": "1.2.0",
            "_view_name": "StyleView",
            "description_width": ""
          }
        },
        "43fbb2544712477faec77a473efa6a39": {
          "model_module": "@jupyter-widgets/base",
          "model_name": "LayoutModel",
          "model_module_version": "1.2.0",
          "state": {
            "_model_module": "@jupyter-widgets/base",
            "_model_module_version": "1.2.0",
            "_model_name": "LayoutModel",
            "_view_count": null,
            "_view_module": "@jupyter-widgets/base",
            "_view_module_version": "1.2.0",
            "_view_name": "LayoutView",
            "align_content": null,
            "align_items": null,
            "align_self": null,
            "border": null,
            "bottom": null,
            "display": null,
            "flex": null,
            "flex_flow": null,
            "grid_area": null,
            "grid_auto_columns": null,
            "grid_auto_flow": null,
            "grid_auto_rows": null,
            "grid_column": null,
            "grid_gap": null,
            "grid_row": null,
            "grid_template_areas": null,
            "grid_template_columns": null,
            "grid_template_rows": null,
            "height": null,
            "justify_content": null,
            "justify_items": null,
            "left": null,
            "margin": null,
            "max_height": null,
            "max_width": null,
            "min_height": null,
            "min_width": null,
            "object_fit": null,
            "object_position": null,
            "order": null,
            "overflow": null,
            "overflow_x": null,
            "overflow_y": null,
            "padding": null,
            "right": null,
            "top": null,
            "visibility": null,
            "width": null
          }
        },
        "3370ace603d84536ab3bd7e8bb84ccf1": {
          "model_module": "@jupyter-widgets/controls",
          "model_name": "ProgressStyleModel",
          "model_module_version": "1.5.0",
          "state": {
            "_model_module": "@jupyter-widgets/controls",
            "_model_module_version": "1.5.0",
            "_model_name": "ProgressStyleModel",
            "_view_count": null,
            "_view_module": "@jupyter-widgets/base",
            "_view_module_version": "1.2.0",
            "_view_name": "StyleView",
            "bar_color": null,
            "description_width": ""
          }
        },
        "55eab39d11404ff78d5ea88f76794cb1": {
          "model_module": "@jupyter-widgets/base",
          "model_name": "LayoutModel",
          "model_module_version": "1.2.0",
          "state": {
            "_model_module": "@jupyter-widgets/base",
            "_model_module_version": "1.2.0",
            "_model_name": "LayoutModel",
            "_view_count": null,
            "_view_module": "@jupyter-widgets/base",
            "_view_module_version": "1.2.0",
            "_view_name": "LayoutView",
            "align_content": null,
            "align_items": null,
            "align_self": null,
            "border": null,
            "bottom": null,
            "display": null,
            "flex": null,
            "flex_flow": null,
            "grid_area": null,
            "grid_auto_columns": null,
            "grid_auto_flow": null,
            "grid_auto_rows": null,
            "grid_column": null,
            "grid_gap": null,
            "grid_row": null,
            "grid_template_areas": null,
            "grid_template_columns": null,
            "grid_template_rows": null,
            "height": null,
            "justify_content": null,
            "justify_items": null,
            "left": null,
            "margin": null,
            "max_height": null,
            "max_width": null,
            "min_height": null,
            "min_width": null,
            "object_fit": null,
            "object_position": null,
            "order": null,
            "overflow": null,
            "overflow_x": null,
            "overflow_y": null,
            "padding": null,
            "right": null,
            "top": null,
            "visibility": null,
            "width": null
          }
        },
        "86d407c73cb6426299ca8a9cf7c66ec3": {
          "model_module": "@jupyter-widgets/controls",
          "model_name": "DescriptionStyleModel",
          "model_module_version": "1.5.0",
          "state": {
            "_model_module": "@jupyter-widgets/controls",
            "_model_module_version": "1.5.0",
            "_model_name": "DescriptionStyleModel",
            "_view_count": null,
            "_view_module": "@jupyter-widgets/base",
            "_view_module_version": "1.2.0",
            "_view_name": "StyleView",
            "description_width": ""
          }
        },
        "88bd2db077124f7dbdd8696708f77f7e": {
          "model_module": "@jupyter-widgets/controls",
          "model_name": "HBoxModel",
          "model_module_version": "1.5.0",
          "state": {
            "_dom_classes": [],
            "_model_module": "@jupyter-widgets/controls",
            "_model_module_version": "1.5.0",
            "_model_name": "HBoxModel",
            "_view_count": null,
            "_view_module": "@jupyter-widgets/controls",
            "_view_module_version": "1.5.0",
            "_view_name": "HBoxView",
            "box_style": "",
            "children": [
              "IPY_MODEL_9107789ea6da409f8a6b7ba2e8855900",
              "IPY_MODEL_c6f22c7425d84baaa680b4d2572710ea",
              "IPY_MODEL_ddee3fae03034121879dd514ff52cd61"
            ],
            "layout": "IPY_MODEL_1b6e2489f8e1448e8ee89668e22aa7fc"
          }
        },
        "9107789ea6da409f8a6b7ba2e8855900": {
          "model_module": "@jupyter-widgets/controls",
          "model_name": "HTMLModel",
          "model_module_version": "1.5.0",
          "state": {
            "_dom_classes": [],
            "_model_module": "@jupyter-widgets/controls",
            "_model_module_version": "1.5.0",
            "_model_name": "HTMLModel",
            "_view_count": null,
            "_view_module": "@jupyter-widgets/controls",
            "_view_module_version": "1.5.0",
            "_view_name": "HTMLView",
            "description": "",
            "description_tooltip": null,
            "layout": "IPY_MODEL_03c1f8f7218c49d8940f0b9ae6204b38",
            "placeholder": "​",
            "style": "IPY_MODEL_de23e1820d214d03bdb8d5d1dfa76060",
            "value": "100%"
          }
        },
        "c6f22c7425d84baaa680b4d2572710ea": {
          "model_module": "@jupyter-widgets/controls",
          "model_name": "FloatProgressModel",
          "model_module_version": "1.5.0",
          "state": {
            "_dom_classes": [],
            "_model_module": "@jupyter-widgets/controls",
            "_model_module_version": "1.5.0",
            "_model_name": "FloatProgressModel",
            "_view_count": null,
            "_view_module": "@jupyter-widgets/controls",
            "_view_module_version": "1.5.0",
            "_view_name": "ProgressView",
            "bar_style": "success",
            "description": "",
            "description_tooltip": null,
            "layout": "IPY_MODEL_2c6c0a00e058460ca5d033b69f7235dc",
            "max": 4542,
            "min": 0,
            "orientation": "horizontal",
            "style": "IPY_MODEL_2413dc4cc7844182b2010e3ce4aaf5a2",
            "value": 4542
          }
        },
        "ddee3fae03034121879dd514ff52cd61": {
          "model_module": "@jupyter-widgets/controls",
          "model_name": "HTMLModel",
          "model_module_version": "1.5.0",
          "state": {
            "_dom_classes": [],
            "_model_module": "@jupyter-widgets/controls",
            "_model_module_version": "1.5.0",
            "_model_name": "HTMLModel",
            "_view_count": null,
            "_view_module": "@jupyter-widgets/controls",
            "_view_module_version": "1.5.0",
            "_view_name": "HTMLView",
            "description": "",
            "description_tooltip": null,
            "layout": "IPY_MODEL_2b15f74951964931904dc9eec4416142",
            "placeholder": "​",
            "style": "IPY_MODEL_1cf046d867be4823a35a1f874a92abcf",
            "value": " 4542/4542 [00:00&lt;00:00, 227439.13it/s]"
          }
        },
        "1b6e2489f8e1448e8ee89668e22aa7fc": {
          "model_module": "@jupyter-widgets/base",
          "model_name": "LayoutModel",
          "model_module_version": "1.2.0",
          "state": {
            "_model_module": "@jupyter-widgets/base",
            "_model_module_version": "1.2.0",
            "_model_name": "LayoutModel",
            "_view_count": null,
            "_view_module": "@jupyter-widgets/base",
            "_view_module_version": "1.2.0",
            "_view_name": "LayoutView",
            "align_content": null,
            "align_items": null,
            "align_self": null,
            "border": null,
            "bottom": null,
            "display": null,
            "flex": null,
            "flex_flow": null,
            "grid_area": null,
            "grid_auto_columns": null,
            "grid_auto_flow": null,
            "grid_auto_rows": null,
            "grid_column": null,
            "grid_gap": null,
            "grid_row": null,
            "grid_template_areas": null,
            "grid_template_columns": null,
            "grid_template_rows": null,
            "height": null,
            "justify_content": null,
            "justify_items": null,
            "left": null,
            "margin": null,
            "max_height": null,
            "max_width": null,
            "min_height": null,
            "min_width": null,
            "object_fit": null,
            "object_position": null,
            "order": null,
            "overflow": null,
            "overflow_x": null,
            "overflow_y": null,
            "padding": null,
            "right": null,
            "top": null,
            "visibility": null,
            "width": null
          }
        },
        "03c1f8f7218c49d8940f0b9ae6204b38": {
          "model_module": "@jupyter-widgets/base",
          "model_name": "LayoutModel",
          "model_module_version": "1.2.0",
          "state": {
            "_model_module": "@jupyter-widgets/base",
            "_model_module_version": "1.2.0",
            "_model_name": "LayoutModel",
            "_view_count": null,
            "_view_module": "@jupyter-widgets/base",
            "_view_module_version": "1.2.0",
            "_view_name": "LayoutView",
            "align_content": null,
            "align_items": null,
            "align_self": null,
            "border": null,
            "bottom": null,
            "display": null,
            "flex": null,
            "flex_flow": null,
            "grid_area": null,
            "grid_auto_columns": null,
            "grid_auto_flow": null,
            "grid_auto_rows": null,
            "grid_column": null,
            "grid_gap": null,
            "grid_row": null,
            "grid_template_areas": null,
            "grid_template_columns": null,
            "grid_template_rows": null,
            "height": null,
            "justify_content": null,
            "justify_items": null,
            "left": null,
            "margin": null,
            "max_height": null,
            "max_width": null,
            "min_height": null,
            "min_width": null,
            "object_fit": null,
            "object_position": null,
            "order": null,
            "overflow": null,
            "overflow_x": null,
            "overflow_y": null,
            "padding": null,
            "right": null,
            "top": null,
            "visibility": null,
            "width": null
          }
        },
        "de23e1820d214d03bdb8d5d1dfa76060": {
          "model_module": "@jupyter-widgets/controls",
          "model_name": "DescriptionStyleModel",
          "model_module_version": "1.5.0",
          "state": {
            "_model_module": "@jupyter-widgets/controls",
            "_model_module_version": "1.5.0",
            "_model_name": "DescriptionStyleModel",
            "_view_count": null,
            "_view_module": "@jupyter-widgets/base",
            "_view_module_version": "1.2.0",
            "_view_name": "StyleView",
            "description_width": ""
          }
        },
        "2c6c0a00e058460ca5d033b69f7235dc": {
          "model_module": "@jupyter-widgets/base",
          "model_name": "LayoutModel",
          "model_module_version": "1.2.0",
          "state": {
            "_model_module": "@jupyter-widgets/base",
            "_model_module_version": "1.2.0",
            "_model_name": "LayoutModel",
            "_view_count": null,
            "_view_module": "@jupyter-widgets/base",
            "_view_module_version": "1.2.0",
            "_view_name": "LayoutView",
            "align_content": null,
            "align_items": null,
            "align_self": null,
            "border": null,
            "bottom": null,
            "display": null,
            "flex": null,
            "flex_flow": null,
            "grid_area": null,
            "grid_auto_columns": null,
            "grid_auto_flow": null,
            "grid_auto_rows": null,
            "grid_column": null,
            "grid_gap": null,
            "grid_row": null,
            "grid_template_areas": null,
            "grid_template_columns": null,
            "grid_template_rows": null,
            "height": null,
            "justify_content": null,
            "justify_items": null,
            "left": null,
            "margin": null,
            "max_height": null,
            "max_width": null,
            "min_height": null,
            "min_width": null,
            "object_fit": null,
            "object_position": null,
            "order": null,
            "overflow": null,
            "overflow_x": null,
            "overflow_y": null,
            "padding": null,
            "right": null,
            "top": null,
            "visibility": null,
            "width": null
          }
        },
        "2413dc4cc7844182b2010e3ce4aaf5a2": {
          "model_module": "@jupyter-widgets/controls",
          "model_name": "ProgressStyleModel",
          "model_module_version": "1.5.0",
          "state": {
            "_model_module": "@jupyter-widgets/controls",
            "_model_module_version": "1.5.0",
            "_model_name": "ProgressStyleModel",
            "_view_count": null,
            "_view_module": "@jupyter-widgets/base",
            "_view_module_version": "1.2.0",
            "_view_name": "StyleView",
            "bar_color": null,
            "description_width": ""
          }
        },
        "2b15f74951964931904dc9eec4416142": {
          "model_module": "@jupyter-widgets/base",
          "model_name": "LayoutModel",
          "model_module_version": "1.2.0",
          "state": {
            "_model_module": "@jupyter-widgets/base",
            "_model_module_version": "1.2.0",
            "_model_name": "LayoutModel",
            "_view_count": null,
            "_view_module": "@jupyter-widgets/base",
            "_view_module_version": "1.2.0",
            "_view_name": "LayoutView",
            "align_content": null,
            "align_items": null,
            "align_self": null,
            "border": null,
            "bottom": null,
            "display": null,
            "flex": null,
            "flex_flow": null,
            "grid_area": null,
            "grid_auto_columns": null,
            "grid_auto_flow": null,
            "grid_auto_rows": null,
            "grid_column": null,
            "grid_gap": null,
            "grid_row": null,
            "grid_template_areas": null,
            "grid_template_columns": null,
            "grid_template_rows": null,
            "height": null,
            "justify_content": null,
            "justify_items": null,
            "left": null,
            "margin": null,
            "max_height": null,
            "max_width": null,
            "min_height": null,
            "min_width": null,
            "object_fit": null,
            "object_position": null,
            "order": null,
            "overflow": null,
            "overflow_x": null,
            "overflow_y": null,
            "padding": null,
            "right": null,
            "top": null,
            "visibility": null,
            "width": null
          }
        },
        "1cf046d867be4823a35a1f874a92abcf": {
          "model_module": "@jupyter-widgets/controls",
          "model_name": "DescriptionStyleModel",
          "model_module_version": "1.5.0",
          "state": {
            "_model_module": "@jupyter-widgets/controls",
            "_model_module_version": "1.5.0",
            "_model_name": "DescriptionStyleModel",
            "_view_count": null,
            "_view_module": "@jupyter-widgets/base",
            "_view_module_version": "1.2.0",
            "_view_name": "StyleView",
            "description_width": ""
          }
        }
      }
    }
  },
  "nbformat": 4,
  "nbformat_minor": 0
}